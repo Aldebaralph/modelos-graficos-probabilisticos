{
 "cells": [
  {
   "cell_type": "markdown",
   "id": "e3b6b56b",
   "metadata": {},
   "source": [
    "# Comparación entre enfoque frecuentista y bayesiano\n",
    "\n",
    "Este notebook ilustra gráficamente dos enfoques de la probabilidad:\n",
    "- **Frecuentista:** probabilidad como frecuencia relativa en repeticiones.\n",
    "- **Bayesiano:** probabilidad como grado de creencia que se actualiza con nueva evidencia."
   ]
  },
  {
   "cell_type": "markdown",
   "id": "72db6b02",
   "metadata": {},
   "source": [
    "## Enfoque frecuentista\n",
    "\n",
    "Simulamos el lanzamiento de una moneda con probabilidad verdadera $p=0.5$ y graficamos la evolución de la frecuencia relativa de caras."
   ]
  },
  {
   "cell_type": "code",
   "execution_count": 1,
   "id": "0ec15fee",
   "metadata": {
    "execution": {
     "iopub.execute_input": "2025-06-12T20:40:37.632319Z",
     "iopub.status.busy": "2025-06-12T20:40:37.632071Z",
     "iopub.status.idle": "2025-06-12T20:40:37.998550Z",
     "shell.execute_reply": "2025-06-12T20:40:37.997834Z"
    }
   },
   "outputs": [
    {
     "data": {
      "application/vnd.plotly.v1+json": {
       "config": {
        "plotlyServerURL": "https://plot.ly"
       },
       "data": [
        {
         "mode": "lines",
         "name": "Frecuencia relativa",
         "type": "scatter",
         "y": {
          "bdata": "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",
          "dtype": "f8"
         }
        }
       ],
       "layout": {
        "template": {
         "data": {
          "bar": [
           {
            "error_x": {
             "color": "#2a3f5f"
            },
            "error_y": {
             "color": "#2a3f5f"
            },
            "marker": {
             "line": {
              "color": "#E5ECF6",
              "width": 0.5
             },
             "pattern": {
              "fillmode": "overlay",
              "size": 10,
              "solidity": 0.2
             }
            },
            "type": "bar"
           }
          ],
          "barpolar": [
           {
            "marker": {
             "line": {
              "color": "#E5ECF6",
              "width": 0.5
             },
             "pattern": {
              "fillmode": "overlay",
              "size": 10,
              "solidity": 0.2
             }
            },
            "type": "barpolar"
           }
          ],
          "carpet": [
           {
            "aaxis": {
             "endlinecolor": "#2a3f5f",
             "gridcolor": "white",
             "linecolor": "white",
             "minorgridcolor": "white",
             "startlinecolor": "#2a3f5f"
            },
            "baxis": {
             "endlinecolor": "#2a3f5f",
             "gridcolor": "white",
             "linecolor": "white",
             "minorgridcolor": "white",
             "startlinecolor": "#2a3f5f"
            },
            "type": "carpet"
           }
          ],
          "choropleth": [
           {
            "colorbar": {
             "outlinewidth": 0,
             "ticks": ""
            },
            "type": "choropleth"
           }
          ],
          "contour": [
           {
            "colorbar": {
             "outlinewidth": 0,
             "ticks": ""
            },
            "colorscale": [
             [
              0.0,
              "#0d0887"
             ],
             [
              0.1111111111111111,
              "#46039f"
             ],
             [
              0.2222222222222222,
              "#7201a8"
             ],
             [
              0.3333333333333333,
              "#9c179e"
             ],
             [
              0.4444444444444444,
              "#bd3786"
             ],
             [
              0.5555555555555556,
              "#d8576b"
             ],
             [
              0.6666666666666666,
              "#ed7953"
             ],
             [
              0.7777777777777778,
              "#fb9f3a"
             ],
             [
              0.8888888888888888,
              "#fdca26"
             ],
             [
              1.0,
              "#f0f921"
             ]
            ],
            "type": "contour"
           }
          ],
          "contourcarpet": [
           {
            "colorbar": {
             "outlinewidth": 0,
             "ticks": ""
            },
            "type": "contourcarpet"
           }
          ],
          "heatmap": [
           {
            "colorbar": {
             "outlinewidth": 0,
             "ticks": ""
            },
            "colorscale": [
             [
              0.0,
              "#0d0887"
             ],
             [
              0.1111111111111111,
              "#46039f"
             ],
             [
              0.2222222222222222,
              "#7201a8"
             ],
             [
              0.3333333333333333,
              "#9c179e"
             ],
             [
              0.4444444444444444,
              "#bd3786"
             ],
             [
              0.5555555555555556,
              "#d8576b"
             ],
             [
              0.6666666666666666,
              "#ed7953"
             ],
             [
              0.7777777777777778,
              "#fb9f3a"
             ],
             [
              0.8888888888888888,
              "#fdca26"
             ],
             [
              1.0,
              "#f0f921"
             ]
            ],
            "type": "heatmap"
           }
          ],
          "histogram": [
           {
            "marker": {
             "pattern": {
              "fillmode": "overlay",
              "size": 10,
              "solidity": 0.2
             }
            },
            "type": "histogram"
           }
          ],
          "histogram2d": [
           {
            "colorbar": {
             "outlinewidth": 0,
             "ticks": ""
            },
            "colorscale": [
             [
              0.0,
              "#0d0887"
             ],
             [
              0.1111111111111111,
              "#46039f"
             ],
             [
              0.2222222222222222,
              "#7201a8"
             ],
             [
              0.3333333333333333,
              "#9c179e"
             ],
             [
              0.4444444444444444,
              "#bd3786"
             ],
             [
              0.5555555555555556,
              "#d8576b"
             ],
             [
              0.6666666666666666,
              "#ed7953"
             ],
             [
              0.7777777777777778,
              "#fb9f3a"
             ],
             [
              0.8888888888888888,
              "#fdca26"
             ],
             [
              1.0,
              "#f0f921"
             ]
            ],
            "type": "histogram2d"
           }
          ],
          "histogram2dcontour": [
           {
            "colorbar": {
             "outlinewidth": 0,
             "ticks": ""
            },
            "colorscale": [
             [
              0.0,
              "#0d0887"
             ],
             [
              0.1111111111111111,
              "#46039f"
             ],
             [
              0.2222222222222222,
              "#7201a8"
             ],
             [
              0.3333333333333333,
              "#9c179e"
             ],
             [
              0.4444444444444444,
              "#bd3786"
             ],
             [
              0.5555555555555556,
              "#d8576b"
             ],
             [
              0.6666666666666666,
              "#ed7953"
             ],
             [
              0.7777777777777778,
              "#fb9f3a"
             ],
             [
              0.8888888888888888,
              "#fdca26"
             ],
             [
              1.0,
              "#f0f921"
             ]
            ],
            "type": "histogram2dcontour"
           }
          ],
          "mesh3d": [
           {
            "colorbar": {
             "outlinewidth": 0,
             "ticks": ""
            },
            "type": "mesh3d"
           }
          ],
          "parcoords": [
           {
            "line": {
             "colorbar": {
              "outlinewidth": 0,
              "ticks": ""
             }
            },
            "type": "parcoords"
           }
          ],
          "pie": [
           {
            "automargin": true,
            "type": "pie"
           }
          ],
          "scatter": [
           {
            "fillpattern": {
             "fillmode": "overlay",
             "size": 10,
             "solidity": 0.2
            },
            "type": "scatter"
           }
          ],
          "scatter3d": [
           {
            "line": {
             "colorbar": {
              "outlinewidth": 0,
              "ticks": ""
             }
            },
            "marker": {
             "colorbar": {
              "outlinewidth": 0,
              "ticks": ""
             }
            },
            "type": "scatter3d"
           }
          ],
          "scattercarpet": [
           {
            "marker": {
             "colorbar": {
              "outlinewidth": 0,
              "ticks": ""
             }
            },
            "type": "scattercarpet"
           }
          ],
          "scattergeo": [
           {
            "marker": {
             "colorbar": {
              "outlinewidth": 0,
              "ticks": ""
             }
            },
            "type": "scattergeo"
           }
          ],
          "scattergl": [
           {
            "marker": {
             "colorbar": {
              "outlinewidth": 0,
              "ticks": ""
             }
            },
            "type": "scattergl"
           }
          ],
          "scattermap": [
           {
            "marker": {
             "colorbar": {
              "outlinewidth": 0,
              "ticks": ""
             }
            },
            "type": "scattermap"
           }
          ],
          "scattermapbox": [
           {
            "marker": {
             "colorbar": {
              "outlinewidth": 0,
              "ticks": ""
             }
            },
            "type": "scattermapbox"
           }
          ],
          "scatterpolar": [
           {
            "marker": {
             "colorbar": {
              "outlinewidth": 0,
              "ticks": ""
             }
            },
            "type": "scatterpolar"
           }
          ],
          "scatterpolargl": [
           {
            "marker": {
             "colorbar": {
              "outlinewidth": 0,
              "ticks": ""
             }
            },
            "type": "scatterpolargl"
           }
          ],
          "scatterternary": [
           {
            "marker": {
             "colorbar": {
              "outlinewidth": 0,
              "ticks": ""
             }
            },
            "type": "scatterternary"
           }
          ],
          "surface": [
           {
            "colorbar": {
             "outlinewidth": 0,
             "ticks": ""
            },
            "colorscale": [
             [
              0.0,
              "#0d0887"
             ],
             [
              0.1111111111111111,
              "#46039f"
             ],
             [
              0.2222222222222222,
              "#7201a8"
             ],
             [
              0.3333333333333333,
              "#9c179e"
             ],
             [
              0.4444444444444444,
              "#bd3786"
             ],
             [
              0.5555555555555556,
              "#d8576b"
             ],
             [
              0.6666666666666666,
              "#ed7953"
             ],
             [
              0.7777777777777778,
              "#fb9f3a"
             ],
             [
              0.8888888888888888,
              "#fdca26"
             ],
             [
              1.0,
              "#f0f921"
             ]
            ],
            "type": "surface"
           }
          ],
          "table": [
           {
            "cells": {
             "fill": {
              "color": "#EBF0F8"
             },
             "line": {
              "color": "white"
             }
            },
            "header": {
             "fill": {
              "color": "#C8D4E3"
             },
             "line": {
              "color": "white"
             }
            },
            "type": "table"
           }
          ]
         },
         "layout": {
          "annotationdefaults": {
           "arrowcolor": "#2a3f5f",
           "arrowhead": 0,
           "arrowwidth": 1
          },
          "autotypenumbers": "strict",
          "coloraxis": {
           "colorbar": {
            "outlinewidth": 0,
            "ticks": ""
           }
          },
          "colorscale": {
           "diverging": [
            [
             0,
             "#8e0152"
            ],
            [
             0.1,
             "#c51b7d"
            ],
            [
             0.2,
             "#de77ae"
            ],
            [
             0.3,
             "#f1b6da"
            ],
            [
             0.4,
             "#fde0ef"
            ],
            [
             0.5,
             "#f7f7f7"
            ],
            [
             0.6,
             "#e6f5d0"
            ],
            [
             0.7,
             "#b8e186"
            ],
            [
             0.8,
             "#7fbc41"
            ],
            [
             0.9,
             "#4d9221"
            ],
            [
             1,
             "#276419"
            ]
           ],
           "sequential": [
            [
             0.0,
             "#0d0887"
            ],
            [
             0.1111111111111111,
             "#46039f"
            ],
            [
             0.2222222222222222,
             "#7201a8"
            ],
            [
             0.3333333333333333,
             "#9c179e"
            ],
            [
             0.4444444444444444,
             "#bd3786"
            ],
            [
             0.5555555555555556,
             "#d8576b"
            ],
            [
             0.6666666666666666,
             "#ed7953"
            ],
            [
             0.7777777777777778,
             "#fb9f3a"
            ],
            [
             0.8888888888888888,
             "#fdca26"
            ],
            [
             1.0,
             "#f0f921"
            ]
           ],
           "sequentialminus": [
            [
             0.0,
             "#0d0887"
            ],
            [
             0.1111111111111111,
             "#46039f"
            ],
            [
             0.2222222222222222,
             "#7201a8"
            ],
            [
             0.3333333333333333,
             "#9c179e"
            ],
            [
             0.4444444444444444,
             "#bd3786"
            ],
            [
             0.5555555555555556,
             "#d8576b"
            ],
            [
             0.6666666666666666,
             "#ed7953"
            ],
            [
             0.7777777777777778,
             "#fb9f3a"
            ],
            [
             0.8888888888888888,
             "#fdca26"
            ],
            [
             1.0,
             "#f0f921"
            ]
           ]
          },
          "colorway": [
           "#636efa",
           "#EF553B",
           "#00cc96",
           "#ab63fa",
           "#FFA15A",
           "#19d3f3",
           "#FF6692",
           "#B6E880",
           "#FF97FF",
           "#FECB52"
          ],
          "font": {
           "color": "#2a3f5f"
          },
          "geo": {
           "bgcolor": "white",
           "lakecolor": "white",
           "landcolor": "#E5ECF6",
           "showlakes": true,
           "showland": true,
           "subunitcolor": "white"
          },
          "hoverlabel": {
           "align": "left"
          },
          "hovermode": "closest",
          "mapbox": {
           "style": "light"
          },
          "paper_bgcolor": "white",
          "plot_bgcolor": "#E5ECF6",
          "polar": {
           "angularaxis": {
            "gridcolor": "white",
            "linecolor": "white",
            "ticks": ""
           },
           "bgcolor": "#E5ECF6",
           "radialaxis": {
            "gridcolor": "white",
            "linecolor": "white",
            "ticks": ""
           }
          },
          "scene": {
           "xaxis": {
            "backgroundcolor": "#E5ECF6",
            "gridcolor": "white",
            "gridwidth": 2,
            "linecolor": "white",
            "showbackground": true,
            "ticks": "",
            "zerolinecolor": "white"
           },
           "yaxis": {
            "backgroundcolor": "#E5ECF6",
            "gridcolor": "white",
            "gridwidth": 2,
            "linecolor": "white",
            "showbackground": true,
            "ticks": "",
            "zerolinecolor": "white"
           },
           "zaxis": {
            "backgroundcolor": "#E5ECF6",
            "gridcolor": "white",
            "gridwidth": 2,
            "linecolor": "white",
            "showbackground": true,
            "ticks": "",
            "zerolinecolor": "white"
           }
          },
          "shapedefaults": {
           "line": {
            "color": "#2a3f5f"
           }
          },
          "ternary": {
           "aaxis": {
            "gridcolor": "white",
            "linecolor": "white",
            "ticks": ""
           },
           "baxis": {
            "gridcolor": "white",
            "linecolor": "white",
            "ticks": ""
           },
           "bgcolor": "#E5ECF6",
           "caxis": {
            "gridcolor": "white",
            "linecolor": "white",
            "ticks": ""
           }
          },
          "title": {
           "x": 0.05
          },
          "xaxis": {
           "automargin": true,
           "gridcolor": "white",
           "linecolor": "white",
           "ticks": "",
           "title": {
            "standoff": 15
           },
           "zerolinecolor": "white",
           "zerolinewidth": 2
          },
          "yaxis": {
           "automargin": true,
           "gridcolor": "white",
           "linecolor": "white",
           "ticks": "",
           "title": {
            "standoff": 15
           },
           "zerolinecolor": "white",
           "zerolinewidth": 2
          }
         }
        },
        "title": {
         "text": "Frecuencia relativa vs. repeticiones"
        },
        "xaxis": {
         "title": {
          "text": "Número de lanzamientos"
         }
        },
        "yaxis": {
         "range": [
          0,
          1
         ],
         "title": {
          "text": "Frecuencia relativa de caras"
         }
        }
       }
      }
     },
     "metadata": {},
     "output_type": "display_data"
    }
   ],
   "source": [
    "import numpy as np\n",
    "import plotly.graph_objs as go\n",
    "\n",
    "# Simulación\n",
    "np.random.seed(42)\n",
    "p_true = 0.5\n",
    "n = 1000\n",
    "resultados = np.random.binomial(1, p_true, size=n)\n",
    "frecuencias = np.cumsum(resultados) / (np.arange(1, n + 1))\n",
    "\n",
    "# Gráfico\n",
    "trace = go.Scatter(y=frecuencias, mode='lines', name='Frecuencia relativa')\n",
    "layout = go.Layout(title='Frecuencia relativa vs. repeticiones',\n",
    "                   xaxis=dict(title='Número de lanzamientos'),\n",
    "                   yaxis=dict(title='Frecuencia relativa de caras'),\n",
    "                   yaxis_range=[0,1])\n",
    "fig = go.Figure(data=[trace], layout=layout)\n",
    "fig.show()\n"
   ]
  },
  {
   "cell_type": "markdown",
   "id": "ba300c2d",
   "metadata": {},
   "source": [
    "## Enfoque bayesiano\n",
    "\n",
    "Actualizamos una creencia sobre la probabilidad de éxito usando una distribución Beta como prior y posterior tras observar datos."
   ]
  },
  {
   "cell_type": "code",
   "execution_count": 2,
   "id": "2bc0256a",
   "metadata": {
    "execution": {
     "iopub.execute_input": "2025-06-12T20:40:38.000881Z",
     "iopub.status.busy": "2025-06-12T20:40:38.000661Z",
     "iopub.status.idle": "2025-06-12T20:40:38.685434Z",
     "shell.execute_reply": "2025-06-12T20:40:38.684771Z"
    }
   },
   "outputs": [
    {
     "data": {
      "application/vnd.plotly.v1+json": {
       "config": {
        "plotlyServerURL": "https://plot.ly"
       },
       "data": [
        {
         "line": {
          "dash": "dot"
         },
         "mode": "lines",
         "name": "Prior (Beta(2,2))",
         "type": "scatter",
         "x": {
          "bdata": "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",
          "dtype": "f8"
         },
         "y": {
          "bdata": "AAAAAAAAAADYGYhEbpOIPzuXWh7Mhpg/dM8hep9boj/9kf/Rh22oPzaTxhYfea4/j2k7pDI/sj/ZKIgzrT61P3+HSTn/Org/fIV/tSg0uz/QIiqoKSq+P7+vpAiBjsA/wZ1u+FgGwj9t23KjnHzDP8posQlM8cQ/0kUqK2dkxj+Fct0H7tXHP+buyp/gRck/7rry8j60yj+m1lQBCSHMPwtC8co+jM0/Gv3HT+D1zj/og+zH9i7QPyAxkkUz4tA/KAbVoKWU0T8HA7XZTUbSP70nMvAr99I/RnRM5D+n0z+q6AO2iVbUP+aEWGUJBdU/8UhK8r6y1T/UNNlcql/WP45IBaXLC9c/IoTOyiK31z+L5zTOr2HYP8hyOK9yC9k/1SXZbWu02T/AABcKmlzaP3QD8oP+A9s/FC5q25iq2z9+gH8QaVDcP736MSNv9dw/1JyBE6uZ3T++Zm7hHD3eP4VY+IzE394/IXIfFqKB3z/E2XG+WhHgP2iOomB/YeA/9dah8T6x4D9ws29xmQDhP88jDOCOT+E/Iih3PR+e4T9bwLCJSuzhP3zsuMQQOuI/jayP7nGH4j+FADUHbtTiP2voqA4FIeM/P2TrBDdt4z/6c/zpA7njP6AX3L1rBOQ/Mk+KgG5P5D+vGgcyDJrkPxR6UtJE5OQ/bW1sYRgu5T+n9FTfhnflP9APDEyQwOU/576RpzQJ5j/hAebxc1HmP83YCCtOmeY/oUP6UsPg5j9hQrpp0yfnPxDVSG9+buc/ofulY8S05z8ittFGpfrnP5MEzBghQOg/5uaU2TeF6D8lXSyJ6cnoP1dnkic2Duk/cAXHtB1S6T9yN8owoJXpP2P9m5u92Ok/OVc89XUb6j/+RKs9yV3qP67G6HS3n+o/R9z0mkDh6j/Jhc+vZCLrPzrDeLMjY+s/lZTwpX2j6z/d+TaHcuPrPxLzS1cCI+w/KYAvFi1i7D8xoeHD8qDsPyRWYmBT3+w/BJ+x604d7T/Pe89l5VrtP4Dsu84WmO0/HvF2JuPU7T+miQBtShHuPx62WKJMTe4/gHZ/xumI7j/EynTZIcTuPwKzONv0/u4/IS/Ly2I57z8qPyyra3PvPx3jW3kPre8/ABtaNk7m7z9mcxPxkw/wP0YjYT7OK/A/Fh0WA9ZH8D/aYDI/q2PwP5futfJNf/A/SsagHb6a8D/w5/K/+7XwP49TrNkG0fA/IgnNat/r8D+oCFVzhQbxPyZSRPP4IPE/l+Wa6jk78T8Bw1hZSFXxP2DqfT8kb/E/slsKnc2I8T/8Fv5xRKLxPzocWb6Iu/E/b2sbgprU8T+XBEW9ee3xP7jn1W8mBvI/zRTOmaAe8j/Viy076DbyP9ZM9FP9TvI/y1ci5N9m8j+1rLfrj37yP5ZLtGoNlvI/bDQYYVit8j82Z+POcMTyP/jjFbRW2/I/raqvEAry8j9bu7DkigjzP/oVGTDZHvM/k7ro8vQ08z8cqR8t3krzP5/hvd6UYPM/FWTDBxl28z+EMDCoaovzP+VGBMCJoPM/PKc/T3a18z+LUeJVMMrzP8tF7NO33vM/BIRdyQzz8z82DDY2Lwf0P1bedRofG/Q/cvocdtwu9D9/YCtJZ0L0P4IQoZO/VfQ/egp+VeVo9D9qTsKO2Hv0P07cbT+ZjvQ/KrSAZyeh9D/61foGg7P0P71B3B2sxfQ/dvckrKLX9D8q99SxZun0P81A7C74+vQ/adRqI1cM9T/4sVCPgx31P37ZnXJ9LvU//EpSzUQ/9T9rBm6f2U/1P9EL8eg7YPU/LlvbqWtw9T+A9CziaID1P8jX5ZEzkPU/BQUGucuf9T83fI1XMa/1P189fG1kvvU/eUjS+mTN9T+NnY//Mtz1P5c8tHvO6vU/kyVAbzf59T+IWDPabQf2P3DVjbxxFfY/TJxPFkMj9j8grXjn4TD2P+sHCTBOPvY/pqwA8IdL9j9fm18nj1j2PwXUJdZjZfY/plZT/AVy9j88I+iZdX72P8Y55K6yivY/RZpHO72W9j+6RBI/laL2PyU5RLo6rvY/hnfdrK259j/Z/90W7sT2PybSRfj7z/Y/aO4UUdfa9j+eVEshgOX2P8kE6Wj27/Y/7/7tJzr69j8BQ1peSwT3Pw7RLQwqDvc/EaloMdYX9z8HywrOTyH3P/c2FOKWKvc/2uyEbasz9z+u7FxwjTz3P382nOo8Rfc/QspC3LlN9z/3p1BFBFb3P6jPxSUcXvc/SkGifQFm9z/j/OVMtG33P3ACkZM0dfc/+VGjUYJ89z9y6xyHnYP3P9/O/TOGivc/RPxFWDyR9z+dc/Xzv5f3P+w0DAcRnvc/MkCKkS+k9z9rlW+TG6r3P500vAzVr/c/wx1w/Vu19z/gUItlsLr3P+3NDUXSv/c/9ZT3m8HE9z/zpUhqfsn3P+IAAbAIzvc/y6UgbWDS9z+llKehhdb3P3XNlU142vc/PlDrcDje9z/9HKgLxuH3P60zzB0h5fc/UpRXp0no9z/zPkqoP+v3P4EzpCAD7vc/DXJlEJTw9z+M+o138vL3P//MHVYe9fc/aOkUrBf39z/GT3N53vj3PxkAOb5y+vc/YvpletT79z+jPvqtA/33P9fM9VgA/vc//6RYe8r+9z8gxyIVYv/3PzUzVCbH//c/P+nsrvn/9z9A6eyu+f/3PzkzVCbH//c/IMciFWL/9z/+pFh7yv73P9fM9VgA/vc/oz76rQP99z9l+mV61Pv3PxwAOb5y+vc/xE9zed749z9p6RSsF/f3P/7MHVYe9fc/jPqNd/Ly9z8OcmUQlPD3P4QzpCAD7vc/9D5KqD/r9z9UlFenSej3P64zzB0h5fc//RyoC8bh9z88UOtwON73P3fNlU142vc/pZSnoYXW9z/LpSBtYNL3P+MAAbAIzvc/86VIan7J9z/2lPebwcT3P+3NDUXSv/c/4VCLZbC69z/AHXD9W7X3P580vAzVr/c/bpVvkxuq9z8wQIqRL6T3P+00DAcRnvc/nXP187+X9z9F/EVYPJH3P9/O/TOGivc/c+sch52D9z/4UaNRgnz3P3MCkZM0dfc/5PzlTLRt9z9IQaJ9AWb3P6jPxSUcXvc/+adQRQRW9z9AykLcuU33P302nOo8Rfc/ruxccI089z/Z7IRtqzP3P/Y2FOKWKvc/CssKzk8h9z8QqWgx1hf3Pw7RLQwqDvc/BENaXksE9z/r/u0nOvr2P80E6Wj27/Y/oFRLIYDl9j9o7hRR19r2PyrSRfj7z/Y/2f/dFu7E9j+Fd92srbn2Pyg5RLo6rvY/ukQSP5Wi9j9Hmkc7vZb2P8Y55K6yivY/OyPomXV+9j+mVlP8BXL2PwjUJdZjZfY/XptfJ49Y9j+orADwh0v2P+sHCTBOPvY/H6145+Ew9j9NnE8WQyP2P3HVjbxxFfY/iFgz2m0H9j+UJUBvN/n1P5Q8tHvO6vU/jJ2P/zLc9T98SNL6ZM31P149fG1kvvU/NXyNVzGv9T8EBQa5y5/1P8XX5ZEzkPU/gPQs4miA9T8tW9upa3D1P9IL8eg7YPU/bwZun9lP9T/9SlLNRD/1P4HZnXJ9LvU/+7FQj4Md9T9p1GojVwz1P89A7C74+vQ/KvfUsWbp9D979ySsotf0P75B3B2sxfQ/+9X6BoOz9D8qtIBnJ6H0P1HcbT+ZjvQ/a07Cjth79D98Cn5V5Wj0P4IQoZO/VfQ/f2ArSWdC9D9x+hx23C70P1nedRofG/Q/NQw2Ni8H9D8HhF3JDPPzP85F7NO33vM/jFHiVTDK8z8/pz9PdrXzP+dGBMCJoPM/hTAwqGqL8z8YZMMHGXbzP5/hvd6UYPM/HakfLd5K8z+Suujy9DTzP/sVGTDZHvM/Wruw5IoI8z+uqq8QCvLyP/jjFbRW2/I/N2fjznDE8j9tNBhhWK3yP5ZLtGoNlvI/tqy3649+8j/LVyLk32byP9ZM9FP9TvI/14stO+g28j/OFM6ZoB7yP7jn1W8mBvI/mwRFvXnt8T9vaxuCmtTxPzscWb6Iu/E//Rb+cUSi8T+0WwqdzYjxP2DqfT8kb/E/A8NYWUhV8T+Z5ZrqOTvxPyVSRPP4IPE/qwhVc4UG8T8lCc1q3+vwP5JTrNkG0fA/9Ofyv/u18D9MxqAdvprwP5rutfJNf/A/3WAyP6tj8D8XHRYD1kfwP0UjYT7OK/A/aHMT8ZMP8D8FG1o2TubvPyPjW3kPre8/LT8sq2tz7z8fL8vLYjnvP/+yONv0/u4/x8p02SHE7j+Adn/G6YjuPx62WKJMTe4/qIkAbUoR7j8j8XYm49TtP4Lsu84WmO0/0XvPZeVa7T8Fn7HrTh3tPypWYmBT3+w/OKHhw/Kg7D8ugC8WLWLsPxTzS1cCI+w/4Pk2h3Lj6z+dlPClfaPrP0HDeLMjY+s/0YXPr2Qi6z9L3PSaQOHqP7HG6HS3n+o/BEWrPcld6j87Vzz1dRvqP2P9m5u92Ok/bzfKMKCV6T9wBce0HVLpP1hnkic2Duk/Kl0sienJ6D/m5pTZN4XoP5AEzBghQOg/JbbRRqX65z+l+6VjxLTnPw/VSG9+buc/YUK6adMn5z+iQ/pSw+DmP9DYCCtOmeY/5QHm8XNR5j/ovpGnNAnmP9APDEyQwOU/qfRU34Z35T9vbWxhGC7lPxt6UtJE5OQ/sxoHMgya5D85T4qAbk/kP6QX3L1rBOQ//XP86QO54z9DZOsEN23jP3PoqA4FIeM/jAA1B27U4j+TrI/ucYfiP4XsuMQQOuI/YcCwiUrs4T8mKHc9H57hP9cjDOCOT+E/cbNvcZkA4T/51qHxPrHgP2yOomB/YeA/zNlxvloR4D8nch8WooHfP4tY+IzE394/zWZu4Rw93j/jnIETq5ndP8T6MSNv9dw/hIB/EGlQ3D8cLmrbmKrbP4QD8oP+A9s/yAAXCppc2j/bJdlta7TZP8ZyOK9yC9k/iuc0zq9h2D8ohM7KIrfXP5dIBaXLC9c/4TTZXKpf1j/8SEryvrLVP+WEWGUJBdU/tOgDtolW1D9QdEzkP6fTP8QnMvAr99I/DwO12U1G0j8tBtWgpZTRPyQxkkUz4tA/7oPsx/Yu0D8j/cdP4PXOPxNC8co+jM0/stZUAQkhzD/2uvLyPrTKP+ruyp/gRck/i3LdB+7Vxz/YRSorZ2TGP9VosQlM8cQ/dttyo5x8wz/cnW74WAbCP9uvpAiBjsA/DCMqqCkqvj+xhX+1KDS7P7SHSTn/Org/ESmIM60+tT/DaTukMj+yP56TxhYfea4/Y5L/0YdtqD/XzyF6n1uiPwCYWh7Mhpg/YRuIRG6TiD8AAAAAAAAAAA==",
          "dtype": "f8"
         }
        },
        {
         "line": {
          "width": 3
         },
         "mode": "lines",
         "name": "Posterior (Beta actualizada)",
         "type": "scatter",
         "x": {
          "bdata": "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",
          "dtype": "f8"
         },
         "y": {
          "bdata": "AAAAAAAAAACbksARyONEPZGAm+f0uKQ95qPE+rxE3T1nc4U9FGQEPql+QxQmSiM+kmcArRmRPD63+YlP79xRPtNGwylivWM+mjkcxLnYcz7+Sq4SPYWCPm5fi9RyRZA+UCcJsYgzmz5gppOgJs6lPhQydCUw3rA+pPD05s9OuT4PSpMzAHzCPvvsvtXGX8o+151cT5tt0j4/tdcyUkfZPjSjtnokDeE+bSW6CAOp5j5gtYS9xLTtPm1hOBAhO/M+FytuvySe+D7LxF6Mni//PmM4HnRskAM/OqVJfENUCD+NhovoiQEOP2V4WVS8XBI/r112nTlQFj9BDBI7F+8aP9o/67d1JyA/YeuZnY1DIz+zq5l3dtgmP7boPTbN8yo/rKBwfTGkLz+saVAtp3wyP8rf9V/xgTU/K8oj4OTqOD/o6VNEAcE8PwsdkQQuh0A/ZTKXItLuQj9ioP8aE51FP/XVIVLnl0g/23fxDpflSz+soTICvoxPPw3ElFsmylE/XdCP9sQBVD/Ii5HsCXFWP3Tmt6fwG1k/Ja39aaEGXD9i1dPIcTVfP8Nm6o1yVmE/grEub9Y4Yz9gye2BVERlPwciVB90e2c/BMCiHNTgaT/Vmu/gKndsP2h/+HNGQW8/uOr9QgYhcT9PYkY4Pb5yPyMlLZjSeXQ/OWnxq1xVdj/G8od9fVJ4P/2z28nicno/POmA70W4fD9wT9vZayR/PxB+XHSS3IA/9x8yaiY8gj9U7RdH5bGDP4bOwA7IPoU/fDWwPM3jhj8OrUWv+KGIP2I6EJFTeoo/1DRtQOxtjD87mHY11n2OP8mYIvOUVZA/0rDFVIJ7kT/pwsZLRLGSPzO4vjRu95M/RlSfq5VOlT+uvsx5UreWP+uhcYM+Mpg/ADIRtPW/mT9qkFrqFWGbP7AoQeM+Fp0/WsBdJBLgnj9/DM5ymV+gP5OQHP0iWqE/M+iK3Phfoj8/dDHybnGjP/P5VMjZjqQ/XfibhY64pT9uHPff4u6mP1slPw8tMqg/5ZiKv8OCqT/9sj0D/uCqP+sF10QzTaw/r0x7OLvHrT9w+ULN7VCvP2cKJo+RdLA/gIXJsVlIsT8Jh0px+yOyP5JcX++iB7M/HNbURHzzsz997pV5s+e0P2KvnXx05LU/krbUG+vptj9uw9v7Qvi3P3W3xI+nD7k/1HW7EEQwuj9hEaB1Q1q7P3S5k2rQjbw/Kdh5SBXLvT/R1W4MPBK/P3z7mie3McA/pOVPnmrfwD8TUnXFTJLBP6FFD7lxSsI/ORizUe0Hwz9HJDMg08rDP0dqSmk2k8Q/z+RIISphxT8fScHnwDTGP6nvOAMNDsc/8p/aXCDtxz8p+yx8DNLIP/89zYLivMk/thUvKLOtyj9hP2K1jqTLP6Gp3gCFocw/3dBXaqWkzT8TC5jW/q3OP+V3ZKufvc8/HyW15cpp0D/CDRtJ9/fQPwP+GmhbidE/NHdjY/0d0j+hPicS47XSPzaLMAASUdM/Uez6a4/v0z8ePdREYJHUPzz5BCmJNtU/Y0QAZA7f1T/P95vs84rWP/AEUWM9Otc/5H2EEO7s1z8GktniCKPYP5DLjG2QXNk/+trY5oYZ2j9kO2Um7tnaP9z4vqPHnds/KOLbdBRl3D+0bKhM1S/dP+uQoHkK/t0/I+Nz5LPP3j8MLbUO0aTfP3PkyoiwPuA/ZX9WTrGs4D/c0WX6aRzhP5EbbnnZjeE/Yt1ngf4A4j8kwEuR13XiPw0SlvBi7OI/x/bQrp5k4z8fZSWjiN7jP6wL82seWuQ/kDZvbl3X5D9ZzUrWQlblPxmCX5XL1uU/J0dkY/RY5j8+Iam9udzmP/xr2uYXYuc/sqPL5grp5z+Lx0mKjnHoP2Vn9WKe++g/bG0kxzWH6T8QtMvRTxTqP5N4cGLnouo/OrchHfcy6z/NgHlqecTrP81SpndoV+w/U4J8Nr7r7D/Svo9ddIHtPxi9VGiEGO4/9QtLl+ew7j/2IC/wlkrvP+GeND6L5e8/928kid5A8D+v4a5hko/wPyZkXjfd3vA/6zkx/Lou8T8/A7GFJ3/xP0/AKI0e0PE/D/ver5sh8j+PGFRvmnPyP1vPhDEWxvI/1sIwQQoZ8z/gPyXOcWzzP5UZjO1HwPM/zKE+mocU9D/9uRy1K2n0P8/4ZwUvvvQ/Dd8iOYwT9T/0FnTlPWn1PwC4DYc+v/U/cImYgogV9j8CPCMlFmz2P0qUlaThwvY/l30nIOUZ9z8a/dugGnH3P0j8/xl8yPc/FOKsaQMg+D8D8E5Zqnf4P39ZL55qz/g/qgoC2j0n+T87E3ebHX/5Py6pz14D1/k/Gbh2jugu+j/m7pyDxob6P2JA2IaW3vo/9MbG0FE2+z8v/7SK8Y37PzZJR89u5fs/EaImq8I8/D+XhbAd5pP8P+/oqRnS6vw/1Tv1hX9B/T+hYUs+55f9P5CO9xMC7v0/lviVzshD/j+4SNUsNJn+P8G6OuU87v4/kdbopttC/z/CsWgaCZf/PzCideK96v8/IahlTvkeAEBtCHvxT0gAQBq6kiVfcQBAsniANCOaAEBOTT9nmMIAQIfgXQa76gBAAbprWocSAUCeYGes+TkBQJJQLUYOYQFAUrrncsGHAUDO/n5/D64BQN7bCrv00wFAHD1Ed235AUBgo/cIdh4CQLwWeMgKQwJAYZUSEihnAkBP8oFGyooCQBsWY8vtrQJA1JSpC4/QAkCFihR4qvICQKqwo4c8FANADJ8MuEE1A0AIKTCOtlUDQIDJj5aXdQNAAQ/DZeGUA0Af+eyYkLMDQMc4Mdah0QNAskQpzRHvA0C8Mlk33QsEQH9HpNgAKARAnizBf3lDBEBJv60GRF4EQM1mIlNdeARAP+QEV8KRBEAGjNoQcKoEQCPZOYxjwgRA70o74pnZBEDYfek5EPAEQMxusMjDBQVAAdrL0rEaBUAjpbSr1y4FQAxFjbYyQgVAmQ6NZsBUBUDAY2o/fmYFQPKrw9VpdwVA6weHz4CHBUB/sVjkwJYFQNn2990npQVAT8GimLOyBUCZl3cDYr8FQBUM1iAxywVAIYa9Bh/WBUBwVyrfKeAFQLoMcehP6QVAyuqXdY/xBUDyhq7u5vgFQBJsI9FU/wVAFLwXsNcEBkDwvbA0bgkGQCVJZx4XDQZAAf9UQ9EPBkDLQX+QmxEGQDzbHwp1EgZAq0Lry1wSBkCtc1QJUhEGQHZGzg1UDwZA3ToKPWIMBkCNpzQTfAgGQGc+LiWhAwZAG9jCINH9BUAeeN3MC/cFQGN7uQlR7wVAZOMQ0aDmBUBrsEc2+9wFQF48lGZg0gVACookqdDGBUCJekBfTLoFQH/caATUrAVAVkhzLmieBUB4vKKNCY8FQAbuvOy4fgVAWkEcMXdtBUDoXr5aRVsFQMtYT4QkSAVABlYx4xU0BUDtt4DHGh8FQACwFJw0CQVA9zp85mTyBEBvd/dGrdoEQEpObXgPwgRAmmNdUI2oBEDORs6+KI4EQHbZN87jcgRAd+Rpo8BWBEBr0259wTkEQOqOarXoGwRAJG51vjj9A0BuOXMltN0DQPo25pBdvQNA/ju+wDecA0CxvCOORXoDQNfVPuuJVwNAd0v64gc0A0COeMKYwg8DQIUrQEi96gJA0mwPRfvEAkDBLHL6f54CQOPV/upOdwJA9sJKsGtPAkBzlpD62SYCQLJzUpCd/QFA7Rj4TbrTAUAJ22glNKkBQBKEoR0PfgFAlBVGUk9SAUCtcS/z+CUBQB7t9EMQ+QBA3M1xm5nLAEBNukZjmZ0AQN8dVxcUbwBA2odCRQ5AAEAlC9qLjBAAQMFJIzUnwf8/p2PbYVBg/z9u9Ng7nv7+P+C5134anP4/CkcWA884/j8SEhK8xdT9P1n+O7cIcP0/Y3mlGqIK/T9uRKYjnKT8P78EeyUBPvw/6rbch9vW+z/nIpHFNW/7P0Bw9GoaB/s/jPt7FJSe+j+rjzJtrTX6PxUoLi1xzPk/SGH/F+pi+T9wwBr7Ivn4P7f7O6wmj/g/oG7DBwAl+D9u6A3vubr3P9EDx0ZfUPc/MTk29frl9j+S3obgl3v2P+ZKC+1AEfY/oFN7+wCn9T+YXS7n4jz1P0U9UYTx0vQ/wyIYnjdp9D8E0uz0v//zPyhomTyVlvM/B/JvGsIt8z8tGm8jUcXyP8Y1ZNpMXfI/0vsKrr/18T+uMiv3s47xP1mjtPYzKPE/zaPZ00nC8D8UjCia/1zwP9TYSG++8O8/kbm69eQo7z++ghEihmLuP3/BMwi1ne0/Wlm2cYTa7D9rPxHaBhnsP+Mo12pOWes/XP7w92yb6j/Z5t37c9/pPxvG+JN0Jek/mg3EfH9t6D+GxDwOpbfnPzizNTj1A+c/RqC7fn9S5j+qloP2UqPlP5YwZEF+9uQ/mufaig9M5D/dcZ6EFKTjP4A6P2Oa/uI/HAfX2q1b4j9s5MgbW7vhP9F5ks+tHeE/uuivFbGC4D8cyCYB39TfP21kYyXmqd4/r6NJd4qE3T+9Acyq3WTcP53VQEPwSts/bJY7jtE22j/lrZyejyjZPwCL2kc3INg/2raGGdQd1z8iuRFbcCHWP72p0AcVK9U/4FhHy8k61D+4B7r9lFDTPy+3CaF7bNI/JyPeXYGO0T8zjiCBqLbQP1IflfPjyc8/ZE4Yrroyzj/yyZiN0afMP+oOECkiKcs/3/oiUaO2yT+ilWsPSVDIP4C+k6YE9sY/0fZHk8SnxT+OpwmOdGXEPzhd6I39LsM/K5YpzEUEwj8e4ebIMOXAP4JSVKE+o78/J2AgBt+SvT96qvK0+Zi7P4vgoWlAtbk/dkHnul/ntz9uOXow/y62P75RjFvBi7Q/rg238UP9sj9ymG3qH4OxP0BtBJ/pHLA/V9nC2mGUrT8bM866AhWrP3AGXJLEuqg/HFY/EK6Epj/x/Qw6vnGkP36cTc7sgKI/XNLprCqxoD9BpfOLxAKePzy1Qx7w4Jo/24VL/5X6lz8Y8Lwmak2VP9SSeakX15I/nzcL3EGVkD9Yt9AHCwuNPxoBvy/0Sok/DVwKIGblhT9etQOLgtWCPyJ5PMVoFoA/EE+3jXFGez+5S+OdLO52Px98H1NYGnM/dbyrZb6Cbz/vllGXj7NpP2+/Ujd4tGQ/cfblhCJzYD9jPUQDPrtZP0X5Zx7qxFM/xrJ7u9DCTT+Z8tKYF+BFP9IX4mMCRj8/O8ROIsqfNT8uGodNprksP/++3GtZJyI/Cr3980yLFT814oUnBosHP4CmnZU1/PY+5/QlJDAP4z6XRIbec2rIPmdK2TGshqM+W3UTulLDYz4AAAAAAAAAAA==",
          "dtype": "f8"
         }
        }
       ],
       "layout": {
        "template": {
         "data": {
          "bar": [
           {
            "error_x": {
             "color": "#2a3f5f"
            },
            "error_y": {
             "color": "#2a3f5f"
            },
            "marker": {
             "line": {
              "color": "#E5ECF6",
              "width": 0.5
             },
             "pattern": {
              "fillmode": "overlay",
              "size": 10,
              "solidity": 0.2
             }
            },
            "type": "bar"
           }
          ],
          "barpolar": [
           {
            "marker": {
             "line": {
              "color": "#E5ECF6",
              "width": 0.5
             },
             "pattern": {
              "fillmode": "overlay",
              "size": 10,
              "solidity": 0.2
             }
            },
            "type": "barpolar"
           }
          ],
          "carpet": [
           {
            "aaxis": {
             "endlinecolor": "#2a3f5f",
             "gridcolor": "white",
             "linecolor": "white",
             "minorgridcolor": "white",
             "startlinecolor": "#2a3f5f"
            },
            "baxis": {
             "endlinecolor": "#2a3f5f",
             "gridcolor": "white",
             "linecolor": "white",
             "minorgridcolor": "white",
             "startlinecolor": "#2a3f5f"
            },
            "type": "carpet"
           }
          ],
          "choropleth": [
           {
            "colorbar": {
             "outlinewidth": 0,
             "ticks": ""
            },
            "type": "choropleth"
           }
          ],
          "contour": [
           {
            "colorbar": {
             "outlinewidth": 0,
             "ticks": ""
            },
            "colorscale": [
             [
              0.0,
              "#0d0887"
             ],
             [
              0.1111111111111111,
              "#46039f"
             ],
             [
              0.2222222222222222,
              "#7201a8"
             ],
             [
              0.3333333333333333,
              "#9c179e"
             ],
             [
              0.4444444444444444,
              "#bd3786"
             ],
             [
              0.5555555555555556,
              "#d8576b"
             ],
             [
              0.6666666666666666,
              "#ed7953"
             ],
             [
              0.7777777777777778,
              "#fb9f3a"
             ],
             [
              0.8888888888888888,
              "#fdca26"
             ],
             [
              1.0,
              "#f0f921"
             ]
            ],
            "type": "contour"
           }
          ],
          "contourcarpet": [
           {
            "colorbar": {
             "outlinewidth": 0,
             "ticks": ""
            },
            "type": "contourcarpet"
           }
          ],
          "heatmap": [
           {
            "colorbar": {
             "outlinewidth": 0,
             "ticks": ""
            },
            "colorscale": [
             [
              0.0,
              "#0d0887"
             ],
             [
              0.1111111111111111,
              "#46039f"
             ],
             [
              0.2222222222222222,
              "#7201a8"
             ],
             [
              0.3333333333333333,
              "#9c179e"
             ],
             [
              0.4444444444444444,
              "#bd3786"
             ],
             [
              0.5555555555555556,
              "#d8576b"
             ],
             [
              0.6666666666666666,
              "#ed7953"
             ],
             [
              0.7777777777777778,
              "#fb9f3a"
             ],
             [
              0.8888888888888888,
              "#fdca26"
             ],
             [
              1.0,
              "#f0f921"
             ]
            ],
            "type": "heatmap"
           }
          ],
          "histogram": [
           {
            "marker": {
             "pattern": {
              "fillmode": "overlay",
              "size": 10,
              "solidity": 0.2
             }
            },
            "type": "histogram"
           }
          ],
          "histogram2d": [
           {
            "colorbar": {
             "outlinewidth": 0,
             "ticks": ""
            },
            "colorscale": [
             [
              0.0,
              "#0d0887"
             ],
             [
              0.1111111111111111,
              "#46039f"
             ],
             [
              0.2222222222222222,
              "#7201a8"
             ],
             [
              0.3333333333333333,
              "#9c179e"
             ],
             [
              0.4444444444444444,
              "#bd3786"
             ],
             [
              0.5555555555555556,
              "#d8576b"
             ],
             [
              0.6666666666666666,
              "#ed7953"
             ],
             [
              0.7777777777777778,
              "#fb9f3a"
             ],
             [
              0.8888888888888888,
              "#fdca26"
             ],
             [
              1.0,
              "#f0f921"
             ]
            ],
            "type": "histogram2d"
           }
          ],
          "histogram2dcontour": [
           {
            "colorbar": {
             "outlinewidth": 0,
             "ticks": ""
            },
            "colorscale": [
             [
              0.0,
              "#0d0887"
             ],
             [
              0.1111111111111111,
              "#46039f"
             ],
             [
              0.2222222222222222,
              "#7201a8"
             ],
             [
              0.3333333333333333,
              "#9c179e"
             ],
             [
              0.4444444444444444,
              "#bd3786"
             ],
             [
              0.5555555555555556,
              "#d8576b"
             ],
             [
              0.6666666666666666,
              "#ed7953"
             ],
             [
              0.7777777777777778,
              "#fb9f3a"
             ],
             [
              0.8888888888888888,
              "#fdca26"
             ],
             [
              1.0,
              "#f0f921"
             ]
            ],
            "type": "histogram2dcontour"
           }
          ],
          "mesh3d": [
           {
            "colorbar": {
             "outlinewidth": 0,
             "ticks": ""
            },
            "type": "mesh3d"
           }
          ],
          "parcoords": [
           {
            "line": {
             "colorbar": {
              "outlinewidth": 0,
              "ticks": ""
             }
            },
            "type": "parcoords"
           }
          ],
          "pie": [
           {
            "automargin": true,
            "type": "pie"
           }
          ],
          "scatter": [
           {
            "fillpattern": {
             "fillmode": "overlay",
             "size": 10,
             "solidity": 0.2
            },
            "type": "scatter"
           }
          ],
          "scatter3d": [
           {
            "line": {
             "colorbar": {
              "outlinewidth": 0,
              "ticks": ""
             }
            },
            "marker": {
             "colorbar": {
              "outlinewidth": 0,
              "ticks": ""
             }
            },
            "type": "scatter3d"
           }
          ],
          "scattercarpet": [
           {
            "marker": {
             "colorbar": {
              "outlinewidth": 0,
              "ticks": ""
             }
            },
            "type": "scattercarpet"
           }
          ],
          "scattergeo": [
           {
            "marker": {
             "colorbar": {
              "outlinewidth": 0,
              "ticks": ""
             }
            },
            "type": "scattergeo"
           }
          ],
          "scattergl": [
           {
            "marker": {
             "colorbar": {
              "outlinewidth": 0,
              "ticks": ""
             }
            },
            "type": "scattergl"
           }
          ],
          "scattermap": [
           {
            "marker": {
             "colorbar": {
              "outlinewidth": 0,
              "ticks": ""
             }
            },
            "type": "scattermap"
           }
          ],
          "scattermapbox": [
           {
            "marker": {
             "colorbar": {
              "outlinewidth": 0,
              "ticks": ""
             }
            },
            "type": "scattermapbox"
           }
          ],
          "scatterpolar": [
           {
            "marker": {
             "colorbar": {
              "outlinewidth": 0,
              "ticks": ""
             }
            },
            "type": "scatterpolar"
           }
          ],
          "scatterpolargl": [
           {
            "marker": {
             "colorbar": {
              "outlinewidth": 0,
              "ticks": ""
             }
            },
            "type": "scatterpolargl"
           }
          ],
          "scatterternary": [
           {
            "marker": {
             "colorbar": {
              "outlinewidth": 0,
              "ticks": ""
             }
            },
            "type": "scatterternary"
           }
          ],
          "surface": [
           {
            "colorbar": {
             "outlinewidth": 0,
             "ticks": ""
            },
            "colorscale": [
             [
              0.0,
              "#0d0887"
             ],
             [
              0.1111111111111111,
              "#46039f"
             ],
             [
              0.2222222222222222,
              "#7201a8"
             ],
             [
              0.3333333333333333,
              "#9c179e"
             ],
             [
              0.4444444444444444,
              "#bd3786"
             ],
             [
              0.5555555555555556,
              "#d8576b"
             ],
             [
              0.6666666666666666,
              "#ed7953"
             ],
             [
              0.7777777777777778,
              "#fb9f3a"
             ],
             [
              0.8888888888888888,
              "#fdca26"
             ],
             [
              1.0,
              "#f0f921"
             ]
            ],
            "type": "surface"
           }
          ],
          "table": [
           {
            "cells": {
             "fill": {
              "color": "#EBF0F8"
             },
             "line": {
              "color": "white"
             }
            },
            "header": {
             "fill": {
              "color": "#C8D4E3"
             },
             "line": {
              "color": "white"
             }
            },
            "type": "table"
           }
          ]
         },
         "layout": {
          "annotationdefaults": {
           "arrowcolor": "#2a3f5f",
           "arrowhead": 0,
           "arrowwidth": 1
          },
          "autotypenumbers": "strict",
          "coloraxis": {
           "colorbar": {
            "outlinewidth": 0,
            "ticks": ""
           }
          },
          "colorscale": {
           "diverging": [
            [
             0,
             "#8e0152"
            ],
            [
             0.1,
             "#c51b7d"
            ],
            [
             0.2,
             "#de77ae"
            ],
            [
             0.3,
             "#f1b6da"
            ],
            [
             0.4,
             "#fde0ef"
            ],
            [
             0.5,
             "#f7f7f7"
            ],
            [
             0.6,
             "#e6f5d0"
            ],
            [
             0.7,
             "#b8e186"
            ],
            [
             0.8,
             "#7fbc41"
            ],
            [
             0.9,
             "#4d9221"
            ],
            [
             1,
             "#276419"
            ]
           ],
           "sequential": [
            [
             0.0,
             "#0d0887"
            ],
            [
             0.1111111111111111,
             "#46039f"
            ],
            [
             0.2222222222222222,
             "#7201a8"
            ],
            [
             0.3333333333333333,
             "#9c179e"
            ],
            [
             0.4444444444444444,
             "#bd3786"
            ],
            [
             0.5555555555555556,
             "#d8576b"
            ],
            [
             0.6666666666666666,
             "#ed7953"
            ],
            [
             0.7777777777777778,
             "#fb9f3a"
            ],
            [
             0.8888888888888888,
             "#fdca26"
            ],
            [
             1.0,
             "#f0f921"
            ]
           ],
           "sequentialminus": [
            [
             0.0,
             "#0d0887"
            ],
            [
             0.1111111111111111,
             "#46039f"
            ],
            [
             0.2222222222222222,
             "#7201a8"
            ],
            [
             0.3333333333333333,
             "#9c179e"
            ],
            [
             0.4444444444444444,
             "#bd3786"
            ],
            [
             0.5555555555555556,
             "#d8576b"
            ],
            [
             0.6666666666666666,
             "#ed7953"
            ],
            [
             0.7777777777777778,
             "#fb9f3a"
            ],
            [
             0.8888888888888888,
             "#fdca26"
            ],
            [
             1.0,
             "#f0f921"
            ]
           ]
          },
          "colorway": [
           "#636efa",
           "#EF553B",
           "#00cc96",
           "#ab63fa",
           "#FFA15A",
           "#19d3f3",
           "#FF6692",
           "#B6E880",
           "#FF97FF",
           "#FECB52"
          ],
          "font": {
           "color": "#2a3f5f"
          },
          "geo": {
           "bgcolor": "white",
           "lakecolor": "white",
           "landcolor": "#E5ECF6",
           "showlakes": true,
           "showland": true,
           "subunitcolor": "white"
          },
          "hoverlabel": {
           "align": "left"
          },
          "hovermode": "closest",
          "mapbox": {
           "style": "light"
          },
          "paper_bgcolor": "white",
          "plot_bgcolor": "#E5ECF6",
          "polar": {
           "angularaxis": {
            "gridcolor": "white",
            "linecolor": "white",
            "ticks": ""
           },
           "bgcolor": "#E5ECF6",
           "radialaxis": {
            "gridcolor": "white",
            "linecolor": "white",
            "ticks": ""
           }
          },
          "scene": {
           "xaxis": {
            "backgroundcolor": "#E5ECF6",
            "gridcolor": "white",
            "gridwidth": 2,
            "linecolor": "white",
            "showbackground": true,
            "ticks": "",
            "zerolinecolor": "white"
           },
           "yaxis": {
            "backgroundcolor": "#E5ECF6",
            "gridcolor": "white",
            "gridwidth": 2,
            "linecolor": "white",
            "showbackground": true,
            "ticks": "",
            "zerolinecolor": "white"
           },
           "zaxis": {
            "backgroundcolor": "#E5ECF6",
            "gridcolor": "white",
            "gridwidth": 2,
            "linecolor": "white",
            "showbackground": true,
            "ticks": "",
            "zerolinecolor": "white"
           }
          },
          "shapedefaults": {
           "line": {
            "color": "#2a3f5f"
           }
          },
          "ternary": {
           "aaxis": {
            "gridcolor": "white",
            "linecolor": "white",
            "ticks": ""
           },
           "baxis": {
            "gridcolor": "white",
            "linecolor": "white",
            "ticks": ""
           },
           "bgcolor": "#E5ECF6",
           "caxis": {
            "gridcolor": "white",
            "linecolor": "white",
            "ticks": ""
           }
          },
          "title": {
           "x": 0.05
          },
          "xaxis": {
           "automargin": true,
           "gridcolor": "white",
           "linecolor": "white",
           "ticks": "",
           "title": {
            "standoff": 15
           },
           "zerolinecolor": "white",
           "zerolinewidth": 2
          },
          "yaxis": {
           "automargin": true,
           "gridcolor": "white",
           "linecolor": "white",
           "ticks": "",
           "title": {
            "standoff": 15
           },
           "zerolinecolor": "white",
           "zerolinewidth": 2
          }
         }
        },
        "title": {
         "text": "Actualización Bayesiana: Prior vs. Posterior"
        },
        "xaxis": {
         "title": {
          "text": "Probabilidad de éxito"
         }
        },
        "yaxis": {
         "range": [
          0,
          3.759012297722988
         ],
         "title": {
          "text": "Densidad"
         }
        }
       }
      }
     },
     "metadata": {},
     "output_type": "display_data"
    }
   ],
   "source": [
    "\n",
    "import numpy as np\n",
    "from scipy.stats import beta\n",
    "import plotly.graph_objs as go\n",
    "\n",
    "# Parámetros\n",
    "a_prior, b_prior = 2, 2  # prior Beta(2,2)\n",
    "exitos, fracasos = 5, 3  # datos observados\n",
    "a_post = a_prior + exitos\n",
    "b_post = b_prior + fracasos\n",
    "\n",
    "# Eje de probabilidad\n",
    "x = np.linspace(0, 1, 500)\n",
    "prior = beta.pdf(x, a_prior, b_prior)\n",
    "posterior = beta.pdf(x, a_post, b_post)\n",
    "\n",
    "# Gráfico\n",
    "fig = go.Figure()\n",
    "fig.add_trace(go.Scatter(x=x, y=prior, mode='lines', name='Prior (Beta(2,2))', line=dict(dash='dot')))\n",
    "fig.add_trace(go.Scatter(x=x, y=posterior, mode='lines', name='Posterior (Beta actualizada)', line=dict(width=3)))\n",
    "fig.update_layout(title='Actualización Bayesiana: Prior vs. Posterior',\n",
    "                  xaxis_title='Probabilidad de éxito',\n",
    "                  yaxis_title='Densidad',\n",
    "                  yaxis_range=[0, max(max(prior), max(posterior)) + 1])\n",
    "fig.show()\n"
   ]
  }
 ],
 "metadata": {
  "kernelspec": {
   "display_name": "mgp",
   "language": "python",
   "name": "python3"
  },
  "language_info": {
   "codemirror_mode": {
    "name": "ipython",
    "version": 3
   },
   "file_extension": ".py",
   "mimetype": "text/x-python",
   "name": "python",
   "nbconvert_exporter": "python",
   "pygments_lexer": "ipython3",
   "version": "3.13.2"
  }
 },
 "nbformat": 4,
 "nbformat_minor": 5
}
