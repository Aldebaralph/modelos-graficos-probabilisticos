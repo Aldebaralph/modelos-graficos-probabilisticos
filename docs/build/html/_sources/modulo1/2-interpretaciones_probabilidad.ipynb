{
 "cells": [
  {
   "cell_type": "markdown",
   "id": "6afefc4d",
   "metadata": {},
   "source": [
    "# Interpretaciones de la probabilidad"
   ]
  },
  {
   "cell_type": "markdown",
   "id": "28f19a70",
   "metadata": {},
   "source": [
    "## 1.1. ¿qué representa una probabilidad?\n",
    "\n",
    "Ya sabemos qué es una _función de probabilidad_ y cómo puede _distribuirse_ sobre un espacio muestral. Es importante notar que, en este punto, la _probabilidad_ es un objeto estrictamente matemático, cuya definición está separada del proceso mediante el cual se asignan probabilidades a los eventos.\n",
    "\n",
    "Pero surge una pregunta fundamental:\n",
    "\n",
    "> **¿Cómo se asignan o calculan esos valores de probabilidad en la práctica?**\n",
    "\n",
    "La respuesta depende de la **interpretación** que adoptemos sobre qué representa una probabilidad en un contexto real.\n",
    "\n",
    "A continuación, exploramos dos de las interpretaciones más influyentes y ampliamente utilizadas: la **frecuentista** y la **bayesiana**."
   ]
  },
  {
   "cell_type": "markdown",
   "id": "f13c3d47",
   "metadata": {},
   "source": [
    "## 1.2. Enfoque frecuentista: medir por repetición\n",
    "\n",
    "> Si repetimos un experimento muchas veces, el cociente entre el número de veces que ocurre un evento y el total de repeticiones se usa como una estimación de su probabilidad. Este valor es lo que se conoce como la _frecuencia relativa_.\n",
    "\n",
    "Este valor se llama _frecuencia relativa_ del evento:\n",
    "\n",
    "$$\\mathbb{P}(A) \\approx \\frac{\\#A}{n}$$\n",
    "\n",
    "A medida que el número de experimentos crece, esta frecuencia relativa tiende (bajo ciertas condiciones) a estabilizarse en un valor fijo. Este valor es interpretado como la **probabilidad** del evento desde el punto de vista _frecuentista_."
   ]
  },
  {
   "cell_type": "markdown",
   "id": "d2bbe4e6",
   "metadata": {},
   "source": [
    "```{admonition} Frecuencia relativa\n",
    ":class: attention\n",
    "\n",
    "La **frecuencia relativa** es el cociente entre el número de veces que ocurre un evento y el número total de repeticiones del experimento. En el enfoque **frecuentista**, esta proporción se interpreta como la probabilidad del evento, especialmente cuando el número de repeticiones es grande.\n",
    "```"
   ]
  },
  {
   "cell_type": "markdown",
   "id": "7f48512e",
   "metadata": {},
   "source": [
    "```{admonition} Ejemplo\n",
    ":class: tip\n",
    "\n",
    "![](../images/sesion2-freq.png)\n",
    "\n",
    "Si lanzamos una moneda 1000 veces y cae cara en 502 de ellas, entonces:\n",
    "\n",
    "$$\n",
    "\\mathbb{P}(\\text{cara}) \\approx \\frac{502}{1000} = 0.502\n",
    "$$\n",
    "\n",
    "Al aumentar el número de repeticiones, esta estimación se estabiliza. Podemos observar este fenómeno en la **Figura 3.**\n",
    "```"
   ]
  },
  {
   "cell_type": "markdown",
   "id": "1d7387a7",
   "metadata": {},
   "source": [
    "![Convergencia de la frecuencia relativa](../images/frecuencia_relativa_frecuentista.png)\n",
    "\n",
    "**Figura 3**. En el enfoque frecuentista, la probabilidad se interpreta como el valor al que tiende la _frecuencia relativa_ de un evento (por ejemplo, \"cara\" en una moneda) conforme se incrementa el número de repeticiones del experimento."
   ]
  },
  {
   "cell_type": "markdown",
   "id": "882c6f04",
   "metadata": {},
   "source": [
    "```{admonition} ¿Es sólo una fórmula?\n",
    ":class: caution\n",
    "\n",
    "Aunque el enfoque frecuentista utiliza la _frecuencia relativa_ para estimar la probabilidad, **no se reduce solamente a una fórmula**.\n",
    "\n",
    "Este enfoque implica una forma específica de entender qué es una probabilidad:\n",
    "\n",
    "1. La probabilidad de un evento se **define** como el **límite** de su _frecuencia relativa_ al repetir el experimento muchas veces.\n",
    "\n",
    "$$\\lim_{n \\to \\infty} \\frac{\\#A}{n} = \\mathbb{P}(A)$$\n",
    "\n",
    "2. Se asume que las probabilidades son **propiedades objetivas del mundo**, no creencias subjetivas.\n",
    "3. No se habla de probabilidades en eventos únicos o no repetibles, como “la probabilidad de que llueva mañana”.\n",
    "\n",
    "Por tanto, el frecuentismo es una postura **matemática y filosófica**, no solo un método de cálculo.\n",
    "```"
   ]
  },
  {
   "cell_type": "markdown",
   "id": "680b1543",
   "metadata": {},
   "source": [
    "> **¿Qué significa \"variable aleatoria\" en estadística frecuentista?**\n",
    "\n",
    "Hasta ahora, posiblemente has visto que una _variable aleatoria_ es algo que usamos para modelar resultados inciertos, como lanzar un dado, medir una altura, o contar cuántas veces sale cara una moneda.\n",
    "\n",
    "Y eso es, precisamente, lo que significa en el enfoque **frecuentista**."
   ]
  },
  {
   "cell_type": "markdown",
   "id": "e467bcbf",
   "metadata": {},
   "source": [
    "> Una _variable aleatoria_ representa el **resultado numérico** de un experimento aleatorio que se puede repetir muchas veces.\n",
    "\n",
    "Por ejemplo, si lanzas una moneda y defines $(X = 1)$ si sale cara y $(X = 0)$ si sale cruz, entonces $(X)$ es una _variable aleatoria_.\n",
    "\n",
    "Aquí, lo aleatorio es el **resultado** del experimento, **no** el parámetro que describe su comportamiento (como la probabilidad de que salga cara).\n",
    "\n",
    "Desde esta perspectiva, _los parámetros son constantes fijas, pero desconocidas_ y no se modelan con variables aleatorias."
   ]
  },
  {
   "cell_type": "markdown",
   "id": "3d650877",
   "metadata": {},
   "source": [
    "```{admonition} Fundamento teórico\n",
    ":class: note\n",
    "\n",
    "El hecho de que la frecuencia relativa se estabilice a medida que aumenta el número de repeticiones está respaldado por un resultado matemático conocido como la [**ley de los grandes números**](https://es.wikipedia.org/wiki/Ley_de_los_grandes_n%C3%BAmeros).\n",
    "```"
   ]
  },
  {
   "cell_type": "markdown",
   "id": "d0f23940",
   "metadata": {},
   "source": [
    "## 1.3. Enfoque bayesiano: probabilidades como creencias\n",
    "\n",
    "_¿Qué significa decir que algo tiene cierta probabilidad de ocurrir desde la perspectiva bayesiana?_\n",
    "\n",
    "El enfoque bayesiano propone una forma muy intuitiva de verlo:\n",
    "\n",
    "> La probabilidad es una medida de qué tanto creemos que algo es cierto, basándonos en lo que sabemos hasta ahora.\n",
    "\n",
    "Así, para los bayesianos, la probabilidad no es una propiedad fija del mundo como “la gravedad”, sino más bien una forma de representar nuestra incertidumbre. Y lo más importante:\n",
    "\n",
    "> 💡 Esa creencia puede cambiar si recibimos nueva información."
   ]
  },
  {
   "cell_type": "markdown",
   "id": "cb9ab28a",
   "metadata": {},
   "source": [
    "```{admonition} Ejemplo\n",
    "Supón que alguien te dice:\n",
    "\n",
    "> _\"Hay probabilidad de lluvia mañana\"._\n",
    "\n",
    "Esa probabilidad puede ser diferente dependiento de si:\n",
    "\n",
    "* viste un pronóstico confiable,\n",
    "\n",
    "* el cielo está completamente despejado,\n",
    "\n",
    "* o escuchaste truenos a lo lejos.\n",
    "\n",
    "Cada nueva pista _cambia tu creencia_. Y esto es justamente lo que el enfoque bayesiano busca formalizar: **cómo actualizamos** nuestras creencias cuando obtenemos nueva evidencia.\n",
    "```"
   ]
  },
  {
   "cell_type": "markdown",
   "id": "6fad5537",
   "metadata": {},
   "source": [
    "> ¿Cómo se hace esto?\n",
    "\n",
    "La herramienta central para actualizar nuestras creencias es la **probabilidad condicional**:\n",
    "\n",
    "$$\n",
    "\\mathbb{P}(A \\mid B) = \\frac{\\mathbb{P}(A \\cap B)}{\\mathbb{P}(B)}\n",
    "$$\n",
    "\n",
    "Esta fórmula expresa la probabilidad de que ocurra un evento $(A)$, dado que se ha observado otro evento $(B)$. La **probabilidad condicional** es el primer paso hacia un modelo bayesiano completo, ya que introduce la noción de **información que modifica creencias**."
   ]
  },
  {
   "cell_type": "markdown",
   "id": "5fa886e0",
   "metadata": {},
   "source": [
    "```{admonition} Probabilidad condicional\n",
    ":class: tip\n",
    "\n",
    "La probabilidad condicional nos dice cuál es la probabilidad de que ocurra un evento $(A)$, dado que ya sabemos que ha ocurrido otro evento $(B)$.\n",
    "\n",
    "![](../images/sesion2-probcondi.png)\n",
    "\n",
    "Por ejemplo, la probabilidad de lluvia puede cambiar si sabemos que el cielo está despejado. Esta forma de actualizar creencias es esencial en el enfoque **bayesiano**.\n",
    "```"
   ]
  },
  {
   "cell_type": "markdown",
   "id": "2660f885",
   "metadata": {},
   "source": [
    "Aquí es donde entra en escena el famoso **Teorema de Bayes**.\n",
    "\n",
    "```{admonition} Teorema de Bayes: actualización de creencias\n",
    ":class: important\n",
    "\n",
    "El Teorema de Bayes permite **actualizar una creencia previa** cuando se incorpora nueva información. Se compone de tres elementos:\n",
    "\n",
    "- **Prior**: lo que creíamos antes de observar datos $(P(A))$\n",
    "- **Likelihood** (verosimilitud): qué tan probable es observar los datos si la hipótesis fuera cierta $(P(B \\mid A))$\n",
    "- **Posterior**: lo que creemos **después** de observar los datos $(P(A \\mid B))$\n",
    "\n",
    "![](../images/sesion2-probcondi2.png)\n",
    "\n",
    "Este resultado es matemáticamente demostrable, y es la base de toda la estadística bayesiana.\n",
    "```"
   ]
  },
  {
   "cell_type": "markdown",
   "id": "897a60f7",
   "metadata": {},
   "source": [
    "> **¿Qué significa \"variable aleatoria\" en estadística bayesiana??**\n",
    "\n",
    "Hasta ahora, posiblemente has visto que una variable aleatoria es algo que usamos para modelar resultados inciertos, como lanzar un dado, medir una altura, o contar cuántas veces sale cara una moneda.\n",
    "\n",
    "Pero en el mundo bayesiano, las cosas se vuelven más interesantes:\n",
    "\n",
    "> También usamos variables aleatorias para representar lo que no sabemos sobre un parámetro.\n",
    "\n",
    "Por ejemplo, imagina que estás tratando de averiguar cuál es la probabilidad $\\theta$ de que una máquina falle en un día cualquiera.\n",
    "No tienes un número exacto, pero...\n",
    "\n",
    "> _Creo que la máquina es bastante confiable, así que probablemente $\\theta$ sea algo así como 0.1... pero no estoy segura\"_\n",
    "\n",
    "Aquí no estás hablando de un resultado aleatorio, como el lanzamiento de un dado. Estás hablando de tu **incertidumbre sobre un valor desconocido.**\n",
    "\n",
    "Y eso, en bayes, se modela con una _variable aleatoria._\n",
    "\n",
    "> **¿Y cómo describimos esa incertidumbre?**\n",
    "\n",
    "Usamos lo que se llama una **distribución de probabilidad**, que nos dice qué tan probable o creíble creemos que es cada posible valor de $\\theta$.\n",
    "\n",
    "Por ejemplo:\n",
    "\n",
    "- Si pensamos que valores pequeños de $\\theta$ (como 0.05 o 0.1) son más probables, la distribución será más alta en esa zona.\n",
    "\n",
    "- Si valores como 0.8 o 0.9 nos parecen muy poco probables, la distribución será muy baja allí.\n",
    "\n",
    "Esto se representa con una función como:\n",
    "\n",
    "$$\n",
    "p_X(x)\n",
    "$$\n",
    "\n",
    "significa que:\n",
    "\n",
    "- $(X)$: es la variable aleatoria que representa la probabilidad de un evento (como que salga cara).\n",
    "- $(x)$: es un valor posible de esa probabilidad (por ejemplo, 0.7).\n",
    "- $(p_X(x))$: es cuán creíble o probable consideramos ese valor, dada la información disponible."
   ]
  },
  {
   "cell_type": "markdown",
   "id": "e0bc659e",
   "metadata": {},
   "source": [
    "![](../images/sesion2-bayes_prob_de_probabilidad.png)\n",
    "\n",
    "**Figura 4.** Notación de la función de densidad de probabilidad: $p_X(x)$ represeta cuán probable o creíble creemos que es cada posible valor del parámetro X.\n",
    "\n",
    "En lugar de afirmar “la probabilidad es 0.7”, el bayesiano dice: “0.7 es plausible, pero también lo son otros valores cercanos y esta es la distribución que los describe”."
   ]
  },
  {
   "cell_type": "markdown",
   "id": "02106c10",
   "metadata": {},
   "source": [
    "![](../images/bayes_prior_posterior.png)\n",
    "\n",
    "**Figura 5.** En el enfoque bayesiano, una creencia inicial (distribución prior, línea azul) se combina con la evidencia aportada por los datos (verosimilitud, línea roja) para producir una creencia actualizada (posterior, línea verde). Esto se realiza aplicando el Teorema de Bayes."
   ]
  },
  {
   "cell_type": "markdown",
   "id": "835259b7",
   "metadata": {},
   "source": [
    "```{admonition} Resumen\n",
    ":class: tip\n",
    "\n",
    "En estadística bayesiana:\n",
    "- Los parámetros desconocidos se tratan como variables aleatorias.\n",
    "\n",
    "- Modelamos nuestras creencias sobre esos valores con distribuciones de probabilidad.\n",
    "\n",
    "- Cuando obtenemos nuevos datos, actualizamos esas creencias usando el Teorema de Bayes.\n",
    "```"
   ]
  },
  {
   "cell_type": "markdown",
   "id": "0ddf04b0",
   "metadata": {},
   "source": [
    "<iframe width=\"650\" height=\"315\"\n",
    "    src=\"https://www.youtube.com/embed/XIbL0foEckA\"\n",
    "    title=\"YouTube video player\"\n",
    "    frameborder=\"0\"\n",
    "    allow=\"accelerometer; autoplay; clipboard-write; encrypted-media; gyroscope; picture-in-picture\"\n",
    "    allowfullscreen>\n",
    "</iframe>"
   ]
  },
  {
   "cell_type": "markdown",
   "id": "425fc0d6",
   "metadata": {},
   "source": [
    "![](../images/memes/interpretations-joke.png)"
   ]
  }
 ],
 "metadata": {
  "kernelspec": {
   "display_name": "mgp",
   "language": "python",
   "name": "python3"
  },
  "language_info": {
   "name": "python",
   "version": "3.13.2"
  }
 },
 "nbformat": 4,
 "nbformat_minor": 5
}
