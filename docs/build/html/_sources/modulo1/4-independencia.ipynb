{
 "cells": [
  {
   "cell_type": "markdown",
   "id": "be50df39",
   "metadata": {},
   "source": [
    "# Independencia"
   ]
  },
  {
   "cell_type": "markdown",
   "id": "f73a6be0",
   "metadata": {},
   "source": [
    "## 1.1. Independencia\n",
    "\n",
    "Uno de los conceptos más importantes en teoría de probabilidad es el de **independencia entre eventos o variables**. Intuitivamente, dos eventos son independientes si el conocimiento de uno **no cambia** la probabilidad del otro.\n",
    "\n",
    "> La independencia **no se asume** ni se deduce por intuición: **se verifica formalmente**."
   ]
  },
  {
   "cell_type": "markdown",
   "id": "16504e4e",
   "metadata": {},
   "source": [
    "### Independencia de variables aleatorias\n",
    "\n",
    "```{admonition} Definición de independencia\n",
    ":class: tip\n",
    "\n",
    "Dos variables aleatorias $X$ y $Y$ son independientes si la distribución conjunta factoriza como el producto de marginales:\n",
    "\n",
    "$$\n",
    "p(X, Y) = p(X) p(Y).\n",
    "$$\n",
    "```"
   ]
  },
  {
   "cell_type": "markdown",
   "id": "34196073",
   "metadata": {},
   "source": [
    "A partir de la definición y de la regla de la probabilidad condicional y suponiendo que $p(X)>0$ y $p(Y)>0$, podemos ver que de la definición de probabilidad condicional:\n",
    "\n",
    "$$\n",
    "p(X | Y) = \\frac{p(X, Y)}{p(Y)} = \\frac{p(X) p(Y)}{p(Y)} = p(X)\n",
    "$$\n",
    "\n",
    "> $Y$ no me da información sobre $X$.\n",
    "\n",
    "y similarmente\n",
    "\n",
    "$$\n",
    "p(Y | X) = p(Y).\n",
    "$$\n",
    "\n",
    "> $X$ no me da información sobre $Y$."
   ]
  },
  {
   "cell_type": "markdown",
   "id": "e511f815",
   "metadata": {},
   "source": [
    "> Sí, la independencia es una relación **simétrica**:\n",
    "\n",
    "$$\n",
    "X \\perp Y \\;\\; \\iff \\;\\; Y \\perp X\n",
    "$$"
   ]
  },
  {
   "cell_type": "markdown",
   "id": "1967d74f",
   "metadata": {},
   "source": [
    "##### Ejemplo: independencia en una baraja\n",
    "\n",
    "Se selecciona una carta de una baraja de 52 cartas. Definimos los eventos:\n",
    "\n",
    "- $A$: la carta es un As.  \n",
    "- $C$: la carta es de corazones.  \n",
    "- $R$: la carta es roja. "
   ]
  },
  {
   "cell_type": "markdown",
   "id": "ba6120ac",
   "metadata": {},
   "source": [
    "<details>\n",
    "  <summary>Descubrir</summary>\n",
    "  \n",
    "1. Sabemos que\n",
    "  - $p(A)=\\frac{4}{52}=\\frac{1}{13}$ (hay 4 A's en una baraja),\n",
    "  - $p(A|C)=\\frac{1}{13}$ (hay una A de los 13 corazones).\n",
    "  \n",
    "  Como $p(A)=p(A|C)$, entonces sacar una A es independiente de sacar un corazón.\n",
    "\n",
    "2. Similarmente,\n",
    "  - $p(A|R)=\\frac{2}{26}=\\frac{1}{13}$ (hay dos A's de las 26 cartas rojas).\n",
    "  \n",
    "  Como $p(A)=p(A|R)$, entonces sacar una A es independiente de sacar una carta roja.\n",
    "\n",
    "3. ¿Qué pasa con $C$ y $R$? Tenemos que:\n",
    "  - $p(C)=\\frac{13}{52}=\\frac{1}{4}$\n",
    "  - $p(C|R)=\\frac{13}{26}=\\frac{1}{2}$\n",
    "  \n",
    "  Por lo que sacar una carta roja no es independiente de sacar un corazón. Esto es intuitivo.\n",
    "\n",
    "Notar que el último caso, lo podríamos haber analizado en el otro sentido:\n",
    "  - $p(R)=\\frac{26}{52}=\\frac{1}{2}$\n",
    "  - $p(R|C)=\\frac{13}{13}=\\frac{1}{1}$.\n",
    "</details>"
   ]
  },
  {
   "cell_type": "markdown",
   "id": "51d9d7cd",
   "metadata": {},
   "source": [
    "## 1.2. Independencia condicional\n",
    "\n",
    "La **independencia** es una propiedad útil, pero poco común en problemas reales:  \n",
    "en la práctica, es raro que dos variables o eventos sean verdaderamente independientes.\n",
    "\n",
    "Sin embargo, lo que sí ocurre con frecuencia es que **dos variables sean independientes _condicionalmente_** a una tercera. \n",
    "\n",
    "```{admonition} Definición independencia condicional\n",
    ":class: tip\n",
    "\n",
    "Decimos que **$A$ y $B$ son independientes condicionalmente a $X$** si:\n",
    "\n",
    "$$\n",
    "p(A,B \\mid X) = p(A \\mid X)\\, p(B \\mid X).\n",
    "$$\n",
    "\n",
    "Esto significa que **una vez que conocemos $X$**, la información sobre $A$ ya no aporta nada adicional sobre $B$ (y viceversa).\n",
    "\n",
    "En otras palabras: $X$ “rompe” la dependencia que pudieran tener $A$ y $B$.\n",
    "```"
   ]
  },
  {
   "cell_type": "markdown",
   "id": "0376c948",
   "metadata": {},
   "source": [
    "A partir de la definición anterior, usando probabilidad condicional, se puede derivar:\n",
    "\n",
    "$$\n",
    "p(A \\mid B, X) = \\frac{p(A,B \\mid X)}{p(B \\mid X)}.\n",
    "$$\n",
    "\n",
    "Si sustituimos la definición de independencia condicional:\n",
    "\n",
    "$$\n",
    "p(A \\mid B, X) = \\frac{p(A \\mid X)\\, p(B \\mid X)}{p(B \\mid X)} = p(A \\mid X).\n",
    "$$\n",
    "\n",
    "De manera simétrica:\n",
    "\n",
    "$$\n",
    "p(B \\mid A, X) = p(B \\mid X).\n",
    "$$\n",
    "\n",
    "Es decir, al condicionar en $X$, $A$ y $B$ se comportan como si fueran independientes."
   ]
  },
  {
   "cell_type": "markdown",
   "id": "257d8905",
   "metadata": {},
   "source": [
    "```{admonition} Ejemplo\n",
    ":class: tip\n",
    "\n",
    "Supón que queremos estimar la probabilidad de que una estudiante sea admitida a un posgrado en el ITAM o en el CINVESTAV.\n",
    "\n",
    "- Sea $I$: _\"fue admitida al posgrado del ITAM\"_\n",
    "- Sea $C$: _\"fue admitida al posgrado del CINVESTAV\"_\n",
    "\n",
    "Normalmente, $I$ y $C$ **no son independientes**: saber que fue admitida al ITAM probablemente aumenta nuestra creencia de que también será admitida al CINVESTAV, porque sugiere que es una estudiante sobresaliente.\n",
    "\n",
    "Ahora supongamos que sabemos que su promedio de licenciatura ($G$) es de 9.5 y que ambas instituciones **basan su admisión únicamente en el promedio**.\n",
    "\n",
    "Entonces, **dado $G = 9.5$**, los eventos $I$ y $C$ sí son independientes:\n",
    "\n",
    "$$\n",
    "\\mathbb{P}(C \\mid I, G) = \\mathbb{P}(C \\mid G)\n",
    "$$\n",
    "\n",
    "En este caso, decimos que **$C$ es condicionalmente independiente de $I$ dado $G$**.\n",
    "```"
   ]
  }
 ],
 "metadata": {
  "language_info": {
   "name": "python"
  }
 },
 "nbformat": 4,
 "nbformat_minor": 5
}
