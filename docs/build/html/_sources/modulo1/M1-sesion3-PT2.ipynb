{
 "cells": [
  {
   "cell_type": "markdown",
   "id": "a39a1cee",
   "metadata": {},
   "source": [
    "# Sesión 3 B"
   ]
  },
  {
   "cell_type": "markdown",
   "id": "5a66d130",
   "metadata": {},
   "source": [
    "## 1. Repaso de probabilidad (parte 2B)"
   ]
  },
  {
   "cell_type": "markdown",
   "id": "425bd2d5",
   "metadata": {},
   "source": [
    "### 1.1. Variables aleatorias\n",
    "\n",
    "Las variables aleatorias son funciones que asignan un valor numérico a cada resultado de un experimento aleatorio. Se clasifican en dos tipos:\n",
    "\n",
    "* **Variables aleatorias discretas**\n",
    "* ➡️ **Variables aleatorias continuas**"
   ]
  },
  {
   "cell_type": "markdown",
   "id": "13228928",
   "metadata": {},
   "source": [
    "#### Variables aleatorias continuas\n",
    "\n",
    "```{admonition} Definición\n",
    ":class: note\n",
    "\n",
    "Sea $\\Omega$ un espacio muestral continuo, es decir, un conjunto no numerable de posibles resultados de un experimento aleatorio.\n",
    "\n",
    "Una *variable aleatoria continua* es una función que asigna un _número real_ a cada resultado del espacio muestral:\n",
    "\n",
    "$$\n",
    "X: \\Omega \\to \\mathbb{R}\n",
    "$$\n",
    "\n",
    "A diferencia de las variables aleatorias discretas, los valores que puede tomar $X$ **no se pueden enumerar**, ya que forman un subconjunto continuo de $\\mathbb{R}$. Esto significa que $X$ puede asumir infinitos valores dentro de un intervalo real.\n",
    "\n",
    "```"
   ]
  },
  {
   "cell_type": "markdown",
   "id": "94309b78",
   "metadata": {},
   "source": [
    "##### Antes de empezar: _¿qué es densidad?, ¿y qué es integrar?_"
   ]
  },
  {
   "cell_type": "markdown",
   "id": "65b70571",
   "metadata": {},
   "source": [
    "En el mundo real, muchas cosas no se pueden contar: el tiempo que transcurre, la temperatura que cambia suavemente, la posición de un objeto en movimiento, o la probabilidad de que una variable tome un valor entre dos puntos reales.\n",
    "\n",
    "En estos casos, no hay elementos aislados, como canicas o dados. Solo hay continuidad, fluidez, cambio constante. Y entonces surge una pregunta profunda:\n",
    "\n",
    "> ¿Cómo medimos lo que no se puede contar?"
   ]
  },
  {
   "cell_type": "markdown",
   "id": "d25af258",
   "metadata": {},
   "source": [
    "```{admonition} Densidad e integración: comprender lo continuo\n",
    ":class: note\n",
    "\n",
    "🌀 La densidad: lo local, lo relativo\n",
    "\n",
    "_¿Dónde se concentra algo?_\n",
    "\n",
    "Pero en lugar de contar unidades, miramos lo que pasa en una región infinitesimal.\n",
    "```"
   ]
  },
  {
   "cell_type": "markdown",
   "id": "093faeb4",
   "metadata": {},
   "source": [
    "```{admonition} Integración: lo acumulativo, lo global\n",
    ":class: note\n",
    "\n",
    "Integrar es tomar fragmentos del mundo, imperceptibles por sí solos, y sumarlos para construir sentido.\n",
    "\n",
    "* Reunir las contribuciones dispersos de lo continuo.\n",
    "```\n"
   ]
  },
  {
   "cell_type": "markdown",
   "id": "b3b577b9",
   "metadata": {},
   "source": [
    "Una _variable aleatoria continua_ vive en ese mismo mundo: no tiene \"valores posibles\" que puedas listar. Tiene un espectro infinito de posibilidades, una especie de _bruma de incertidumbre matemática_.\n",
    "\n",
    "* La _densidad_ te dice cómo están distribuidas esas posibildes.\n",
    "\n",
    "* La _integración_ te permite calcular la probabilidad de que la variable se manifieste dentro de un rango. "
   ]
  },
  {
   "cell_type": "markdown",
   "id": "856fbdad",
   "metadata": {},
   "source": [
    "Con esto en mente, la manera más conveniente de definir una distribución continua es a través de la **función de densidad de probabilidad** o PDF _(Probability Density Function)_."
   ]
  },
  {
   "cell_type": "markdown",
   "id": "6af6c209",
   "metadata": {},
   "source": [
    "#### 1.1.1. Función de _densidad_ de probabilidad (PDF)\n",
    "\n",
    "Una PDF es una _función matemática_ que describe cómo se distribuye la probabilidad de una variable aleatoria continua a lo largo de los valores que puede tomar. "
   ]
  },
  {
   "cell_type": "markdown",
   "id": "5c883357",
   "metadata": {},
   "source": [
    "![](../images/prob-vars-continuas.png)"
   ]
  },
  {
   "cell_type": "markdown",
   "id": "d5836e5e",
   "metadata": {},
   "source": [
    "```{admonition} _Probability Density Fuction_\n",
    ":class: note\n",
    "\n",
    "Sea $X$ una variable aleatoria continua.  \n",
    "Una función $f_X(x)$ es una **función de densidad de probabilidad** (PDF) de $X$ si cumple:\n",
    "\n",
    "1. **No negatividad:**  \n",
    "   \n",
    "   $$\n",
    "   f_X(x) \\geq 0 \\quad \\text{para todo } x \\in \\mathbb{R}\n",
    "   $$\n",
    "\n",
    "2. **Normalización:**  \n",
    "   \n",
    "   $$\n",
    "   \\int_{-\\infty}^{\\infty} f_X(x)\\,dx = 1\n",
    "   $$\n",
    "   \n",
    "   _(Es decir, la **probabilidad total** sobre todo el dominio es 1)._\n",
    "\n",
    "3. **Probabilidad sobre un intervalo:**  \n",
    "   Para cualquier $a < b$, la probabilidad de que $X$ caiga en el intervalo $[a, b]$ es:\n",
    "\n",
    "   $$\n",
    "   \\mathbb{P}(a \\leq X \\leq b) = \\int_a^b f_X(x)\\,dx\n",
    "   $$\n",
    "```"
   ]
  },
  {
   "cell_type": "markdown",
   "id": "38a93dc1",
   "metadata": {},
   "source": [
    "#### 1.1.2. Función de distribución acumulativa (CDF)\n",
    "\n",
    "Definimos también la **función de distribución acumulada (CDF)** $P(x)$ como:\n",
    "\n",
    "$$\n",
    "P(x) = \\int_{-\\infty}^{x} p(z)\\,\\mathrm{d}z,\n",
    "$$\n",
    "\n",
    "y representa la probabilidad de que $X$ tome un valor **menor que** $x$, es decir:\n",
    "\n",
    "$$\n",
    "P(x) = \\mathbb{P}(X < x)\n",
    "$$"
   ]
  },
  {
   "cell_type": "markdown",
   "id": "b6cbcdcf",
   "metadata": {},
   "source": [
    "```{admonition} Observaciones\n",
    ":class: note\n",
    "\n",
    "Todo lo que vimos en el caso discreto se extiende al caso continuo:\n",
    "\n",
    "La marginalización, la regla de la cadena, la regla de Bayes, aplican cambiando sumas por integrales y probabilidades por densidades de probabilidad:\n",
    "\n",
    "- $p(x) = \\int_{-\\infty}^{\\infty} p(x, y) \\mathrm{d}y$: Marginalización\n",
    "\n",
    "- $p(x, y) = p(y | x) p(x) = p(x | y) p(y)$: Regla de la cadena\n",
    "\n",
    "- $p(x) = \\int_{-\\infty}^{\\infty} p(x | y) p(y) \\mathrm{d}y$: Probabilidad total"
   ]
  },
  {
   "cell_type": "markdown",
   "id": "28184d87",
   "metadata": {},
   "source": [
    "### 1.2. Distribuciones de probabilidad continuas"
   ]
  },
  {
   "cell_type": "markdown",
   "id": "de8db20c",
   "metadata": {},
   "source": [
    "#### 1.2.1. Distribución uniforme\n",
    "\n",
    "**Qué modela:**\n",
    "\n",
    "Una situación en la que **todos los valores dentro de un intervalo son igualmente probables**. No hay preferencia por ningún punto dentro del rango.\n",
    "\n",
    "**Ejemplo:**\n",
    "\n",
    "Medir el tiempo de llegada de un autobús que puede llegar en cualquier momento entre 10:00 y 10:30, con la misma probabilidad en todo ese intervalo.\n",
    "\n",
    "- Cualquier instante dentro del rango es igualmente probable.\n",
    "\n",
    "**Parámetros:**\n",
    "\n",
    "- $a$: límite inferior del intervalo  \n",
    "- $b$: límite superior del intervalo  \n",
    "- Se requiere que $a < b$\n",
    "\n",
    "**Soporte:**\n",
    "\n",
    "Soporte: $[a, b]$, porque ahí es donde la función vive.\n",
    "\n",
    "**Se denota como:**\n",
    "\n",
    "$$\n",
    "X \\sim \\text{Uniforme}(a, b)\n",
    "$$\n",
    "\n",
    "**Función de densidad (PDF):**\n",
    "\n",
    "$$\n",
    "f_X(x) =\n",
    "\\begin{cases}\n",
    "\\frac{1}{b - a} & \\text{si } x \\in [a, b] \\\\\n",
    "0 & \\text{en otro caso}\n",
    "\\end{cases}\n",
    "$$\n",
    "\n",
    "**Función de distribución acumulada (CDF):**\n",
    "\n",
    "$$\n",
    "F_X(x) =\n",
    "\\begin{cases}\n",
    "0 & x < a \\\\\n",
    "\\frac{x - a}{b - a} & a \\leq x \\leq b \\\\\n",
    "1 & x > b\n",
    "\\end{cases}\n",
    "$$"
   ]
  },
  {
   "cell_type": "markdown",
   "id": "f573d9be",
   "metadata": {},
   "source": [
    "```{admonition} Ejercicio 1\n",
    ":class: tip\n",
    "\n",
    " Se tiene una cinta de medir con resolución milimétrica. Si medimos la longitud de una varillas que fueron cortadas a 1 metro de longitud, el error de medición estará uniformemente distribuido entre -0.5 y 0.5 milímetros.\n",
    "```"
   ]
  },
  {
   "cell_type": "markdown",
   "id": "5e189fd4",
   "metadata": {},
   "source": [
    "```{thebe-button}\n",
    "```"
   ]
  },
  {
   "cell_type": "code",
   "execution_count": null,
   "id": "45fe8e4e",
   "metadata": {
    "tags": [
     "Thebe"
    ]
   },
   "outputs": [],
   "source": [
    "import numpy as np\n",
    "from scipy import stats\n",
    "from matplotlib import pyplot as plt"
   ]
  },
  {
   "cell_type": "markdown",
   "id": "2721e17f",
   "metadata": {},
   "source": [
    "**Parámetros:**\n",
    "\n",
    "- `loc` es el *inicio del intervalo*, se interpreta como el parámetro $a$ (límite inferior).  \n",
    "- `scale` es la *longitud del intervalo*, se interpreta como $b - a$.\n",
    "\n",
    "Entonces, la distribución se define sobre el intervalo:\n",
    "\n",
    "$$\n",
    "X \\sim \\text{Uniforme}(a = \\text{loc},\\ b = \\text{loc} + \\text{scale})\n",
    "$$"
   ]
  },
  {
   "cell_type": "code",
   "execution_count": null,
   "id": "019d5feb",
   "metadata": {},
   "outputs": [],
   "source": [
    "# Variable aleatorio uniforme\n",
    "X = stats.uniform(loc=-0.5, scale=1.0)"
   ]
  },
  {
   "cell_type": "code",
   "execution_count": null,
   "id": "5fe3036c",
   "metadata": {},
   "outputs": [],
   "source": [
    "# Gráfico de pdf y cdf\n",
    "x = np.linspace(-1, 1, 1000)\n",
    "y1 = X.pdf(x)\n",
    "y2 = X.cdf(x)\n",
    "plt.plot(x, y1, color='green', label='Densidad de probabilidad')\n",
    "plt.plot(x, y2, color='purple', label='Probabilidad acumulada')\n",
    "plt.xlabel('Error de medición')\n",
    "plt.ylabel('Densidad / Probabilidad')\n",
    "plt.legend()\n",
    "plt.grid()"
   ]
  },
  {
   "cell_type": "markdown",
   "id": "156eae38",
   "metadata": {},
   "source": [
    "#### 1.2.2. Distribución exponencial\n",
    "\n",
    "**Qué modela:**\n",
    "\n",
    "El **tiempo entre eventos aleatorios** que ocurren a una tasa constante. Es común en procesos de espera, como llamadas telefónicas, llegadas de clientes o tiempo de vida de componentes electrónicos.\n",
    "\n",
    "\n",
    "**Ejemplo:**\n",
    "\n",
    "Esperar el siguiente autobús, sabiendo que los autobuses llegan en promedio cada 10 minutos.\n",
    "\n",
    "- El tiempo de espera entre llegadas puede modelarse con una distribución exponencial.\n",
    "\n",
    "\n",
    "**Parámetros:**\n",
    "\n",
    "- $\\lambda > 0$: tasa de ocurrencia de eventos (eventos por unidad de tiempo)\n",
    "\n",
    "\n",
    "**Soporte:**\n",
    "\n",
    "Soporte: $[0, \\infty)$, ya que el tiempo o distancia entre eventos no puede ser negativo.\n",
    "\n",
    "\n",
    "**Se denota como:**\n",
    "\n",
    "$$\n",
    "X \\sim \\text{Exponencial}(\\lambda)\n",
    "$$\n",
    "\n",
    "\n",
    "**Función de densidad (PDF):**\n",
    "\n",
    "$$\n",
    "f_X(x) =\n",
    "\\begin{cases}\n",
    "\\lambda e^{-\\lambda x} & \\text{si } x \\geq 0 \\\\\\\\\n",
    "0 & \\text{en otro caso}\n",
    "\\end{cases}\n",
    "$$\n",
    "\n",
    "\n",
    "**Función de distribución acumulada (CDF):**\n",
    "\n",
    "$$\n",
    "F_X(x) =\n",
    "\\begin{cases}\n",
    "0 & x < 0 \\\\\\\\\n",
    "1 - e^{-\\lambda x} & x \\geq 0\n",
    "\\end{cases}\n",
    "$$"
   ]
  },
  {
   "cell_type": "markdown",
   "id": "3232a178",
   "metadata": {},
   "source": [
    "```{admonition} Ejercicio 2\n",
    ":class: tip\n",
    "\n",
    "Si sales del ITESO para tomar un taxi, el tiempo que esperas hasta que llegue el siguiente taxi puede modelarse con una distribución exponencial.\n",
    "\n",
    "Una manera práctica de estimar el parámetro $\\lambda$ es usando la **duración promedio de espera observada**. Por ejemplo, si normalmente esperas unos 5 minutos, puedes estimar:\n",
    "\n",
    "$$\n",
    "\\lambda \\approx \\frac{1}{\\text{promedio de espera en minutos}}\n",
    "$$\n",
    "\n",
    "Entonces podrías modelar el tiempo de espera con:\n",
    "\n",
    "$$\n",
    "X \\sim \\text{Exponencial}(0.2)\n",
    "$$\n",
    "\n",
    "Esto significa que los tiempos cortos de espera son más probables que los largos, pero siempre existe la posibilidad de que haya esperas inusualmente largas.\n",
    "```"
   ]
  },
  {
   "cell_type": "code",
   "execution_count": null,
   "id": "0375b691",
   "metadata": {},
   "outputs": [],
   "source": [
    "# Lambda\n",
    "lambda_ =1/5"
   ]
  },
  {
   "cell_type": "code",
   "execution_count": null,
   "id": "a7324a98",
   "metadata": {},
   "outputs": [],
   "source": [
    "# Variable aleatoria exponencial\n",
    "X = stats.expon(scale=1/lambda_)"
   ]
  },
  {
   "cell_type": "code",
   "execution_count": null,
   "id": "0fdb92aa",
   "metadata": {},
   "outputs": [],
   "source": [
    "# Gráfico de pdf y cdf\n",
    "x = np.linspace(0, 30, 1000)\n",
    "y1 = X.pdf(x)\n",
    "y2 = X.cdf(x)\n",
    "plt.plot(x, y1, label='Densidad de probabilidad')\n",
    "plt.plot(x, y2, label='Probabilidad acumulada')\n",
    "plt.xlabel('Tiempo de espera del taxi')\n",
    "plt.ylabel('Densidad / Probabilidad')\n",
    "plt.legend()\n",
    "plt.grid()"
   ]
  },
  {
   "cell_type": "markdown",
   "id": "68589e0a",
   "metadata": {},
   "source": [
    "#### 1.2.3. Distribución normal (Gaussiana)\n",
    "\n",
    "**Qué modela:**\n",
    "\n",
    "La distribución normal describe fenómenos que tienden a agruparse alrededor de un valor promedio, con pequeñas variaciones hacia arriba y hacia abajo.\n",
    "\n",
    "**Ejemplo:**\n",
    "\n",
    "Las calificaciones de un grupo grande de estudiantes en un examen, donde la mayoría obtiene puntajes cercanos al promedio, y solo unos pocos puntajes muy altos o muy bajos.\n",
    "\n",
    "\n",
    "**Parámetros:**\n",
    "\n",
    "- $\\mu$: media (valor central)\n",
    "- $\\sigma > 0$: desviación estándar (dispersión)\n",
    "\n",
    "**Soporte:**\n",
    "\n",
    "Soporte: $(-\\infty, \\infty)$, ya que una variable normal puede, en teoría, tomar cualquier valor real.\n",
    "\n",
    "**Se denota como:**\n",
    "\n",
    "$$\n",
    "X \\sim \\mathcal{N}(\\mu, \\sigma^2)\n",
    "$$\n",
    "\n",
    "\n",
    "**Función de densidad (PDF):**\n",
    "\n",
    "$$\n",
    "f_X(x) = \\frac{1}{\\sigma \\sqrt{2\\pi}} \\, \\exp\\left(-\\frac{(x - \\mu)^2}{2\\sigma^2}\\right)\n",
    "$$\n",
    "\n",
    "\n",
    "**Función de distribución acumulada (CDF):**\n",
    "\n",
    "No tiene una forma cerrada elemental, pero se define como:\n",
    "\n",
    "$$\n",
    "F_X(x) = \\int_{-\\infty}^{x} f_X(t) \\, dt\n",
    "$$\n",
    "\n",
    "Esta integral representa la probabilidad acumulada de que la variable tome un valor menor que $x$.\n"
   ]
  },
  {
   "cell_type": "code",
   "execution_count": null,
   "id": "79dd7dc1",
   "metadata": {},
   "outputs": [],
   "source": [
    "# Variable aleatoria normal\n",
    "\n",
    "mu = 25\n",
    "sigma = 2\n",
    "\n",
    "X = stats.norm(loc=mu, scale=sigma)"
   ]
  },
  {
   "cell_type": "markdown",
   "id": "23cb8698",
   "metadata": {},
   "source": [
    "**Parámetros:**\n",
    "\n",
    "- `loc` es la *media* de la distribución, se interpreta como el parámetro $\\mu$.  \n",
    "- `scale` es la *desviación estándar*, se interpreta como $\\sigma$ (no la varianza).\n",
    "\n",
    "Entonces, la distribución se define como:\n",
    "\n",
    "$$\n",
    "X \\sim \\mathcal{N}(\\mu = \\text{loc},\\ \\sigma^2 = \\text{scale}^2)\n",
    "$$\n"
   ]
  },
  {
   "cell_type": "code",
   "execution_count": null,
   "id": "63c935d8",
   "metadata": {},
   "outputs": [],
   "source": [
    "# Gráfico de pdf y cdf\n",
    "x = np.linspace(15, 35, 1000)\n",
    "y1 = X.pdf(x)\n",
    "y2 = X.cdf(x)\n",
    "plt.plot(x, y1, label='Densidad de probabilidad')\n",
    "plt.plot(x, y2, label='Probabilidad acumulada')\n",
    "plt.xlabel('Temperatura [C]')\n",
    "plt.ylabel('Densidad / Probabilidad')\n",
    "plt.legend()\n",
    "plt.grid()"
   ]
  },
  {
   "cell_type": "markdown",
   "id": "88251832",
   "metadata": {},
   "source": [
    "##### Propiedades de la distribución normal\n",
    "\n",
    "Sea $X \\sim \\text{Normal}(\\mu, \\sigma^2)$. Entonces se cumplen las siguientes propiedades fundamentales:\n",
    "\n",
    "- **Valor esperado (media):**  \n",
    "  El valor esperado de $X$ es igual al parámetro de media $\\mu$:\n",
    "\n",
    "  $$\n",
    "  \\mathbb{E}[X] = \\mu\n",
    "  $$\n",
    "\n",
    "- **Varianza:**  \n",
    "  La varianza de $X$ corresponde al cuadrado de la desviación estándar $\\sigma$:\n",
    "\n",
    "  $$\n",
    "  \\mathrm{Var}(X) = \\sigma^2\n",
    "  $$"
   ]
  },
  {
   "cell_type": "markdown",
   "id": "804095fa",
   "metadata": {},
   "source": [
    "### 1.3. Valor esperado y varianza (continuas)"
   ]
  },
  {
   "cell_type": "markdown",
   "id": "7f851ea6",
   "metadata": {},
   "source": [
    "#### 1.3.1. Esperanza\n",
    "\n",
    "El valor esperado de una función $f(x)$ con respecto a una distribución de probabilidad $p(x)$ se denota por:\n",
    "\n",
    "$$\n",
    "\\mathbb{E}_p[f] = \\int p(x)f(x) \\, \\mathrm{d}x.\n",
    "$$\n",
    "\n",
    "Esto representa una especie de “promedio” de $f(x)$, donde los valores más probables (según $p(x)$) tienen mayor peso.\n",
    "\n",
    "El valor esperado es una **medida de tendencia central**: nos indica el valor típico o representativo de la función aleatoria en el contexto de su distribución."
   ]
  },
  {
   "cell_type": "markdown",
   "id": "2e7229ed",
   "metadata": {},
   "source": [
    "![](../images/esp_continuas.png)"
   ]
  },
  {
   "cell_type": "markdown",
   "id": "b1ba338e",
   "metadata": {},
   "source": [
    "- En **morado** se indica la función de densidad de la variable aleatoria $X$.\n",
    "- En **verde** está la función que queremos \"promediar\", es decir, la transformación $f(X)$."
   ]
  },
  {
   "cell_type": "markdown",
   "id": "6b363506",
   "metadata": {},
   "source": [
    "Tomamos la fórmula general y la aplica a un caso específico:\n",
    "\n",
    "> La esperanza de una variable que sigue una distribución exponencial."
   ]
  },
  {
   "cell_type": "markdown",
   "id": "6ff9736e",
   "metadata": {},
   "source": [
    "![](../images/esp_continuas_2.png)"
   ]
  },
  {
   "cell_type": "markdown",
   "id": "5ce26494",
   "metadata": {},
   "source": [
    "- Medias: $\\mathbb{E}[X]$\n",
    "- Varianzas: $\\mathbb{E}[X^2] - \\mathbb{E}[X]^2$\n",
    "- Transformaciones: $\\mathbb{E}[\\log(X)], \\mathbb{E}[X^3]$, etc."
   ]
  },
  {
   "cell_type": "code",
   "execution_count": null,
   "id": "89782023",
   "metadata": {},
   "outputs": [],
   "source": [
    "from scipy.stats import norm\n",
    "\n",
    "# Definir la distribución normal con media=25 y desviación estándar=2\n",
    "distribucion = norm(loc=25, scale=2)\n",
    "\n",
    "# Valor esperado (media) de X\n",
    "media = distribucion.expect()\n",
    "\n",
    "# Esperanza del cuadrado: E[X^2]\n",
    "esperanza_cuadrado = distribucion.expect(lambda x: x**2)\n",
    "\n",
    "# Varianza: Var(X) = E[X^2] - (E[X])^2\n",
    "varianza = esperanza_cuadrado - media**2\n",
    "\n",
    "# Mostrar resultados\n",
    "print(\"Media (E[X]):\", media)\n",
    "print(\"Esperanza de X^2 (E[X^2]):\", esperanza_cuadrado)\n",
    "print(\"Varianza:\", varianza)"
   ]
  },
  {
   "cell_type": "code",
   "execution_count": null,
   "id": "801d43b8",
   "metadata": {},
   "outputs": [],
   "source": [
    "X = stats.norm(loc=25, scale=2)\n",
    "print(\"Media:\", X.mean())\n",
    "print(\"Esperanza de X^2:\", X.expect(lambda x: x**2))\n",
    "print(\"Varianza:\", X.var())"
   ]
  },
  {
   "cell_type": "markdown",
   "id": "c6ea7707",
   "metadata": {},
   "source": [
    "#### 1.3.2. Varianza\n",
    "\n",
    "Una medida complementaria al valor esperado es la **varianza**, que mide qué tanto varía $f(x)$ alrededor de su valor esperado. Se denota como:\n",
    "\n",
    "$$\n",
    "\\mathrm{var}_p[f] = \\mathbb{E}_p\\left[(f(x) - \\mathbb{E}_p[f])^2\\right]\n",
    "$$\n",
    "\n",
    "y también puede escribirse como:\n",
    "\n",
    "$$\n",
    "\\mathrm{var}_p[f] = \\mathbb{E}_p[f(x)^2] - \\left(\\mathbb{E}_p[f]\\right)^2\n",
    "$$\n",
    "\n",
    "Esta forma alternativa resulta muy útil para el cálculo práctico de la varianza."
   ]
  }
 ],
 "metadata": {
  "kernelspec": {
   "display_name": "mgp",
   "language": "python",
   "name": "python3"
  },
  "language_info": {
   "codemirror_mode": {
    "name": "ipython",
    "version": 3
   },
   "file_extension": ".py",
   "mimetype": "text/x-python",
   "name": "python",
   "nbconvert_exporter": "python",
   "pygments_lexer": "ipython3",
   "version": "3.13.2"
  }
 },
 "nbformat": 4,
 "nbformat_minor": 5
}
