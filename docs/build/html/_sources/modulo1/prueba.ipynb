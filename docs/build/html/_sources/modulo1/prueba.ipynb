{
 "cells": [
  {
   "cell_type": "markdown",
   "id": "18faa9ef",
   "metadata": {},
   "source": [
    "# Este es un título de prueba"
   ]
  },
  {
   "cell_type": "markdown",
   "id": "5c2e2e23",
   "metadata": {},
   "source": [
    "fhhfghfg"
   ]
  },
  {
   "cell_type": "code",
   "execution_count": 1,
   "id": "bc7e2119",
   "metadata": {},
   "outputs": [
    {
     "name": "stdout",
     "output_type": "stream",
     "text": [
      "Hola mundo!\n"
     ]
    }
   ],
   "source": [
    "print('Hola mundo!')"
   ]
  }
 ],
 "metadata": {
  "kernelspec": {
   "display_name": "mgp",
   "language": "python",
   "name": "python3"
  },
  "language_info": {
   "codemirror_mode": {
    "name": "ipython",
    "version": 3
   },
   "file_extension": ".py",
   "mimetype": "text/x-python",
   "name": "python",
   "nbconvert_exporter": "python",
   "pygments_lexer": "ipython3",
   "version": "3.13.2"
  }
 },
 "nbformat": 4,
 "nbformat_minor": 5
}
