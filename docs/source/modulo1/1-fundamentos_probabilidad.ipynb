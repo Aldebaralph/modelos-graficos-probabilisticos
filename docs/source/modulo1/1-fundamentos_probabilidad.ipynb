{
 "cells": [
  {
   "cell_type": "markdown",
   "id": "d282904a",
   "metadata": {},
   "source": [
    "# Fundamentos de probabilidad"
   ]
  },
  {
   "cell_type": "markdown",
   "id": "e2930509",
   "metadata": {},
   "source": [
    "## 1.1. Introducción\n",
    "\n",
    "Antes de sumergirnos en el mundo de los _modelos gráficos probabilísticos_, comprendamos primero algunos de los fundamentos de la teoría de probabilidad, ya que constituye la base formal para este enfoque.\n",
    "\n",
    "Una forma de visualizar su importancia es observando cómo diferentes perspectivas epistemológicas y metodológicas dan lugar a distintos tipos de modelado. En la **Figura 1**, se muestra una distinción entre dos enfoques principales:\n",
    "\n",
    "- El **enfoque determinista**, que se basa en el modelado no probabilísta y utiliza métodos donde no interviene el azar.\n",
    "\n",
    "- El **enfoque estocástico**, que recurre al modelado probabilísta y se sustenta formalmente en la teoría de probabilidad.\n",
    "\n",
    "Ambos caminos convergen en aplicaciones prácticas como los **modelos de aprendizaje automático (ML) y aprendizaje profundo (DL)**. Estos modelos pueden surgir tanto desde una perspectiva determinista como estocástica, aunque es en el enfoque probabilístico donde encontramos herramientas más directas para representar la _incertidumbre_ y tomas decisiones informadas.\n",
    "\n",
    "![](../images/sesion2-esquema.png)\n",
    "\n",
    "**Figura 1.** Elaboración propia."
   ]
  },
  {
   "cell_type": "markdown",
   "id": "a5197386",
   "metadata": {},
   "source": [
    "## 1.2. Fundamentos de la teoría de probabilidad\n",
    "\n",
    "La teoría de probabilidad nos permite modelar incertidumbre mediante una estructura matemática compuesta por tres elementos: _un espacio muestral $\\Omega$, un sistema de eventos medibles $S$ y una función de probabilidad $\\mathbb{P}$_. Formalmente, esta estructura se expresa como la **triple**:\n",
    "\n",
    "$$(\\Omega, S, \\mathbb{P})$$\n",
    "\n",
    "A continuación, desglosamos cada uno de estos componentes:"
   ]
  },
  {
   "cell_type": "markdown",
   "id": "d78f3e20",
   "metadata": {},
   "source": [
    "### 1.2.1. Espacio muestral $(\\Omega)$\n",
    "\n",
    "El **espacio muestral** es el conjunto que contiene **todos los posibles resultados** de un experimento aleatorio. Se denota por:\n",
    "\n",
    "$$\n",
    "\\Omega\n",
    "$$\n",
    "\n",
    "- Representa **todo lo que puede pasar**.\n",
    "\n",
    "- Es el punto de partida para definir eventos.\n",
    "\n",
    "```{admonition} Ejemplo\n",
    ":class: tip\n",
    "\n",
    "Si lanzamos un dado de 6 caras, el espacio muestral es:\n",
    "\n",
    "$\\Omega = \\{1, 2, 3, 4, 5, 6\\}$\n",
    "```\n",
    "\n",
    "Puedes consultar más [aquí](https://en.wikipedia.org/wiki/Probability_space)"
   ]
  },
  {
   "cell_type": "markdown",
   "id": "efc9441c",
   "metadata": {},
   "source": [
    "### 1.2.2. Conjunto potencia $\\mathcal{P}(\\Omega)$\n",
    "\n",
    "Es el conjunto de **todos los subconjuntos _posibles_** de $\\Omega$.\n",
    "\n",
    "- Incluye desde el conjunto vacío $\\varnothing$ hasta el conjunto total $\\Omega$.\n",
    "\n",
    "- Representa **todas las _combinaciones_ posibles de eventos.**\n",
    "\n",
    "```{admonition} Ejemplo\n",
    ":class: tip\n",
    "\n",
    "Si $\\Omega={1,2,3}$, entonces:\n",
    "\n",
    "$P(\\Omega) = \\{\\varnothing, \\{1\\}, \\{2\\}, \\{3\\}, \\{1,2\\}, \\{1,3\\}, \\{2,3\\}, \\{1,2,3\\}\\}$\n",
    "```\n",
    "\n",
    "A continuación, podemos ver el **conjunto potencia** en la **Figura 2**, representado mediante un diagrama de Hasse.\n",
    "\n",
    "![](../images/hasse.png)\n",
    "\n",
    "**Figura 2.** Diagrama de Hasse del conjunto potencia de ${1,2,3}$. Elaboración propia con base en: [_Power set_](https://en.wikipedia.org/wiki/Power_set).\n",
    "\n",
    "Puedes consultar más [aquí](https://en.wikipedia.org/wiki/Power_set)."
   ]
  },
  {
   "cell_type": "markdown",
   "id": "eace1d76",
   "metadata": {},
   "source": [
    "### 1.2.3. σ-álgebra $(S)$ o espacio de eventos\n",
    "\n",
    "Es una colección especial de subconjuntos de $\\Omega$ (es decir, una subcolección de $\\mathcal{P}(\\Omega)$) que cumple con tres propiedades clave:\n",
    "\n",
    "```{admonition} Propiedades del sistema de eventos $S$\n",
    ":class: tip\n",
    "\n",
    "1. **Contiene el evento vacío y el evento total**\n",
    "   - $\\varnothing \\in S$: representa el evento que nunca ocurre.\n",
    "   - $\\Omega \\in S$: representa el evento que siempre ocurre.\n",
    "\n",
    "2. **Cerrado bajo unión**\n",
    "   Si $\\alpha, \\beta \\in S$, entonces $\\alpha \\cup \\beta \\in S$.\n",
    "   Esto permite formar eventos como “ocurre $\\alpha$ o $\\beta$”.\n",
    "\n",
    "3. **Cerrado bajo complemento**\n",
    "   Si $\\alpha \\in S$, entonces $\\Omega - \\alpha \\in S$ (también denotado $\\alpha^c$).\n",
    "   Esto garantiza que también podamos trabajar con el evento “no ocurre $\\alpha$”.\n",
    "```"
   ]
  },
  {
   "cell_type": "markdown",
   "id": "727592e2",
   "metadata": {},
   "source": [
    "```{admonition} Ejemplo\n",
    "Si $\\Omega={1,2,3}$, una posible σ-álgebra es:\n",
    "\n",
    "$$S = \\{\\varnothing, \\{1,2,3\\}, \\{1\\}, \\{2,3\\}\\}$$\n",
    "\n",
    "Aquí, $\\{2,3\\}$ es el complemento de $\\{1\\}$, y viceversa.\n",
    "```\n",
    "\n",
    "Puedes consultar más [aquí](https://en.wikipedia.org/wiki/%CE%A3-algebra#Definition_and_properties)."
   ]
  },
  {
   "cell_type": "markdown",
   "id": "eda02edf",
   "metadata": {},
   "source": [
    "### 1.2.4. Función de probabilidad\n",
    "\n",
    "Hasta ahora hemos definido el espacio muestral $(\\Omega)$, que contiene todos los posibles resultados de un experimento, y una σ-álgebra $(S)$, que representa los subconjuntos medibles de $(\\Omega)$, es decir, los **eventos** a los que podemos asignar una probabilidad coherente.\n",
    "\n",
    "Una **función de probabilidad** es una regla matemática que asigna a cada evento medible un número entre $0$ y $1$, representando **cuán probable** es que ese evento ocurra. Formalmente:\n",
    "\n",
    "$$\\mathbb{P} : S \\rightarrow [0, 1]$$\n",
    "\n",
    "o\n",
    "\n",
    "$$0 \\leq \\mathbb{P}(\\text{evento}) \\leq 1$$\n",
    "\n",
    "Para que esta asignación tenga sentido y sea consistente con la intuición, la función $\\mathbb{P}$ debe cumplir tres condiciones fundamentales, conocidas como los **axiomas de Kolmogórov**:\n",
    "\n",
    "```{admonition} Definición formal\n",
    ":class: tip\n",
    "\n",
    "Una función $\\mathbb{P}$ es una **probabilidad** sobre el espacio $(\\Omega, S)$ si cumple:\n",
    "\n",
    "1. **No negatividad:** $\\mathbb{P}(A) \\geq 0$ para todo $A \\in S$\n",
    "\n",
    "2. **Normalización:** $\\mathbb{P}(\\Omega) = 1$\n",
    "\n",
    "3. **Aditividad numerable:** si tienes una **colección infinita de eventos** $(A_1, A_2, A_3, \\ldots)$ que son **mutuamente excluyentes** (es decir, no se superponen, o sea, $(A_i \\cap A_j = \\emptyset)$ si $( i \\ne j )$), entonces la probabilidad de que ocurra alguno de esos eventos (la unión de todos ellos) es igual a la **suma de las probabilidades individuales**.\n",
    "\n",
    "$$\n",
    "\\mathbb{P}\\left( \\bigcup_{i=1}^{\\infty} A_i \\right) = \\sum_{i=1}^{\\infty} \\mathbb{P}(A_i)\n",
    "$$\n",
    "\n",
    "Esto garantiza que la probabilidad se comporta de manera coherente incluso cuando se trata de **infinitas situaciones posibles**, no solo finitas. Es una característica esencial para que una función se considere una **medida de probabilidad** en _teoría de la medida_.\n",
    "```\n",
    "\n",
    "> 📌 _Nota:_ Estos tres principios consolidan la probabilidad como una rama formal de la matemática, basada en la _teoría de conjuntos_ y la _teoría de la medida_.\n",
    "\n",
    "```{admonition} Evento en teoría de probabilidad\n",
    ":class: tip\n",
    "\n",
    "En teoría de probabilidad, un **evento** es cualquier subconjunto del espacio muestral $\\Omega$ que **pertenece a la σ-álgebra** $(S)$.\n",
    "Solo a estos eventos se les puede asignar una probabilidad formalmente válida.\n",
    "Por eso también se les llama **eventos medibles**.\n",
    "```"
   ]
  },
  {
   "cell_type": "markdown",
   "id": "056a15ec",
   "metadata": {},
   "source": [
    "#### ¿Cómo se relacionan los conceptos que hemos visto?\n",
    "\n",
    "Para construir un modelo probabilístico sólido, necesitamos entender cómo se relacionan tres objetos fundamentales: el **espacio muestral**, el **conjunto potencia** y la **σ-álgebra**.\n",
    "\n",
    "- El **espacio muestral** $\\Omega$ es el punto de partida: contiene todos los posibles resultados de un experimento.\n",
    "\n",
    "- A partir de él, podemos formar el **conjunto potencia** $\\mathcal{P}(\\Omega)$, que incluye **todos los subconjuntos posibles** de $\\Omega$. En principio, cada uno de estos subconjuntos podría considerarse un evento.\n",
    "\n",
    "- Sin embargo, no todos los subconjuntos de $\\Omega$ pueden ser tratados como **eventos válidos** desde el punto de vista de la probabilidad. Para que un subconjunto sea un **evento medible**, debe pertenecer a una **σ-álgebra** $S \\subseteq \\mathcal{P}(\\Omega)$, la cual cumple ciertas propiedades de consistencia lógica (como estar cerrada bajo unión, complemento, etc.).\n",
    "\n",
    "Podemos resumir estas diferencias clave en la siguiente tabla:\n",
    "\n",
    "| Concepto                                | Qué representa                                | Contenido                                    |\n",
    "| --------------------------------------- | --------------------------------------------- | -------------------------------------------- |\n",
    "| Espacio muestral $(\\Omega)$             | Resultados posibles de un experimento         | Un conjunto base (como $\\{1,2,3\\})$          |\n",
    "| Conjunto potencia $\\mathcal{P}(\\Omega)$ | Todos los subconjuntos posibles de $(\\Omega)$ | Todos los eventos posibles, medibles o no    |\n",
    "| $\\sigma$-álgebra $(S)$                  | Subconjuntos **medibles** de $(\\Omega)$       | Subconjuntos que cumplen ciertas propiedades |\n",
    "\n",
    "---\n",
    "\n",
    "La siguiente **Figura 2** ilustra visualmente cómo se relacionan estos tres niveles de generalidad:\n",
    "\n",
    "![](../images/all.jpg)\n",
    "\n",
    "**Figura 2.** Relación entre espacio muestral, conjunto potencia y $\\sigma$-álgebra. Elaboración propia."
   ]
  },
  {
   "cell_type": "markdown",
   "id": "2614c616",
   "metadata": {},
   "source": [
    "### 1.2.5. Distribución de probabilidad\n",
    "\n",
    "Una vez definida la función de probabilidad $\\mathbb{P}$, podemos describir **cómo se reparte esa probabilidad** entre los posibles resultados de un experimento. A esto lo llamamos **distribución de probabilidad**.\n",
    "\n",
    "Dependiendo del tipo de espacio muestral, la distribución puede tomar dos formas principales:"
   ]
  },
  {
   "cell_type": "markdown",
   "id": "cb62c08f",
   "metadata": {},
   "source": [
    "#### 1.2.5.1. Distribuciones discretas\n",
    "\n",
    "![](../images/discrete-distr.png)\n",
    "\n",
    "Este tipo de distribución se utiliza cuando el _espacio muestral_ $\\Omega$ es **finito o numerable** (como lanzar un dado o una moneda).\n",
    "\n",
    "Asignan una probabilidad explícita a cada valor individual de la variable aleatoria:\n",
    "\n",
    "$$\n",
    "\\mathbb{P}(X = x_i) = p_i \\quad \\text{con } \\sum_i p_i = 1\n",
    "$$"
   ]
  },
  {
   "cell_type": "markdown",
   "id": "0539d597",
   "metadata": {},
   "source": [
    "```{admonition} Ejemplo\n",
    ":class: tip\n",
    "\n",
    "Supongamos que lanzamos un dado justo.\n",
    "Entonces $\\Omega = \\{1, 2, 3, 4, 5, 6\\}$ y usamos $\\mathcal{P}(\\Omega)$ como $\\sigma$-álgebra.\n",
    "\n",
    "Definimos la probabilidad como:\n",
    "\n",
    "$$\n",
    "\\mathbb{P}(\\{i\\}) = \\frac{1}{6} \\quad \\text{para } i = 1,\\dots,6\n",
    "$$\n",
    "\n",
    "Así, por ejemplo:\n",
    "- $\\mathbb{P}(\\{2,4,6\\}) = \\frac{3}{6} = 0.5$\n",
    "- $\\mathbb{P}(\\{1\\}) = \\frac{1}{6}$\n",
    "```"
   ]
  },
  {
   "cell_type": "markdown",
   "id": "b3a98908",
   "metadata": {},
   "source": [
    "#### 1.2.5.2. Distribuciones continuas\n",
    "\n",
    "![](../images/cont-distr.png)\n",
    "\n",
    "Se definen sobre espacios infinitos (por ejemplo, $\\mathbb{R}$).\n",
    "No asignan probabilidad a valores individuales, sino a intervalos, mediante una función de densidad $f(x)$:\n",
    "\n",
    "$$\n",
    "\\mathbb{P}(a \\leq X \\leq b) = \\int_a^b f(x)\\, dx\n",
    "$$"
   ]
  },
  {
   "cell_type": "markdown",
   "id": "575aa63f",
   "metadata": {},
   "source": [
    "```{admonition} Ejemplo\n",
    ":class: tip\n",
    "\n",
    "La distribución normal (o gaussiana) tiene densidad:\n",
    "\n",
    "$$\n",
    "f(x) = \\frac{1}{\\sqrt{2\\pi}} e^{-x^2/2}\n",
    "$$\n",
    "\n",
    "Y cumple:\n",
    "\n",
    "- $f(x) \\geq 0$ para todo $x$\n",
    "- $\\int_{-\\infty}^{\\infty} f(x) \\, dx = 1$\n",
    "\n",
    "💡 *Nota:* $f(x)$ no representa una probabilidad directa, sino una **densidad**:\n",
    "la probabilidad de que $X$ tome un valor exacto (como $X = 0$) es **0**. Solo intervalos tienen probabilidad positiva.\n",
    "```"
   ]
  },
  {
   "cell_type": "markdown",
   "id": "d11908c6",
   "metadata": {},
   "source": [
    "```{admonition} Nota\n",
    ":class: note\n",
    "\n",
    "Las _distribuciones de probabilidad_ resumen toda la información necesaria para calcular eventos como:\n",
    "$\\mathbb{P}(X \\in A)$, para cualquier conjunto medible $A \\in S$.\n",
    "\n",
    "- En el caso **continuo**, esto se hace mediante **integrales** sobre funciones de densidad.\n",
    "- En el caso **discreto**, mediante **sumas** de probabilidades individuales.\n",
    "```"
   ]
  },
  {
   "cell_type": "markdown",
   "id": "a1e43407",
   "metadata": {},
   "source": [
    "> 📌 _Nota:_ Puedes explorar gráficamente las diferentes distribuciones en [este recurso.](https://seeing-theory.brown.edu/probability-distributions/index.html#section1)"
   ]
  }
 ],
 "metadata": {
  "kernelspec": {
   "display_name": "mgp",
   "language": "python",
   "name": "python3"
  },
  "language_info": {
   "name": "python",
   "version": "3.13.2"
  }
 },
 "nbformat": 4,
 "nbformat_minor": 5
}
