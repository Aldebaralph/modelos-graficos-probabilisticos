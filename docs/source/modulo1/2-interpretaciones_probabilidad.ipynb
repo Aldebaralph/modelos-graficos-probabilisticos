{
 "cells": [
  {
   "cell_type": "markdown",
   "id": "6afefc4d",
   "metadata": {},
   "source": [
    "# Interpretaciones de la probabilidad"
   ]
  },
  {
   "cell_type": "markdown",
   "id": "28f19a70",
   "metadata": {},
   "source": [
    "## 1.1. ¿qué representa una probabilidad?\n",
    "\n",
    "Ya sabemos qué es una _función de probabilidad_ y cómo puede _distribuirse_ sobre un espacio muestral. Es importante notar que, en este punto, la _probabilidad_ es un objeto estrictamente matemático, cuya definición está separada del proceso mediante el cual se asignan probabilidades a los eventos.\n",
    "\n",
    "Pero surge una pregunta fundamental:\n",
    "\n",
    "> **¿Cómo se asignan o calculan esos valores de probabilidad en la práctica?**\n",
    "\n",
    "La respuesta depende de la **interpretación** que adoptemos sobre qué representa una probabilidad en un contexto real.\n",
    "\n",
    "A continuación, exploramos dos de las interpretaciones más influyentes y ampliamente utilizadas: la **frecuentista** y la **bayesiana**."
   ]
  },
  {
   "cell_type": "markdown",
   "id": "f13c3d47",
   "metadata": {},
   "source": [
    "## 1.2. Enfoque frecuentista: medir por repetición\n",
    "\n",
    "> Si repetimos un experimento muchas veces, el cociente entre el número de veces que ocurre un evento y el total de repeticiones se usa como una estimación de su probabilidad. Este valor es lo que se conoce como la _frecuencia relativa_.\n",
    "\n",
    "Este valor se llama _frecuencia relativa_ del evento:\n",
    "\n",
    "$$\\mathbb{P}(A) \\approx \\frac{\\#A}{n}$$\n",
    "\n",
    "A medida que el número de experimentos crece, esta frecuencia relativa tiende (bajo ciertas condiciones) a estabilizarse en un valor fijo. Este valor es interpretado como la **probabilidad** del evento desde el punto de vista _frecuentista_."
   ]
  },
  {
   "cell_type": "markdown",
   "id": "d2bbe4e6",
   "metadata": {},
   "source": [
    "```{admonition} Frecuencia relativa\n",
    ":class: attention\n",
    "\n",
    "La **frecuencia relativa** es el cociente entre el número de veces que ocurre un evento y el número total de repeticiones del experimento. En el enfoque **frecuentista**, esta proporción se interpreta como la probabilidad del evento, especialmente cuando el número de repeticiones es grande.\n",
    "```"
   ]
  },
  {
   "cell_type": "markdown",
   "id": "7f48512e",
   "metadata": {},
   "source": [
    "```{admonition} Ejemplo\n",
    ":class: tip\n",
    "\n",
    "![](../images/sesion2-freq.png)\n",
    "\n",
    "Si lanzamos una moneda 1000 veces y cae cara en 502 de ellas, entonces:\n",
    "\n",
    "$$\n",
    "\\mathbb{P}(\\text{cara}) \\approx \\frac{502}{1000} = 0.502\n",
    "$$\n",
    "\n",
    "Al aumentar el número de repeticiones, esta estimación se estabiliza. Podemos observar este fenómeno en la **Figura 3.**\n",
    "```"
   ]
  },
  {
   "cell_type": "markdown",
   "id": "1d7387a7",
   "metadata": {},
   "source": [
    "![Convergencia de la frecuencia relativa](../images/frecuencia_relativa_frecuentista.png)\n",
    "\n",
    "**Figura 3**. En el enfoque frecuentista, la probabilidad se interpreta como el valor al que tiende la _frecuencia relativa_ de un evento (por ejemplo, \"cara\" en una moneda) conforme se incrementa el número de repeticiones del experimento."
   ]
  },
  {
   "cell_type": "markdown",
   "id": "882c6f04",
   "metadata": {},
   "source": [
    "```{admonition} ¿Es sólo una fórmula?\n",
    ":class: caution\n",
    "\n",
    "Aunque el enfoque frecuentista utiliza la _frecuencia relativa_ para estimar la probabilidad, **no se reduce solamente a una fórmula**.\n",
    "\n",
    "Este enfoque implica una forma específica de entender qué es una probabilidad:\n",
    "\n",
    "1. La probabilidad de un evento se **define** como el **límite** de su _frecuencia relativa_ al repetir el experimento muchas veces.\n",
    "\n",
    "$$\\lim_{n \\to \\infty} \\frac{\\#A}{n} = \\mathbb{P}(A)$$\n",
    "\n",
    "2. Se asume que las probabilidades son **propiedades objetivas del mundo**, no creencias subjetivas.\n",
    "3. No se habla de probabilidades en eventos únicos o no repetibles, como “la probabilidad de que llueva mañana”.\n",
    "\n",
    "Por tanto, el frecuentismo es una postura **matemática y filosófica**, no solo un método de cálculo.\n",
    "```"
   ]
  },
  {
   "cell_type": "markdown",
   "id": "3d650877",
   "metadata": {},
   "source": [
    "```{admonition} Fundamento teórico\n",
    ":class: note\n",
    "\n",
    "El hecho de que la frecuencia relativa se estabilice a medida que aumenta el número de repeticiones está respaldado por un resultado matemático conocido como la [**ley de los grandes números**](https://es.wikipedia.org/wiki/Ley_de_los_grandes_n%C3%BAmeros).\n",
    "```"
   ]
  },
  {
   "cell_type": "markdown",
   "id": "d0f23940",
   "metadata": {},
   "source": [
    "## 1.3. Enfoque bayesiano: probabilidades como creencias\n",
    "\n",
    "_¿Qué significa decir que algo tiene cierta probabilidad de ocurrir desde la perspectiva bayesiana?_\n",
    "\n",
    "El enfoque bayesiano propone una forma muy intuitiva de verlo:\n",
    "\n",
    "> La probabilidad es una medida de qué tanto creemos que algo es cierto, basándonos en lo que sabemos hasta ahora.\n",
    "\n",
    "Así, para los bayesianos, la probabilidad no es una propiedad fija del mundo como “la gravedad”, sino más bien una forma de representar nuestra incertidumbre. Y lo más importante:\n",
    "\n",
    "> 💡 Esa creencia puede cambiar si recibimos nueva información."
   ]
  },
  {
   "cell_type": "markdown",
   "id": "cb9ab28a",
   "metadata": {},
   "source": [
    "```{admonition} Ejemplo\n",
    "Supón que alguien te dice:\n",
    "\n",
    "> _\"Hay probabilidad de lluvia mañana\"._\n",
    "\n",
    "Esa probabilidad puede ser diferente dependiento de si:\n",
    "\n",
    "* viste un pronóstico confiable,\n",
    "\n",
    "* el cielo está completamente despejado,\n",
    "\n",
    "* o escuchaste truenos a lo lejos.\n",
    "\n",
    "Cada nueva pista _cambia tu creencia_. Y esto es justamente lo que el enfoque bayesiano busca formalizar: **cómo actualizamos** nuestras creencias cuando obtenemos nueva evidencia.\n",
    "```"
   ]
  },
  {
   "cell_type": "markdown",
   "id": "6fad5537",
   "metadata": {},
   "source": [
    "> ¿Cómo se hace esto?\n",
    "\n",
    "La herramienta central para actualizar nuestras creencias es la **probabilidad condicional**:\n",
    "\n",
    "$$\n",
    "\\mathbb{P}(X \\mid Y) = \\frac{\\mathbb{P}(X, Y)}{\\mathbb{P}(Y)}\n",
    "$$\n",
    "\n",
    "Esta fórmula expresa la probabilidad de que ocurra un evento $(X)$, dado que se ha observado otro evento $(Y)$. La **probabilidad condicional** es el primer paso hacia un modelo bayesiano completo, ya que introduce la noción de **información que modifica creencias**."
   ]
  },
  {
   "cell_type": "markdown",
   "id": "5fa886e0",
   "metadata": {},
   "source": [
    "```{admonition} Probabilidad condicional\n",
    ":class: tip\n",
    "\n",
    "La probabilidad condicional nos dice cuál es la probabilidad de que ocurra un evento $(A)$, dado que ya sabemos que ha ocurrido otro evento $(B)$.\n",
    "\n",
    "![](../images/sesion2-probcondi.png)\n",
    "\n",
    "Por ejemplo, la probabilidad de lluvia puede cambiar si sabemos que el cielo está despejado. Esta forma de actualizar creencias es esencial en el enfoque **bayesiano**.\n",
    "```"
   ]
  },
  {
   "cell_type": "markdown",
   "id": "2660f885",
   "metadata": {},
   "source": [
    "Aquí es donde entra en escena el famoso **Teorema de Bayes**.\n",
    "\n",
    "Dado que *la probabilidad conjunta es simétrica*, esto es $p(X, Y) = p(Y, X)$, de la definición de probabilidad condicional obtenemos que:\n",
    "\n",
    "$$\n",
    "p(Y|X) p(X) = p(X, Y) = p(Y, X) = p(X|Y) p(Y).\n",
    "$$\n",
    "\n",
    "De lo anterior, usando las igualdades de los extremos, obtenemos **la regla de Bayes**:\n",
    "\n",
    "$$\n",
    "p(Y | X) = \\frac{p(X | Y) p(Y)}{p(X)}.\n",
    "$$\n",
    "\n",
    "- La regla de Bayes nos dice cómo *invertir* probabilidades condicionales, es decir, nos permite encontrar $p(Y|X)$ a partir de $p(X|Y)$.\n",
    "\n",
    "- En la práctica, es común calcular $p(X)$ usando la regla de la probabilidad total:\n",
    "\n",
    "  $$\n",
    "  p(Y | X) = \\frac{p(X | Y) p(Y)}{p(X)} = \\frac{p(X | Y) p(Y)}{\\sum_{Y} p(X|Y)p(Y)} .\n",
    "  $$\n",
    "\n",
    "**Ejemplo.** Se tira una moneda 5 veces. Queremos analizar los eventos \n",
    "- F: el primer tiro es cara\n",
    "- T: todos los 5 tiros son cara.\n",
    "\n",
    "<details>\n",
    "  <summary>Descubrir</summary>\n",
    "\n",
    "En particular $p(T | F)$.\n",
    "\n",
    "Es fácil observar que $p(F | T) = 1$. También, sabemos que $p(T) = \\left(\\frac{1}{2}\\right)^5 = \\frac{1}{32}$. Finalmente, $p(F) = \\frac{1}{2}$.\n",
    "\n",
    "Finalmente, aplicando la regla de Bayes:\n",
    "\n",
    "$$\n",
    "p(T | F) = \\frac{p(F | T) p(T)}{p(F)} = \\frac{1 \\cdot 1/32}{1/2} = \\frac{1}{16}\n",
    "$$\n",
    "</details>"
   ]
  },
  {
   "cell_type": "markdown",
   "id": "6101fa5e",
   "metadata": {},
   "source": [
    "```{admonition} Teorema de Bayes: actualización de creencias\n",
    ":class: important\n",
    "\n",
    "El Teorema de Bayes permite **actualizar una creencia previa** cuando se incorpora nueva información. Se compone de tres elementos:\n",
    "\n",
    "- **Prior**: lo que creíamos antes de observar datos $(P(A))$\n",
    "- **Likelihood** (verosimilitud): qué tan probable es observar los datos si la hipótesis fuera cierta $(P(B \\mid A))$\n",
    "- **Posterior**: lo que creemos **después** de observar los datos $(P(A \\mid B))$\n",
    "\n",
    "![](../images/sesion2-probcondi2.png)\n",
    "\n",
    "Este resultado es matemáticamente demostrable, y es la base de toda la estadística bayesiana.\n",
    "```"
   ]
  },
  {
   "cell_type": "markdown",
   "id": "02106c10",
   "metadata": {},
   "source": [
    "![](../images/bayes_prior_posterior.png)\n",
    "\n",
    "**Figura 4.** En el enfoque bayesiano, una creencia inicial (distribución prior, línea azul) se combina con la evidencia aportada por los datos (verosimilitud, línea roja) para producir una creencia actualizada (posterior, línea verde). Esto se realiza aplicando el Teorema de Bayes."
   ]
  },
  {
   "cell_type": "markdown",
   "id": "9286d261",
   "metadata": {},
   "source": [
    "Si ver una explicación rápida solamente de la fórmula, explicada con conjuntos, aquí te comparto el siguiente video:"
   ]
  },
  {
   "cell_type": "markdown",
   "id": "0ddf04b0",
   "metadata": {},
   "source": [
    "<iframe width=\"650\" height=\"315\"\n",
    "    src=\"https://www.youtube.com/embed/XIbL0foEckA\"\n",
    "    title=\"YouTube video player\"\n",
    "    frameborder=\"0\"\n",
    "    allow=\"accelerometer; autoplay; clipboard-write; encrypted-media; gyroscope; picture-in-picture\"\n",
    "    allowfullscreen>\n",
    "</iframe>"
   ]
  },
  {
   "cell_type": "markdown",
   "id": "f8d0af7a",
   "metadata": {},
   "source": [
    "Si quieres ver una explicación más profunda sobre la intuición de la fórmula de Bayes, el siguiente video puede ser útil:\n",
    "\n",
    "<iframe width=\"650\" height=\"315\"\n",
    "src=\"https://www.youtube.com/embed/HZGCoVF3YvM?si=OJOq8AKImbboCCce\" \n",
    "title=\"YouTube video player\" \n",
    "frameborder=\"0\" \n",
    "allow=\"accelerometer; autoplay; clipboard-write; encrypted-media; gyroscope; picture-in-picture; web-share\" \n",
    "referrerpolicy=\"strict-origin-when-cross-origin\" allowfullscreen></iframe>"
   ]
  },
  {
   "cell_type": "markdown",
   "id": "425fc0d6",
   "metadata": {},
   "source": [
    "![](../images/memes/interpretations-joke.png)"
   ]
  }
 ],
 "metadata": {
  "kernelspec": {
   "display_name": "mgp",
   "language": "python",
   "name": "python3"
  },
  "language_info": {
   "name": "python",
   "version": "3.13.2"
  }
 },
 "nbformat": 4,
 "nbformat_minor": 5
}
