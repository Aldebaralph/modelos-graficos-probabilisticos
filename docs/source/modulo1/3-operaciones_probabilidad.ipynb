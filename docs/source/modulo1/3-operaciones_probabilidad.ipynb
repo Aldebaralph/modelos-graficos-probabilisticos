{
 "cells": [
  {
   "cell_type": "markdown",
   "id": "8d9fbf9f",
   "metadata": {},
   "source": [
    "# Operaciones con probabilidades"
   ]
  },
  {
   "cell_type": "markdown",
   "id": "eff3ed56",
   "metadata": {},
   "source": [
    "Una vez que entendemos qué representa una probabilidad y cómo se puede interpretar, el siguiente paso natural es analizar **cómo se combinan o se relacionan distintos eventos entre sí**.\n",
    "\n",
    "Esto nos lleva a estudiar conceptos fundamentales como la **probabilidad condicional, conjunta y marginal**."
   ]
  },
  {
   "cell_type": "markdown",
   "id": "5c2a4611",
   "metadata": {},
   "source": [
    "## 1.1. Probabilidad conjunta, condicional y marginal\n",
    "\n",
    "Hasta ahora hemos aprendido a:\n",
    "\n",
    "- Definir un **espacio muestral** $(\\Omega)$, que contiene todos los posibles resultados de un experimento.\n",
    "- Considerar subconjuntos de $(\\Omega)$ como **eventos**, organizados en una estructura llamada $(\\sigma)$-álgebra.\n",
    "- Asignar valores de **probabilidad** a esos eventos mediante funciones que cumplen ciertos principios (como los axiomas de Kolmogórov).\n",
    "- Interpretar esos valores bajo los enfoques **frecuentista** y **bayesiano**.\n",
    "\n",
    "Este marco nos permite describir eventos **individuales**, pero también **eventos compuestos**: por ejemplo, cuando dos condiciones ocurren a la vez, o una depende de otra."
   ]
  },
  {
   "cell_type": "markdown",
   "id": "fe8799e9",
   "metadata": {},
   "source": [
    "##### ¿Qué nos permite considerar eventos compuestos?\n",
    "\n",
    "La clave está en la $(\\sigma)$-álgebra:\n",
    "\n",
    "> Al definir el espacio de eventos como una $(\\sigma)$-álgebra, garantizamos que podemos operar con ellos de forma lógica y estructurada:\n",
    ">\n",
    "> - unir eventos $(A \\cup B)$\n",
    "> - tomar complementos $(A^c)$\n",
    "> - y también **intersecciones** como $(A \\cap B)$, que representan **eventos conjuntos**.\n",
    "\n",
    "Esto no solo nos permite construir descripciones más ricas de situaciones, sino que nos habilita a hacer **operaciones de probabilidad** sobre múltiples eventos.\n",
    "\n",
    "A continuación, exploraremos tres operaciones fundamentales:"
   ]
  },
  {
   "cell_type": "markdown",
   "id": "aa3b2e96",
   "metadata": {},
   "source": [
    "### 1.1.1. Probabilidad conjunta\n",
    "\n",
    "La **probabilidad conjunta** mide la probabilidad de que **dos eventos ocurran al mismo tiempo**.\n",
    "\n",
    "Se denota como:\n",
    "\n",
    "$$\n",
    "\\mathbb{P}(A \\cap B)\n",
    "$$\n",
    "\n",
    "o, si el contexto lo permite, simplemente $\\mathbb{P}(A, B)$.\n",
    "\n",
    "```{admonition} Ejemplo\n",
    ":class: tip\n",
    "\n",
    "Si $(A = \\{\\text{llover}\\})$ y $(B = \\{\\text{llevar paraguas}\\})$,\n",
    "entonces $(\\mathbb{P}(A \\cap B))$ representa la probabilidad de que **llueva y lleves paraguas** el mismo día.\n",
    "```"
   ]
  },
  {
   "cell_type": "markdown",
   "id": "501ce8c3",
   "metadata": {},
   "source": [
    "### 1.1.2. Probabilidad condicional\n",
    "\n",
    "La **probabilidad condicional** responde a la pregunta:\n",
    "\n",
    "> ¿Cuál es la probabilidad de que ocurra \\(A\\) si ya sabemos que ocurrió \\(B\\)?\n",
    "\n",
    "Se define como:\n",
    "\n",
    "$$\n",
    "\\mathbb{P}(A \\mid B) = \\frac{\\mathbb{P}(A \\cap B)}{\\mathbb{P}(B)} \\quad \\text{si } \\mathbb{P}(B) > 0\n",
    "$$\n",
    "\n",
    "```{admonition} Ejemplo\n",
    ":class: tip\n",
    "\n",
    "Si $(\\mathbb{P}(\\text{llover y llevar paraguas}) = 0.3 )$\n",
    "y $(\\mathbb{P}(\\text{llevar paraguas}) = 0.5)$,\n",
    "entonces:\n",
    "\n",
    "$$\n",
    "\\mathbb{P}(\\text{llover} \\mid \\text{llevar paraguas}) = \\frac{0.3}{0.5} = 0.6\n",
    "$$\n",
    "```"
   ]
  },
  {
   "cell_type": "markdown",
   "id": "37b66e0c",
   "metadata": {},
   "source": [
    "### 1.1.3. Probabilidad marginal\n",
    "\n",
    "La **probabilidad marginal** es la probabilidad de un evento **sin condicionar** en ningún otro.\n",
    "\n",
    "Cuando trabajamos con variables múltiples, podemos obtener la marginal de una variable “resumiendo” la información sobre las otras.\n",
    "\n",
    "$$\n",
    "\\mathbb{P}(A) = \\sum_{b} \\mathbb{P}(A, B=b)\n",
    "$$\n",
    "\n",
    "En el caso continuo:\n",
    "\n",
    "$$\n",
    "\\mathbb{P}(A) = \\int \\mathbb{P}(A, B)\\, dB\n",
    "$$\n",
    "\n",
    "```{admonition} Nota\n",
    ":class: note\n",
    "\n",
    "La marginal es útil cuando queremos concentrarnos en un solo evento o variable, ignorando otras que también están en juego.\n",
    "```"
   ]
  },
  {
   "cell_type": "markdown",
   "id": "2cd15bf0",
   "metadata": {},
   "source": [
    "## 1.2. Reglas derivadas de la probabilidad\n",
    "\n",
    "Una vez que hemos definido formalmente la **probabilidad condicional**, podemos deducir tres reglas fundamentales que se utilizan constantemente en modelado probabilístico.\n",
    "\n",
    "Estas reglas no son nuevos axiomas, sino **consecuencias directas** de combinar:\n",
    "\n",
    "- Los **axiomas de Kolmogórov**, especialmente:\n",
    "\n",
    "  - La aditividad: $P(A \\cup B) = P(A) + P(B)$ si $A \\cap B = \\varnothing$\n",
    "\n",
    "- La **definición de probabilidad condicional**\n",
    "\n",
    "Veamos cada una:\n",
    "\n",
    "##### 📌 Regla de marginalización\n",
    "\n",
    "Se basa en la **aditividad**: si $B$ puede tomar varios valores disjuntos, entonces:\n",
    "\n",
    "$$\n",
    "P(A) = \\sum_B P(A, B)\n",
    "$$\n",
    "\n",
    "Esta regla permite **reducir** una probabilidad conjunta a una **marginal**.\n",
    "\n",
    "---\n",
    "\n",
    "##### 📌 Regla de la cadena\n",
    "\n",
    "Viene directamente de _reordenar_ la definición de probabilidad condicional:\n",
    "\n",
    "$$\n",
    "P(A \\mid B) = \\frac{P(A, B)}{P(B)} \\quad \\Rightarrow \\quad P(A, B) = P(A \\mid B) \\cdot P(B)\n",
    "$$\n",
    "\n",
    "Esta relación es fundamental en estructuras secuenciales como los modelos gráficos.\n",
    "\n",
    "También puede escribirse simétricamente:\n",
    "\n",
    "$$\n",
    "P(B, A) = P(B \\mid A) \\cdot P(A)\n",
    "$$\n",
    "\n",
    "---\n",
    "\n",
    "##### 📌 Regla de la probabilidad total\n",
    "\n",
    "Surge al aplicar **marginalización** sobre la **regla de la cadena**:\n",
    "\n",
    "$$\n",
    "P(A) = \\sum_B P(A, B) = \\sum_B P(A \\mid B) \\cdot P(B)\n",
    "$$\n",
    "\n",
    "Es decir, descomponemos la probabilidad de $A$ en función de sus componentes condicionales respecto a $B$."
   ]
  },
  {
   "cell_type": "markdown",
   "id": "88eedb58",
   "metadata": {},
   "source": [
    "```{admonition} Nota técnica\n",
    ":class: tip\n",
    "\n",
    "En el contexto de probabilidad, usamos la notación $P(A, B)$ como abreviatura de $P(A \\cap B)$ (la probabilidad de que ocurran ambos eventos).\n",
    "```\n",
    "\n",
    "> Además de ser útil para calcular probabilidades marginales,  \n",
    "> la **regla de la probabilidad total** también puede interpretarse como una **constante de normalización**:\n",
    ">\n",
    "> garantiza que la distribución condicional resultante \\( P(A \\mid B) \\) sea **válida**,  \n",
    "> es decir, que **sume 1** al considerar todos los posibles valores de \\(A\\).\n",
    "\n",
    "```{math}\n",
    "\\sum_A P(A \\mid B) = 1\n",
    "```"
   ]
  },
  {
   "cell_type": "markdown",
   "id": "0d86f301",
   "metadata": {},
   "source": [
    "![](../images/reglas_probabilidad_diagrama.png)\n",
    "\n",
    "**Figura 5.** La definición de probabilidad condicional permite derivar tres reglas fundamentales: la **regla de la cadena**, la **regla de marginalización** y la **regla de la probabilidad total**. Estas relaciones son la base del razonamiento probabilístico en contextos donde intervienen múltiples eventos."
   ]
  }
 ],
 "metadata": {
  "language_info": {
   "name": "python"
  }
 },
 "nbformat": 4,
 "nbformat_minor": 5
}
