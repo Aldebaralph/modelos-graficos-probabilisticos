{
 "cells": [
  {
   "cell_type": "markdown",
   "id": "10ec2f09",
   "metadata": {},
   "source": [
    "# Sesión 2"
   ]
  },
  {
   "cell_type": "markdown",
   "id": "3a81e168",
   "metadata": {},
   "source": [
    "##  _Fundamentos de la Teoría de Probabilidad_\n",
    "\n",
    "**Notebook**: [Fundamentos de la probabilidad](1-fundamentos_probabilidad.ipynb)\n",
    "\n",
    "\n",
    "### Secciones:\n",
    "\n",
    "1. Introducción a la probabilidad  \n",
    "2. Enfoques determinista vs estocástico  \n",
    "3. Estructura de espacio de probabilidad:  \n",
    "   - Espacio muestral  \n",
    "   - Conjunto potencia  \n",
    "   - σ-álgebra  \n",
    "   - Función de probabilidad (Kolmogórov)  \n",
    "4. Distribuciones de probabilidad:  \n",
    "   - Discretas  \n",
    "   - Continuas  \n",
    "\n",
    "---\n",
    "\n",
    "## _Interpretaciones frecuentista y bayesiana_\n",
    "\n",
    "**Notebook**: [Interpretaciones frecuentista y bayesiana](2-interpretaciones_probabilidad.ipynb)\n",
    "\n",
    "### Secciones:\n",
    "\n",
    "1. ¿Qué representa una probabilidad?  \n",
    "2. Interpretación frecuentista  \n",
    "   - Frecuencia relativa  \n",
    "   - Ley de los grandes números  \n",
    "3. Interpretación bayesiana  \n",
    "   - Creencias subjetivas  \n",
    "   - Actualización con el Teorema de Bayes  \n",
    "   - Parámetros como variables aleatorios  \n",
    "\n",
    "---\n",
    "\n",
    "## _Operaciones con probabilidades_\n",
    "\n",
    "**Notebook**: [Operaciones con probabilidades](3-operaciones_probabilidad.ipynb)\n",
    "\n",
    "### Secciones:\n",
    "\n",
    "1. Probabilidad conjunta  \n",
    "2. Probabilidad condicional  \n",
    "3. Probabilidad marginal  \n",
    "4. Reglas derivadas:  \n",
    "   - Regla de marginalización  \n",
    "   - Regla de la cadena  \n",
    "   - Regla de la probabilidad total  \n",
    "\n",
    "---\n",
    "\n",
    "## _Independencia y condicionalidad_\n",
    "\n",
    "**Notebook**: [Independencia y condicionalidad](4-independencia.ipynb)\n",
    "\n",
    "### Secciones:\n",
    "\n",
    "1. Independencia entre eventos  \n",
    "2. Independencia entre variables  \n",
    "3. Independencia condicional  \n",
    "4. Notación y ejemplos aplicados  "
   ]
  }
 ],
 "metadata": {
  "kernelspec": {
   "display_name": "mgp",
   "language": "python",
   "name": "python3"
  },
  "language_info": {
   "name": "python",
   "version": "3.13.2"
  }
 },
 "nbformat": 4,
 "nbformat_minor": 5
}
