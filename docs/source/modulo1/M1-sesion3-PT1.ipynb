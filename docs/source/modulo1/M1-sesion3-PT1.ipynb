{
  "cells": [
    {
      "cell_type": "markdown",
      "id": "0e7d316f",
      "metadata": {},
      "source": [
        "# Sesión 3 A"
      ]
    },
    {
      "cell_type": "markdown",
      "id": "b21d15f3",
      "metadata": {},
      "source": [
        "## 1. Repaso de probabilidad (parte 2A)"
      ]
    },
    {
      "cell_type": "markdown",
      "id": "5702d178",
      "metadata": {},
      "source": [
        "### 1.1. Variables aleatorias"
      ]
    },
    {
      "cell_type": "markdown",
      "id": "0dcf3466",
      "metadata": {},
      "source": [
        "Las variables aleatorias son funciones que asignan un valor numérico a cada resultado de un experimento aleatorio. Se clasifican en dos tipos:\n",
        "\n",
        "* **Variables aleatorias discretas**\n",
        "* **Variables aleatorias continuas**"
      ]
    },
    {
      "cell_type": "markdown",
      "id": "cb393013",
      "metadata": {},
      "source": [
        "#### Variables aleatorias discretas\n",
        "\n",
        "```{admonition} Definición\n",
        ":class: note\n",
        "\n",
        "Sea $\\Omega$ un espacio muestral discreto, es decir, un conjunto finito o numerable de posibles resultados de un experimento aleatorio.\n",
        "\n",
        "Una variable aleatoria discreta es una función que asigna un número real a cada elemento de $\\Omega$:\n",
        "\n",
        "$$\n",
        "X: \\Omega \\to \\mathbb{R}\n",
        "$$\n",
        "\n",
        "Es decir, toma un resultado del experimento aleatorio y lo traduce a un número real que nos interesa analizar o interpretar.\n",
        "```"
      ]
    },
    {
      "cell_type": "markdown",
      "id": "fa5244ca",
      "metadata": {},
      "source": [
        "##### ¿por qué usamos variables aleatorias?\n",
        "\n",
        "Cuando trabajamos con variables aleatorias, no nos enfocamos directamente en los resultados del experimento (como obtener un 3 y un 5 al lanzar dos datos), sino en _alguna cantidad derivada_ de esos resultados: una suma, una ganacia, un conteo, etc.\n",
        "\n",
        "Esto nos permite:\n",
        "\n",
        "- Modelar situaciones de forma numérica.\n",
        "- Usar herramientas matemáticas para analizar fenómenos aleatorios.\n",
        "- Calcular cantidades como la probabilidad de éxito, el valor esperado o la variabilidad de un resultado."
      ]
    },
    {
      "cell_type": "markdown",
      "id": "89cfc3de",
      "metadata": {},
      "source": [
        "**Ejemplo**\n",
        "\n",
        "Supongamos que lanzamos dos dados. El espacio mestral es:\n",
        "\n",
        "$$\n",
        "\\Omega = \\{(i,j): i,j=1, 2, \\dots, 6\\}.\n",
        "$$\n",
        "\n",
        "Este conjunto tiene 36 posibles pares ordenados, y si los dados son justos, cada uno tiene la misma probabilidad:\n",
        "\n",
        "$$p(i, j) = \\frac{1}{36}$$\n",
        "\n",
        "Ahora, supongamos el siguiente juego:\n",
        "\n",
        "- Ganas $500 si la suma de los datos es 7.\n",
        "- Pierdes $100 en cualquier otro caso.\n",
        "\n",
        "Podemos **definir una variable aleatoria discreta $X(i, j)$** que represente la ganacia del juego:\n",
        "\n",
        "$$\n",
        "X(i,j) = \\left\\lbrace\n",
        "\\begin{array}{lc}\n",
        "500  &  \\text{si } i+j=7 \\\\\n",
        "-100 &  \\text{si } i+j\\neq7\n",
        "\\end{array}\n",
        "\\right .\n",
        "$$"
      ]
    },
    {
      "cell_type": "markdown",
      "id": "fda740b0",
      "metadata": {},
      "source": [
        "```{admonition} Interpretación\n",
        ":class: tip\n",
        "\n",
        "Esta **variable aleatoria** convierte los resultados del experimento (el lanzamiento de los dados) en una cantidad que nos interesa: la ganancia o pérdida en el juego.\n",
        "\n",
        "Así, en lugar de analizar directamente los pares $(i, j)$, analizamos el _comportamiento_ de $X$, que ya resume lo que queremos estudiar.\n",
        "```"
      ]
    },
    {
      "cell_type": "markdown",
      "id": "111c27b1",
      "metadata": {},
      "source": [
        "#### 1.1.1. Función de _masa_ de probabilidad (PMF)\n",
        "\n",
        "Una vez que tenemos una variable aleatoria discreta $X$, queremos saber con qué probabilidad toma cada uno de sus posibles valores.\n",
        "\n",
        "Para eso usamos la función de masa de probabilidad o PMF _(Probability Mass Function)_.\n",
        "\n",
        "##### ¿qué hace la PMF?\n",
        "\n",
        "La PMF asigna una probabilidad a cada valor posible que puede tomar la variable aleatoria.\n",
        "\n",
        "En otras palabras:\n",
        "\n",
        "> La PMF mapea cada valor real que puede tomar $X$ al número entre 0 y 1 que representa su **probabilidad**.\n",
        "\n",
        "![](../images/PMF.png)"
      ]
    },
    {
      "cell_type": "markdown",
      "id": "864197c4",
      "metadata": {},
      "source": [
        "Consideramos el tiro de un solo dado. El dado está cargado, de modo que solo salen los valores $1$, $5$ y $6$, y de modo que la función de probabilidad sea:\n",
        "\n",
        "\n",
        "$$\n",
        "f(X) = \\left\\{\\begin{array}{cc }0.3 & X=1 \\\\ 0.3 & X=5 \\\\ 0.4 & X=6\\end{array}\\right.\n",
        "$$"
      ]
    },
    {
      "cell_type": "markdown",
      "id": "2f580e93",
      "metadata": {},
      "source": [
        "```{thebe-button}\n",
        "```"
      ]
    },
    {
      "cell_type": "code",
      "execution_count": null,
      "id": "a2b8f6f5",
      "metadata": {},
      "outputs": [],
      "source": [
        "#from scipy import stats\n",
        "#from matplotlib import pyplot as plt\n",
        "#import numpy as np"
      ]
    },
    {
      "cell_type": "code",
      "execution_count": null,
      "id": "cae640ba",
      "metadata": {},
      "outputs": [],
      "source": [
        "# definir listas de valores de X y probabilidades"
      ]
    },
    {
      "cell_type": "code",
      "execution_count": null,
      "id": "49ece53d",
      "metadata": {},
      "outputs": [],
      "source": [
        "# se define una variable aleatoria discreta"
      ]
    },
    {
      "cell_type": "code",
      "execution_count": null,
      "id": "bbccc348",
      "metadata": {},
      "outputs": [],
      "source": [
        "# Grafico: PMF"
      ]
    },
    {
      "cell_type": "markdown",
      "id": "95e00461",
      "metadata": {},
      "source": [
        "#### 1.1.2. Función de distribución acumulada (CDF)\n",
        "\n",
        "La función de distribución acumulada —conocida como CDF _(Cumulative Distribution Function)_— es una forma alternativa de describir una variable aleatoria discreta $X$.\n",
        "\n",
        "##### ¿qué hace la CDF?\n",
        "\n",
        "La CDF asigna a cada valor $x$ la probabilidad de que la variable aleatoria $X$ tome un valor **menor o igual** a $x$.\n",
        "\n",
        "\n",
        "![](../images/CMF.png)"
      ]
    },
    {
      "cell_type": "markdown",
      "id": "bc33a724",
      "metadata": {},
      "source": [
        "```{admonition} Propiedades de la CDF\n",
        ":class: note\n",
        "\n",
        "- $F(x)$ es **monótona no decreciente**: nunca baja.\n",
        "\n",
        "- $0 \\leq F(x) \\leq 1$.\n",
        "\n",
        "- $\\lim_{x \\to \\infty} F(x) = 1$.\n",
        "\n",
        "- $\\lim_{x \\to -\\infty} F(x) = 0$.\n",
        "```"
      ]
    },
    {
      "cell_type": "markdown",
      "id": "56ad51e0",
      "metadata": {},
      "source": [
        "Como tabla, siguiendo el ejemplo de los dados:\n",
        "\n",
        "$$\n",
        "F(X) = p(X \\leq x).\n",
        "$$\n",
        "\n",
        "| x      | 1   | 2   | 3   | 4   | 5   | 6   |\n",
        "| ------ | --- | --- | --- | --- | --- | --- |\n",
        "| p(X=x) | 0.3 | 0   | 0   | 0   | 0.3 | 0.4 |\n",
        "| F(x)   | 0.3 | 0.3 | 0.3 | 0.3 | 0.6 | 1   |"
      ]
    },
    {
      "cell_type": "code",
      "execution_count": null,
      "id": "fad49036",
      "metadata": {},
      "outputs": [],
      "source": [
        "# Grafico: CDF"
      ]
    },
    {
      "cell_type": "markdown",
      "id": "92d9d7d3",
      "metadata": {},
      "source": [
        "```{admonition} OJO\n",
        ":class: warning\n",
        "\n",
        "Es fácil notar que:\n",
        "\n",
        "- $(0 \\leq p(a) \\leq 1)$\n",
        "- $(x)$ puede ser cualquier número. Si $(x)$ es un valor que $(X)$ nunca toma, entonces $(p(x) = 0)$.\n",
        "\n",
        "🔸 La **primera afirmación aplica tanto para la PMF como para la CDF**:\n",
        "Ambas funciones siempre devuelven valores entre 0 y 1.\n",
        "\n",
        "🔸 La **segunda afirmación aplica solo para la PMF**:\n",
        "La CDF $(F(x) = \\mathbb{P}(X \\leq x))$ puede ser mayor que 0 incluso si $(X)$ nunca toma el valor exacto $(x)$, porque **acumula** las probabilidades de los valores menores o iguales a $(x)$.\n",
        "```"
      ]
    },
    {
      "cell_type": "markdown",
      "id": "9320d6f7",
      "metadata": {},
      "source": [
        "Recapitulando, tenemos:\n",
        "\n",
        "| **Concepto**            | **Palabra clave**           | **¿Qué representa?**                              |\n",
        "| ----------------------- | --------------------------- | ------------------------------------------------- |\n",
        "| Espacio muestral        | “Todo lo posible y medible” | Todas las salidas del experimento                 |\n",
        "| Función de probabilidad | “Peso”                      | Cuán probable es cada resultado                   |\n",
        "| Variable aleatoria      | “Traducción”                | Asocia un número a cada resultado del experimento |\n",
        "| Distribución            | “Comportamiento”            | Cómo se reparten los valores que genera $(X)$     |"
      ]
    },
    {
      "cell_type": "markdown",
      "id": "d9784055",
      "metadata": {},
      "source": [
        "### 1.2. Distribuciones de probabilidad discretas"
      ]
    },
    {
      "cell_type": "markdown",
      "id": "acfd3264",
      "metadata": {},
      "source": [
        "#### 1.2.1. Distribución de Bernoulli\n",
        "\n",
        "**Qué modela:**\n",
        "\n",
        "Un solo experimento con dos posibles resultados: éxito (1) o fracaso (0).\n",
        "\n",
        "**Ejemplo:**\n",
        "\n",
        "Tirar una moneda una vez:\n",
        "\n",
        "- Cara = 1 (éxito)\n",
        "- Cruz = 0 (fracaso)\n",
        "\n",
        "**Parámetros:**\n",
        "$\\theta \\in [0, 1]$ es la probabilidad de éxito.\n",
        "\n",
        "Se denota como:\n",
        "\n",
        "$$\n",
        "X \\sim \\text{Bernoulli}(\\theta)\n",
        "$$"
      ]
    },
    {
      "cell_type": "code",
      "execution_count": null,
      "id": "f0ceb3ad",
      "metadata": {},
      "outputs": [],
      "source": [
        "# Variable aleatoria de Bernoulli"
      ]
    },
    {
      "cell_type": "code",
      "execution_count": null,
      "id": "d0361fe6",
      "metadata": {},
      "outputs": [],
      "source": [
        "# Grafico: PMF"
      ]
    },
    {
      "cell_type": "code",
      "execution_count": null,
      "id": "67e93b73",
      "metadata": {},
      "outputs": [],
      "source": [
        "# Grafico: CDF"
      ]
    },
    {
      "cell_type": "markdown",
      "id": "bf163324",
      "metadata": {},
      "source": [
        "#### 1.2.2. Distribución Binomial\n",
        "\n",
        "**Qué modela:**\n",
        "El número total de éxitos en $n$ experimentos independientes de Bernoulli.\n",
        "\n",
        "**Ejemplo:**\n",
        "Tirar una moneda $n$ veces y contar cuántas veces sale cara.\n",
        "\n",
        "**Parámetros:**\n",
        "\n",
        "- $n$: número de ensayos\n",
        "- $\\theta$: probabilidad de éxito en cada ensayo\n",
        "\n",
        "Se denota como:\n",
        "\n",
        "$$\n",
        "X \\sim \\text{Binomial}(n, \\theta)\n",
        "$$"
      ]
    },
    {
      "cell_type": "markdown",
      "id": "d1213271",
      "metadata": {},
      "source": [
        "La pmf de una distribución binomial es:\n",
        "\n",
        "$$\n",
        "p(a) = \\left(\\begin{array}{c}n \\\\ a \\end{array}\\right) \\theta^a (1 - \\theta)^{n-a}\n",
        "$$"
      ]
    },
    {
      "cell_type": "markdown",
      "id": "13b6e39c",
      "metadata": {},
      "source": [
        "Si hacemos $n=1$, $\\text{Binomial}(1, \\theta) = \\text{Bernoulli}(\\theta)$."
      ]
    },
    {
      "cell_type": "code",
      "execution_count": null,
      "id": "9aaef2ef",
      "metadata": {},
      "outputs": [],
      "source": [
        "# Variable aleatoria binomial"
      ]
    },
    {
      "cell_type": "code",
      "execution_count": null,
      "id": "009f8014",
      "metadata": {},
      "outputs": [],
      "source": [
        "# Grafico: PMF\n"
      ]
    },
    {
      "cell_type": "code",
      "execution_count": null,
      "id": "e3b7d4a4",
      "metadata": {},
      "outputs": [],
      "source": [
        "# Grafico: CDF\n"
      ]
    },
    {
      "cell_type": "markdown",
      "id": "c73d8265",
      "metadata": {},
      "source": [
        "#### 1.2.3 Distribución Geométrica\n",
        "\n",
        "**Qué modela:**\n",
        "El número de ensayos hasta obtener el primer éxito (incluyendo ese éxito).\n",
        "\n",
        "**Ejemplo:**\n",
        "Tirar una moneda hasta que salga cara por primera vez.\n",
        "Si sale cara en el tercer intento, $X=3$.\n",
        "\n",
        "**Parámetros:**\n",
        "$\\theta$: probabilidad de éxito en cada intento.\n",
        "\n",
        "Se denota como:\n",
        "\n",
        "$$\n",
        "X \\sim \\text{Geometric}(\\theta)\n",
        "$$"
      ]
    },
    {
      "cell_type": "markdown",
      "id": "80981a69",
      "metadata": {},
      "source": [
        "La VA $X$ sigue una distribución geométrica con parámetro $\\theta$ si,\n",
        "\n",
        "- $X$ toma los valores $1, 2, 3, \\dots$\n",
        "- Su pmf está dada por $p(a) = \\theta (1 - \\theta)^{a - 1}$.\n",
        "\n",
        "La denotamos como $Geom(\\theta)$."
      ]
    },
    {
      "cell_type": "code",
      "execution_count": null,
      "id": "64646c9a",
      "metadata": {},
      "outputs": [],
      "source": [
        "# Variables aleatorias Geométricas"
      ]
    },
    {
      "cell_type": "code",
      "execution_count": null,
      "id": "9655fd0c",
      "metadata": {},
      "outputs": [],
      "source": [
        "# Grafico: PMF"
      ]
    },
    {
      "cell_type": "code",
      "execution_count": null,
      "id": "d0fcbfed",
      "metadata": {},
      "outputs": [],
      "source": [
        "# Grafico: CDF"
      ]
    },
    {
      "cell_type": "markdown",
      "id": "335bdd22",
      "metadata": {},
      "source": [
        "### 1.3. Valor esperado y varianza (discretas)"
      ]
    },
    {
      "cell_type": "markdown",
      "id": "46fac0c0",
      "metadata": {},
      "source": [
        "#### 1.3.1. Esperanza\n",
        "\n",
        "Antes de definirla formalmente, es importante notar que el valor esperado no solo se aplica a la variable aleatoria en sí, sino también a **cualquier función de la variable**. Es decir, podemos calcular el valor esperado de $f(X)$, donde $(f)$ es una función que transforma los valores de la variable aleatoria.\n",
        "\n",
        "Esto permite, por ejemplo, obtener cantidades como:\n",
        "\n",
        "- la varianza: $\\mathbb{E}[X^2]$\n",
        "- la utilidad esperada: $\\mathbb{E}[\\log X]$\n",
        "- el valor esperado de pérdidas u otras métricas de interés\n",
        "\n",
        "Este enfoque más general se expresa como:\n",
        "\n",
        "$$\n",
        "\\mathbb{E}[f(X)] = \\sum_x p(x) \\cdot f(x)\n",
        "$$\n",
        "\n",
        "Y si tomamos $f(x) = x$, recuperamos la forma más común del valor esperado:\n",
        "\n",
        "$$\n",
        "\\mathbb{E}[X] = \\sum_x p(x) \\cdot x\n",
        "$$"
      ]
    },
    {
      "cell_type": "markdown",
      "id": "5fd21e76",
      "metadata": {},
      "source": [
        "#### 1.3.2. Varianza\n",
        "\n",
        "El valor esperado es una _medida de tendencia central_, en el sentido de que nos da un valor promedio, o “centro de gravedad” probabilístico, hacia el cual tienden los datos al repetirse el experimento muchas veces.\n",
        "\n",
        "Sin embargo, **no nos dice qué tan dispersos están los valores alrededor de ese promedio**. Para eso, necesitamos una medida de variabilidad: la **varianza**.\n",
        "\n",
        "La varianza de una función $f(X)$, denotada como $\\mathrm{var}_p[f]$, se define como:\n",
        "\n",
        "$$\n",
        "\\mathrm{var}_p[f] = \\mathbb{E}_p\\left[(f(x) - \\mathbb{E}_p[f])^2\\right]\n",
        "$$\n",
        "\n",
        "Esta expresión se interpreta como el **promedio ponderado de los cuadrados de las desviaciones** entre los valores de $f(x)$ y su esperanza. En otras palabras: mide **cuánto varían los valores alrededor de su media**.\n",
        "\n",
        "Una forma algebraicamente más sencilla y muy útil para calcular la varianza es:\n",
        "\n",
        "$$\n",
        "\\mathrm{var}_p[f] = \\mathbb{E}_p[f(x)^2] - \\left(\\mathbb{E}_p[f]\\right)^2\n",
        "$$\n",
        "\n",
        "Esta fórmula permite calcular la varianza a partir de **dos esperanzas**:\n",
        "\n",
        "- La esperanza del cuadrado de $f(x)$\n",
        "- El cuadrado de la esperanza de $f(x)$"
      ]
    },
    {
      "cell_type": "markdown",
      "id": "d677a0e3",
      "metadata": {},
      "source": [
        "#### 1.3.3. Cálculo de esperanza y varianza de variable aleatoria Bernoulli\n",
        "\n",
        "Sea $X$ una variable aleatoria que toma valores en el conjunto $\\{0, 1\\}$. Se denota como:\n",
        "\n",
        "![Distribución Bernoulli](../images/bernulli-1.png)\n",
        "\n",
        "- En **verde**, se resalta la probabilidad $P(X = 1) = \\theta$.\n",
        "- En **azul**, se muestra que $P(X = 0) = 1 - \\theta$.\n",
        "\n",
        "## Esperanza de una variable Bernoulli\n",
        "\n",
        "La esperanza matemática o valor esperado de $X$ se define como:\n",
        "\n",
        "![Esperanza de X](../images/bernulli-2.png)\n",
        "\n",
        "- Los términos en **azul** y **verde** ayudan a identificar qué probabilidad corresponde a cada valor posible de $X$.\n",
        "- El resultado final, $\\mathbb{E}[X] = \\theta$, está **enmarcado en morado** para destacarlo."
      ]
    },
    {
      "cell_type": "markdown",
      "id": "55bba827",
      "metadata": {},
      "source": [
        "##### A) Esperanza de $X^2$\n",
        "\n",
        "Dado que los únicos valores posibles de $X$ son 0 y 1, se cumple que $X^2 = X$. Por lo tanto:\n",
        "\n",
        "![Esperanza de X al cuadrado](../images/bernulli-3.png)\n",
        "\n",
        "- Esta igualdad se debe a que $0^2 = 0$ y $1^2 = 1$, así que no hay cambio al elevar al cuadrado.\n"
      ]
    },
    {
      "cell_type": "markdown",
      "id": "5ff339ed",
      "metadata": {},
      "source": [
        "##### B) Varianza de una variable Bernoulli\n",
        "\n",
        "La varianza se calcula con la fórmula:\n",
        "\n",
        "![Varianza de X](../images/bernulli-4.png)\n",
        "\n",
        "- Se utiliza el resultado anterior $\\mathbb{E}[X] = \\theta$.\n",
        "- El desarrollo muestra cómo se simplifica la fórmula hasta obtener $\\theta(1 - \\theta)$, que aparece resaltado al final.\n"
      ]
    },
    {
      "cell_type": "markdown",
      "id": "56e40076",
      "metadata": {},
      "source": [
        "##### Ejemplo numérico\n",
        "\n",
        "**Ejemplo 1.** Suponemos que tenemos un dado justo con cinco 3's y un 6. ¿Cuál esperaría que fuera el promedio de 6000 tiros?"
      ]
    },
    {
      "cell_type": "code",
      "execution_count": null,
      "id": "875df04e",
      "metadata": {},
      "outputs": [],
      "source": [
        "#x_vals = [3, 6]\n",
        "#probs = [5/6, 1/6]\n",
        "\n",
        "# X1 (crear la variable aleatoria discreta)\n",
        "\n",
        "# Calcular la esperanza (valor esperado)\n"
      ]
    },
    {
      "cell_type": "code",
      "execution_count": null,
      "id": "2d1e5b04",
      "metadata": {},
      "outputs": [],
      "source": [
        "#X1.rvs(size=100)"
      ]
    },
    {
      "cell_type": "code",
      "execution_count": null,
      "id": "b8cc61e9",
      "metadata": {},
      "outputs": [],
      "source": [
        "# Muestreamos la variable aleatoria\n",
        "\n",
        "# Obtenemos el promedio a medida que vamos obteniendo más muestras\n",
        "\n",
        "# Graficamos\n"
      ]
    },
    {
      "cell_type": "code",
      "execution_count": null,
      "id": "652d4625",
      "metadata": {},
      "outputs": [],
      "source": [
        "# Varianza X1\n"
      ]
    },
    {
      "cell_type": "markdown",
      "id": "fe176689",
      "metadata": {},
      "source": [
        "**Ejemplo 2.** Se tiran dos dados de seis caras. Si ganas $1000 si la suma es 2, y pierdes $100 de otro modo, ¿Cuánto esperas ganar en promedio por tiro?"
      ]
    },
    {
      "cell_type": "code",
      "execution_count": null,
      "id": "25607ad6",
      "metadata": {},
      "outputs": [],
      "source": [
        "# X2\n",
        "\n",
        "\n",
        "# Valor esperado teórico\n"
      ]
    },
    {
      "cell_type": "code",
      "execution_count": null,
      "id": "bf029499",
      "metadata": {},
      "outputs": [],
      "source": [
        "# Muestreamos la variable aleatoria\n",
        "\n",
        "# Obtenemos el promedio a medida que vamos obteniendo más muestras\n",
        "\n",
        "# Graficamos\n"
      ]
    },
    {
      "cell_type": "code",
      "execution_count": null,
      "id": "28387d0f",
      "metadata": {},
      "outputs": [],
      "source": [
        "# Varianza X2\n"
      ]
    },
    {
      "cell_type": "markdown",
      "id": "a707d1d0",
      "metadata": {},
      "source": [
        "Si queremos una medida que nos de un sentido de dispersión en las \"mismas unidades\" de la variable aleatoria, podemos acudir a la desviación estándar, que se define como:\n",
        "\n",
        "$$\n",
        "\\text{std}_p[f] = \\sqrt{\\text{var}_p[f]}\n",
        "$$"
      ]
    },
    {
      "cell_type": "code",
      "execution_count": null,
      "id": "c0bf622a",
      "metadata": {},
      "outputs": [],
      "source": [
        "# STD de X1 y X2"
      ]
    },
    {
      "cell_type": "markdown",
      "id": "da97ba6c",
      "metadata": {},
      "source": [
        "```{admonition} Actividad de integración\n",
        ":class: tip\n",
        "\n",
        "Genera una función que nos permita calcular la esperanza y la varianza de una variable aleatoria discreta, dada su PMF. Utiliza esta función para calcular la esperanza y varianza de las siguientes distribuciones:\n",
        "\n",
        "- Distribución Bernoulli con $\\theta = 0.3$.\n",
        "- Distribución Binomial con $n = 10$ y $\\theta = 0.3\n",
        "- Distribución Geométrica con $\\theta = 0.3$.\n",
        "```"
      ]
    },
    {
      "cell_type": "code",
      "execution_count": null,
      "id": "502b6495",
      "metadata": {},
      "outputs": [],
      "source": []
    },
    {
      "cell_type": "code",
      "execution_count": null,
      "id": "eb27cd9e",
      "metadata": {},
      "outputs": [],
      "source": [
        "# Bernoulli"
      ]
    },
    {
      "cell_type": "code",
      "execution_count": null,
      "id": "e5599e00",
      "metadata": {},
      "outputs": [],
      "source": [
        "# Binomial"
      ]
    },
    {
      "cell_type": "code",
      "execution_count": null,
      "id": "29f3cadd",
      "metadata": {},
      "outputs": [],
      "source": [
        "# Geométrica"
      ]
    },
    {
      "cell_type": "markdown",
      "id": "f1168c26",
      "metadata": {},
      "source": [
        "##### 💡 Pregunta: en lo anterior, _¿estamos usando datos para generar el cálculo?_"
      ]
    }
  ],
  "metadata": {
    "kernelspec": {
      "display_name": "mgp",
      "language": "python",
      "name": "python3"
    },
    "language_info": {
      "codemirror_mode": {
        "name": "ipython",
        "version": 3
      },
      "file_extension": ".py",
      "mimetype": "text/x-python",
      "name": "python",
      "nbconvert_exporter": "python",
      "pygments_lexer": "ipython3",
      "version": "3.13.2"
    }
  },
  "nbformat": 4,
  "nbformat_minor": 5
}
