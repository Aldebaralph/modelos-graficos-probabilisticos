{
 "cells": [
  {
   "cell_type": "markdown",
   "id": "a39a1cee",
   "metadata": {},
   "source": [
    "# Sesión 3 B"
   ]
  },
  {
   "cell_type": "markdown",
   "id": "5a66d130",
   "metadata": {},
   "source": [
    "## 1. Repaso de probabilidad (parte 2B)"
   ]
  },
  {
   "cell_type": "markdown",
   "id": "425bd2d5",
   "metadata": {},
   "source": [
    "### 1.1. Variables aleatorias\n",
    "\n",
    "Las variables aleatorias son funciones que asignan un valor numérico a cada resultado de un experimento aleatorio. Se clasifican en dos tipos:\n",
    "\n",
    "* **Variables aleatorias discretas**\n",
    "* ➡️ **Variables aleatorias continuas**"
   ]
  },
  {
   "cell_type": "markdown",
   "id": "13c9415a",
   "metadata": {},
   "source": [
    "> **Objetivos:**\n",
    "> - Repasar la definición de variables aleatorias continuas.\n",
    "> - Definir la función de densidad de probabilidad y la función de distribución acumulada.\n",
    "> - Definir el valor esperado y varianza de una variable aleatoria continua."
   ]
  },
  {
   "cell_type": "markdown",
   "id": "13228928",
   "metadata": {},
   "source": [
    "#### Variables aleatorias continuas\n",
    "\n",
    "```{admonition} Definición\n",
    ":class: note\n",
    "\n",
    "Sea $\\Omega$ un espacio muestral continuo, es decir, un conjunto no numerable de posibles resultados de un experimento aleatorio.\n",
    "\n",
    "Una *variable aleatoria continua* es una función que asigna un _número real_ a cada resultado del espacio muestral:\n",
    "\n",
    "$$\n",
    "X: \\Omega \\to \\mathbb{R}\n",
    "$$\n",
    "\n",
    "A diferencia de las variables aleatorias discretas, los valores que puede tomar $X$ **no se pueden enumerar**, ya que forman un subconjunto continuo de $\\mathbb{R}$. Esto significa que $X$ puede asumir infinitos valores dentro de un intervalo real.\n",
    "\n",
    "```"
   ]
  },
  {
   "cell_type": "markdown",
   "id": "94309b78",
   "metadata": {},
   "source": [
    "##### Antes de empezar: _¿qué es densidad?, ¿y qué es integrar?_"
   ]
  },
  {
   "cell_type": "markdown",
   "id": "65b70571",
   "metadata": {},
   "source": [
    "En la vida real, muchos fenómenos no se pueden contar directamente.\n",
    "\n",
    "El tiempo fluye, la temperatura cambia poco a poco, un objeto se mueve sin saltos y una variable puede tomar infinitos valores entre dos puntos. En estos casos no podemos enumerar unidades como si fueran canicas o dados: estamos frente a lo **continuo**."
   ]
  },
  {
   "cell_type": "markdown",
   "id": "78b61f52",
   "metadata": {},
   "source": [
    "Entonces surge una pregunta fundamental:\n",
    "\n",
    "> ¿Cómo medimos lo que no se puede contar?\n",
    "\n",
    "La respuesta está en dos herramientas matemáticas muy poderosas: **densidad e integración.**"
   ]
  },
  {
   "cell_type": "markdown",
   "id": "d25af258",
   "metadata": {},
   "source": [
    "```{admonition} Densidad e integración: comprender lo continuo\n",
    ":class: note\n",
    "\n",
    "🌀 La densidad: mirar lo local\n",
    "\n",
    "_¿Dónde se concentra algo?_\n",
    "\n",
    "Pero en lugar de contar unidades, miramos lo que pasa en una región infinitesimal.\n",
    "\n",
    "En probabilidad, esa idea se traduce en la **función de densidad de probabilidad (PDF)**, que muestra cómo se distribuyen las posibilidades de una variable continua.\n",
    "```"
   ]
  },
  {
   "cell_type": "markdown",
   "id": "093faeb4",
   "metadata": {},
   "source": [
    "```{admonition} Integración\n",
    ":class: note\n",
    "\n",
    "🌀 Integrar: reunir lo disperso\n",
    "\n",
    "Integrar es tomar fragmentos del mundo, imperceptibles por sí solos, y sumarlos para construir sentido.\n",
    "\n",
    "* Reunir las contribuciones dispersas de lo continuo.\n",
    "\n",
    "La integración responde:\n",
    "\n",
    "_¿qué tan probable es que el valor esté entre A y B?_\n",
    "\n",
    "```\n"
   ]
  },
  {
   "cell_type": "markdown",
   "id": "b3b577b9",
   "metadata": {},
   "source": [
    "Una _variable aleatoria continua_ vive en ese mismo mundo: no tiene \"valores posibles\" que puedas listar. Tiene un espectro infinito de posibilidades.\n",
    "\n",
    "* La _densidad_ te dice cómo están distribuidas esas posibildes.\n",
    "\n",
    "* La _integración_ te permite calcular la probabilidad de que la variable se manifieste dentro de un rango. "
   ]
  },
  {
   "cell_type": "markdown",
   "id": "856fbdad",
   "metadata": {},
   "source": [
    "Con esto en mente, la manera más conveniente de definir una distribución continua es a través de la **función de densidad de probabilidad** o PDF _(Probability Density Function)_."
   ]
  },
  {
   "cell_type": "markdown",
   "id": "6af6c209",
   "metadata": {},
   "source": [
    "#### 1.1.1. Función de _densidad_ de probabilidad (PDF)\n",
    "\n",
    "Una PDF es una _función matemática_ que describe cómo se distribuye la probabilidad de una variable aleatoria continua a lo largo de los valores que puede tomar. "
   ]
  },
  {
   "cell_type": "markdown",
   "id": "e7d49ea7",
   "metadata": {},
   "source": [
    "En el contexto de variables aleatorias continuas no hablamos de \"función de probabilidad\", sino de una **función de densidad de probabilidad p.d.f.** $p(x)$ que debe cumplir:\n",
    "\n",
    "$$\n",
    "0 \\leq p(x)\n",
    "$$\n",
    "\n",
    "esta condición asegura que no haya probabilidades negativas.\n",
    "\n",
    "Además:\n",
    "\n",
    "$$\n",
    "\\int_{-\\infty}^{\\infty} p(x) \\mathrm{d}x = 1.\n",
    "$$\n",
    "\n",
    "esta segunda condición asegura que la \"masa total de probabilidad\" esté normalizada a 1.\n",
    "\n",
    "**Notemos que en este caso la densidad puede ser mayor a $1$.**"
   ]
  },
  {
   "cell_type": "markdown",
   "id": "2e9d1962",
   "metadata": {},
   "source": [
    "| Variables aleatorias discretas | Variables aleatorias continuas |\n",
    "|--------------------------------|--------------------------------|\n",
    "| $P(a) = P(X = a)$              | $p(x)$                        |\n",
    "| $0 \\leq P(a) \\leq 1$           | $0 \\leq p(x)$                 |\n",
    "| $\\sum_a P(a) = 1$              | $\\int_{-\\infty}^{\\infty} p(x)\\,dx = 1$ |\n"
   ]
  },
  {
   "cell_type": "markdown",
   "id": "a25175a8",
   "metadata": {},
   "source": [
    "#### ¿Por qué $p(x)$ puede ser mayor que 1?\n",
    "\n",
    "Es importante notar que $p(x)$ no es una probabilidad en sí, sino una **densidad**.\n",
    "\n",
    "Para obtener una probabilidad real, siempre necesitas un intervalo $[a,b]$ y calcular el área:"
   ]
  },
  {
   "cell_type": "markdown",
   "id": "5c883357",
   "metadata": {},
   "source": [
    "![](../images/prob-vars-continuas.png)"
   ]
  },
  {
   "cell_type": "markdown",
   "id": "fc0ce753",
   "metadata": {},
   "source": [
    "La probabilidad real se obtiene integrando la densidad:\n",
    "\n",
    "* $P(a \\leq X \\leq b)$ significa el área bajo la curva de $p(x)$ entre $a$ y $b$.\n",
    "\n",
    "* Esa área sí es una probabilidad y siempre estará entre 0 y 1.\n",
    "\n",
    "Por esto, aunque $p(x)$ pueda tomar valor mayores que 1, la integral en todo el espacio siempre será 1. "
   ]
  },
  {
   "cell_type": "markdown",
   "id": "c31a9f80",
   "metadata": {},
   "source": [
    "Por ejemplo, la **función de densidad de probabilidad (PDF)** de la normal estándar $N(0,1)$ es:\n",
    "\n",
    "$$\n",
    "p(x) = \\frac{1}{\\sqrt{2\\pi}} e^{-x^2/2}\n",
    "$$\n",
    "\n",
    "La probabilidad de que $X$ esté entre $-1$ y $1$ es:\n",
    "\n",
    "$$\n",
    "P(-1 \\leq X \\leq 1) = \\int_{-1}^{1} \\frac{1}{\\sqrt{2\\pi}} e^{-x^2/2}\\, dx\n",
    "$$"
   ]
  },
  {
   "cell_type": "markdown",
   "id": "1c2023b8",
   "metadata": {},
   "source": [
    "![](../images/sesion3-areabajocurva.png)"
   ]
  },
  {
   "cell_type": "markdown",
   "id": "38a93dc1",
   "metadata": {},
   "source": [
    "#### 1.1.2. Función de distribución acumulativa (CDF)\n",
    "\n",
    "Definimos también la **función de distribución acumulada (CDF)** $P(x)$ como:\n",
    "\n",
    "$$\n",
    "P(x) = \\int_{-\\infty}^{x} p(z)\\,\\mathrm{d}z,\n",
    "$$\n",
    "\n",
    "y representa la probabilidad de que $X$ tome un valor **menor que** $x$, es decir:\n",
    "\n",
    "$$\n",
    "P(x) = \\mathbb{P}(X < x)\n",
    "$$"
   ]
  },
  {
   "cell_type": "markdown",
   "id": "b6cbcdcf",
   "metadata": {},
   "source": [
    "```{admonition} Observaciones\n",
    ":class: note\n",
    "\n",
    "Todo lo que vimos en el caso discreto se extiende al caso continuo:\n",
    "\n",
    "La marginalización, la regla de la cadena, la regla de Bayes, aplican cambiando sumas por integrales y probabilidades por densidades de probabilidad:\n",
    "\n",
    "- $p(x) = \\int_{-\\infty}^{\\infty} p(x, y) \\mathrm{d}y$: Marginalización\n",
    "\n",
    "- $p(x, y) = p(y | x) p(x) = p(x | y) p(y)$: Regla de la cadena\n",
    "\n",
    "- $p(x) = \\int_{-\\infty}^{\\infty} p(x | y) p(y) \\mathrm{d}y$: Probabilidad total"
   ]
  },
  {
   "cell_type": "markdown",
   "id": "28184d87",
   "metadata": {},
   "source": [
    "### 1.2. Distribuciones de probabilidad continuas"
   ]
  },
  {
   "cell_type": "markdown",
   "id": "de8db20c",
   "metadata": {},
   "source": [
    "#### 1.2.1. Distribución uniforme\n",
    "\n",
    "**Qué modela:**\n",
    "\n",
    "Una situación en la que **todos los valores dentro de un intervalo son igualmente probables**. No hay preferencia por ningún punto dentro del rango.\n",
    "\n",
    "**Ejemplo:**\n",
    "\n",
    "Medir el tiempo de llegada de un autobús que puede llegar en cualquier momento entre 10:00 y 10:30, con la misma probabilidad en todo ese intervalo.\n",
    "\n",
    "- Cualquier instante dentro del rango es igualmente probable.\n",
    "\n",
    "**Parámetros:**\n",
    "\n",
    "- $a$: límite inferior del intervalo  \n",
    "- $b$: límite superior del intervalo  \n",
    "- Se requiere que $a < b$\n",
    "\n",
    "**Soporte:**\n",
    "\n",
    "Soporte: $[a, b]$, porque ahí es donde la función vive.\n",
    "\n",
    "**Se denota como:**\n",
    "\n",
    "$$\n",
    "X \\sim \\text{Uniforme}(a, b)\n",
    "$$\n",
    "\n",
    "**Función de densidad (PDF):**\n",
    "\n",
    "$$\n",
    "f_X(x) =\n",
    "\\begin{cases}\n",
    "\\frac{1}{b - a} & \\text{si } x \\in [a, b] \\\\\n",
    "0 & \\text{en otro caso}\n",
    "\\end{cases}\n",
    "$$\n",
    "\n",
    "**Función de distribución acumulada (CDF):**\n",
    "\n",
    "$$\n",
    "F_X(x) =\n",
    "\\begin{cases}\n",
    "0 & x < a \\\\\n",
    "\\frac{x - a}{b - a} & a \\leq x \\leq b \\\\\n",
    "1 & x > b\n",
    "\\end{cases}\n",
    "$$"
   ]
  },
  {
   "cell_type": "markdown",
   "id": "f573d9be",
   "metadata": {},
   "source": [
    "```{admonition} Ejercicio 1\n",
    ":class: tip\n",
    "\n",
    "Se tiene una cinta de medir con resolución milimétrica. Si medimos la longitud de unas varillas que fueron cortadas a 1 metro de longitud, el error de medición estará uniformemente distribuido entre -0.5 y 0.5 milímetros.\n",
    "```"
   ]
  },
  {
   "cell_type": "markdown",
   "id": "5e189fd4",
   "metadata": {},
   "source": [
    "```{thebe-button}\n",
    "```"
   ]
  },
  {
   "cell_type": "code",
   "execution_count": 1,
   "id": "45fe8e4e",
   "metadata": {
    "tags": [
     "Thebe"
    ]
   },
   "outputs": [],
   "source": [
    "import numpy as np\n",
    "from scipy import stats\n",
    "from matplotlib import pyplot as plt"
   ]
  },
  {
   "cell_type": "markdown",
   "id": "2721e17f",
   "metadata": {},
   "source": [
    "**Parámetros:**\n",
    "\n",
    "- `loc` es el *inicio del intervalo*, se interpreta como el parámetro $a$ (límite inferior).  \n",
    "- `scale` es la *longitud del intervalo*, se interpreta como $b - a$.\n",
    "\n",
    "Entonces, la distribución se define sobre el intervalo:\n",
    "\n",
    "$$\n",
    "X \\sim \\text{Uniforme}(a = \\text{loc},\\ b = \\text{loc} + \\text{scale})\n",
    "$$"
   ]
  },
  {
   "cell_type": "code",
   "execution_count": 2,
   "id": "019d5feb",
   "metadata": {},
   "outputs": [],
   "source": [
    "# Variable aleatorio uniforme\n",
    "X = stats.uniform(loc=-0.5, scale=1.0)"
   ]
  },
  {
   "cell_type": "code",
   "execution_count": 3,
   "id": "5fe3036c",
   "metadata": {},
   "outputs": [
    {
     "data": {
      "image/png": "[encoded data removed]",
      "text/plain": [
       "<Figure size 640x480 with 1 Axes>"
      ]
     },
     "metadata": {},
     "output_type": "display_data"
    }
   ],
   "source": [
    "# Gráfico de pdf y cdf\n",
    "x = np.linspace(-1, 1, 1000)\n",
    "y1 = X.pdf(x)\n",
    "y2 = X.cdf(x)\n",
    "plt.plot(x, y1, color='green', label='Densidad de probabilidad')\n",
    "plt.plot(x, y2, color='purple', label='Probabilidad acumulada')\n",
    "plt.xlabel('Error de medición')\n",
    "plt.ylabel('Densidad / Probabilidad')\n",
    "plt.legend()\n",
    "plt.grid()"
   ]
  },
  {
   "cell_type": "markdown",
   "id": "156eae38",
   "metadata": {},
   "source": [
    "#### 1.2.2. Distribución exponencial\n",
    "\n",
    "**Qué modela:**\n",
    "\n",
    "El **tiempo entre eventos aleatorios** que ocurren a una tasa constante. Es común en procesos de espera, como llamadas telefónicas, llegadas de clientes o tiempo de vida de componentes electrónicos.\n",
    "\n",
    "\n",
    "**Ejemplo:**\n",
    "\n",
    "Esperar el siguiente autobús, sabiendo que los autobuses llegan en promedio cada 10 minutos.\n",
    "\n",
    "- El tiempo de espera entre llegadas puede modelarse con una distribución exponencial.\n",
    "\n",
    "\n",
    "**Parámetros:**\n",
    "\n",
    "- $\\lambda > 0$: tasa de ocurrencia de eventos (eventos por unidad de tiempo)\n",
    "\n",
    "\n",
    "**Soporte:**\n",
    "\n",
    "Soporte: $[0, \\infty)$, ya que el tiempo o distancia entre eventos no puede ser negativo.\n",
    "\n",
    "\n",
    "**Se denota como:**\n",
    "\n",
    "$$\n",
    "X \\sim \\text{Exponencial}(\\lambda)\n",
    "$$\n",
    "\n",
    "\n",
    "**Función de densidad (PDF):**\n",
    "\n",
    "$$\n",
    "f_X(x) =\n",
    "\\begin{cases}\n",
    "\\lambda e^{-\\lambda x} & \\text{si } x \\geq 0 \\\\\\\\\n",
    "0 & \\text{en otro caso}\n",
    "\\end{cases}\n",
    "$$\n",
    "\n",
    "\n",
    "**Función de distribución acumulada (CDF):**\n",
    "\n",
    "$$\n",
    "F_X(x) =\n",
    "\\begin{cases}\n",
    "0 & x < 0 \\\\\\\\\n",
    "1 - e^{-\\lambda x} & x \\geq 0\n",
    "\\end{cases}\n",
    "$$"
   ]
  },
  {
   "cell_type": "markdown",
   "id": "3232a178",
   "metadata": {},
   "source": [
    "```{admonition} Ejercicio 2\n",
    ":class: tip\n",
    "\n",
    "Si sales de tu casa para tomar un taxi, el tiempo que esperas hasta que llegue el siguiente taxi puede modelarse con una distribución exponencial.\n",
    "\n",
    "Una manera práctica de estimar el parámetro $\\lambda$ es usando la **duración promedio de espera observada**. Por ejemplo, si normalmente esperas unos 5 minutos, puedes estimar:\n",
    "\n",
    "$$\n",
    "\\lambda \\approx \\frac{1}{\\text{promedio de espera en minutos}}\n",
    "$$\n",
    "\n",
    "Entonces podrías modelar el tiempo de espera con:\n",
    "\n",
    "$$\n",
    "X \\sim \\text{Exponencial}(0.2)\n",
    "$$\n",
    "\n",
    "Esto significa que los tiempos cortos de espera son más probables que los largos, pero siempre existe la posibilidad de que haya esperas inusualmente largas.\n",
    "```"
   ]
  },
  {
   "cell_type": "code",
   "execution_count": 4,
   "id": "0375b691",
   "metadata": {},
   "outputs": [],
   "source": [
    "# Lambda\n",
    "lambda_ =1/5"
   ]
  },
  {
   "cell_type": "code",
   "execution_count": 5,
   "id": "a7324a98",
   "metadata": {},
   "outputs": [],
   "source": [
    "# Variable aleatoria exponencial\n",
    "X = stats.expon(scale=1/lambda_)"
   ]
  },
  {
   "cell_type": "code",
   "execution_count": 11,
   "id": "cc481db1",
   "metadata": {},
   "outputs": [
    {
     "name": "stdout",
     "output_type": "stream",
     "text": [
      "\u001b[31mSignature:\u001b[39m       stats.expon(*args, **kwds)\n",
      "\u001b[31mType:\u001b[39m            expon_gen\n",
      "\u001b[31mString form:\u001b[39m     <scipy.stats._continuous_distns.expon_gen object at 0x0000018D3363D400>\n",
      "\u001b[31mFile:\u001b[39m            d:\\anaconda3\\envs\\mgp\\lib\\site-packages\\scipy\\stats\\_continuous_distns.py\n",
      "\u001b[31mDocstring:\u001b[39m      \n",
      "An exponential continuous random variable.\n",
      "\n",
      "As an instance of the `rv_continuous` class, `expon` object inherits from it\n",
      "a collection of generic methods (see below for the full list),\n",
      "and completes them with details specific for this particular distribution.\n",
      "\n",
      "Methods\n",
      "-------\n",
      "rvs(loc=0, scale=1, size=1, random_state=None)\n",
      "    Random variates.\n",
      "pdf(x, loc=0, scale=1)\n",
      "    Probability density function.\n",
      "logpdf(x, loc=0, scale=1)\n",
      "    Log of the probability density function.\n",
      "cdf(x, loc=0, scale=1)\n",
      "    Cumulative distribution function.\n",
      "logcdf(x, loc=0, scale=1)\n",
      "    Log of the cumulative distribution function.\n",
      "sf(x, loc=0, scale=1)\n",
      "    Survival function  (also defined as ``1 - cdf``, but `sf` is sometimes more accurate).\n",
      "logsf(x, loc=0, scale=1)\n",
      "    Log of the survival function.\n",
      "ppf(q, loc=0, scale=1)\n",
      "    Percent point function (inverse of ``cdf`` --- percentiles).\n",
      "isf(q, loc=0, scale=1)\n",
      "    Inverse survival function (inverse of ``sf``).\n",
      "moment(order, loc=0, scale=1)\n",
      "    Non-central moment of the specified order.\n",
      "stats(loc=0, scale=1, moments='mv')\n",
      "    Mean('m'), variance('v'), skew('s'), and/or kurtosis('k').\n",
      "entropy(loc=0, scale=1)\n",
      "    (Differential) entropy of the RV.\n",
      "fit(data)\n",
      "    Parameter estimates for generic data.\n",
      "    See `scipy.stats.rv_continuous.fit <https://docs.scipy.org/doc/scipy/reference/generated/scipy.stats.rv_continuous.fit.html#scipy.stats.rv_continuous.fit>`__ for detailed documentation of the\n",
      "    keyword arguments.\n",
      "expect(func, args=(), loc=0, scale=1, lb=None, ub=None, conditional=False, **kwds)\n",
      "    Expected value of a function (of one argument) with respect to the distribution.\n",
      "median(loc=0, scale=1)\n",
      "    Median of the distribution.\n",
      "mean(loc=0, scale=1)\n",
      "    Mean of the distribution.\n",
      "var(loc=0, scale=1)\n",
      "    Variance of the distribution.\n",
      "std(loc=0, scale=1)\n",
      "    Standard deviation of the distribution.\n",
      "interval(confidence, loc=0, scale=1)\n",
      "    Confidence interval with equal areas around the median.\n",
      "\n",
      "Notes\n",
      "-----\n",
      "The probability density function for `expon` is:\n",
      "\n",
      ".. math::\n",
      "\n",
      "    f(x) = \\exp(-x)\n",
      "\n",
      "for :math:`x \\ge 0`.\n",
      "\n",
      "The probability density above is defined in the \"standardized\" form. To shift\n",
      "and/or scale the distribution use the ``loc`` and ``scale`` parameters.\n",
      "Specifically, ``expon.pdf(x, loc, scale)`` is identically\n",
      "equivalent to ``expon.pdf(y) / scale`` with\n",
      "``y = (x - loc) / scale``. Note that shifting the location of a distribution\n",
      "does not make it a \"noncentral\" distribution; noncentral generalizations of\n",
      "some distributions are available in separate classes.\n",
      "\n",
      "A common parameterization for `expon` is in terms of the rate parameter\n",
      "``lambda``, such that ``pdf = lambda * exp(-lambda * x)``. This\n",
      "parameterization corresponds to using ``scale = 1 / lambda``.\n",
      "\n",
      "The exponential distribution is a special case of the gamma\n",
      "distributions, with gamma shape parameter ``a = 1``.\n",
      "\n",
      "Examples\n",
      "--------\n",
      ">>> import numpy as np\n",
      ">>> from scipy.stats import expon\n",
      ">>> import matplotlib.pyplot as plt\n",
      ">>> fig, ax = plt.subplots(1, 1)\n",
      "\n",
      "Calculate the first four moments:\n",
      "\n",
      "\n",
      ">>> mean, var, skew, kurt = expon.stats(moments='mvsk')\n",
      "\n",
      "Display the probability density function (``pdf``):\n",
      "\n",
      ">>> x = np.linspace(expon.ppf(0.01),\n",
      "...                 expon.ppf(0.99), 100)\n",
      ">>> ax.plot(x, expon.pdf(x),\n",
      "...        'r-', lw=5, alpha=0.6, label='expon pdf')\n",
      "\n",
      "Alternatively, the distribution object can be called (as a function)\n",
      "to fix the shape, location and scale parameters. This returns a \"frozen\"\n",
      "RV object holding the given parameters fixed.\n",
      "\n",
      "Freeze the distribution and display the frozen ``pdf``:\n",
      "\n",
      ">>> rv = expon()\n",
      ">>> ax.plot(x, rv.pdf(x), 'k-', lw=2, label='frozen pdf')\n",
      "\n",
      "Check accuracy of ``cdf`` and ``ppf``:\n",
      "\n",
      ">>> vals = expon.ppf([0.001, 0.5, 0.999])\n",
      ">>> np.allclose([0.001, 0.5, 0.999], expon.cdf(vals))\n",
      "True\n",
      "\n",
      "Generate random numbers:\n",
      "\n",
      ">>> r = expon.rvs(size=1000)\n",
      "\n",
      "And compare the histogram:\n",
      "\n",
      ">>> ax.hist(r, density=True, bins='auto', histtype='stepfilled', alpha=0.2)\n",
      ">>> ax.set_xlim([x[0], x[-1]])\n",
      ">>> ax.legend(loc='best', frameon=False)\n",
      ">>> plt.show()\n",
      "\u001b[31mClass docstring:\u001b[39m\n",
      "An exponential continuous random variable.\n",
      "\n",
      "%(before_notes)s\n",
      "\n",
      "Notes\n",
      "-----\n",
      "The probability density function for `expon` is:\n",
      "\n",
      ".. math::\n",
      "\n",
      "    f(x) = \\exp(-x)\n",
      "\n",
      "for :math:`x \\ge 0`.\n",
      "\n",
      "%(after_notes)s\n",
      "\n",
      "A common parameterization for `expon` is in terms of the rate parameter\n",
      "``lambda``, such that ``pdf = lambda * exp(-lambda * x)``. This\n",
      "parameterization corresponds to using ``scale = 1 / lambda``.\n",
      "\n",
      "The exponential distribution is a special case of the gamma\n",
      "distributions, with gamma shape parameter ``a = 1``.\n",
      "\n",
      "%(example)s\n",
      "\u001b[31mCall docstring:\u001b[39m \n",
      "Freeze the distribution for the given arguments.\n",
      "\n",
      "Parameters\n",
      "----------\n",
      "arg1, arg2, arg3,... : array_like\n",
      "    The shape parameter(s) for the distribution.  Should include all\n",
      "    the non-optional arguments, may include ``loc`` and ``scale``.\n",
      "\n",
      "Returns\n",
      "-------\n",
      "rv_frozen : rv_frozen instance\n",
      "    The frozen distribution."
     ]
    }
   ],
   "source": [
    "stats.expon?"
   ]
  },
  {
   "cell_type": "code",
   "execution_count": 6,
   "id": "0fdb92aa",
   "metadata": {},
   "outputs": [
    {
     "data": {
      "image/png": "[encoded data removed]",
      "text/plain": [
       "<Figure size 640x480 with 1 Axes>"
      ]
     },
     "metadata": {},
     "output_type": "display_data"
    }
   ],
   "source": [
    "# Gráfico de pdf y cdf\n",
    "x = np.linspace(0, 30, 1000)\n",
    "y1 = X.pdf(x)\n",
    "y2 = X.cdf(x)\n",
    "plt.plot(x, y1, label='Densidad de probabilidad')\n",
    "plt.plot(x, y2, label='Probabilidad acumulada')\n",
    "plt.xlabel('Tiempo de espera del taxi')\n",
    "plt.ylabel('Densidad / Probabilidad')\n",
    "plt.legend()\n",
    "plt.grid()"
   ]
  },
  {
   "cell_type": "markdown",
   "id": "68589e0a",
   "metadata": {},
   "source": [
    "#### 1.2.3. Distribución normal (Gaussiana)\n",
    "\n",
    "**Qué modela:**\n",
    "\n",
    "La distribución normal describe fenómenos que tienden a agruparse alrededor de un valor promedio, con pequeñas variaciones hacia arriba y hacia abajo.\n",
    "\n",
    "**Ejemplo:**\n",
    "\n",
    "Las calificaciones de un grupo grande de estudiantes en un examen, donde la mayoría obtiene puntajes cercanos al promedio, y solo unos pocos puntajes muy altos o muy bajos.\n",
    "\n",
    "\n",
    "**Parámetros:**\n",
    "\n",
    "- $\\mu$: media (valor central)\n",
    "- $\\sigma > 0$: desviación estándar (dispersión)\n",
    "\n",
    "**Soporte:**\n",
    "\n",
    "Soporte: $(-\\infty, \\infty)$, ya que una variable normal puede, en teoría, tomar cualquier valor real.\n",
    "\n",
    "**Se denota como:**\n",
    "\n",
    "$$\n",
    "X \\sim \\mathcal{N}(\\mu, \\sigma^2)\n",
    "$$\n",
    "\n",
    "\n",
    "**Función de densidad (PDF):**\n",
    "\n",
    "$$\n",
    "p(x) = \\frac{1}{\\sqrt{2 \\pi \\sigma^2}} \\exp\\left\\{-\\frac{(x - \\mu)^2}{2 \\sigma^2}\\right\\}.\n",
    "$$\n",
    "\n",
    "\n",
    "**Función de distribución acumulada (CDF):**\n",
    "\n",
    "No tiene una forma cerrada elemental, pero se define como:\n",
    "\n",
    "$$\n",
    "F_X(x) = \\int_{-\\infty}^{x} f_X(t) \\, dt\n",
    "$$\n",
    "\n",
    "Esta integral representa la probabilidad acumulada de que la variable tome un valor menor que $x$.\n"
   ]
  },
  {
   "cell_type": "code",
   "execution_count": 9,
   "id": "79dd7dc1",
   "metadata": {},
   "outputs": [],
   "source": [
    "# Variable aleatoria normal\n",
    "mu = 25\n",
    "sigma = 1\n",
    "\n",
    "X = stats.norm(loc=mu, scale=sigma)"
   ]
  },
  {
   "cell_type": "markdown",
   "id": "23cb8698",
   "metadata": {},
   "source": [
    "**Parámetros:**\n",
    "\n",
    "- `loc` es la *media* de la distribución, se interpreta como el parámetro $\\mu$.  \n",
    "- `scale` es la *desviación estándar*, se interpreta como $\\sigma$ (no la varianza).\n",
    "\n",
    "Entonces, la distribución se define como:\n",
    "\n",
    "$$\n",
    "X \\sim \\mathcal{N}(\\mu = \\text{loc},\\ \\sigma^2 = \\text{scale}^2)\n",
    "$$\n"
   ]
  },
  {
   "cell_type": "code",
   "execution_count": 10,
   "id": "63c935d8",
   "metadata": {},
   "outputs": [
    {
     "data": {
      "image/png": "[encoded data removed]",
      "text/plain": [
       "<Figure size 640x480 with 1 Axes>"
      ]
     },
     "metadata": {},
     "output_type": "display_data"
    }
   ],
   "source": [
    "# Gráfico de pdf y cdf\n",
    "x = np.linspace(15, 35, 1000)\n",
    "y1 = X.pdf(x)\n",
    "y2 = X.cdf(x)\n",
    "plt.plot(x, y1, label='Densidad de probabilidad')\n",
    "plt.plot(x, y2, label='Probabilidad acumulada')\n",
    "plt.xlabel('Temperatura [C]')\n",
    "plt.ylabel('Densidad / Probabilidad')\n",
    "plt.legend()\n",
    "plt.grid()"
   ]
  },
  {
   "cell_type": "markdown",
   "id": "88251832",
   "metadata": {},
   "source": [
    "##### Propiedades de la distribución normal\n",
    "\n",
    "Sea $X \\sim \\text{Normal}(\\mu, \\sigma^2)$. Entonces se cumplen las siguientes propiedades fundamentales:\n",
    "\n",
    "- **Valor esperado (media):**  \n",
    "  El valor esperado de $X$ es igual al parámetro de media $\\mu$:\n",
    "\n",
    "  $$\n",
    "  \\mathbb{E}[X] = \\mu\n",
    "  $$\n",
    "\n",
    "- **Varianza:**  \n",
    "  La varianza de $X$ corresponde al cuadrado de la desviación estándar $\\sigma$:\n",
    "\n",
    "  $$\n",
    "  \\mathrm{Var}(X) = \\sigma^2\n",
    "  $$"
   ]
  },
  {
   "cell_type": "markdown",
   "id": "804095fa",
   "metadata": {},
   "source": [
    "### 1.3. Valor esperado y varianza (continuas)"
   ]
  },
  {
   "cell_type": "markdown",
   "id": "7f851ea6",
   "metadata": {},
   "source": [
    "#### 1.3.1. Esperanza\n",
    "\n",
    "El valor esperado de una función $f(x)$ con respecto a una distribución de probabilidad $p(x)$ se denota por:\n",
    "\n",
    "$$\n",
    "\\mathbb{E}_p[f] = \\int p(x)f(x) \\, \\mathrm{d}x.\n",
    "$$\n",
    "\n",
    "Esto representa una especie de “promedio” de $f(x)$, donde los valores más probables (según $p(x)$) tienen mayor peso.\n",
    "\n",
    "El valor esperado es una **medida de tendencia central**: nos indica el valor típico o representativo de la función aleatoria en el contexto de su distribución."
   ]
  },
  {
   "cell_type": "markdown",
   "id": "2e7229ed",
   "metadata": {},
   "source": [
    "![](../images/esp_continuas.png)"
   ]
  },
  {
   "cell_type": "markdown",
   "id": "b1ba338e",
   "metadata": {},
   "source": [
    "- En **morado** se indica la función de densidad de la variable aleatoria $X$.\n",
    "- En **verde** está la función que queremos \"promediar\", es decir, la transformación $f(X)$."
   ]
  },
  {
   "cell_type": "markdown",
   "id": "6b363506",
   "metadata": {},
   "source": [
    "Tomamos la fórmula general y la aplica a un caso específico:\n",
    "\n",
    "> La esperanza de una variable que sigue una distribución exponencial."
   ]
  },
  {
   "cell_type": "markdown",
   "id": "6ff9736e",
   "metadata": {},
   "source": [
    "![](../images/esp_continuas_2.png)"
   ]
  },
  {
   "cell_type": "markdown",
   "id": "5ce26494",
   "metadata": {},
   "source": [
    "- Medias: $\\mathbb{E}[X]$\n",
    "- Varianzas: $\\mathbb{E}[X^2] - \\mathbb{E}[X]^2$\n",
    "- Transformaciones: $\\mathbb{E}[\\log(X)], \\mathbb{E}[X^3]$, etc."
   ]
  },
  {
   "cell_type": "code",
   "execution_count": null,
   "id": "89782023",
   "metadata": {},
   "outputs": [
    {
     "name": "stdout",
     "output_type": "stream",
     "text": [
      "Media (E[X]): 24.999999999999986\n",
      "Esperanza de X^2 (E[X^2]): 628.9999999999999\n",
      "Varianza: 4.000000000000568\n",
      "Desviación estándar: 2.000000000000142\n"
     ]
    }
   ],
   "source": [
    "from scipy.stats import norm\n",
    "import numpy as np\n",
    "\n",
    "# Distribución normal con media=25 y STD=2\n",
    "distribucion = norm(loc=25, scale=2)\n",
    "\n",
    "# Valor esperado de X\n",
    "media = distribucion.expect()\n",
    "\n",
    "# E[X^2]\n",
    "esperanza_cuadrado = distribucion.expect(lambda x: x**2)\n",
    "\n",
    "# Varianza: Var(X) = E[X^2] - (E[X])^2\n",
    "varianza = esperanza_cuadrado - media**2\n",
    "\n",
    "# Desviación estándar\n",
    "desviacion_estandar = np.sqrt(varianza)\n",
    "\n",
    "# Hacemo print\n",
    "print(\"Media (E[X]):\", media)\n",
    "print(\"Esperanza de X^2 (E[X^2]):\", esperanza_cuadrado)\n",
    "print(\"Varianza:\", varianza)\n",
    "print(\"Desviación estándar:\", desviacion_estandar)"
   ]
  },
  {
   "cell_type": "markdown",
   "id": "c6ea7707",
   "metadata": {},
   "source": [
    "#### 1.3.2. Varianza\n",
    "\n",
    "Una medida complementaria al valor esperado es la **varianza**, que mide qué tanto varía $f(x)$ alrededor de su valor esperado. Se denota como:\n",
    "\n",
    "$$\n",
    "\\mathrm{var}_p[f] = \\mathbb{E}_p\\left[(f(x) - \\mathbb{E}_p[f])^2\\right]\n",
    "$$\n",
    "\n",
    "y también puede escribirse como:\n",
    "\n",
    "$$\n",
    "\\mathrm{var}_p[f] = \\mathbb{E}_p[f(x)^2] - \\left(\\mathbb{E}_p[f]\\right)^2\n",
    "$$\n",
    "\n",
    "Esta forma alternativa resulta muy útil para el cálculo práctico de la varianza."
   ]
  }
 ],
 "metadata": {
  "kernelspec": {
   "display_name": "mgp",
   "language": "python",
   "name": "python3"
  },
  "language_info": {
   "codemirror_mode": {
    "name": "ipython",
    "version": 3
   },
   "file_extension": ".py",
   "mimetype": "text/x-python",
   "name": "python",
   "nbconvert_exporter": "python",
   "pygments_lexer": "ipython3",
   "version": "3.13.2"
  }
 },
 "nbformat": 4,
 "nbformat_minor": 5
}
