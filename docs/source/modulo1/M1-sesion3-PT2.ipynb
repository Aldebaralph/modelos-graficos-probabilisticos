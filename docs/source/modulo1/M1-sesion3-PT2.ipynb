{
 "cells": [
  {
   "cell_type": "markdown",
   "id": "a39a1cee",
   "metadata": {},
   "source": [
    "# Sesión 3 B"
   ]
  },
  {
   "cell_type": "markdown",
   "id": "5a66d130",
   "metadata": {},
   "source": [
    "## 1. Repaso de probabilidad (parte 2B)"
   ]
  }
 ],
 "metadata": {
  "kernelspec": {
   "display_name": "mgp",
   "language": "python",
   "name": "python3"
  },
  "language_info": {
   "name": "python",
   "version": "3.13.2"
  }
 },
 "nbformat": 4,
 "nbformat_minor": 5
}
