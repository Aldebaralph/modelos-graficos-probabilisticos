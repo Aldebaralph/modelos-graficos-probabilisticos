{
 "cells": [
  {
   "cell_type": "markdown",
   "id": "a39a1cee",
   "metadata": {},
   "source": [
    "# Sesión 3"
   ]
  },
  {
   "cell_type": "markdown",
   "id": "5a66d130",
   "metadata": {},
   "source": [
    "## 1. Repaso de probabilidad (parte 2B)"
   ]
  }
 ],
 "metadata": {
  "language_info": {
   "name": "python"
  }
 },
 "nbformat": 4,
 "nbformat_minor": 5
}
