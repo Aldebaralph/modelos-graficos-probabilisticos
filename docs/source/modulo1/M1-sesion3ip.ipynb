{
  "cells": [
    {
      "cell_type": "markdown",
      "id": "0e7d316f",
      "metadata": {},
      "source": [
        "# Sesión 3"
      ]
    },
    {
      "cell_type": "markdown",
      "id": "b21d15f3",
      "metadata": {},
      "source": [
        "## 1. Repaso de probabilidad (parte 2)"
      ]
    },
    {
      "cell_type": "markdown",
      "id": "5702d178",
      "metadata": {},
      "source": [
        "### 1.1. Variables aleatorias"
      ]
    },
    {
      "cell_type": "markdown",
      "id": "0dcf3466",
      "metadata": {},
      "source": [
        "Las variables aleatorias son funciones que asignan un valor numérico a cada resultado de un experimento aleatorio. Se clasifican en dos tipos:\n",
        "\n",
        "* **Variables aleatorias discretas**\n",
        "* **Variables aleatorias continuas**"
      ]
    },
    {
      "cell_type": "markdown",
      "id": "cb393013",
      "metadata": {},
      "source": [
        "#### Variables aleatorias discretas\n",
        "\n",
        "```{admonition} Definición\n",
        ":class: note\n",
        "\n",
        "Sea $\\Omega$ un espacio muestral discreto, es decir, un conjunto finito o numerable de posibles resultados de un experimento aleatorio.\n",
        "\n",
        "Una variable aleatoria discreta es una función que asigna un número real a cada elemento de $\\Omega$:\n",
        "\n",
        "$$\n",
        "X: \\Omega \\to \\mathbb{R}\n",
        "$$\n",
        "\n",
        "Es decir, toma un resultado del experimento aleatorio y lo traduce a un número real que nos interesa analizar o interpretar.\n",
        "```"
      ]
    },
    {
      "cell_type": "markdown",
      "id": "fa5244ca",
      "metadata": {},
      "source": [
        "##### ¿por qué usamos variables aleatorias?\n",
        "\n",
        "Cuando trabajamos con variables aleatorias, no nos enfocamos directamente en los resultados del experimento (como obtener un 3 y un 5 al lanzar dos datos), sino en _alguna cantidad derivada_ de esos resultados: una suma, una ganacia, un conteo, etc.\n",
        "\n",
        "Esto nos permite:\n",
        "\n",
        "- Modelar situaciones de forma numérica.\n",
        "- Usar herramientas matemáticas para analizar fenómenos aleatorios.\n",
        "- Calcular cantidades como la probabilidad de éxito, el valor esperado o la variabilidad de un resultado."
      ]
    },
    {
      "cell_type": "markdown",
      "id": "89cfc3de",
      "metadata": {},
      "source": [
        "**Ejemplo**\n",
        "\n",
        "Supongamos que lanzamos dos dados. El espacio mestral es:\n",
        "\n",
        "$$\n",
        "\\Omega = \\{(i,j): i,j=1, 2, \\dots, 6\\}.\n",
        "$$\n",
        "\n",
        "Este conjunto tiene 36 posibles pares ordenados, y si los dados son justos, cada uno tiene la misma probabilidad:\n",
        "\n",
        "$$p(i, j) = \\frac{1}{36}$$\n",
        "\n",
        "Ahora, supongamos el siguiente juego:\n",
        "\n",
        "- Ganas $500 si la suma de los datos es 7.\n",
        "- Pierdes $100 en cualquier otro caso.\n",
        "\n",
        "Podemos **definir una variable aleatoria discreta $X(i, j)$** que represente la ganacia del juego:\n",
        "\n",
        "$$\n",
        "X(i,j) = \\left\\lbrace\n",
        "\\begin{array}{lc}\n",
        "500  &  \\text{si } i+j=7 \\\\\n",
        "-100 &  \\text{si } i+j\\neq7\n",
        "\\end{array}\n",
        "\\right .\n",
        "$$"
      ]
    },
    {
      "cell_type": "markdown",
      "id": "fda740b0",
      "metadata": {},
      "source": [
        "```{admonition} Interpretación\n",
        ":class: tip\n",
        "\n",
        "Esta **variable aleatoria** convierte los resultados del experimento (el lanzamiento de los dados) en una cantidad que nos interesa: la ganancia o pérdida en el juego.\n",
        "\n",
        "Así, en lugar de analizar directamente los pares $(i, j)$, analizamos el _comportamiento_ de $X$, que ya resume lo que queremos estudiar.\n",
        "```"
      ]
    },
    {
      "cell_type": "markdown",
      "id": "111c27b1",
      "metadata": {},
      "source": [
        "#### 1.1.1. Función de _masa_ de probabilidad (PMF)\n",
        "\n",
        "Una vez que tenemos una variable aleatoria discreta $X$, queremos saber con qué probabilidad toma cada uno de sus posibles valores.\n",
        "\n",
        "Para eso usamos la función de masa de probabilidad o PMF _(Probability Mass Function)_.\n",
        "\n",
        "##### ¿qué hace la PMF?\n",
        "\n",
        "La PMF asigna una probabilidad a cada valor posible que puede tomar la variable aleatoria.\n",
        "\n",
        "En otras palabras:\n",
        "\n",
        "> La PMF mapea cada valor real que puede tomar $X$ al número entre 0 y 1 que representa su **probabilidad**.\n",
        "\n",
        "![](../images/PMF.png)"
      ]
    },
    {
      "cell_type": "markdown",
      "id": "95e00461",
      "metadata": {},
      "source": [
        "#### 1.1.2. Función de distribución acumulada (CDF)\n",
        "\n",
        "La función de distribución acumulada —conocida como CDF _(Cumulative Distribution Function)_— es una forma alternativa de describir una variable aleatoria discreta $X$.\n",
        "\n",
        "##### ¿qué hace la CDF?\n",
        "\n",
        "La CDF asigna a cada valor $x$ la probabilidad de que la variable aleatoria $X$ tome un valor **menor o igual** a $x$.\n",
        "\n",
        "\n",
        "![](../images/CMF.png)"
      ]
    },
    {
      "cell_type": "markdown",
      "id": "bc33a724",
      "metadata": {},
      "source": [
        "```{admonition} Propiedades de la CDF\n",
        ":class: note\n",
        "\n",
        "- $F(x)$ es **monótona no decreciente**: nunca baja.\n",
        "\n",
        "- $0 \\leq F(x) \\leq 1$.\n",
        "\n",
        "- $\\lim_{x \\to \\infty} F(x) = 1$.\n",
        "\n",
        "- $\\lim_{x \\to -\\infty} F(x) = 0$.\n",
        "```"
      ]
    },
    {
      "cell_type": "markdown",
      "id": "e9c82d4f",
      "metadata": {},
      "source": [
        "Consideramos el tiro de un solo dado. El dado está cargado, de modo que solo salen los valores $1$, $5$ y $6$, y de modo que la función de probabilidad sea:\n",
        "$$\n",
        "f(X) = \\left\\{\\begin{array}{cc }0.3 & X=1 \\\\ 0.3 & X=5 \\\\ 0.4 & X=6\\end{array}\\right.\n",
        "$$"
      ]
    },
    {
      "cell_type": "code",
      "execution_count": 1,
      "id": "021365c4",
      "metadata": {
        "tags": [
          "thebe-init"
        ]
      },
      "outputs": [],
      "source": [
        "from scipy import stats\n",
        "from matplotlib import pyplot as plt\n",
        "import numpy as np"
      ]
    },
    {
      "cell_type": "code",
      "execution_count": 2,
      "id": "c45d9cf4",
      "metadata": {},
      "outputs": [],
      "source": [
        "# definir listas de valores de X y probabilidades\n",
        "xk = [1, 5, 6]\n",
        "pk = [0.3, 0.3, 0.4]"
      ]
    },
    {
      "cell_type": "code",
      "execution_count": 3,
      "id": "f3d4372e",
      "metadata": {},
      "outputs": [],
      "source": [
        "# se define una variable aleatoria discreta\n",
        "X = stats.rv_discrete(name='X', values=(xk, pk))"
      ]
    },
    {
      "cell_type": "code",
      "execution_count": 4,
      "id": "841aa8d8",
      "metadata": {},
      "outputs": [
        {
          "data": {
            "image/png": "[encoded data removed]",
            "text/plain": [
              "<Figure size 640x480 with 1 Axes>"
            ]
          },
          "metadata": {},
          "output_type": "display_data"
        }
      ],
      "source": [
        "x = range(1,7)\n",
        "y = X.pmf(x)\n",
        "\n",
        "plt.plot(x, y, 'bo', label='PMF')\n",
        "plt.vlines(x, 0, y, colors='b', lw=5, alpha=0.5)\n",
        "plt.title('Función de masa de probabilidad')\n",
        "plt.xlabel('Valores de X')\n",
        "plt.ylabel('Probabilidad')\n",
        "plt.legend()\n",
        "plt.grid()\n",
        "plt.show()"
      ]
    },
    {
      "cell_type": "markdown",
      "id": "56ad51e0",
      "metadata": {},
      "source": [
        "Como tabla, siguiendo el ejemplo de los dados:\n",
        "\n",
        "$$\n",
        "F(X) = p(X \\leq x).\n",
        "$$\n",
        "\n",
        "| x      | 1   | 2   | 3   | 4   | 5   | 6   |\n",
        "| ------ | --- | --- | --- | --- | --- | --- |\n",
        "| p(X=x) | 0.3 | 0   | 0   | 0   | 0.3 | 0.4 |\n",
        "| F(x)   | 0.3 | 0.3 | 0.3 | 0.3 | 0.6 | 1   |"
      ]
    },
    {
      "cell_type": "markdown",
      "id": "92d9d7d3",
      "metadata": {},
      "source": [
        "```{admonition} OJO\n",
        ":class: warning\n",
        "\n",
        "Es fácil notar que:\n",
        "\n",
        "- $(0 \\leq p(a) \\leq 1)$\n",
        "- $(x)$ puede ser cualquier número. Si $(x)$ es un valor que $(X)$ nunca toma, entonces $(p(x) = 0)$.\n",
        "\n",
        "🔸 La **primera afirmación aplica tanto para la PMF como para la CDF**:\n",
        "Ambas funciones siempre devuelven valores entre 0 y 1.\n",
        "\n",
        "🔸 La **segunda afirmación aplica solo para la PMF**:\n",
        "La CDF $(F(x) = \\mathbb{P}(X \\leq x))$ puede ser mayor que 0 incluso si $(X)$ nunca toma el valor exacto $(x)$, porque **acumula** las probabilidades de los valores menores o iguales a $(x)$.\n",
        "```"
      ]
    },
    {
      "cell_type": "markdown",
      "id": "9320d6f7",
      "metadata": {},
      "source": [
        "Recapitulando, tenemos:\n",
        "\n",
        "| **Concepto**            | **Palabra clave**           | **¿Qué representa?**                              |\n",
        "| ----------------------- | --------------------------- | ------------------------------------------------- |\n",
        "| Espacio muestral        | “Todo lo posible y medible” | Todas las salidas del experimento                 |\n",
        "| Función de probabilidad | “Peso”                      | Cuán probable es cada resultado                   |\n",
        "| Variable aleatoria      | “Traducción”                | Asocia un número a cada resultado del experimento |\n",
        "| Distribución            | “Comportamiento”            | Cómo se reparten los valores que genera $(X)$     |"
      ]
    }
  ],
  "metadata": {
    "kernelspec": {
      "display_name": "mgp",
      "language": "python",
      "name": "python3"
    },
    "language_info": {
      "codemirror_mode": {
        "name": "ipython",
        "version": 3
      },
      "file_extension": ".py",
      "mimetype": "text/x-python",
      "name": "python",
      "nbconvert_exporter": "python",
      "pygments_lexer": "ipython3",
      "version": "3.13.2"
    }
  },
  "nbformat": 4,
  "nbformat_minor": 5
}
