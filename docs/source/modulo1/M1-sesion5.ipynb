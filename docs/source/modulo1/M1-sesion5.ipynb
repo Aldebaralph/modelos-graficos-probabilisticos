{
 "cells": [
  {
   "cell_type": "markdown",
   "id": "04e44f84",
   "metadata": {},
   "source": [
    "# Sesión 5\n",
    "\n",
    "## El error (ε) en regresión lineal: de la geometría a la estadística"
   ]
  },
  {
   "cell_type": "markdown",
   "id": "fabbe1ea",
   "metadata": {},
   "source": [
    "![Imagen resumen](../images/sesion5_resumen_2.png)"
   ]
  },
  {
   "cell_type": "markdown",
   "id": "1556a9a5",
   "metadata": {},
   "source": [
    "> **Objetivos de la clase:**\n",
    "> - Recordar el ajuste de curvas polinomiales.\n",
    "> - Entender el fenómeno de overfitting en casos prácticos.\n",
    "> - Explicar los mínimos cuadrados ordinaros mediante el principio de máxima verosimilitud."
   ]
  },
  {
   "cell_type": "markdown",
   "id": "5ad09d4c",
   "metadata": {},
   "source": [
    "![Imagen resumen2](../images/sesion5_resumen.png)"
   ]
  },
  {
   "cell_type": "markdown",
   "id": "bcceaefb",
   "metadata": {},
   "source": [
    "## 1. Introducción\n",
    "\n",
    "Suponga que tenemos un conjunto de entrenamiento con $N$ observaciones de $x$, \n",
    "\n",
    "$$[x_1, \\dots, x_N],$$\n",
    "\n",
    "en conjunto con las observaciones correspondientes de la variable objetivo $y$, \n",
    "\n",
    "$$[y_1, \\dots, y_N].$$\n",
    "\n",
    "En la siguiente gráfica mostramos datos de entrenamiento, con $N=20$. Estos datos se generaron eligiendo $x$ uniformemente espaciados en el intervalo $[0, 1]$, y la variable objetivo $y$ como el resultado de la función $\\sin (2 \\pi x)$ más un pequeño ruido distribuido normal:"
   ]
  },
  {
   "cell_type": "markdown",
   "id": "2c9746ee",
   "metadata": {},
   "source": [
    "```{thebe-button}\n",
    "```"
   ]
  },
  {
   "cell_type": "code",
   "execution_count": 1,
   "id": "85a2d3f6",
   "metadata": {},
   "outputs": [],
   "source": [
    "# Importar bibliotecas\n",
    "import numpy as np\n",
    "import matplotlib.pyplot as plt"
   ]
  },
  {
   "cell_type": "code",
   "execution_count": 3,
   "id": "ed6d2aee",
   "metadata": {},
   "outputs": [],
   "source": [
    "# Sembramos semilla\n",
    "np.random.seed(0)"
   ]
  },
  {
   "cell_type": "code",
   "execution_count": 4,
   "id": "8621d069",
   "metadata": {},
   "outputs": [],
   "source": [
    "# Generamos datos ficticios\n",
    "N = 21\n",
    "\n",
    "x = np.linspace(0, 1, N)\n",
    "y = np.sin(2 * np.pi * x) + np.random.normal(0, 0.2, N)"
   ]
  },
  {
   "cell_type": "code",
   "execution_count": 7,
   "id": "5c042f16",
   "metadata": {},
   "outputs": [
    {
     "data": {
      "image/png": "[encoded data removed]",
      "text/plain": [
       "<Figure size 640x480 with 1 Axes>"
      ]
     },
     "metadata": {},
     "output_type": "display_data"
    }
   ],
   "source": [
    "# Gráfica de los datos\n",
    "plt.plot(x, y, 'o', label='Datos', color='purple')\n",
    "plt.xlabel('x')\n",
    "plt.ylabel('y')\n",
    "plt.legend()\n",
    "plt.grid()\n",
    "plt.show()"
   ]
  },
  {
   "cell_type": "markdown",
   "id": "367ec491",
   "metadata": {},
   "source": [
    "*Objetivo:* \n",
    "\n",
    "Explotar estos datos de entrenamiento para hacer predicciones $\\hat{y}$ de la variable objetivo para algún nuevo valor de la variable de entrada."
   ]
  },
  {
   "cell_type": "markdown",
   "id": "6f999dcf",
   "metadata": {},
   "source": [
    "*Matemáticamente:*\n",
    "\n",
    "Lo que queremos hacer es ajustar a los datos una función polinomial de la forma:\n",
    "\n",
    "$$\n",
    "f(x, w) = w_0 + w_1 x + w_2 x^{2} + \\dots + w_M x^{M} = \\sum_{j=0}^{M} w_j x^j.\n",
    "$$"
   ]
  },
  {
   "cell_type": "markdown",
   "id": "63454e26",
   "metadata": {},
   "source": [
    "Notemos que aunque $f$ es una función no lineal de $x$, es una función **lineal respecto a los coeficientes $w$**."
   ]
  },
  {
   "cell_type": "markdown",
   "id": "a3706191",
   "metadata": {},
   "source": [
    "```{admonition} Lineal respecto a los coeficientes/parámetros\n",
    ":class: tip\n",
    "\n",
    "**¿Qué significa que una función sea lineal respecto a sus parámetros?**\n",
    "\n",
    "Una función es *lineal en los parámetros* cuando puede escribirse como una **combinación lineal de los coeficientes** (parámetros), aunque no necesariamente sea lineal en las variables explicativas.  \n",
    "\n",
    "Por ejemplo, en un modelo de regresión lineal múltiple:\n",
    "\n",
    "$$\n",
    "f(x; \\beta) = \\beta_0 + \\beta_1 x_1 + \\beta_2 x_2,\n",
    "$$\n",
    "\n",
    "la relación con las variables $x_1, x_2$ es lineal, y también lo es con los parámetros $\\beta_0, \\beta_1, \\beta_2$.  \n",
    "\n",
    "En contraste, un modelo como:\n",
    "\n",
    "$$\n",
    "f(x; \\beta) = \\beta_0 + \\beta_1 x + \\beta_2 x^2,\n",
    "$$\n",
    "\n",
    "sigue siendo *lineal en los parámetros* ($\\beta_0, \\beta_1, \\beta_2$), aunque no sea lineal en la variable $x$.  \n",
    "\n",
    "Esto es clave porque permite aplicar métodos de optimización lineales (como OLS) para estimar los parámetros.\n",
    "```"
   ]
  },
  {
   "cell_type": "code",
   "execution_count": null,
   "id": "f5530db3",
   "metadata": {},
   "outputs": [],
   "source": []
  }
 ],
 "metadata": {
  "kernelspec": {
   "display_name": "mgp",
   "language": "python",
   "name": "python3"
  },
  "language_info": {
   "codemirror_mode": {
    "name": "ipython",
    "version": 3
   },
   "file_extension": ".py",
   "mimetype": "text/x-python",
   "name": "python",
   "nbconvert_exporter": "python",
   "pygments_lexer": "ipython3",
   "version": "3.13.2"
  }
 },
 "nbformat": 4,
 "nbformat_minor": 5
}
