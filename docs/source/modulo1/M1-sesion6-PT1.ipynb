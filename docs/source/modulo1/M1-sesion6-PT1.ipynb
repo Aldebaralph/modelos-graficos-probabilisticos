{
 "cells": [
  {
   "cell_type": "markdown",
   "id": "9191db1a",
   "metadata": {},
   "source": [
    "# Sesión 6 A\n",
    "\n",
    "## Actualización bayesiana discreta y predicción probabilística"
   ]
  },
  {
   "cell_type": "markdown",
   "id": "0668ca4f",
   "metadata": {},
   "source": [
    "> **Objetivos:**\n",
    "> - Repasar la regla de Bayes para calcular probabilidades.\n",
    "> - Definir e identificar los roles de probabilidad previa, verosimilitud, probabilidad posterior, datos e hipótesis en la aplicación de la regla de Bayes.\n",
    "> - Usar la regla de probabilidad total para calcular probabilidades predictivas previa y posterior."
   ]
  },
  {
   "cell_type": "markdown",
   "id": "20c9e4a7",
   "metadata": {},
   "source": [
    "## 1. Repaso de la regla de Bayes"
   ]
  },
  {
   "cell_type": "markdown",
   "id": "645dc711",
   "metadata": {},
   "source": [
    "Recordemos que la regla de Bayes nos permite *invertir* probabilidades condicionales. Dadas V.A. $X$ y $Y$, tenemos que\n",
    "\n",
    "$$\n",
    "p(Y | X) = \\frac{p(X | Y) p(Y)}{p(X)}.\n",
    "$$\n",
    "\n",
    "_¿cómo que invertirlas?_ Bueno, si conocemos la probabilidad condicional $p(X | Y)$, es decir, la probabilidad de observar $X$ dado que $Y$ ha ocurrido, podemos calcular la probabilidad condicional inversa $p(Y | X)$, es decir, la probabilidad de que $Y$ haya ocurrido dado que hemos observado $X$."
   ]
  },
  {
   "cell_type": "markdown",
   "id": "35c97bd1",
   "metadata": {},
   "source": [
    "### Ejemplo 1\n",
    "\n",
    "#### Descripción del problema\n",
    "\n",
    "Tenemos tres tipos de monedas con diferentes probabilidades de caer cara:\n",
    "\n",
    "- Tipo A: moneda justa, con probabilidad de cara de $0.5$.\n",
    "- Tipo B: moneda cargada, con probabilidad de cara de $0.6$.\n",
    "- Tipo C: moneda cargada, con probabilidad de cara de $0.9$.\n",
    "\n",
    "Tenemos un recipiente con cinco monedas, dos (2) de tipo A, dos (2) de tipo B y una (1) de tipo C. Seleccionamos una moneda del recipiente de forma aleatoria y, sin mirarla, la tiramos y obtenemos cara.\n",
    "\n",
    "#### Pregunta\n",
    "\n",
    "_¿Cuál es la probabilidad de que la moneda sea tipo A?, ¿tipo B?, ¿tipo C?_"
   ]
  },
  {
   "cell_type": "markdown",
   "id": "6ddf2d4e",
   "metadata": {},
   "source": [
    "#### Desarrollo de la solución\n",
    "\n",
    "**1.** Primero, identifiquemos las variables aleatorias involucradas:\n",
    "   - $T$: tipo de moneda seleccionada, con valores posibles $1$ (tipo A), $2$ (tipo B) y $3$ (tipo C).\n",
    "   \n",
    "   - $D$: resultado del lanzamiento de la moneda, con valores posibles $0$ (cruz) y $1$ (cara)."
   ]
  },
  {
   "cell_type": "markdown",
   "id": "ac817184",
   "metadata": {},
   "source": [
    "**2.** Sea $D$ la variable aleatoria que vale 1 si la moneda que sea cae cara y $T$ la variable aleatoria que representa el tipo de la moneda. $T$ vale:\n",
    "\n",
    "- $T=1$ si la moneda es tipo A,\n",
    "- $T=2$ si la moneda es tipo B,\n",
    "- $T=3$ si la moneda es tipo C.\n",
    "\n",
    "El problema nos pide encontrar\n",
    "\n",
    "$$\n",
    "p(T=1 | D=1), \\qquad p(T=2 | D=1), \\qquad p(T=3 | D=1).\n",
    "$$"
   ]
  },
  {
   "cell_type": "markdown",
   "id": "bf5bdc99",
   "metadata": {},
   "source": [
    "**3.** _¿qué información tenemos?_"
   ]
  },
  {
   "cell_type": "markdown",
   "id": "84d167bf",
   "metadata": {},
   "source": [
    "Información disponible:\n",
    "\n",
    "* $p(D=1|T=1) = 0.5$ (probabilidad de cara con moneda tipo A).\n",
    "* $p(D=1|T=2) = 0.6$ (probabilidad de cara con moneda tipo B).\n",
    "* $p(D=1|T=3) = 0.9$ (probabilidad de cara con moneda tipo C).\n",
    "\n",
    "También:\n",
    "* $p(T=1) = 0.4$ (probabilidad de elegir moneda tipo A).\n",
    "* $p(T=2) = 0.4$ (probabilidad de elegir moneda tipo B).\n",
    "* $p(T=3) = 0.2$ (probabilidad de elegir moneda tipo C)."
   ]
  },
  {
   "cell_type": "markdown",
   "id": "76d25e35",
   "metadata": {},
   "source": [
    "Veamos algo de terminología:\n",
    "\n",
    "- **Experimento:** (todo el proceso que se sigue hasta obtener el resultado) se selecciona una moneda aleatoriamente del recipiente, se tira y se guarda el resultado.\n",
    "\n",
    "- **Datos:** el _resultado_ del experimento. En este caso $D=1$. Pensemos que los datos vienen dados por la variable aleatoria $D$.\n",
    "\n",
    "- **Hipotesis:** estamos probando tres hipótesis. La moneda es tipo A ($T=1$), B ($T=2$), o C ($T=3$)."
   ]
  },
  {
   "cell_type": "markdown",
   "id": "6bde02a6",
   "metadata": {},
   "source": [
    "- **Probabilidad previa:** la probabilidad para cada hipótesis antes de tirar la moneda. Dado que el recipiente tiene cinco monedas, dos (2) de tipo A, dos (2) de tipo B y una (1) de tipo C, tenemos que:\n",
    "  \n",
    "  $$\n",
    "  p(T=1) = \\frac{2}{5} = 0.4, \\qquad p(T=2) = \\frac{2}{5} = 0.4, \\qquad p(T=3) = \\frac{1}{5} = 0.2.\n",
    "  $$"
   ]
  },
  {
   "cell_type": "markdown",
   "id": "5f4e2739",
   "metadata": {},
   "source": [
    "- **Verosimilitud:** esta es la misma verosimilitud que ya veníamos viendo. La función de verosimilitud $p(D | T)$ es la probabilidad de los datos dada la hipótesis. En el contexto de inferencia Bayesiana, consideramos los datos fijos, y una hipótesis variante. Por ejemplo, en este caso:\n",
    "\n",
    "$$p(D|\\theta)$$\n",
    "\n",
    "\n",
    "  $$\n",
    "  p(D=1 | T=1) = 0.5, \\qquad p(D=1 | T=2) = 0.6, \\qquad p(D=1 | T=3) = 0.9.\n",
    "  $$"
   ]
  },
  {
   "cell_type": "markdown",
   "id": "1f271a1b",
   "metadata": {},
   "source": [
    "* **Probabilidad posterior:** la probabilidad posterior de cada hipótesis dado el (los) dato(s):\n",
    "\n",
    "  $$\n",
    "  p(T=1 | D=1), \\qquad p(T=2 | D=1), \\qquad p(T=3 | D=1).\n",
    "  $$\n",
    "\n",
    "  Esto es lo que el problema nos pide encontrar."
   ]
  },
  {
   "cell_type": "markdown",
   "id": "090aa013",
   "metadata": {},
   "source": [
    "---"
   ]
  },
  {
   "cell_type": "markdown",
   "id": "eb755f91",
   "metadata": {},
   "source": [
    "Si nosotros utilizamos **la regla de Bayes**, tenemos que:\n",
    "\n",
    "$$p(T | D=1) = \\frac{p(D=1 | T) p(T)}{p(D=1)}$$\n",
    "\n"
   ]
  },
  {
   "cell_type": "markdown",
   "id": "a333f656",
   "metadata": {},
   "source": [
    "Observa que el numerador ya lo conocemos. \n",
    "\n",
    "El denominador, no lo conocemos; pero podemos calcularlo. \n",
    "\n",
    "Si recordamos, en las primeras sesiones comentamos sobre **probabilidad total**.\n",
    "\n",
    "$$p(D=1) = \\sum_{t} p(D=1 | T=t) p(T=t)$$"
   ]
  },
  {
   "cell_type": "markdown",
   "id": "ad25b5d1",
   "metadata": {},
   "source": [
    "$$ = p(D=1 | T=1) p(T=1) + p(D=1 | T=2) p(T=2) + p(D=1 | T=3) p(T=3)$$\n",
    "\n",
    "$$ = 0.5 \\cdot 0.4 + 0.6 \\cdot 0.4 + 0.9 \\cdot 0.2 = 0.62.$$\n",
    "\n",
    "Finalmente, tenemos que:\n",
    "\n",
    "$$p(T | D=1) = \\frac{p(D=1 | T) p(T)}{p(D=1)} = \\frac{p(D=1 | T) p(T)}{0.62}.$$"
   ]
  },
  {
   "cell_type": "markdown",
   "id": "a342f3bd",
   "metadata": {},
   "source": [
    "Una vez que conocemos el **denominador**, podemos calcular la probabilidad posterior para cada valor de T:\n",
    "\n",
    "$$p(T=1 | D=1) = \\frac{p(D=1 | T=1) p(T=1)}{p(D=1)} = \\frac{0.5 \\cdot 0.4}{0.62} \\approx 0.322.$$\n",
    "\n",
    "$$p(T=2 | D=1) = \\frac{p(D=1 | T=2) p(T=2)}{p(D=1)} = \\frac{0.6 \\cdot 0.4}{0.62} \\approx 0.387.$$\n",
    "\n",
    "$$p(T=3 | D=1) = \\frac{p(D=1 | T=3) p(T=3)}{p(D=1)} = \\frac{0.9 \\cdot 0.2}{0.62} \\approx 0.290.$$\n"
   ]
  },
  {
   "cell_type": "markdown",
   "id": "61464b71",
   "metadata": {},
   "source": [
    "> **Lo importante es ver cómo cambiaron mis probabilidad de las previas a las posteriores.** Antes de tirar la moneda, pensaba que era más probable que la moneda fuera tipo A o B (ambas con probabilidad 0.4), y menos probable que fuera tipo C (probabilidad 0.2). Después de tirar la moneda y ver que salió cara, mi creencia cambió: ahora pienso que es más probable que la moneda sea tipo B (probabilidad posterior 0.387), seguida de tipo A (0.322) y finalmente tipo C (0.290)."
   ]
  },
  {
   "cell_type": "code",
   "execution_count": null,
   "id": "6f22d0e9",
   "metadata": {},
   "outputs": [],
   "source": [
    "from matplotlib import pyplot as plt"
   ]
  },
  {
   "cell_type": "code",
   "execution_count": null,
   "id": "cf2bf8ea",
   "metadata": {},
   "outputs": [],
   "source": [
    "previa = [[1,2,3], [0.4,0.4,0.2]]\n",
    "posterior = [[1,2,3], [0.322,0.387,0.290]]\n",
    "\n",
    "fig, ax = plt.subplots(figsize=(8, 5))\n",
    "\n",
    "ax.bar(previa[0],\n",
    "       previa[1], alpha=0.5, label='Previas $p(T)$', color='blue', width=0.4, align='edge')\n",
    "\n",
    "ax.bar(posterior[0],\n",
    "       posterior[1], alpha=0.5, label='Posteriores $p(T|D=1)$', color='orange', width=-0.4, align='edge')\n",
    "\n",
    "plt.xlabel('Tipos de moneda')\n",
    "plt.ylabel('Probabilidad')\n",
    "plt.title('Probabilidades previas y posteriores')\n",
    "plt.legend()\n",
    "plt.show()"
   ]
  },
  {
   "cell_type": "markdown",
   "id": "5a10cd68",
   "metadata": {},
   "source": [
    "### Tabla de actualización Bayesiana\n",
    "\n",
    "Notemos que la probabilidad total $p(D=1)$ es la misma en todos los denominadores y que es la suma de los tres numeradores. Podemos organizar lo anterior en una _tabla de actualización Bayesiana_:\n",
    "\n",
    "| Hipótesis | Previa | Verosimilitud   | Numerador de Bayes   | Posterior       |\n",
    "| --------- | ------ | --------------- | -------------------- | --------------- |\n",
    "| $T$       | $p(T)$ | $p(D = 1 \\| T)$ | $p(D = 1 \\| T) p(T)$ | $p(T \\| D = 1)$ |\n",
    "|           |        |                 |                      |                 |\n",
    "| 1         | 0.4    | 0.5             | 0.2                  | (0.2/0.62) = 0.322          |\n",
    "| 2         | 0.4    | 0.6             | 0.24                 | (0.24/0.62) = 0.387          |\n",
    "| 3         | 0.2    | 0.9             | 0.18                 | (0.18/0.62) = 0.290          |\n",
    "| _total_     | $1$      | NO SE SUMA      | $p(D = 1) = 0.62$    | $1 $  |"
   ]
  },
  {
   "cell_type": "markdown",
   "id": "84e3087f",
   "metadata": {},
   "source": [
    "**Observaciones** \n",
    "- El numerador de Bayes es el producto de la previa y la verosimilitud.\n",
    "\n",
    "- Vemos en los cálculos que las probabilidades posteriores se obtienen dividiendo el numerador de Bayes entre $p(D=1)=0.62$.\n",
    "\n",
    "- El denominador, que se obtiene por la ley de probabilidad total, es la suma de todos los numeradores de Bayes."
   ]
  },
  {
   "cell_type": "markdown",
   "id": "47b98d3e",
   "metadata": {},
   "source": [
    "> Observa que, al ser la suma de los numeradores, el denominador se mantiene constante para todas las hipótesis.\n",
    "\n",
    "> Esto nos hace pensar que estamos **normalizando** los numeradores de Bayes para obtener las probabilidades posteriores.\n"
   ]
  },
  {
   "cell_type": "markdown",
   "id": "f5ba1568",
   "metadata": {},
   "source": [
    "```{admonition} Actualización Bayesiana\n",
    ":class: tip\n",
    "\n",
    "El proceso de pasar de la probabilidad previa $p(T)$ a la probabilidad posterior $p(T|D=1)$ se conoce como **actualización Bayesiana**. Este proceso usa los datos y la regla de Bayes para actualizar nuestras probabilidades de cada una de las hipótesis."
   ]
  },
  {
   "cell_type": "markdown",
   "id": "f4940eb7",
   "metadata": {},
   "source": [
    "**Notas.**\n",
    "\n",
    "- La probabilidad posterior para cada hipótesis en la útima columna, nos dice que ahora la moneda tipo B es la más probable, aunque su probabilidad bajó de la previa de 0.4 a la posterior de 0.39. La probabilidad de la moneda tipo C incrementó de 0.2 a 0.29.\n",
    "\n",
    "- El numerador de Bayes determina la probabilidad posterior, la cual se obtiene simplemente reescalando los numeradores para que sumen uno.\n",
    "\n",
    "**Si lo único que nos importara fuera la hipótesis más probable, el numerador de Bayes nos funcionaría igual de bien que la posterior normalizada.**"
   ]
  },
  {
   "cell_type": "markdown",
   "id": "674e105c",
   "metadata": {},
   "source": [
    "| Hipótesis | Previa | Verosimilitud   | Numerador de Bayes   | Posterior       |\n",
    "| --------- | ------ | --------------- | -------------------- | --------------- |\n",
    "| $T$       | $p(T)$ | $p(D = 1 \\| T)$ | $p(D = 1 \\| T) p(T)$ | $p(T \\| D = 1)$ |\n",
    "|           |        |                 |                      |                 |\n",
    "| 1         | 0.4    | 0.5             | 0.2                  | (0.2/0.62) = 0.322          |\n",
    "| 2         | 0.4    | 0.6             | <span style=\"color:red\">0.24</span> | (0.24/0.62) = <span style=\"color:red\">0.387</span> |\n",
    "| 3         | 0.2    | 0.9             | 0.18                 | (0.18/0.62) = 0.290          |\n",
    "| _total_   | $1$    | NO SE SUMA      | $p(D = 1) = 0.62$    | $1 $  |"
   ]
  },
  {
   "cell_type": "markdown",
   "id": "af1b970a",
   "metadata": {},
   "source": [
    "- Podríamos decir que el _numerador de Bayes_ es una distribución **no normalizada**."
   ]
  },
  {
   "cell_type": "markdown",
   "id": "b3338d13",
   "metadata": {},
   "source": [
    "Con esto en mente, recuerda que la regla de Bayes también se puede escribir como:\n",
    "\n",
    "$$\n",
    "p(hipótesis | datos) = \\frac{p(datos | hipótesis) p(hipótesis)}{p(datos)}\n",
    "$$"
   ]
  },
  {
   "cell_type": "markdown",
   "id": "ae8e0cb8",
   "metadata": {},
   "source": [
    "$p(datos)$ entonces, es una constante respecto a la hipóstesis y solo nos sirve para normalizar la probabilidad posterior."
   ]
  },
  {
   "cell_type": "markdown",
   "id": "cb05e8cf",
   "metadata": {},
   "source": [
    "Por tanto:\n",
    "\n",
    "$$\n",
    "p(\\text{hipótesis} | \\text{datos}) \\propto p(\\text{datos} | \\text{hipótesis}) p(\\text{hipótesis})\n",
    "$$\n",
    "\n",
    "o equivalentemente:\n",
    "\n",
    "$$\n",
    "\\text{posterior} \\propto \\text{verosimilitud} \\cdot \\text{previa}\n",
    "$$"
   ]
  },
  {
   "cell_type": "markdown",
   "id": "d6a06c0f",
   "metadata": {},
   "source": [
    "## 2. Actualizamos..."
   ]
  },
  {
   "cell_type": "markdown",
   "id": "ad1819a3",
   "metadata": {},
   "source": [
    "Modelos bayesianos pueden aprender _online_. Esto significa que pueden actualizar sus creencias a medida que reciben nuevos datos, en lugar de requerir un conjunto de datos completo para el entrenamiento. Este enfoque es especialmente útil en situaciones donde los datos llegan de **manera secuencial o en tiempo real.**\n",
    "\n",
    "- De hecho, los nuevos datos que se integran al cálculo de la probabilidad pueden ser deshechados después de la actualización, ya que la probabilidad posterior ya incorpora toda la información relevante de los datos previos. Esto permite que el modelo se adapte rápidamente a nueva información sin necesidad de almacenar todos los datos históricos."
   ]
  },
  {
   "cell_type": "markdown",
   "id": "5d230b40",
   "metadata": {},
   "source": [
    "### Ejemplo 2\n",
    "\n",
    "Supongamos que elegimos una moneda como en el ejemplo anterior. La tiramos y obtenemos cara. Tomamos la misma moneda y la tiramos, y volvemos a obtener cara.\n",
    "\n",
    "_¿Cuál es la probabilidad de que la moneda sea tipo A?, ¿O tipo B?, ¿O tipo C?_"
   ]
  },
  {
   "cell_type": "markdown",
   "id": "148b51da",
   "metadata": {},
   "source": [
    "**Solución.** Retomamos la tabla del ejemplo anterior, ahora llamando $D_1$ a la variable que representa el primer tiro de la moneda y $D_2$ a la variable que representa el segundo tiro:\n",
    "\n",
    "| Hipótesis | Previa | Verosimilitud     | Numerador de Bayes 1   | Posterior         |\n",
    "| --------- | ------ | ----------------- | ---------------------- | ----------------  |\n",
    "| $T$       | $p(T)$ | $p(D_1 = 1 \\| T)$ | $p(D_1 = 1 \\| T) p(T)$ | $p(T \\| D_1 = 1)$ |\n",
    "|           |        |                   |                        |                   |\n",
    "| $1$       | $0.4$  | $0.5$             | $0.2$                  | $0.3226$          |\n",
    "| $2$       | $0.4$  | $0.6$             | $0.24$                 | $0.3871$          |\n",
    "| $3$       | $0.2$  | $0.9$             | $0.18$                 | $0.2903$          |\n",
    "|           |        |                   |                        |                   |\n",
    "| total     | $1$    | NO SE SUMA        | $p(D_1 = 1) = 0.62$    | $1$               |\n"
   ]
  },
  {
   "cell_type": "markdown",
   "id": "07585950",
   "metadata": {},
   "source": [
    "Podemos actualizar el calculo de la probabilidad posterior, pensando en que la _previa_ es ahora la probabilidad posterior que obtuvimos en el primer tiro. Es decir, _el resultado de la posterior del primer tiro es la previa del segundo tiro_."
   ]
  },
  {
   "cell_type": "markdown",
   "id": "60d55d86",
   "metadata": {},
   "source": [
    "| Hipótesis | Previa  | Verosimilitud     | Numerador de Bayes (2) | Posterior |\n",
    "| --------- | ----------------------- | ----------------- | --------------------------------------- | --------------------------- |\n",
    "| $T$       | $p(T\\|D_1=1)$  | $p(D_2 = 1 \\| T, D_1=1)$ | $p(D_2 = 1 \\| T, D_1=1) p(T\\|D_1=1)$  | $p(T \\| D_1 = 1, D_2 = 1)$  |\n",
    "|           |                         |                   |                                         |                |\n",
    "| $1$       | $0.3226$                | $0.5$             | $0.1613$                                | $0.2463$       |\n",
    "| $2$       | $0.3871$                | $0.6$             | $0.2323$                                | $0.3547$       |\n",
    "| $3$       | $0.2903$                | $0.9$             | $0.2613$                                | $0.3990$       |\n",
    "|           |                         |                   |                                         |                             |\n",
    "| total     | $1$                  | NO SE SUMA        | $0.6549$                                   | $1$            |"
   ]
  },
  {
   "cell_type": "markdown",
   "id": "0005d257",
   "metadata": {},
   "source": [
    "* Como se señaló anteriormente, el numerador ya contiene toda la información. La **posterior** no es nada más que una renormalización del numerador. \n",
    "\n",
    "* Entonces, para la **previa** en lugar de utilizar la posterior anterior, bien podríamos haber utilizado el **numerador** de bayes anterior.\n",
    "\n",
    "* Podemos usar el **numerador 1** para construir el **numerador 2**. \n",
    "\n",
    "\n",
    "\n",
    "| Hipótesis | Numerador de Bayes 1    | Verosimilitud     | Numerador de Bayes 2                    | Posterior                   |\n",
    "| --------- | ----------------------- | ----------------- | --------------------------------------- | --------------------------- |\n",
    "| $T$       | $p(D_1 = 1 \\| T) p(T)$  | $p(D_2 = 1 \\| T)$ | $p(D_2 = 1 \\| T) p(D_1 = 1 \\| T) p(T)$  | $p(T \\| D_1 = 1, D_2 = 1)$  |\n",
    "|           |                         |                   |                                         |                             |\n",
    "| $1$       | $0.2$                   | $0.5$             | $0.1$                                   | $0.2463$                    |\n",
    "| $2$       | $0.24$                  | $0.6$             | $0.144$                                 | $0.3547$                    |\n",
    "| $3$       | $0.18$                  | $0.9$             | $0.162$                                 | $0.3990$                    |\n",
    "|           |                         |                   |                                         |                             |\n",
    "| total     | $0.62$                  | NO SE SUMA        | $0.406$                                 | $1$                         |"
   ]
  },
  {
   "cell_type": "markdown",
   "id": "9378c3d6",
   "metadata": {},
   "source": [
    "> **Notemos que en las dos tablas, la columna posterior tiene exactamente los mismos valores.**"
   ]
  },
  {
   "cell_type": "code",
   "execution_count": null,
   "id": "23b65018",
   "metadata": {},
   "outputs": [],
   "source": [
    "previa = [[1,2,3], [0.322,0.387,0.290]]\n",
    "posterior = [[1,2,3], [0.246,0.354,0.399]]\n",
    "\n",
    "fig, ax = plt.subplots(figsize=(8, 5))\n",
    "ax.bar(previa[0],\n",
    "       previa[1], alpha=0.5, label='Previas $p(T|D_1=1)$', color='blue', width=0.4, align='edge')\n",
    "\n",
    "ax.bar(posterior[0],\n",
    "       posterior[1], alpha=0.5, label='Posteriores $p(T|D_1=1,D_2=1)$', color='orange', width=-0.4, align='edge')\n",
    "plt.xlabel('Tipos de moneda')\n",
    "plt.ylabel('Probabilidad')\n",
    "plt.title('Probabilidades previas y posteriores')\n",
    "plt.legend()\n",
    "plt.show()"
   ]
  },
  {
   "cell_type": "markdown",
   "id": "5608168d",
   "metadata": {},
   "source": [
    "Como podemos observar, la hipótesis $T=3$ es ahora lo más probable."
   ]
  },
  {
   "cell_type": "markdown",
   "id": "81e7d1ca",
   "metadata": {},
   "source": [
    "## Probabilidad predictiva"
   ]
  },
  {
   "cell_type": "markdown",
   "id": "de698b0d",
   "metadata": {},
   "source": [
    "### Conexión entre distribución posterior y probabilidades predictivas\n",
    "\n",
    "Hasta ahora hemos trabajado con **la estimación de la distribución posterior**. El objetivo era responder a la pregunta:\n",
    "\n",
    "> _Dada la evidencia observada, (por ejemplo, que al lanzar la moneda salió cara), ¿cuál es la probabilidad de que la moneda sea de cierto tipo?_\n",
    "\n",
    "Con esto logramos **actualizar nuestras creencias** sobre las hipótesis (tipos de moneda) a partir de los datos observados. \n",
    "\n",
    "Sin embargo, en muchos casos, no solo nos interesa identificar cuál hipótesis es más probable, sino también **hacer predicciones sobre lo que ocurrirá en futuros experimentos**.\n",
    "\n",
    "Aquí es donde entran en juego dos conceptos nuevos y fundamentales: **probabilidad predictiva previa** y **probabilidad predictiva posterior**."
   ]
  },
  {
   "cell_type": "markdown",
   "id": "e1d9538a",
   "metadata": {},
   "source": [
    "### Probabilidad predictiva previa\n",
    "\n",
    "* Se calcula antes de observar ningún dato.\n",
    "\n",
    "* Responde a: _si tomo una moneda al azar del recipiente y la lanzo, ¿cuál es la probabilidad de que salga cara (o sello)?_\n",
    "\n",
    "* Se obtiene combinando las probabilidades a priori con la **ley de probabilidad total**.\n",
    "\n",
    "#### Ejemplo 3\n",
    "\n",
    "Retomamos el ejemplo que hemos venido trabajando, donde tenemos tres tipos monedas que son indistinguibles, solo tienen diferente probabilidad de caer en cara:\n",
    "\n",
    "- Tipo A: moneda justa, con probabilidad de cara de $0.5$.\n",
    "- Tipo B: moneda cargada, con probabilidad de cara de $0.6$.\n",
    "- Tipo C: moneda cargada, con probabilidad de cara de $0.9$.\n",
    "\n",
    "Tenemos un recipiente con CUATRO monedas, dos (2) de tipo A, una (1) de tipo B y una (1) de tipo C. \n",
    "\n",
    "**Previa**\n",
    "\n",
    "$$\n",
    "p(T=1) = \\frac{2}{4} = 0.5, \\qquad p(T=2) = \\frac{1}{4} = 0.25, \\qquad p(T=3) = \\frac{1}{4} = 0.25.\n",
    "$$\n",
    "\n",
    "**Probabilidad total**\n",
    "\n",
    "$$\n",
    "\\begin{align} \\nonumber\n",
    "p(D=1) & = & p(D=1|T=1) p(T=1) + p(D=1|T=2) p(T=2) + p(D=1|T=3) p(T=3) \\\\ \\nonumber\n",
    "       & = & 0.5 \\cdot 0.5 + 0.6 \\cdot 0.25 + 0.9 \\cdot 0.25 \\\\ \\nonumber\n",
    "       & = & 0.625\n",
    "\\end{align}\n",
    "$$\n",
    "\n",
    "> **Pregunta.** ¿Cuánto es $p(D=0)$?"
   ]
  },
  {
   "cell_type": "markdown",
   "id": "aafcbde3",
   "metadata": {},
   "source": [
    "> Estas probabilidades dan una predicción (probabilística) de lo que sucederá si la moneda se tira. Dado que se calculan antes de obtener datos, con las probabilidades previas se conocen como **probabilidades predictivas previas**."
   ]
  },
  {
   "cell_type": "markdown",
   "id": "a51c51de",
   "metadata": {},
   "source": [
    "### Probabilidad predictiva posterior"
   ]
  },
  {
   "cell_type": "markdown",
   "id": "03a804b9",
   "metadata": {},
   "source": [
    "* Se calcula después de observar datos y actualizar las creencias sobre los tipos de monedas.\n",
    "\n",
    "* Responde a: _dada la evidencia observada, ¿qué probabilidad hay de que en el próximo lanzamiento salga cara?_\n",
    "\n",
    "* Se obtiene combinando las distribuciones posteriores con las probabilidades de cada tipo de moneda."
   ]
  },
  {
   "cell_type": "markdown",
   "id": "19e4cb86",
   "metadata": {},
   "source": [
    "#### Ejemplo 4\n",
    "\n",
    "Retomando el Ejemplo 2, obtuvimos que la moneda más probable es la tipo C, con probabilidad posterior de 0.399.\n",
    "\n",
    "**Pregunta predictiva:** \n",
    "\n",
    "$$ p(\\text{cara en el 3er lanzamiento} | \\text{dos caras anteriores}) $$\n",
    "\n",
    "$$ p(D_3=1 | D_1=1, D_2=1) $$"
   ]
  },
  {
   "cell_type": "markdown",
   "id": "e6cb175c",
   "metadata": {},
   "source": [
    "### Cálculo numérico con `numpy`"
   ]
  },
  {
   "cell_type": "markdown",
   "id": "01da56dc",
   "metadata": {},
   "source": [
    "**Probabilidad de cara según cada hipótesis:**\n",
    "\n",
    "$$\n",
    "P(D_3=1 \\mid T=A) = 0.5, \\quad\n",
    "P(D_3=1 \\mid T=B) = 0.6, \\quad\n",
    "P(D_3=1 \\mid T=C) = 0.9\n",
    "$$"
   ]
  },
  {
   "cell_type": "code",
   "execution_count": null,
   "id": "05ad8e18",
   "metadata": {},
   "outputs": [],
   "source": [
    "import numpy as np\n",
    "\n",
    "# Probabilidades de cara para cada tipo de moneda\n",
    "p_cara = np.array([0.5, 0.6, 0.9])   # P(D3=1|T)\n",
    "p_cara"
   ]
  },
  {
   "cell_type": "markdown",
   "id": "51743b23",
   "metadata": {},
   "source": [
    "**Posterior sobre $T$ después de dos caras:**\n",
    "\n",
    "$$\n",
    "P(T=A \\mid D_1=1, D_2=1) = 0.246, \\quad\n",
    "P(T=B \\mid D_1=1, D_2=1) = 0.355, \\quad\n",
    "P(T=C \\mid D_1=1, D_2=1) = 0.399\n",
    "$$"
   ]
  },
  {
   "cell_type": "code",
   "execution_count": null,
   "id": "fae75139",
   "metadata": {},
   "outputs": [],
   "source": [
    "# Posterior sobre T después de dos caras\n",
    "posterior_T = np.array([0.246, 0.355, 0.399]) \n",
    "posterior_T"
   ]
  },
  {
   "cell_type": "markdown",
   "id": "f91a5900",
   "metadata": {},
   "source": [
    "**Predicción:**\n",
    "\n",
    "$$\n",
    "P(D_3=1 \\mid D_1=1, D_2=1) \n",
    "= \\sum_{t \\in \\{A,B,C\\}} P(D_3=1 \\mid T=t)\\, P(T=t \\mid D_1=1, D_2=1)\n",
    "$$"
   ]
  },
  {
   "cell_type": "markdown",
   "id": "527cd892",
   "metadata": {},
   "source": [
    "**Sustitución de valores**\n",
    "\n",
    "$$\n",
    "P(D_3=1 \\mid D_1=1, D_2=1) \n",
    "= 0.5(0.246) + 0.6(0.355) + 0.9(0.399)\n",
    "$$"
   ]
  },
  {
   "cell_type": "code",
   "execution_count": null,
   "id": "4cc29f91",
   "metadata": {},
   "outputs": [],
   "source": [
    "# Probabilidad predictiva\n",
    "p_predictiva = np.sum(p_cara * posterior_T)\n",
    "p_predictiva"
   ]
  },
  {
   "cell_type": "markdown",
   "id": "76466513",
   "metadata": {},
   "source": [
    "**Resultado numérico**\n",
    "\n",
    "$$\n",
    "P(D_3=1 \\mid D_1=1, D_2=1) \\approx 0.695\n",
    "$$"
   ]
  },
  {
   "cell_type": "code",
   "execution_count": null,
   "id": "f323bc4b",
   "metadata": {},
   "outputs": [],
   "source": [
    "print(f\"Probabilidad predictiva de que salga cara en el 3er tiro: {p_predictiva:.3f}\")"
   ]
  },
  {
   "cell_type": "markdown",
   "id": "0d0d1740",
   "metadata": {},
   "source": [
    "**Respuesta concreta**\n",
    "\n",
    "Con el ejemplo 2 obtuvimos que la moneda más probable es la tipo C, con probabilidad posterior de $0.399$.\n",
    "\n",
    "Aún cuando la moneda tipo C es la más probable, la probabilidad de que el tercer lanzamiento sea cara no es $0.9$, sino un promedio ponderado de las posteriores: $\\approx 0.695$."
   ]
  },
  {
   "cell_type": "markdown",
   "id": "ba3a37ff",
   "metadata": {},
   "source": [
    "> Estas nuevas probabilidades dan una predicción (probabilística) de lo que sucederá si la moneda se tira nuevamente. Dado que se calculan después de obtener datos y actualizar las previas a las posteriores, se conocen como **probabilidades predictivas posteriores**."
   ]
  },
  {
   "cell_type": "markdown",
   "id": "f383683c",
   "metadata": {},
   "source": [
    "## Conclusiones\n",
    "\n",
    "> La posterior nos da información sobre las hipótesis dado un resultado.\n",
    ">\n",
    "> Las predictivas nos permiten hacer pronósticos sobre nuevos resultados, ya sea antes de observar datos (previa) o después de actualizar con datos (posterior)."
   ]
  }
 ],
 "metadata": {
  "kernelspec": {
   "display_name": "mgp",
   "language": "python",
   "name": "python3"
  },
  "language_info": {
   "codemirror_mode": {
    "name": "ipython",
    "version": 3
   },
   "file_extension": ".py",
   "mimetype": "text/x-python",
   "name": "python",
   "nbconvert_exporter": "python",
   "pygments_lexer": "ipython3",
   "version": "3.13.2"
  }
 },
 "nbformat": 4,
 "nbformat_minor": 5
}
