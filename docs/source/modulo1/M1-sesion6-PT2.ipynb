{
 "cells": [
  {
   "cell_type": "markdown",
   "id": "246a36d7",
   "metadata": {},
   "source": [
    "# Sesión 6 B\n",
    "\n",
    "## Actualización bayesiana continua"
   ]
  },
  {
   "cell_type": "markdown",
   "id": "7fee1300",
   "metadata": {},
   "source": [
    "> **Objetivos:**\n",
    "> - Comprender una familia de distributiones parametrizadas que representa un rango continuo de hipótesis para los datos observados.\n",
    ">\n",
    "> - Aplicar el teorema de Bayes para actualizar la densidad de probabilidad dados los datos y una distribución posterior.\n",
    ">\n",
    "> - Interpretar y usar probabilidades predictivas posteriores."
   ]
  },
  {
   "cell_type": "markdown",
   "id": "3f3d693b",
   "metadata": {},
   "source": [
    "### 1. De hipótesis discretas a parámetros continuos  \n",
    "\n",
    "En los ejemplos anteriores trabajamos con un modelo **discreto**:\n",
    "\n",
    "- Teníamos un conjunto **finito de hipótesis**: la moneda podía ser de tipo A, B o C, cada una con su probabilidad previa.  \n",
    "\n",
    "- La distribución $p(\\theta)$ representaba esa creencia inicial sobre **cuál hipótesis era verdadera**.  \n",
    "\n",
    "En ese escenario, el razonamiento bayesiano consistía en:  \n",
    "1. Asignar probabilidades a las hipótesis (previas).  \n",
    "2. Observar datos (por ejemplo, caras al lanzar la moneda).  \n",
    "3. Actualizar esas probabilidades mediante Bayes, obteniendo una **posterior discreta** sobre el conjunto de hipótesis.  \n",
    "\n",
    "Ahora pasamos a un escenario distinto: el **caso continuo**.  \n",
    "- Ya no pensamos en un número finito de hipótesis, sino en un **parámetro desconocido $\\theta$**.  \n",
    "- Por ejemplo, $\\theta$ puede ser la probabilidad de obtener cara al lanzar una moneda.  \n",
    "- Como no sabemos su valor exacto, suponemos que $\\theta$ puede tomar **infinitos valores en el intervalo $[0,1]$**.  \n",
    "\n",
    "En este caso:  \n",
    "- La verosimilitud sigue siendo discreta (los datos son lanzamientos: cara o cruz, modelados por una Bernoulli).  \n",
    "- Pero la distribución **previa sobre $\\theta$** es ahora una distribución **continua**.  \n",
    "\n",
    "Así, el proceso bayesiano cambia de \"asignar probabilidades a hipótesis finitas\" a \"asignar densidades de probabilidad a un espacio continuo de posibles valores para el parámetro\".  "
   ]
  },
  {
   "cell_type": "markdown",
   "id": "4c4d17ac",
   "metadata": {},
   "source": [
    "> En resumen:  \n",
    "> - **Caso discreto**: $p(\\theta)$ representa probabilidades sobre un conjunto finito de > hipótesis (tipos de monedas).\n",
    ">\n",
    "> - **Caso continuo**: $p(\\theta)$ es una densidad sobre todos los valores posibles del > parámetro $\\theta$."
   ]
  },
  {
   "cell_type": "markdown",
   "id": "dfbb7161",
   "metadata": {},
   "source": [
    "### 2. Justificación de usar $\\theta$ continua\n",
    "\n",
    "El enfoque _continuo_ es más realista en muchos contextos, porque en la práctica no sabemos de antemano cuáles son los valores posibles de la probabilidad de cara.\n",
    "\n",
    "En lugar de restringirnos a 3 hipótesis, admitimos que la probabilidad de cara $\\theta$ puede ser cualquier número real en $[0,1]$.\n",
    "\n",
    "Así, el modelo nos permite **aprender directamente la probabilidad de éxito** en vez de solo elegir entre hipótesis predefinidas."
   ]
  },
  {
   "cell_type": "markdown",
   "id": "b70d52f5",
   "metadata": {},
   "source": [
    "### 3. Previas continuas, verosimilitudes discretas\n",
    "\n",
    "**Dos niveles en el modelo bayesiano**\n",
    "\n",
    "Cuando aplicamos Bayes, siempre jugamos en dos niveles distintos de incertidumbre:\n",
    "\n",
    "$$\n",
    "p(\\theta | x) = \\frac{p(x | \\theta) p(\\theta)}{p(x)}.\n",
    "$$\n",
    "\n",
    "1. Nivel de los datos (observaciones):\n",
    "\n",
    "    * En el ejemplo de la moneda, los datos provienen de una Bernoulli, es decir, $X \\in {0,1}$.\n",
    "\n",
    "    * Esto significa que la verosimilitud (la probabilidad de observar los datos dados los parámetros) $p(x|\\theta)$ es **discreta.**\n",
    "\n",
    "2.  Nivel del parámetro desconocido $\\theta$:\n",
    "\n",
    "    * Aquí, $\\theta$ es la probabilidad de éxito (caer cara).\n",
    "\n",
    "    * No conocemos $\\theta$, pero asumimos que **puede tomar infinitos valores en [0,1]**.\n",
    "\n",
    "    * Como no sabemos cuál es $\\theta$, lo tratamos como una _variable aleatoria continua_ con su propia distribución: **la distribución previa (prior)** $p(\\theta)$."
   ]
  },
  {
   "cell_type": "markdown",
   "id": "2289fa41",
   "metadata": {},
   "source": [
    "```{admonition} Nota\n",
    ":class: tip\n",
    "\n",
    "Recuerda que el parámetro o los parámetros de una distribución siempre son los mismos para cada distribución.\n",
    "\n",
    "Lo que cambia es **cómo estimamos según el enfoque**:\n",
    "\n",
    "![](../images/sesion6-comparacion-mle-map-bayes.png)\n",
    "```"
   ]
  },
  {
   "cell_type": "markdown",
   "id": "ac9968e7",
   "metadata": {},
   "source": [
    "#### **Ejemplo**\n",
    "\n",
    "Supongamos que tenemos una moneda con probabilidad desconocida $\\theta$ de caer en cara. El valor de $\\theta$ es aleatorio y podría ser cualquier valor entre 0 y 1.\n",
    "\n",
    "##### **Prior**\n",
    "\n",
    "Para modelar nuestra incertidumbre sobre $\\theta$, **asumimos** que:\n",
    "\n",
    "$$ p(\\theta) = 2\\theta\n",
    "$$\n",
    "\n",
    "para $0 \\leq \\theta \\leq 1$"
   ]
  },
  {
   "cell_type": "markdown",
   "id": "086e27cb",
   "metadata": {},
   "source": [
    "```{figure} ../images/sesion6-comparacionprevias.png\n",
    ":alt: representacion\n",
    ":fig-align: center\n",
    ":width: 500px\n",
    "```"
   ]
  },
  {
   "cell_type": "markdown",
   "id": "a76f0ee3",
   "metadata": {},
   "source": [
    "> * Nuestra **creencia previa (prior)** sobre $\\theta$ no es uniforme.\n",
    "\n",
    "> * Estamos diciendo que, antes de ver los datos, creemos que valores grandes de $\\theta$ (más cercanos a 1) son **más probables** que valores pequeños (más cercanos a 0).\n",
    "\n",
    "> * Es una pdf válida porque:\n",
    "\n",
    "> $$ \\int_0^1 2\\theta d\\theta = 1$$\n",
    "\n",
    "> **Observa lo interesante:** \n",
    "> - La previa es _continua_ (porque $\\theta$ puede variar en infinitos valores).\n",
    "> - La verosimilitud es _discreta_ (porque los datos son 0 o 1)."
   ]
  },
  {
   "cell_type": "markdown",
   "id": "ceb993a8",
   "metadata": {},
   "source": [
    "##### **Verosimilitud**\n",
    "\n",
    "Tenemos una _verosimilitud discreta_ dado que tirar una moneda solo tiene dos posibles resultados:\n",
    "\n",
    "$$\n",
    "p(x=1 | \\theta) = \\theta, \\qquad p(x=0 | \\theta) = 1 - \\theta\n",
    "$$"
   ]
  },
  {
   "cell_type": "markdown",
   "id": "f051a410",
   "metadata": {},
   "source": [
    "##### **Enfoque bayesiano**\n",
    "\n",
    "Si:\n",
    "\n",
    "$$\n",
    "\\text{Numerador de Bayes} \\;=\\; \n",
    "\\underbrace{p(x \\mid \\theta)}_{\\text{verosimilitud (discreta)}}\\;\n",
    "\\underbrace{p(\\theta)}_{\\text{previa (continua)}}\n",
    "$$\n",
    "\n",
    "Normalizamos diviendo por la probailidad total \n",
    "\n",
    "\n",
    "$$\n",
    "p(x) \\;=\\; \\int_{0}^{1} p(x \\mid \\theta)\\, p(\\theta)\\, d\\theta\n",
    "\\quad \\Rightarrow \\quad\n",
    "p(\\theta \\mid x) \\;=\\; \\frac{p(x \\mid \\theta)\\, p(\\theta)}{p(x)}\n",
    "$$"
   ]
  },
  {
   "cell_type": "markdown",
   "id": "53febac1",
   "metadata": {},
   "source": [
    "> En este caso, la *ley de probabilidad total* la escribimos como:\n",
    "> $$p(x) = \\int_{-\\infty}^{\\infty} p(x | \\theta) p(\\theta) \\text{d}\\theta$$"
   ]
  },
  {
   "cell_type": "markdown",
   "id": "91c9f41d",
   "metadata": {},
   "source": [
    "#### Ejemplo 1: una sola observación (cara)\n",
    "\n",
    "Supongamos que tiramos la moneda una vez y obtenemos cara ($x=1$).\n",
    "\n",
    "* verosimilitud:\n",
    "\n",
    "$$\n",
    "p(x=1 \\mid \\theta) = \\theta\n",
    "$$\n",
    "\n",
    "* previa:\n",
    "\n",
    "$$\n",
    "p(\\theta) = 2\\theta, \\quad 0 \\leq \\theta \\leq 1\n",
    "$$\n",
    "\n",
    "* numerador de Bayes:\n",
    "\n",
    "$$\n",
    "p(x=1 \\mid \\theta)\\, p(\\theta) = \\theta \\cdot 2\\theta = 2\\theta^2\n",
    "$$\n",
    "\n",
    "* probabilidad total:\n",
    "\n",
    "$$\n",
    "\\begin{aligned}\n",
    "p(x=1) &= \\int_{0}^{1} \n",
    "          \\underbrace{\\theta}_{\\text{verosimilitud}}\\;\n",
    "          \\underbrace{2\\theta}_{\\text{previa}}\\, d\\theta \\\\[6pt]\n",
    "       &= \\int_{0}^{1} 2\\theta^2\\, d\\theta \\\\[6pt]\n",
    "       &= 2\\left[\\tfrac{\\theta^3}{3}\\right]_{0}^{1} \\\\[6pt]\n",
    "       &= \\tfrac{2}{3}\n",
    "\\end{aligned}\n",
    "$$\n"
   ]
  },
  {
   "cell_type": "markdown",
   "id": "ae055315",
   "metadata": {},
   "source": [
    "Con esta probabilidad total ya podemos calcular la posterior, \n",
    "normalizando el numerador de Bayes:\n",
    "\n",
    "* posterior:\n",
    "\n",
    "$$\n",
    "p(\\theta \\mid x=1) = \\frac{2\\theta^2}{2/3} = 3\\theta^2\n",
    "$$"
   ]
  },
  {
   "cell_type": "markdown",
   "id": "2674f1ff",
   "metadata": {},
   "source": [
    "#### Cálculo simbólico con `sympy`"
   ]
  },
  {
   "cell_type": "code",
   "execution_count": null,
   "id": "ae4630e2",
   "metadata": {},
   "outputs": [],
   "source": [
    "import sympy as sp\n",
    "\n",
    "# Definimos el símbolo\n",
    "theta = sp.symbols('θ')\n",
    "\n",
    "# Definimos la prior y la verosimilitud\n",
    "prior = 2*theta\n",
    "likelihood = theta\n",
    "\n",
    "# Evidencia (normalización): ∫ θ * 2θ dθ de 0 a 1\n",
    "p_evidencia = sp.integrate(likelihood * prior, (theta, 0, 1))\n",
    "print(\"Evidencia p(x=1) =\", p_evidencia)\n",
    "\n",
    "# Posterior = numerador / evidencia\n",
    "posterior = (likelihood * prior) / p_evidencia\n",
    "posterior_simpl = sp.simplify(posterior) #simplifica la expressión\n",
    "print(\"Posterior p(θ|x=1) =\", posterior_simpl)"
   ]
  },
  {
   "cell_type": "markdown",
   "id": "f7a847a8",
   "metadata": {},
   "source": [
    "#### Cálculo numérico con `numpy`"
   ]
  },
  {
   "cell_type": "code",
   "execution_count": null,
   "id": "b553e275",
   "metadata": {},
   "outputs": [],
   "source": [
    "import numpy as np\n",
    "import matplotlib.pyplot as plt\n",
    "\n",
    "# Theta\n",
    "theta = np.linspace(0, 1, 200)\n",
    "\n",
    "# Prior y verosimilitud evaluadas en theta\n",
    "prior_vals = 2 * theta\n",
    "likelihood_vals = theta\n",
    "\n",
    "# Evidencia en forma cerrada\n",
    "p_x = 2/3  \n",
    "\n",
    "# Posterior evaluada punto a punto\n",
    "posterior_vals = (likelihood_vals * prior_vals) / p_x "
   ]
  },
  {
   "cell_type": "code",
   "execution_count": null,
   "id": "bd97e605",
   "metadata": {},
   "outputs": [],
   "source": [
    "# Graficamos\n",
    "plt.plot(theta, prior_vals, label=r'Previa $p(\\theta)=2\\theta$')\n",
    "plt.plot(theta, posterior_vals, color='red', label=r'Posterior $p(\\theta|x=1)=3\\theta^2$')\n",
    "plt.xlabel(r'$\\theta$')\n",
    "plt.ylabel(\"Densidad\")\n",
    "plt.title(\"Actualización Bayesiana: previa y posterior\")\n",
    "plt.legend()\n",
    "plt.grid(alpha=0.3)\n",
    "plt.show()"
   ]
  },
  {
   "cell_type": "markdown",
   "id": "e389d309",
   "metadata": {},
   "source": [
    "> **Nota.** Precisamente la ley de probabilidad total será, en general, bastante compleja de calcular en la mayoría de los casos, por lo que luego nos decantaremos por métodos numéricos para aproximar la distribución posterior."
   ]
  },
  {
   "cell_type": "markdown",
   "id": "ef59445a",
   "metadata": {},
   "source": [
    "#### Ejemplo 2: (varios datos)\n",
    "\n",
    "Supongamos que observamos en tres tiros de la moneda, la secuencia cara-cara-sello.\n",
    " \n",
    "Calculemos la pdf posterior para $\\theta$:"
   ]
  },
  {
   "cell_type": "markdown",
   "id": "6278a066",
   "metadata": {},
   "source": [
    "#### Cálculo simbólico con `sympy`"
   ]
  },
  {
   "cell_type": "markdown",
   "id": "2e1390ef",
   "metadata": {},
   "source": [
    "1) Previa:\n",
    "\n",
    "$$\n",
    "p(\\theta) = 2\\theta, \\quad 0 \\leq \\theta \\leq 1\n",
    "$$"
   ]
  },
  {
   "cell_type": "code",
   "execution_count": null,
   "id": "d5135eda",
   "metadata": {},
   "outputs": [],
   "source": [
    "theta = sp.symbols('θ')\n",
    "prior = 2*theta\n",
    "prior"
   ]
  },
  {
   "cell_type": "markdown",
   "id": "454ad2c3",
   "metadata": {},
   "source": [
    "2. Verosimilitud de la secuencia cara-cara-sello (1,1,0):\n",
    "\n",
    "$$\n",
    "p(x=1,1,0|\\theta) = \\theta * \\theta * (1-\\theta) = \\theta^2 (1-\\theta)\n",
    "$$"
   ]
  },
  {
   "cell_type": "code",
   "execution_count": null,
   "id": "97c68aca",
   "metadata": {},
   "outputs": [],
   "source": [
    "likelihood = theta*theta*(1-theta)\n",
    "likelihood"
   ]
  },
  {
   "cell_type": "markdown",
   "id": "f03a8e1b",
   "metadata": {},
   "source": [
    "3. Numerador de Bayes _(previa * verosimilitud)_:\n",
    "\n",
    "$$\n",
    "p(\\theta|x=1,1,0) \\propto p(\\theta) \\cdot p(x=1,1,0|\\theta)\n",
    "$$"
   ]
  },
  {
   "cell_type": "code",
   "execution_count": null,
   "id": "c3bcd174",
   "metadata": {},
   "outputs": [],
   "source": [
    "numerador = likelihood * prior\n",
    "numerador"
   ]
  },
  {
   "cell_type": "markdown",
   "id": "689d36b5",
   "metadata": {},
   "source": [
    "4. Probabilidad total (evidencia) - normalización:\n",
    "\n",
    "$$\n",
    "p(x=1,1,0)= \\int_{0}^{1} p(x=1,1,0|\\theta) p(\\theta) d\\theta\n",
    "$$"
   ]
  },
  {
   "cell_type": "code",
   "execution_count": null,
   "id": "8ebd4bfa",
   "metadata": {},
   "outputs": [],
   "source": [
    "p_evidencia = sp.integrate(numerador, (theta, 0, 1))\n",
    "p_evidencia"
   ]
  },
  {
   "cell_type": "markdown",
   "id": "45a89616",
   "metadata": {},
   "source": [
    "5. Posterior:\n",
    "\n",
    "$$\n",
    "p(\\theta|x=1,1,0) = \\frac{p(x=1,1,0|\\theta) p(\\theta)}{p(x=1,1,0)}\n",
    "$$"
   ]
  },
  {
   "cell_type": "code",
   "execution_count": null,
   "id": "8c5118ec",
   "metadata": {},
   "outputs": [],
   "source": [
    "posterior_expr = numerador / p_evidencia\n",
    "posterior_simpl = sp.simplify(posterior_expr)\n",
    "posterior_simpl"
   ]
  },
  {
   "cell_type": "markdown",
   "id": "656f347d",
   "metadata": {},
   "source": [
    "#### Cálculo numérico con `numpy`"
   ]
  },
  {
   "cell_type": "code",
   "execution_count": null,
   "id": "d634c5a4",
   "metadata": {},
   "outputs": [],
   "source": [
    "import numpy as np\n",
    "\n",
    "# Rango de θ\n",
    "theta = np.linspace(0, 1, 1001)\n",
    "\n",
    "# Previa p(θ)\n",
    "prior_density = 2 * theta\n",
    "\n",
    "# Verosimilitud de los datos (x=1,1,0)\n",
    "likelihood_vals = theta**2 * (1 - theta)\n",
    "\n",
    "# Numerador de Bayes\n",
    "unnormalized_posterior = prior_density * likelihood_vals   \n",
    "\n",
    "# Evidencia (probabilidad total de los datos)\n",
    "evidencia = np.trapezoid(unnormalized_posterior, theta)\n",
    "\n",
    "# Posterior normalizada\n",
    "posterior_density = unnormalized_posterior / evidencia\n",
    "\n",
    "# Verificación (el área bajo la posterior debe ser 1)\n",
    "area_posterior = np.trapezoid(posterior_density, theta)\n",
    "\n",
    "evidencia, area_posterior"
   ]
  },
  {
   "cell_type": "code",
   "execution_count": null,
   "id": "c54d5ffc",
   "metadata": {},
   "outputs": [],
   "source": [
    "# Graficar previa y posterior\n",
    "plt.figure(figsize=(7,5))\n",
    "plt.plot(theta, prior_density, label=r'Previa $2\\theta$')\n",
    "plt.plot(theta, posterior_density, color='red', label=r'Posterior $20\\theta^3(1-\\theta)$')\n",
    "plt.xlabel(r'$\\theta$'); plt.ylabel('Densidad')\n",
    "plt.title('Actualización Bayesiana: datos (1,1,0)')\n",
    "plt.legend(); plt.grid(alpha=0.3)\n",
    "plt.show()"
   ]
  },
  {
   "cell_type": "markdown",
   "id": "0f071b8e",
   "metadata": {},
   "source": [
    "Ahora que tenemos todos los ingredientes, escribimos nuestra tabla de actualziación Bayesiana, teniendo en mente que:\n",
    "\n",
    "> No podemos enumerar una fila para cada hipótesis. Solo escribimos una.\n",
    "\n",
    "| Hipótesis | Rango          | Previa                                     | Verosimilitud              | Numerador de Bayes                                         | Posterior                  |\n",
    "| --------- | -------------- | ------------------------------------------ | -------------------------- | ---------------------------------------------------------- | -------------------------- |\n",
    "| $\\theta$  | rango $\\theta$ | $p(\\theta)$                                | $p(x = 1, 1, 0 \\| \\theta)$ | $p(x = 1, 1, 0 \\| \\theta)p(\\theta)$                        | $p(\\theta \\| x = 1, 1, 0)$ |\n",
    "|           |                |                                            |                            |                                                            |                            |\n",
    "| $\\theta$  | [0, 1]         | $2 \\theta$                                 | $\\theta^2(1-\\theta)$       | $2 \\theta^3 (1-\\theta)$                                    | $20 \\theta^3 (1-\\theta)$   |\n",
    "|           |                |                                            |                            |                                                            |                            |\n",
    "| total     | [0, 1]         | $\\int_{0}^{1} 2 \\theta \\text{d}\\theta = 1$ | NO SUMA                    | $\\int_{0}^{1} 2 \\theta^3 (1-\\theta) \\text{d}\\theta = 1/10$ | $1$                        |"
   ]
  },
  {
   "cell_type": "code",
   "execution_count": null,
   "id": "a12807b6",
   "metadata": {},
   "outputs": [],
   "source": [
    "# Graficar numerador y posterior\n",
    "plt.figure(figsize=(8,6))\n",
    "\n",
    "plt.subplot(2, 1, 1)\n",
    "plt.plot(theta, posterior_density, label=r'Posterior $p(\\theta|x=1,1,0)$', color='blue')\n",
    "plt.ylabel(\"Densidad\")\n",
    "plt.legend()\n",
    "\n",
    "plt.subplot(2, 1, 2)\n",
    "plt.plot(theta, unnormalized_posterior, label=r'Numerador de Bayes $p(x=1,1,0|\\theta)p(\\theta)$', color='red')\n",
    "plt.xlabel(r'$\\theta$')\n",
    "plt.ylabel(\"Valor\")\n",
    "plt.legend()\n",
    "\n",
    "plt.tight_layout()\n",
    "plt.show()"
   ]
  },
  {
   "cell_type": "markdown",
   "id": "d10ecf53",
   "metadata": {},
   "source": [
    "Una vez más, incluso para el caso de previas continuas, tenemos que:\n",
    "\n",
    "$$\n",
    "p(\\text{hipótesis} | \\text{datos}) \\propto p(\\text{datos} | \\text{hipótesis}) p(\\text{hpótesis})\n",
    "$$\n",
    "\n",
    "o equivalentemente:\n",
    "\n",
    "$$\n",
    "\\text{posterior} \\propto \\text{verosimilitud} \\cdot \\text{previa}.\n",
    "$$"
   ]
  },
  {
   "cell_type": "markdown",
   "id": "04ac3600",
   "metadata": {},
   "source": [
    "```{admonition} Sobre la independencia condicional\n",
    ":class: tip\n",
    "\n",
    "**Dependencia e independencia en el modelo bayesiano**\n",
    "\n",
    "- En el modelo bayesiano, los datos son **independientes condicionalmente al parámetro** $\\theta$:\n",
    "\n",
    "$$\n",
    "p(x_1, x_2 \\mid \\theta) = p(x_1 \\mid \\theta)\\, p(x_2 \\mid \\theta)\n",
    "\\quad \\Longleftrightarrow \\quad \n",
    "p(x_2 \\mid x_1, \\theta) = p(x_2 \\mid \\theta)\n",
    "$$\n",
    "\n",
    "Esto significa que, **si conociéramos el valor de $\\theta$**, el resultado del primer tiro no aporta información sobre el segundo.  \n",
    "La independencia condicional es una **propiedad del modelo**, no de la realidad empírica.\n",
    "\n",
    "- Cuando **$\\theta$ es desconocido**, es decir, cuando debemos integrar sobre su distribución de probabilidad, los tiros son **dependientes marginalmente**:\n",
    "\n",
    "$$\n",
    "p(x_1, x_2) = \\int p(x_1, x_2 \\mid \\theta)\\, p(\\theta)\\, d\\theta\n",
    "$$\n",
    "\n",
    "ya que ambos resultados están correlacionados a través de la incertidumbre compartida en $\\theta$.  \n",
    "Observar el primer tiro modifica la creencia sobre $\\theta$ y, por tanto, cambia la probabilidad del segundo.\n",
    "```"
   ]
  },
  {
   "cell_type": "markdown",
   "id": "c1da2bb2",
   "metadata": {},
   "source": [
    "#### Ejemplo 3: (cambio de previa)\n",
    "\n",
    "En el ejemplo anterior supusimos una distribución previa particular para $\\theta$. Esta distribución $p(\\theta)=2 \\theta$ implica que hay más probabilidad (previa) de que la moneda caiga cara. _¿Qué pasaría si no tuviéramos conocimiento previo alguno de esta probabilidad?_\n",
    "\n",
    "En este caso, suponemos que la previa es *plana* (uniforme en (0,1)). Similar al ejemplo anterior:\n",
    "\n",
    "| Hipótesis | Rango          | Previa                              | Verosimilitud              | Numerador de Bayes                                         | Posterior                  |\n",
    "| --------- | -------------- | ----------------------------------- | -------------------------- | ---------------------------------------------------------- | -------------------------- |\n",
    "| $\\theta$  | [0, 1]         | $1$                                 | $\\theta^2(1-\\theta)$       | $\\theta^2(1-\\theta)$                                       | $12 \\theta^2 (1-\\theta)$   |\n",
    "|           |                |                                     |                            |                                                            |                            |\n",
    "| total     | [0, 1]         | $\\int_{0}^{1} 1 \\text{d}\\theta = 1$ | NO SUMA                    | $\\int_{0}^{1} \\theta^2(1-\\theta) \\text{d}\\theta = 1/12$    | $1$                        |"
   ]
  },
  {
   "cell_type": "code",
   "execution_count": null,
   "id": "136e96a0",
   "metadata": {},
   "outputs": [],
   "source": [
    "# Graficar previa y posterior\n",
    "\n",
    "# Theta\n",
    "theta = np.linspace(0, 1, 1001)\n",
    "# Previa\n",
    "prior = np.ones(1001)\n",
    "# Posterior\n",
    "posterior = 12 * theta**2 * (1 - theta)\n",
    "# Graficamos\n",
    "plt.subplot(2, 1, 1)\n",
    "plt.plot(theta, prior, label=r'Previa $p(\\theta)$')\n",
    "plt.plot(theta, posterior, color='red', label=r'Posterior $p(\\theta|x=1,1,0)$')\n",
    "plt.legend()\n",
    "plt.xlabel('$\\\\theta$')\n",
    "plt.subplot(2, 1, 2)\n",
    "num_bayes = theta**2 * (1 - theta)\n",
    "plt.plot(theta, num_bayes, color='red',label=r'Numerador de Bayes $p(x=1,1,0|\\theta)p(\\theta)$')\n",
    "plt.legend()"
   ]
  },
  {
   "cell_type": "markdown",
   "id": "da70204d",
   "metadata": {},
   "source": [
    "## Respondiendo preguntas con la distribución posterior"
   ]
  },
  {
   "cell_type": "markdown",
   "id": "070c29af",
   "metadata": {},
   "source": [
    "Una vez tenemos la distribución posterior, la podemos utilizar para responder preguntas. Por ejemplo:\n",
    "\n",
    "1. Primero defines **la posterior** $p(\\theta|x)$, es decir, la distribución de probabilidad sobre $\\theta$ despúes de ver los datos.\n",
    "\n",
    "Con una **distribución uniforme** como la anterior, podemos ver que la moneda en principio no está sesgada:\n",
    "\n",
    "$$\n",
    "p(\\theta > 0.5) = \\int_{0.5}^{1} 1 \\text{d}\\theta = 0.5 = p(\\theta < 0.5)\n",
    "$$\n"
   ]
  },
  {
   "cell_type": "code",
   "execution_count": null,
   "id": "c30a11b8",
   "metadata": {},
   "outputs": [],
   "source": [
    "theta = sp.symbols('theta')\n",
    "\n",
    "integral = sp.integrate(1, (theta, 0.5, 1))\n",
    "\n",
    "print(\"p(theta > 0.5) =\", integral)"
   ]
  },
  {
   "cell_type": "markdown",
   "id": "c603d9d5",
   "metadata": {},
   "source": [
    "Después usas esa _distribución_ para responder preguntas concretas sobre el _parámetro_.\n",
    "\n",
    "**Ejemplo:** Después de observar la secuencia cara-cara-sello $x = (1, 1, 0)$, pregunta:\n",
    "\n",
    "_¿qué probabilidad tiene ahora la moneda de estar sesgada a cara ($\\theta > 0.5$)?_"
   ]
  },
  {
   "cell_type": "markdown",
   "id": "d2659aec",
   "metadata": {},
   "source": [
    "```{admoniticion} Otras preguntas\n",
    ":class: tip\n",
    "\n",
    "- ¿Cuál es la probabilidad que $\\theta > 0.5$?\n",
    "- ¿cuál es la probabilidad de que $\\theta < 0.3$?\n",
    "- ¿cuál es la probabilidad de que $theta$ esté en el intervalo [0.2, 0.6]?\n",
    "\n",
    "**Básicamente la distribuión posterior es como una \"máquina de responder preguntas\" sobre el parámetro $\\theta$.**\n",
    "```"
   ]
  },
  {
   "cell_type": "markdown",
   "id": "57d1f2e3",
   "metadata": {},
   "source": [
    "**Definir la posterior**\n",
    "\n",
    "Sabemos que después de ver $x=(1,1,0)$ la posterior es:\n",
    "\n",
    "$$\n",
    "p(\\theta | x=1,1,0) = 12 \\theta^2 (1-\\theta), \\quad 0 \\leq \\theta \\leq 1.\n",
    "$$"
   ]
  },
  {
   "cell_type": "code",
   "execution_count": null,
   "id": "ec67c189",
   "metadata": {},
   "outputs": [],
   "source": [
    "theta = sp.symbols('θ')\n",
    "posterior = 12*theta**2*(1-theta)\n",
    "posterior"
   ]
  },
  {
   "cell_type": "markdown",
   "id": "88e9e64b",
   "metadata": {},
   "source": [
    "**Probabilidad de que la moneda esté cargada a cara ($\\theta > 0.5$)**\n",
    "\n",
    "$$\n",
    "p(\\theta > 0.5 | x = 1, 1, 0) = \\int_{0.5}^{1} 12 \\theta^2 (1-\\theta) \\text{d}\\theta = 12 \\left(\\frac{\\theta^3}{3} - \\frac{\\theta^4}{4}\\right)_{0.5}^1 = 1 - \\frac{5}{16} =\\frac{11}{16} > 0.5$$"
   ]
  },
  {
   "cell_type": "code",
   "execution_count": null,
   "id": "0a909f83",
   "metadata": {},
   "outputs": [],
   "source": [
    "prob_theta_gt_05 = sp.integrate(posterior, (theta, 0.5, 1))\n",
    "prob_theta_gt_05"
   ]
  },
  {
   "cell_type": "code",
   "execution_count": null,
   "id": "33a8d8c7",
   "metadata": {},
   "outputs": [],
   "source": [
    "prob_theta_gt_03 = sp.integrate(posterior, (theta, 0, 0.3))\n",
    "prob_theta_gt_03"
   ]
  },
  {
   "cell_type": "code",
   "execution_count": null,
   "id": "8e22b062",
   "metadata": {},
   "outputs": [],
   "source": [
    "prob_theta_btw_02_06 = sp.integrate(posterior, (theta, 0.2, 0.6))\n",
    "prob_theta_btw_02_06"
   ]
  },
  {
   "cell_type": "markdown",
   "id": "dd0eaeb5",
   "metadata": {},
   "source": [
    "```{figure} ../images/sesion6-densidadquery.png\n",
    ":alt: representacion\n",
    ":fig-align: center\n",
    ":width: 600px\n",
    "```"
   ]
  },
  {
   "cell_type": "markdown",
   "id": "908ddde1",
   "metadata": {},
   "source": [
    "**Figura 1.** La distribución posterior $p(\\theta | x=1,1,0)$ nos permite responder preguntas sobre el parámetro $\\theta$. Por ejemplo, la probabilidad de que la moneda esté cargada a cara ($\\theta > 0.5$) es el área bajo la curva desde 0.5 hasta 1 (área sombreada en azul). De la misma forma, podemos calcular la probabilidad de que $\\theta$ esté en cualquier otro intervalo."
   ]
  },
  {
   "cell_type": "markdown",
   "id": "83d5c0d6",
   "metadata": {},
   "source": [
    "## Probabilidades predictivas"
   ]
  },
  {
   "cell_type": "markdown",
   "id": "fd9a0c10",
   "metadata": {},
   "source": [
    "### Probabilidad predictiva previa\n",
    "\n",
    "#### Ejemplo 4 (predictiva previa)\n",
    "\n",
    "Continuando con el ejemplo original, tenemos una moneda con probabilidad desconocida $\\theta$ de caer cara y tenemos una pdf previa $p(\\theta) = 2 \\theta$. \n",
    "\n",
    "**Pregunta:** _¿Cuál es la probabilidad de que al lanzar la moneda salga cara?_"
   ]
  },
  {
   "cell_type": "markdown",
   "id": "5a31e02d",
   "metadata": {},
   "source": [
    "**(A) Probabilidad predictiva previa**\n",
    "\n",
    "Antes de observar ningún dato, la probabilidad de que el primer tiro sea cara es::\n",
    "\n",
    "$$\n",
    "p(x_1 = 1) = \\int_{0}^{1} p(x_1 = 1 | \\theta) p(\\theta) \\text{d}\\theta\n",
    "$$\n",
    "\n",
    "sabemos que $p(x_1=1|\\theta) =\\theta$, por lo que:\n",
    "\n",
    "$$\n",
    "p(x_1 = 1) = \\int_{0}^{1} \\theta \\cdot 2 \\theta \\text{d}\\theta = \\int_{0}^{1} 2 \\theta^2 \\text{d}\\theta = \\frac{2}{3}\n",
    "$$"
   ]
  },
  {
   "cell_type": "markdown",
   "id": "cc3d5405",
   "metadata": {},
   "source": [
    "#### Cálculo simbólico con `sympy`"
   ]
  },
  {
   "cell_type": "code",
   "execution_count": null,
   "id": "4628839d",
   "metadata": {},
   "outputs": [],
   "source": [
    "theta = sp.symbols('theta')\n",
    "\n",
    "# Prior\n",
    "prior = 2*theta\n",
    "\n",
    "# Verosimilitud de cara\n",
    "likelihood_cara = theta\n",
    "\n",
    "# Probabilidad predictiva previa\n",
    "p_prev = sp.integrate(likelihood_cara * prior, (theta, 0, 1))\n",
    "p_prev"
   ]
  },
  {
   "cell_type": "markdown",
   "id": "f6dc8473",
   "metadata": {},
   "source": [
    "### Probabilidad predictiva posterior\n",
    "\n",
    "#### Ejemplo 5 (predictiva posterior)\n",
    "\n",
    "Continuando con el ejemplo original, tenemos una moneda con probabilidad desconocida $\\theta$ de caer cara y tenemos una pdf previa $p(\\theta) = 2 \\theta$. \n",
    "\n",
    "**Pregunta**\n",
    "\n",
    "Suponga que se hace un tiro y cae cara. Encuentra la probabilidad predictiva posterior de que caiga cara."
   ]
  },
  {
   "cell_type": "markdown",
   "id": "01f97482",
   "metadata": {},
   "source": [
    "**(B) Probabilidad predictiva posterior**"
   ]
  },
  {
   "cell_type": "markdown",
   "id": "37ef45bf",
   "metadata": {},
   "source": [
    "Para la probabilidad predictiva posterior, actualizamos a la posterior:\n",
    "\n",
    "| Hipótesis | Rango          | Previa                                    | Verosimilitud  | Numerador de Bayes                                | Posterior                  |\n",
    "| --------- | -------------- | ----------------------------------------- | -------------- | ------------------------------------------------- | -------------------------- |\n",
    "| $\\theta$  | [0, 1]         | $2\\theta$                                 | $\\theta$       | $2\\theta^2$                                       | $3 \\theta^2$               |\n",
    "|           |                |                                           |                |                                                   |                            |\n",
    "| total     | [0, 1]         | $\\int_{0}^{1} 2\\theta \\text{d}\\theta = 1$ | NO SUMA        | $\\int_{0}^{1} 2\\theta^2 \\text{d}\\theta = 2/3$     | $1$                        |"
   ]
  },
  {
   "cell_type": "code",
   "execution_count": null,
   "id": "929b3e9b",
   "metadata": {},
   "outputs": [],
   "source": [
    "# ---- Setup inicial ---- #\n",
    "\n",
    "sp.init_printing(use_unicode=True)\n",
    "\n",
    "theta = sp.symbols('theta', real=True)\n",
    "prior = 2*theta\n",
    "datos = [1, 1]"
   ]
  },
  {
   "cell_type": "code",
   "execution_count": null,
   "id": "0a8f17ba",
   "metadata": {},
   "outputs": [],
   "source": [
    "# --- Función iterativa ---#\n",
    "\n",
    "def actualizar_bayes(prior, x):\n",
    "    \"\"\"\n",
    "    Actualiza la distribución previa prior con la observación x (0 o 1)\n",
    "    usando el teorema de Bayes. Devuelve la posterior normalizada y las\n",
    "    probabilidades predictivas de cara y sello.\n",
    "    \"\"\"\n",
    "\n",
    "    # verosimilitud\n",
    "    likelihood = theta if x == 1 else (1 - theta)\n",
    "\n",
    "    # numerador\n",
    "    numerador = sp.simplify(prior * likelihood)\n",
    "\n",
    "    # evidencia (que dijimos que era normalizador) \n",
    "    p_evidencia = sp.integrate(numerador, (theta, 0, 1))\n",
    "\n",
    "    # posterior\n",
    "    posterior_ = sp.simplify(numerador / p_evidencia)\n",
    "\n",
    "    # probabilidades predictivas con la posterior\n",
    "    p_cara  = sp.integrate(theta * posterior_, (theta, 0, 1))\n",
    "    p_sello = 1 - p_cara\n",
    "\n",
    "    # tabla\n",
    "    print(\"\\n-----------------------------------\")\n",
    "    print(f\"Observación: x = {x} ({'cara' if x==1 else 'sello'})\")\n",
    "    print(\"-----------------------------------\")\n",
    "    print(f\"{'Columna':15} | {'Expresión'}\")\n",
    "    print(\"-\"*50)\n",
    "    print(f\"{'Previa':15} | {prior}\")\n",
    "    print(f\"{'Verosimilitud':15} | {likelihood}\")\n",
    "    print(f\"{'Num. Bayes':15} | {numerador}\")\n",
    "    print(f\"{'Evidencia':15} | {p_evidencia}\")\n",
    "    print(f\"{'Posterior':15} | {posterior_}\")\n",
    "    print(\"-\"*50)\n",
    "    print(f\"Prob. próxima cara  = {sp.nsimplify(p_cara)} ≈ {float(p_cara):.4f}\")\n",
    "    print(f\"Prob. próxima sello = {sp.nsimplify(p_sello)} ≈ {float(p_sello):.4f}\")\n",
    "\n",
    "    return posterior_, p_cara, p_sello"
   ]
  },
  {
   "cell_type": "code",
   "execution_count": null,
   "id": "2395a498",
   "metadata": {},
   "outputs": [],
   "source": [
    "# -- Print de tabla y actualización -- #\n",
    "print(\"Paso 0 — Prior inicial\")\n",
    "print(\"p(theta) =\", prior)\n",
    "\n",
    "distribuciones = [(prior, \"Paso 0: Prior\")]\n",
    "\n",
    "posterior = prior\n",
    "for i, x in enumerate(datos, start=1):\n",
    "    posterior, p_h, p_t = actualizar_bayes(posterior, int(x))\n",
    "    distribuciones.append((posterior, f\"Paso {i}: tras x={x}\"))"
   ]
  },
  {
   "cell_type": "code",
   "execution_count": null,
   "id": "8113a28b",
   "metadata": {},
   "outputs": [],
   "source": [
    "# --- Graficamos ---# \n",
    "xs = np.linspace(0, 1, 300)\n",
    "cmap = plt.cm.plasma \n",
    "n = len(distribuciones)\n",
    "\n",
    "plt.figure(figsize=(8,5))\n",
    "\n",
    "for i, (pdf, titulo) in enumerate(distribuciones):\n",
    "    f = sp.lambdify(theta, pdf, \"numpy\")\n",
    "    ys = f(xs)\n",
    "    color = cmap(i / (n-1))\n",
    "    plt.plot(xs, ys, lw=2, label=titulo, color=color)\n",
    "\n",
    "plt.xlabel(\"θ\")\n",
    "plt.ylabel(\"densidad\")\n",
    "plt.title(\"Evolución del prior y posteriores\")\n",
    "plt.legend()\n",
    "plt.show()"
   ]
  },
  {
   "cell_type": "markdown",
   "id": "3f131589",
   "metadata": {},
   "source": [
    "### Todo continuo: previas continuas, verosimilitudes continuas"
   ]
  },
  {
   "cell_type": "markdown",
   "id": "a8c9b0cb",
   "metadata": {},
   "source": [
    "#### Ejemplo 6: (normal-normal)\n",
    "\n",
    "**Descripción del problema**\n",
    "\n",
    "* **Nivel 1: Datos**\n",
    "Supongamos que tenemos un dato $x=5$ que obtuvimos de una distribución normal con media $\\theta$ y varianza $1$:\n",
    "\n",
    "$$ x \\sim \\mathcal{N}(\\theta, 1)$$\n",
    "\n",
    "* **Nivel 2: Parámetro desconocido**\n",
    "Supongamo que nuestra _previa_ para el parámetro $\\theta$ es también una normal:\n",
    "\n",
    "$$ \\theta \\sim \\mathcal{N}(2,1)$$"
   ]
  },
  {
   "cell_type": "markdown",
   "id": "b59ec241",
   "metadata": {},
   "source": [
    "**Pregunta**\n",
    "\n",
    "> _¿Cuál es la distribución posterior de $\\theta$ después de observar $x=5$?_"
   ]
  },
  {
   "cell_type": "markdown",
   "id": "de8e7e77",
   "metadata": {},
   "source": [
    "**Normal en general**\n",
    "\n",
    "Si una variable aleatoria $Z \\sim \\mathcal{N}(\\mu, \\sigma^2)$, su densidad es:\n",
    "\n",
    "$$\n",
    "f(z) = \\frac{1}{\\sqrt{2\\pi\\sigma^2}} \\; \\exp\\!\\left(-\\frac{(z-\\mu)^2}{2\\sigma^2}\\right)\n",
    "$$\n",
    "\n",
    "**Previa**\n",
    "\n",
    "En nuestro caso, la previa para $\\theta$ es:\n",
    "\n",
    "- Media: $\\mu = 2$  \n",
    "- Varianza: $1 \\implies \\sigma = 1$\n",
    "\n",
    "Por lo tanto:\n",
    "\n",
    "$$\n",
    "p(\\theta) = \\frac{1}{\\sqrt{2\\pi(1)}} \\exp\\!\\left(-\\frac{(\\theta - 2)^2}{2(1)}\\right)\n",
    "= \\frac{1}{\\sqrt{2\\pi}} \\, e^{-(\\theta - 2)^2/2}\n",
    "$$\n"
   ]
  },
  {
   "cell_type": "markdown",
   "id": "7aa45b73",
   "metadata": {},
   "source": [
    "**Verosimilitud**\n",
    "\n",
    "$$\n",
    "p(x=5 | \\theta) = \\frac{1}{\\sqrt{2 \\pi}}e^{-(5 - \\theta)^2/2}\n",
    "$$"
   ]
  },
  {
   "cell_type": "markdown",
   "id": "caf817dc",
   "metadata": {},
   "source": [
    "**Numerador de Bayes**\n",
    "\n",
    "$$\n",
    "\\begin{align} \\nonumber\n",
    "p(\\theta) \\cdot p(x=5 | \\theta) \n",
    "&= \\frac{1}{\\sqrt{2 \\pi}} \n",
    "e^{-\\overbrace{(\\theta - 2)^2/2}^{\\text{prior}}} \n",
    "\\cdot \n",
    "\\frac{1}{\\sqrt{2 \\pi}} \n",
    "e^{-\\overbrace{(5 - \\theta)^2/2}^{\\text{verosimilitud}}}\n",
    "\\end{align}\n",
    "$$\n"
   ]
  },
  {
   "cell_type": "code",
   "execution_count": null,
   "id": "6897049f",
   "metadata": {},
   "outputs": [],
   "source": [
    "import sympy as sp\n",
    "\n",
    "theta = sp.symbols('theta')\n",
    "\n",
    "# expresiones originales\n",
    "expr1 = -(theta-2)**2/2\n",
    "expr2 = -(5-theta)**2/2\n",
    "\n",
    "print(\"Expresión 1:\", sp.latex(expr1))\n",
    "print(\"Expresión 2:\", sp.latex(expr2))"
   ]
  },
  {
   "cell_type": "markdown",
   "id": "ba2ce878",
   "metadata": {},
   "source": [
    "$$\n",
    "-\\overbrace{\\frac{(\\theta - 2)^2}{2}}^{\\text{prior}}\n",
    "$$\n",
    "\n",
    "$$\n",
    "-\\overbrace{\\frac{(5 - \\theta)^2}{2}}^{\\text{verosimilitud}}\n",
    "$$\n"
   ]
  },
  {
   "cell_type": "markdown",
   "id": "317050cb",
   "metadata": {},
   "source": [
    "$$\n",
    "-\\frac{(\\theta - 2)^2}{2}\n",
    "-\\frac{(5 - \\theta)^2}{2}\n",
    "$$\n",
    "\n",
    "$$\n",
    "= -\\frac{1}{2}\\Big[\\,(\\theta - 2)^2 + (5 - \\theta)^2\\,\\Big]\n",
    "$$\n",
    "\n",
    "$$\n",
    "= -\\frac{1}{2}\\Big[\\,(\\theta^2 - 4\\theta + 4) + (25 - 10\\theta + \\theta^2)\\,\\Big]\n",
    "$$\n",
    "\n",
    "$$\n",
    "= -\\frac{1}{2}\\Big[\\,2\\theta^2 - 14\\theta + 29\\,\\Big]\n",
    "$$\n",
    "\n",
    "$$\n",
    "= -\\theta^2 + 7\\theta - \\frac{29}{2}\n",
    "$$\n"
   ]
  },
  {
   "cell_type": "markdown",
   "id": "f45c0321",
   "metadata": {},
   "source": [
    "Lo anterior lo queremos llevar a una forma igual a la forma funcional de una normal:\n",
    "\n",
    "$$\n",
    "-(\\theta - a)^2 + b\n",
    "$$"
   ]
  },
  {
   "cell_type": "code",
   "execution_count": null,
   "id": "734a93ef",
   "metadata": {},
   "outputs": [],
   "source": [
    "# completar el cuadrado\n",
    "expr = -(theta**2 - 7*theta + sp.Rational(29,2))\n",
    "\n",
    "expr_inside = theta**2 - 7*theta + sp.Rational(29,2)\n",
    "completed = (theta - sp.Rational(7,2))**2 + sp.Rational(9,4)\n",
    "final_expr = -(completed)\n",
    "print(sp.latex(final_expr))"
   ]
  },
  {
   "cell_type": "markdown",
   "id": "d3f4f1da",
   "metadata": {},
   "source": [
    "$$\n",
    "\\begin{align*}\n",
    "-\\theta^{2} + 7\\theta - \\frac{29}{2}\n",
    "&= -\\left(\\theta^{2} - 7\\theta + \\frac{29}{2}\\right)\n",
    "&& \\text{(se factoriza el signo negativo)} \\\\[6pt]\n",
    "&= -\\left[\\theta^{2} - 7\\theta \n",
    "+ \\left(\\frac{7}{2}\\right)^{2} - \\left(\\frac{7}{2}\\right)^{2}\n",
    "+ \\frac{29}{2}\\right]\n",
    "&& \\text{(se suma y resta } \\left(\\frac{7}{2}\\right)^{2} \\text{ para completar el cuadrado)} \\\\[6pt]\n",
    "&= -\\left[\\left(\\theta - \\frac{7}{2}\\right)^{2} \n",
    "- \\frac{49}{4} + \\frac{29}{2}\\right] \\\\[6pt]\n",
    "&= -\\left(\\theta - \\frac{7}{2}\\right)^{2} \n",
    "- \\left(-\\frac{49}{4} + \\frac{29}{2}\\right) \\\\[6pt]\n",
    "&= -\\left(\\theta - \\frac{7}{2}\\right)^{2} \n",
    "- \\frac{9}{4}\n",
    "\\end{align*}\n",
    "$$"
   ]
  },
  {
   "cell_type": "code",
   "execution_count": null,
   "id": "a63268ed",
   "metadata": {},
   "outputs": [],
   "source": [
    "# sustituir dentro del exponente\n",
    "mu = sp.Rational(7,2)\n",
    "const = sp.Rational(9,4)\n",
    "\n",
    "# expresión actual\n",
    "expr = -((theta - mu)**2 + const)\n",
    "\n",
    "# separar los términos\n",
    "separado = - (theta - mu)**2 - const\n",
    "\n",
    "# propiedad exponencial\n",
    "posterior = (1/(2*sp.pi)) * sp.exp(separado)\n",
    "posterior_fact = sp.exp(-const) * (1/(2*sp.pi)) * sp.exp(- (theta - mu)**2)\n",
    "\n",
    "print(\"\\nPosterior:\", sp.latex(posterior))"
   ]
  },
  {
   "cell_type": "markdown",
   "id": "da2e04a9",
   "metadata": {},
   "source": [
    "$$\n",
    "\\begin{align*}\n",
    "\\underbrace{\\frac{1}{\\sqrt{2\\pi}}}_{\\text{constante de la previa}} \n",
    "e^{-\\frac{(\\theta - 2)^2}{2}}\n",
    "\\cdot\n",
    "\\underbrace{\\frac{1}{\\sqrt{2\\pi}}}_{\\text{constante de la verosimilitud}} \n",
    "e^{-\\frac{(5 - \\theta)^2}{2}}\n",
    "&= \n",
    "\\overbrace{\\frac{1}{2\\pi}}^{\\text{producto de constantes (no depende de } \\theta\\text{)}}\n",
    "   e^{-\\frac{(\\theta - 2)^2 + (5 - \\theta)^2}{2}} \\\\[6pt]\n",
    "&= \\frac{1}{2\\pi}\n",
    "   e^{-\\theta^{2} + 7\\theta - \\frac{29}{2}} \\\\[6pt]\n",
    "&= \\frac{1}{2\\pi}\n",
    "   e^{-\\left(\\theta - \\frac{7}{2}\\right)^{2} - \\frac{9}{4}} \\\\[6pt]\n",
    "&= \n",
    "\\overbrace{\\left(\\frac{e^{-9/4}}{2\\pi}\\right)}^{\\text{constante combinada}}\n",
    "   e^{-(\\theta - \\frac{7}{2})^{2}} \\\\[6pt]\n",
    "&= \n",
    "c_1\\, e^{-(\\theta - \\frac{7}{2})^{2}},\n",
    "\\quad \\text{donde } \n",
    "c_1 = \\frac{e^{-9/4}}{2\\pi}\n",
    "\\end{align*}\n",
    "$$\n"
   ]
  },
  {
   "cell_type": "markdown",
   "id": "de8dab32",
   "metadata": {},
   "source": [
    "Con lo anterior:\n",
    "\n",
    "\n",
    "| Hipótesis | Previa        | Verosimilitud   | Numerador de Bayes    | Posterior      |\n",
    "| --------- | ------------- | --------------- | -------------------- | -------------- |\n",
    "| $\\theta$  | $\\frac{1}{\\sqrt{2 \\pi}}e^{-(\\theta - 2)^2/2}$ | $\\frac{1}{\\sqrt{2 \\pi}}e^{-(5 - \\theta)^2/2}$ | $c_1 e^{-(\\theta - 7/2)^2}$ | $c_2 e^{-(\\theta - 7/2)^2}$ |\n",
    "|           |               |                  |                       |                |\n",
    "| total     | $1$           | NO SUMA          | $\\int_{-\\infty}^{\\infty} c_1 e^{-(\\theta - 7/2)^2} \\text{d}\\theta = c1/c2$ | $1$   |"
   ]
  },
  {
   "cell_type": "markdown",
   "id": "526cd789",
   "metadata": {},
   "source": [
    "A partir de la forma obtenida en la posterior:\n",
    "\n",
    "$$\n",
    "e^{-(\\theta - \\frac{7}{2})^2}\n",
    "$$\n",
    "\n",
    "podemos compararla con la forma general de una distribución normal:\n",
    "\n",
    "$$\n",
    "e^{-\\frac{(\\theta - \\mu)^2}{2\\sigma^2}}\n",
    "$$\n",
    "\n",
    "Para que ambas sean equivalentes, el número que acompaña al cuadrado debe coincidir.  \n",
    "En nuestra expresión es $1$, mientras que en la forma general es $\\frac{1}{2\\sigma^2}$.\n",
    " \n",
    "Por tanto,\n",
    "\n",
    "$$\n",
    "\\frac{1}{2\\sigma^2} = 1\n",
    "\\quad \\Rightarrow \\quad\n",
    "\\sigma^2 = \\frac{1}{2},\n",
    "\\qquad\n",
    "\\mu = \\frac{7}{2}\n",
    "$$\n",
    "\n",
    "En consecuencia, la **distribución posterior** sigue una distribución:\n",
    "\n",
    "$$\n",
    "\\boxed{\\text{Normal}\\left(\\frac{7}{2}, \\frac{1}{2}\\right)}\n",
    "$$"
   ]
  },
  {
   "cell_type": "markdown",
   "id": "1149d8e2",
   "metadata": {},
   "source": [
    "```{admonition} Nota\n",
    ":class: tip\n",
    "\n",
    "Aunque esta expresión se puede integrar, el proceso se vuelve más complejo y deja de tener una **forma elemental sencilla**.  \n",
    "Lo importante aquí es notar que esta simplificación proviene de una **prior conjugada**, lo que nos permite mantener la misma familia de distribución (una Normal) y actualizar fácilmente los parámetros sin resolver integrales difíciles.\n",
    "```"
   ]
  },
  {
   "cell_type": "code",
   "execution_count": null,
   "id": "aefdfbb1",
   "metadata": {},
   "outputs": [],
   "source": [
    "# --- Graficar --- #\n",
    "from scipy import stats\n",
    "\n",
    "theta = np.linspace(1, 6, 1001)\n",
    "# Previa\n",
    "prior = stats.norm(loc=2, scale=1)\n",
    "# Posterior\n",
    "post = stats.norm(loc=7 / 2, scale=np.sqrt(1 / 2))\n",
    "# Graficamos\n",
    "plt.plot(theta, prior.pdf(theta), label=r'Previa $p(\\theta)$')\n",
    "plt.plot(theta, post.pdf(theta), color='red', label=r'Posterior $p(\\theta|x=5)$')\n",
    "plt.legend()\n",
    "plt.xlabel('$\\\\theta$')"
   ]
  },
  {
   "cell_type": "code",
   "execution_count": null,
   "id": "118a919b",
   "metadata": {},
   "outputs": [],
   "source": [
    "# --- Graficar numerador y posterior --- #\n",
    "likelihood = stats.norm(\n",
    "    loc=5, scale=1)\n",
    "\n",
    "num_bayes = likelihood.pdf(theta) * prior.pdf(theta)\n",
    "\n",
    "plt.subplot(2, 1, 1)\n",
    "plt.plot(theta, num_bayes, label=r'Numerador de Bayes $p(x=5|\\theta)p(\\theta)$')\n",
    "plt.legend()\n",
    "plt.subplot(2, 1, 2)\n",
    "plt.plot(theta, post.pdf(theta), color='red', label=r'Posterior $p(\\theta|x=5)$')\n",
    "plt.legend()"
   ]
  },
  {
   "cell_type": "markdown",
   "id": "c7d0d5bf",
   "metadata": {},
   "source": [
    "### Conclusiones\n",
    "\n",
    "```{admonition} Entonces, ¿qué hicimos en este proceso?\n",
    ":class: tip\n",
    "\n",
    "**Resolviste analíticamente la distribución posterior** que surge de una **prior conjugada**.  \n",
    "Gracias a que la forma funcional se mantiene dentro de la misma familia (en este caso, la Normal),  \n",
    "no fue necesario realizar integrales complejas: _bastó con manipulación algebraica_.\n",
    "\n",
    "En este ejemplo particular:\n",
    "\n",
    "- La **prior** es Normal, centrada en 2.  \n",
    "- La **verosimilitud** es Normal, centrada en 5.  \n",
    "- El resultado es otra **Normal**, la **posterior**, centrada en $\\tfrac{7}{2}$ con varianza $\\tfrac{1}{2}$\n",
    "\n",
    "Por lo tanto:\n",
    "\n",
    "$$\n",
    "p(\\theta \\mid D) \\propto e^{-(\\theta - \\tfrac{7}{2})^2}\n",
    "\\quad \\Longrightarrow \\quad\n",
    "\\text{Normal}\\!\\left(\\tfrac{7}{2}, \\tfrac{1}{2}\\right)\n",
    "$$  \n",
    "```"
   ]
  }
 ],
 "metadata": {
  "kernelspec": {
   "display_name": "mgp",
   "language": "python",
   "name": "python3"
  },
  "language_info": {
   "codemirror_mode": {
    "name": "ipython",
    "version": 3
   },
   "file_extension": ".py",
   "mimetype": "text/x-python",
   "name": "python",
   "nbconvert_exporter": "python",
   "pygments_lexer": "ipython3",
   "version": "3.13.2"
  }
 },
 "nbformat": 4,
 "nbformat_minor": 5
}
