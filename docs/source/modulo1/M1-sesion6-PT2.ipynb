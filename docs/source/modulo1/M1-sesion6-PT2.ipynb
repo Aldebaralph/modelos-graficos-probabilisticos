{
 "cells": [
  {
   "cell_type": "markdown",
   "id": "246a36d7",
   "metadata": {},
   "source": [
    "# Sesión 6 B\n",
    "\n",
    "## Actualización bayesiana continua"
   ]
  },
  {
   "cell_type": "markdown",
   "id": "7fee1300",
   "metadata": {},
   "source": [
    "> **Objetivos:**\n",
    "> - Comprender una familia de distributiones parametrizadas que representa un rango continuo de hipótesis para los datos observados.\n",
    ">\n",
    "> - Aplicar el teorema de Bayes para actualizar la densidad de probabilidad dados los datos y una distribución posterior.\n",
    ">\n",
    "> - Interpretar y usar probabilidades predictivas posteriores."
   ]
  },
  {
   "cell_type": "markdown",
   "id": "3f3d693b",
   "metadata": {},
   "source": [
    "### 1. De hipótesis discretas a parámetros continuos  \n",
    "\n",
    "En los ejemplos anteriores trabajamos con un modelo **discreto**:\n",
    "\n",
    "- Teníamos un conjunto **finito de hipótesis**: la moneda podía ser de tipo A, B o C, cada una con su probabilidad previa.  \n",
    "\n",
    "- La distribución $p(\\theta)$ representaba esa creencia inicial sobre **cuál hipótesis era verdadera**.  \n",
    "\n",
    "En ese escenario, el razonamiento bayesiano consistía en:  \n",
    "1. Asignar probabilidades a las hipótesis (previas).  \n",
    "2. Observar datos (por ejemplo, caras al lanzar la moneda).  \n",
    "3. Actualizar esas probabilidades mediante Bayes, obteniendo una **posterior discreta** sobre el conjunto de hipótesis.  \n",
    "\n",
    "Ahora pasamos a un escenario distinto: el **caso continuo**.  \n",
    "- Ya no pensamos en un número finito de hipótesis, sino en un **parámetro desconocido $\\theta$**.  \n",
    "- Por ejemplo, $\\theta$ puede ser la probabilidad de obtener cara al lanzar una moneda.  \n",
    "- Como no sabemos su valor exacto, suponemos que $\\theta$ puede tomar **infinitos valores en el intervalo $[0,1]$**.  \n",
    "\n",
    "En este caso:  \n",
    "- La verosimilitud sigue siendo discreta (los datos son lanzamientos: cara o cruz, modelados por una Bernoulli).  \n",
    "- Pero la distribución **previa sobre $\\theta$** es ahora una distribución **continua**.  \n",
    "\n",
    "Así, el proceso bayesiano cambia de \"asignar probabilidades a hipótesis finitas\" a \"asignar densidades de probabilidad a un espacio continuo de posibles valores para el parámetro\".  "
   ]
  },
  {
   "cell_type": "markdown",
   "id": "4c4d17ac",
   "metadata": {},
   "source": [
    "> En resumen:  \n",
    "> - **Caso discreto**: $p(\\theta)$ representa probabilidades sobre un conjunto finito de > hipótesis (tipos de monedas).\n",
    ">\n",
    "> - **Caso continuo**: $p(\\theta)$ es una densidad sobre todos los valores posibles del > parámetro $\\theta$."
   ]
  },
  {
   "cell_type": "markdown",
   "id": "dfbb7161",
   "metadata": {},
   "source": [
    "### 2. Justificación de usar $\\theta$ continua\n",
    "\n",
    "El enfoque _continuo_ es más realista en muchos contextos, porque en la práctica no sabemos de antemano cuáles son los valores posibles de la probabilidad de cara.\n",
    "\n",
    "En lugar de restringirnos a 3 hipótesis, admitimos que la probabilidad de cara $\\theta$ puede ser cualquier número real en $[0,1]$.\n",
    "\n",
    "Así, el modelo nos permite **aprender directamente la probabilidad de éxito** en vez de solo elegir entre hipótesis predefinidas."
   ]
  },
  {
   "cell_type": "markdown",
   "id": "b70d52f5",
   "metadata": {},
   "source": [
    "### 3. Previas continuas, verosimilitudes discretas\n",
    "\n",
    "**Dos niveles en el modelo bayesiano**\n",
    "\n",
    "Cuando aplicamos Bayes, siempre jugamos en dos niveles distintos de incertidumbre:\n",
    "\n",
    "$$\n",
    "p(\\theta | x) = \\frac{p(x | \\theta) p(\\theta)}{p(x)}.\n",
    "$$\n",
    "\n",
    "1. Nivel de los datos (observaciones):\n",
    "\n",
    "    * En el ejemplo de la moneda, los datos provienen de una Bernoulli, es decir, $X \\in {0,1}$.\n",
    "\n",
    "    * Esto significa que la verosimilitud (la probabilidad de observar los datos dados los parámetros) $p(x|\\theta)$ es **discreta.**\n",
    "\n",
    "2.  Nivel del parámetro desconocido $\\theta$:\n",
    "\n",
    "    * Aquí, $\\theta$ es la probabilidad de éxito (caer cara).\n",
    "\n",
    "    * No conocemos $\\theta$, pero asumimos que **puede tomar infinitos valores en [0,1]**.\n",
    "\n",
    "    * Como no sabemos cuál es $\\theta$, lo tratamos como una _variable aleatoria continua_ con su propia distribución: **la distribución previa (prior)** $p(\\theta)$."
   ]
  },
  {
   "cell_type": "markdown",
   "id": "2289fa41",
   "metadata": {},
   "source": [
    "```{admonition} Nota\n",
    ":class: tip\n",
    "\n",
    "Recuerda que el parámetro o los parámetros de una distribución siempre son los mismos para cada distribución.\n",
    "\n",
    "Lo que cambia es **cómo estimamos según el enfoque**:\n",
    "\n",
    "![](../images/sesion6-comparacion-mle-map-bayes.png)\n",
    "```"
   ]
  },
  {
   "cell_type": "markdown",
   "id": "ac9968e7",
   "metadata": {},
   "source": [
    "#### **Ejemplo**\n",
    "\n",
    "Supongamos que tenemos una moneda con probabilidad desconocida $\\theta$ de caer en cara. El valor de $\\theta$ es aleatorio y podría ser cualquier cosa entre 0 y 1.\n",
    "\n",
    "##### **Prior**\n",
    "\n",
    "Para modelar nuestra incertidumbre sobre $\\theta$, **asumimos** que:\n",
    "\n",
    "$$ p(\\theta) = 2\\theta\n",
    "$$\n",
    "\n",
    "para $0 \\leq \\theta \\leq 1$ y 0 en otro caso."
   ]
  },
  {
   "cell_type": "markdown",
   "id": "086e27cb",
   "metadata": {},
   "source": [
    "![](../images/sesion6-comparacionprevias.png)"
   ]
  },
  {
   "cell_type": "markdown",
   "id": "a76f0ee3",
   "metadata": {},
   "source": [
    "> * Nuestra **creencia previa (prior)** sobre $\\theta$ no es uniforme.\n",
    "\n",
    "> * Estamos diciendo que, antes de ver los datos, creemos que valores grandes de $\\theta$ (más cercanos a 1) son **más probables** que valores pequeños (más cercanos a 0).\n",
    "\n",
    "> * Es una pdf válida porque:\n",
    "$$ \\int_0^1 2\\theta d\\theta = 1\n",
    "$$\n",
    "\n",
    "> **Observa lo interesante:** \n",
    "> - La previa es _continua_ (porque $\\theta$ puede variar en infinitos valores).\n",
    "> - La verosimilitud es _discreta_ (porque los datos son 0 o 1)."
   ]
  },
  {
   "cell_type": "markdown",
   "id": "ceb993a8",
   "metadata": {},
   "source": [
    "##### **Verosimilitud**\n",
    "\n",
    "Tenemos una _verosimilitud discreta_ dado que tirar una moneda solo tiene dos posibles resultados:\n",
    "\n",
    "$$\n",
    "p(x=1 | \\theta) = \\theta, \\qquad p(x=0 | \\theta) = 1 - \\theta\n",
    "$$"
   ]
  },
  {
   "cell_type": "markdown",
   "id": "f051a410",
   "metadata": {},
   "source": [
    "##### **Enfoque bayesiano**\n",
    "\n",
    "Si:\n",
    "\n",
    "$$\n",
    "\\text{Numerador de Bayes} \\;=\\; \n",
    "\\underbrace{p(x \\mid \\theta)}_{\\text{verosimilitud (discreta)}}\\;\n",
    "\\underbrace{p(\\theta)}_{\\text{previa (continua)}}\n",
    "$$\n",
    "\n",
    "Normalizamos diviendo por la probailidad total \n",
    "\n",
    "\n",
    "$$\n",
    "p(x) \\;=\\; \\int_{0}^{1} p(x \\mid \\theta)\\, p(\\theta)\\, d\\theta\n",
    "\\quad \\Rightarrow \\quad\n",
    "p(\\theta \\mid x) \\;=\\; \\frac{p(x \\mid \\theta)\\, p(\\theta)}{p(x)}\n",
    "\n",
    "$$"
   ]
  },
  {
   "cell_type": "markdown",
   "id": "53febac1",
   "metadata": {},
   "source": [
    "> En este caso, la *ley de probabilidad total* la escribimos como $$p(x) = \\int_{-\\infty}^{\\infty} p(x | \\theta) p(\\theta) \\text{d}\\theta$$"
   ]
  },
  {
   "cell_type": "markdown",
   "id": "91c9f41d",
   "metadata": {},
   "source": [
    "### Ejemplo 1: una sola observación (cara)\n",
    "\n",
    "Supongamos que tiramos la moneda una vez y obtenemos cara ($x=1$).\n",
    "\n",
    "* verosimilitud:\n",
    "\n",
    "$$\n",
    "p(x=1 \\mid \\theta) = \\theta\n",
    "$$\n",
    "\n",
    "* previa:\n",
    "\n",
    "$$\n",
    "p(\\theta) = 2\\theta, \\quad 0 \\leq \\theta \\leq 1\n",
    "$$\n",
    "\n",
    "* numerador de Bayes:\n",
    "\n",
    "$$\n",
    "p(x=1 \\mid \\theta)\\, p(\\theta) = \\theta \\cdot 2\\theta = 2\\theta^2\n",
    "$$\n",
    "\n",
    "* probabilidad total:\n",
    "\n",
    "$$\n",
    "\\begin{aligned}\n",
    "p(x=1) &= \\int_{0}^{1} \n",
    "          \\underbrace{\\theta}_{\\text{verosimilitud}}\\;\n",
    "          \\underbrace{2\\theta}_{\\text{previa}}\\, d\\theta \\\\[6pt]\n",
    "       &= \\int_{0}^{1} 2\\theta^2\\, d\\theta \\\\[6pt]\n",
    "       &= 2\\left[\\tfrac{\\theta^3}{3}\\right]_{0}^{1} \\\\[6pt]\n",
    "       &= \\tfrac{2}{3}\n",
    "\\end{aligned}\n",
    "$$\n"
   ]
  },
  {
   "cell_type": "markdown",
   "id": "ae055315",
   "metadata": {},
   "source": [
    "Con esta probabilidad total ya podemos calcular la posterior, \n",
    "normalizando el numerador de Bayes:\n",
    "\n",
    "* posterior:\n",
    "\n",
    "$$\n",
    "p(\\theta \\mid x=1) = \\frac{2\\theta^2}{2/3} = 3\\theta^2\n",
    "$$"
   ]
  },
  {
   "cell_type": "markdown",
   "id": "2674f1ff",
   "metadata": {},
   "source": [
    "### Cálculo simbólico con `sympy`"
   ]
  },
  {
   "cell_type": "code",
   "execution_count": null,
   "id": "ae4630e2",
   "metadata": {},
   "outputs": [],
   "source": [
    "import sympy as sp\n",
    "\n",
    "# Definimos el símbolo\n",
    "theta = sp.symbols('θ')\n",
    "\n",
    "# Definimos la prior y la verosimilitud\n",
    "prior = 2*theta\n",
    "likelihood = theta\n",
    "\n",
    "# Evidencia (normalización): ∫ θ * 2θ dθ de 0 a 1\n",
    "p_evidencia = sp.integrate(likelihood * prior, (theta, 0, 1))\n",
    "print(\"Evidencia p(x=1) =\", p_evidencia)\n",
    "\n",
    "# Posterior = numerador / evidencia\n",
    "posterior = (likelihood * prior) / p_evidencia\n",
    "posterior_simpl = sp.simplify(posterior) #simplifica la expressión\n",
    "print(\"Posterior p(θ|x=1) =\", posterior_simpl)"
   ]
  },
  {
   "cell_type": "markdown",
   "id": "f7a847a8",
   "metadata": {},
   "source": [
    "### Cálculo numérico con `numpy`"
   ]
  },
  {
   "cell_type": "code",
   "execution_count": null,
   "id": "b553e275",
   "metadata": {},
   "outputs": [],
   "source": [
    "import numpy as np\n",
    "import matplotlib.pyplot as plt\n",
    "\n",
    "# Theta\n",
    "theta = np.linspace(0, 1, 200)\n",
    "\n",
    "# Prior y verosimilitud evaluadas en theta\n",
    "prior_vals = 2 * theta\n",
    "likelihood_vals = theta\n",
    "\n",
    "# Evidencia en forma cerrada\n",
    "p_x = 2/3  \n",
    "\n",
    "# Posterior evaluada punto a punto\n",
    "posterior_vals = (likelihood_vals * prior_vals) / p_x "
   ]
  },
  {
   "cell_type": "code",
   "execution_count": null,
   "id": "bd97e605",
   "metadata": {},
   "outputs": [],
   "source": [
    "# Graficamos\n",
    "plt.plot(theta, prior_vals, label=r'Previa $p(\\theta)=2\\theta$')\n",
    "plt.plot(theta, posterior_vals, color='red', label=r'Posterior $p(\\theta|x=1)=3\\theta^2$')\n",
    "plt.xlabel(r'$\\theta$')\n",
    "plt.ylabel(\"Densidad\")\n",
    "plt.title(\"Actualización Bayesiana: previa y posterior\")\n",
    "plt.legend()\n",
    "plt.grid(alpha=0.3)\n",
    "plt.show()"
   ]
  },
  {
   "cell_type": "markdown",
   "id": "e389d309",
   "metadata": {},
   "source": [
    "> **Nota.** Precisamente la ley de probabilidad total será, en general, bastante compleja de calcular en la mayoría de los casos, por lo que luego nos decantaremos por métodos numéricos para aproximar la distribución posterior."
   ]
  },
  {
   "cell_type": "markdown",
   "id": "ef59445a",
   "metadata": {},
   "source": [
    "### Ejemplo 2: \n",
    "\n",
    "Supongamos que observamos en tres tiros de la moneda, la secuencia cara-cara-sello.\n",
    " \n",
    "Calculemos la pdf posterior para $\\theta$:"
   ]
  },
  {
   "cell_type": "markdown",
   "id": "6278a066",
   "metadata": {},
   "source": [
    "### Cálculo simbólico con `sympy`"
   ]
  },
  {
   "cell_type": "markdown",
   "id": "2e1390ef",
   "metadata": {},
   "source": [
    "1) Previa:\n",
    "\n",
    "$$\n",
    "p(\\theta) = 2\\theta, \\quad 0 \\leq \\theta \\leq 1\n",
    "$$"
   ]
  },
  {
   "cell_type": "code",
   "execution_count": null,
   "id": "d5135eda",
   "metadata": {},
   "outputs": [],
   "source": [
    "theta = sp.symbols('θ')\n",
    "prior = 2*theta\n",
    "prior"
   ]
  },
  {
   "cell_type": "markdown",
   "id": "454ad2c3",
   "metadata": {},
   "source": [
    "2. Verosimilitud de la secuencia cara-cara-sello (1,1,0):\n",
    "\n",
    "$$\n",
    "p(x=1,1,0|\\theta) = \\theta * \\theta * (1-\\theta) = \\theta^2 (1-\\theta)\n",
    "$$"
   ]
  },
  {
   "cell_type": "code",
   "execution_count": null,
   "id": "97c68aca",
   "metadata": {},
   "outputs": [],
   "source": [
    "likelihood = theta*theta*(1-theta)\n",
    "likelihood"
   ]
  },
  {
   "cell_type": "markdown",
   "id": "f03a8e1b",
   "metadata": {},
   "source": [
    "3. Numerador de Bayes _(previa * verosimilitud)_:\n",
    "\n",
    "$$\n",
    "p(\\theta|x=1,1,0) \\propto p(\\theta) \\cdot p(x=1,1,0|\\theta)\n",
    "$$"
   ]
  },
  {
   "cell_type": "code",
   "execution_count": null,
   "id": "c3bcd174",
   "metadata": {},
   "outputs": [],
   "source": [
    "numerador = likelihood * prior\n",
    "numerador"
   ]
  },
  {
   "cell_type": "markdown",
   "id": "689d36b5",
   "metadata": {},
   "source": [
    "4. Probabilidad total (evidencia) - normalización:\n",
    "\n",
    "$$\n",
    "p(x=1,1,0)= \\int_{0}^{1} p(x=1,1,0|\\theta) p(\\theta) d\\theta\n",
    "$$"
   ]
  },
  {
   "cell_type": "code",
   "execution_count": null,
   "id": "8ebd4bfa",
   "metadata": {},
   "outputs": [],
   "source": [
    "p_evidencia = sp.integrate(numerador, (theta, 0, 1))\n",
    "p_evidencia"
   ]
  },
  {
   "cell_type": "markdown",
   "id": "45a89616",
   "metadata": {},
   "source": [
    "5. Posterior:\n",
    "\n",
    "$$\n",
    "p(\\theta|x=1,1,0) = \\frac{p(x=1,1,0|\\theta) p(\\theta)}{p(x=1,1,0)}\n",
    "$$"
   ]
  },
  {
   "cell_type": "code",
   "execution_count": null,
   "id": "8c5118ec",
   "metadata": {},
   "outputs": [],
   "source": [
    "posterior_expr = numerador / p_evidencia\n",
    "posterior_simpl = sp.simplify(posterior_expr)\n",
    "posterior_simpl"
   ]
  },
  {
   "cell_type": "markdown",
   "id": "656f347d",
   "metadata": {},
   "source": [
    "### Cálculo numérico con `numpy`"
   ]
  },
  {
   "cell_type": "code",
   "execution_count": null,
   "id": "d634c5a4",
   "metadata": {},
   "outputs": [],
   "source": [
    "import numpy as np\n",
    "\n",
    "# Rango de θ\n",
    "theta = np.linspace(0, 1, 1001)\n",
    "\n",
    "# Previa p(θ)\n",
    "prior_density = 2 * theta\n",
    "\n",
    "# Verosimilitud de los datos (x=1,1,0)\n",
    "likelihood_vals = theta**2 * (1 - theta)\n",
    "\n",
    "# Numerador de Bayes\n",
    "unnormalized_posterior = prior_density * likelihood_vals   \n",
    "\n",
    "# Evidencia (probabilidad total de los datos)\n",
    "evidencia = np.trapezoid(unnormalized_posterior, theta)\n",
    "\n",
    "# Posterior normalizada\n",
    "posterior_density = unnormalized_posterior / evidencia\n",
    "\n",
    "# Verificación (el área bajo la posterior debe ser 1)\n",
    "area_posterior = np.trapezoid(posterior_density, theta)\n",
    "\n",
    "evidencia, area_posterior"
   ]
  },
  {
   "cell_type": "code",
   "execution_count": null,
   "id": "c54d5ffc",
   "metadata": {},
   "outputs": [],
   "source": [
    "# Graficar previa y posterior\n",
    "plt.figure(figsize=(7,5))\n",
    "plt.plot(theta, prior_density, label=r'Previa $2\\theta$')\n",
    "plt.plot(theta, posterior_density, color='red', label=r'Posterior $20\\theta^3(1-\\theta)$')\n",
    "plt.xlabel(r'$\\theta$'); plt.ylabel('Densidad')\n",
    "plt.title('Actualización Bayesiana: datos (1,1,0)')\n",
    "plt.legend(); plt.grid(alpha=0.3)\n",
    "plt.show()"
   ]
  },
  {
   "cell_type": "markdown",
   "id": "0f071b8e",
   "metadata": {},
   "source": [
    "Ahora que tenemos todos los ingredientes, escribimos nuestra tabla de actualziación Bayesiana, teniendo en mente que:\n",
    "\n",
    "> No podemos enumerar una fila para cada hipótesis. Solo escribimos una.\n",
    "\n",
    "| Hipótesis | Rango          | Previa                                     | Verosimilitud              | Numerador de Bayes                                         | Posterior                  |\n",
    "| --------- | -------------- | ------------------------------------------ | -------------------------- | ---------------------------------------------------------- | -------------------------- |\n",
    "| $\\theta$  | rango $\\theta$ | $p(\\theta)$                                | $p(x = 1, 1, 0 \\| \\theta)$ | $p(x = 1, 1, 0 \\| \\theta)p(\\theta)$                        | $p(\\theta \\| x = 1, 1, 0)$ |\n",
    "|           |                |                                            |                            |                                                            |                            |\n",
    "| $\\theta$  | [0, 1]         | $2 \\theta$                                 | $\\theta^2(1-\\theta)$       | $2 \\theta^3 (1-\\theta)$                                    | $20 \\theta^3 (1-\\theta)$   |\n",
    "|           |                |                                            |                            |                                                            |                            |\n",
    "| total     | [0, 1]         | $\\int_{0}^{1} 2 \\theta \\text{d}\\theta = 1$ | NO SUMA                    | $\\int_{0}^{1} 2 \\theta^3 (1-\\theta) \\text{d}\\theta = 1/10$ | $1$                        |"
   ]
  },
  {
   "cell_type": "code",
   "execution_count": null,
   "id": "a12807b6",
   "metadata": {},
   "outputs": [],
   "source": [
    "# Graficar numerador y posterior\n",
    "plt.figure(figsize=(8,6))\n",
    "\n",
    "plt.subplot(2, 1, 1)\n",
    "plt.plot(theta, posterior_density, label=r'Posterior $p(\\theta|x=1,1,0)$', color='blue')\n",
    "plt.ylabel(\"Densidad\")\n",
    "plt.legend()\n",
    "\n",
    "plt.subplot(2, 1, 2)\n",
    "plt.plot(theta, unnormalized_posterior, label=r'Numerador de Bayes $p(x=1,1,0|\\theta)p(\\theta)$', color='red')\n",
    "plt.xlabel(r'$\\theta$')\n",
    "plt.ylabel(\"Valor\")\n",
    "plt.legend()\n",
    "\n",
    "plt.tight_layout()\n",
    "plt.show()"
   ]
  },
  {
   "cell_type": "markdown",
   "id": "d10ecf53",
   "metadata": {},
   "source": [
    "Una vez más, incluso para el caso de previas continuas, tenemos que:\n",
    "\n",
    "$$\n",
    "p(\\text{hipótesis} | \\text{datos}) \\propto p(\\text{datos} | \\text{hipótesis}) p(\\text{hpótesis})\n",
    "$$\n",
    "\n",
    "o equivalentemente:\n",
    "\n",
    "$$\n",
    "\\text{posterior} \\propto \\text{verosimilitud} \\cdot \\text{previa}.\n",
    "$$"
   ]
  },
  {
   "cell_type": "markdown",
   "id": "c1da2bb2",
   "metadata": {},
   "source": [
    "### Ejemplo 3:\n",
    "\n",
    "En el ejemplo anterior supusimos una distribución previa particular para $\\theta$. Esta distribución $p(\\theta)=2 \\theta$ implica que hay más probabilidad (previa) de que la moneda caiga cara. _¿Qué pasaría si no tuviéramos conocimiento previo alguno de esta probabilidad?_\n",
    "\n",
    "En este caso, suponemos que la previa es *plana* (uniforme en (0,1)). Similar al ejemplo anterior:\n",
    "\n",
    "| Hipótesis | Rango          | Previa                              | Verosimilitud              | Numerador de Bayes                                         | Posterior                  |\n",
    "| --------- | -------------- | ----------------------------------- | -------------------------- | ---------------------------------------------------------- | -------------------------- |\n",
    "| $\\theta$  | [0, 1]         | $1$                                 | $\\theta^2(1-\\theta)$       | $\\theta^2(1-\\theta)$                                       | $12 \\theta^2 (1-\\theta)$   |\n",
    "|           |                |                                     |                            |                                                            |                            |\n",
    "| total     | [0, 1]         | $\\int_{0}^{1} 1 \\text{d}\\theta = 1$ | NO SUMA                    | $\\int_{0}^{1} \\theta^2(1-\\theta) \\text{d}\\theta = 1/12$    | $1$                        |"
   ]
  },
  {
   "cell_type": "code",
   "execution_count": null,
   "id": "136e96a0",
   "metadata": {},
   "outputs": [],
   "source": [
    "# Graficar previa y posterior\n",
    "\n",
    "# Theta\n",
    "theta = np.linspace(0, 1, 1001)\n",
    "# Previa\n",
    "prior = np.ones(1001)\n",
    "# Posterior\n",
    "posterior = 12 * theta**2 * (1 - theta)\n",
    "# Graficamos\n",
    "plt.subplot(2, 1, 1)\n",
    "plt.plot(theta, prior, label=r'Previa $p(\\theta)$')\n",
    "plt.plot(theta, posterior, color='red', label=r'Posterior $p(\\theta|x=1,1,0)$')\n",
    "plt.legend()\n",
    "plt.xlabel('$\\\\theta$')\n",
    "plt.subplot(2, 1, 2)\n",
    "num_bayes = theta**2 * (1 - theta)\n",
    "plt.plot(theta, num_bayes, color='red',label=r'Numerador de Bayes $p(x=1,1,0|\\theta)p(\\theta)$')\n",
    "plt.legend()"
   ]
  },
  {
   "cell_type": "markdown",
   "id": "da70204d",
   "metadata": {},
   "source": [
    "## Respondiendo preguntas con la distribución posterior"
   ]
  },
  {
   "cell_type": "markdown",
   "id": "070c29af",
   "metadata": {},
   "source": [
    "Una vez tenemos la distribución posterior, la podemos utilizar para responder preguntas. Por ejemplo:\n",
    "\n",
    "Con una **distribución uniforme** como la anterior, podemos ver que la moneda en principio no está sesgada:\n",
    "\n",
    "$$\n",
    "p(\\theta > 0.5) = \\int_{0.5}^{1} 1 \\text{d}\\theta = 0.5 = p(\\theta < 0.5).\n",
    "$$\n",
    "\n",
    "Después de observar la secuencia cara-cara-sello, pregunta:\n",
    "\n",
    "**¿qué probabilidad tiene ahora la moneda de estar sesgada a cara ($\\theta > 0.5$)?**"
   ]
  },
  {
   "cell_type": "markdown",
   "id": "57d1f2e3",
   "metadata": {},
   "source": [
    "**Definir la posterior**\n",
    "\n",
    "Sabemos que después de ver $x=(1,1,0)$ la posterior es:\n",
    "\n",
    "$$\n",
    "p(\\theta | x=1,1,0) = 12 \\theta^2 (1-\\theta), \\quad 0 \\leq \\theta \\leq 1.\n",
    "$$"
   ]
  },
  {
   "cell_type": "code",
   "execution_count": null,
   "id": "ec67c189",
   "metadata": {},
   "outputs": [],
   "source": [
    "theta = sp.symbols('θ')\n",
    "posterior = 12*theta**2*(1-theta)\n",
    "\n",
    "check_area = sp.integrate(posterior, (theta, 0, 1))\n",
    "check_area"
   ]
  },
  {
   "cell_type": "markdown",
   "id": "88e9e64b",
   "metadata": {},
   "source": [
    "**Probabilidad de que la moneda esté cargada a cara ($\\theta > 0.5$)**\n",
    "\n",
    "$$\n",
    "p(\\theta > 0.5 | x = 1, 1, 0) = \\int_{0.5}^{1} 12 \\theta^2 (1-\\theta) \\text{d}\\theta = 12 \\left(\\frac{\\theta^3}{3} - \\frac{\\theta^4}{4}\\right)_{0.5}^1 = 1 - \\frac{5}{16} =\\frac{11}{16} > 0.5,\n",
    "$$"
   ]
  },
  {
   "cell_type": "code",
   "execution_count": null,
   "id": "0a909f83",
   "metadata": {},
   "outputs": [],
   "source": [
    "prob_theta_gt_05 = sp.integrate(posterior, (theta, 0.5, 1))\n",
    "prob_theta_gt_05"
   ]
  },
  {
   "cell_type": "markdown",
   "id": "48d423e2",
   "metadata": {},
   "source": [
    "**Respuesta concreta**\n",
    "\n",
    "Despues de obsevar la secuencia $x=(1,1,0)$, la probabilidad de que la moneda esté sesgada a cara $\\theta>0.5$ es:\n",
    "\n",
    "$$\n",
    "p(\\theta > 0.5 | x = 1, 1, 0) = \\frac{11}{16} \\approx 0.6875.\n",
    "$$\n",
    "\n",
    "es decir, hay alrededor de un 69% de probabilidad de que la moneda favorezca las caras."
   ]
  },
  {
   "cell_type": "markdown",
   "id": "83d5c0d6",
   "metadata": {},
   "source": [
    "## Probabilidades predictivas"
   ]
  },
  {
   "cell_type": "markdown",
   "id": "fd9a0c10",
   "metadata": {},
   "source": [
    "## Probabilidad predictiva previa\n",
    "\n",
    "### Ejemplo 4\n",
    "\n",
    "Continuando con el ejemplo original, tenemos una moneda con probabilidad desconocida $\\theta$ de caer cara y tenemos una pdf previa $p(\\theta) = 2 \\theta$. \n",
    "\n",
    "**Pregunta:** _¿Cuál es la probabilidad de que al lanzar la moneda salga cara?_"
   ]
  },
  {
   "cell_type": "markdown",
   "id": "5a31e02d",
   "metadata": {},
   "source": [
    "**(A) Probabilidad predictiva previa**\n",
    "\n",
    "Antes de observar ningún dato, la probabilidad de que el primer tiro sea cara es::\n",
    "\n",
    "$$\n",
    "p(x_1 = 1) = \\int_{0}^{1} p(x_1 = 1 | \\theta) p(\\theta) \\text{d}\\theta\n",
    "$$\n",
    "\n",
    "sabemos que $p(x_1=1|\\theta) =\\theta$, por lo que:\n",
    "\n",
    "$$\n",
    "p(x_1 = 1) = \\int_{0}^{1} \\theta \\cdot 2 \\theta \\text{d}\\theta = \\int_{0}^{1} 2 \\theta^2 \\text{d}\\theta = \\frac{2}{3}\n",
    "$$"
   ]
  },
  {
   "cell_type": "markdown",
   "id": "cc3d5405",
   "metadata": {},
   "source": [
    "### Cálculo simbólico con `sympy`"
   ]
  },
  {
   "cell_type": "code",
   "execution_count": null,
   "id": "4628839d",
   "metadata": {},
   "outputs": [],
   "source": [
    "# Variable simbólica\n",
    "theta = sp.symbols('theta')\n",
    "\n",
    "# Prior\n",
    "prior = 2*theta\n",
    "\n",
    "# Verosimilitud de \"cara\"\n",
    "likelihood_cara = theta\n",
    "\n",
    "# Probabilidad predictiva previa\n",
    "p_prev = sp.integrate(likelihood_cara * prior, (theta, 0, 1))\n",
    "p_prev"
   ]
  },
  {
   "cell_type": "markdown",
   "id": "f6dc8473",
   "metadata": {},
   "source": [
    "## Probabilidad predictiva posterior\n",
    "\n",
    "### Ejemplo 5\n",
    "\n",
    "Continuando con el ejemplo original, tenemos una moneda con probabilidad desconocida $\\theta$ de caer cara y tenemos una pdf previa $p(\\theta) = 2 \\theta$. \n",
    "\n",
    "**Pregunta**\n",
    "\n",
    "Suponga que se hace un tiro y cae cara. Encuentra la probabilidad predictiva posterior de que caiga cara."
   ]
  },
  {
   "cell_type": "markdown",
   "id": "01f97482",
   "metadata": {},
   "source": [
    "**(B) Probabilidad predictiva posterior**"
   ]
  },
  {
   "cell_type": "markdown",
   "id": "37ef45bf",
   "metadata": {},
   "source": [
    "Para la probabilidad predictiva posterior, actualizamos a la posterior:\n",
    "\n",
    "| Hipótesis | Rango          | Previa                                    | Verosimilitud  | Numerador de Bayes                                | Posterior                  |\n",
    "| --------- | -------------- | ----------------------------------------- | -------------- | ------------------------------------------------- | -------------------------- |\n",
    "| $\\theta$  | [0, 1]         | $2\\theta$                                 | $\\theta$       | $2\\theta^2$                                       | $3 \\theta^2$               |\n",
    "|           |                |                                           |                |                                                   |                            |\n",
    "| total     | [0, 1]         | $\\int_{0}^{1} 2\\theta \\text{d}\\theta = 1$ | NO SUMA        | $\\int_{0}^{1} 2\\theta^2 \\text{d}\\theta = 2/3$     | $1$                        |"
   ]
  },
  {
   "cell_type": "markdown",
   "id": "604b6a6b",
   "metadata": {},
   "source": [
    "Supongamos que tenemos una moneda con probabilidad desconocida $\\theta$ de caer cara.  \n",
    "La distribución previa sobre $\\theta$ es:  \n",
    "\n",
    "$$\n",
    "p(\\theta) = 2\\theta, \\quad \\theta \\in [0,1]\n",
    "$$\n",
    "\n",
    "**Primer lanzamiento: obtenemos cara**\n",
    "\n",
    "La verosimilitud de observar cara dado $\\theta$ es simplemente:\n",
    "\n",
    "$$\n",
    "p(x=1 \\mid \\theta) = \\theta\n",
    "$$\n",
    "\n",
    "Por lo tanto, usando Bayes, la distribución posterior es:\n",
    "\n",
    "$$\n",
    "p(\\theta \\mid x=1) \\propto p(x=1 \\mid \\theta) \\, p(\\theta)\n",
    "$$\n",
    "\n",
    "Sustituimos:\n",
    "\n",
    "$$\n",
    "p(\\theta \\mid x=1) \\propto \\theta \\cdot (2\\theta) = 2\\theta^2\n",
    "$$"
   ]
  },
  {
   "cell_type": "markdown",
   "id": "330249c8",
   "metadata": {},
   "source": [
    "**Normalización**\n",
    "\n",
    "Para convertir la expresión proporcional en una distribución de probabilidad, normalizamos:\n",
    "\n",
    "$$\n",
    "p(\\theta \\mid x=1) = \\frac{2\\theta^2}{\\int_0^1 2\\theta^2 d\\theta}\n",
    "$$\n",
    "\n",
    "Calculamos la integral:\n",
    "\n",
    "$$\n",
    "\\int_0^1 2\\theta^2 d\\theta = \\left[ \\frac{2}{3}\\theta^3 \\right]_0^1 = \\frac{2}{3}\n",
    "$$"
   ]
  },
  {
   "cell_type": "markdown",
   "id": "d35e91db",
   "metadata": {},
   "source": [
    "*Entonces, esta es la distribucòn posterior sobre el parámetro $\\theta$, después de observar un lanzamiento con resultado cara $(x=1)$:*\n",
    "\n",
    "$$\n",
    "p(\\theta \\mid x=1) = \\frac{2\\theta^2}{2/3} = 3\\theta^2\n",
    "$$"
   ]
  },
  {
   "cell_type": "markdown",
   "id": "fd941808",
   "metadata": {},
   "source": [
    "**Probabilidad predictiva posterior**  \n",
    "\n",
    "Queremos calcular la probabilidad de que en el **segundo lanzamiento** vuelva a salir cara, dado que en el primero salió cara:\n",
    "\n",
    "$$\n",
    "p(x_2=1 \\mid x_1=1) = \\int_0^1 \n",
    "\\underbrace{p(x_2=1 \\mid \\theta)}_{\\theta} \\cdot \n",
    "\\underbrace{p(\\theta \\mid x_1=1)}_{3\\theta^2} \\, d\\theta\n",
    "$$"
   ]
  },
  {
   "cell_type": "markdown",
   "id": "d915f3cf",
   "metadata": {},
   "source": [
    "**Resolviendo la integral** \n",
    "\n",
    "$$\n",
    "p(x_2=1 \\mid x_1=1) = \\int_0^1 3\\theta^3 \\, d\\theta\n",
    "= 3 \\cdot \\left[ \\frac{\\theta^4}{4} \\right]_0^1\n",
    "= \\frac{3}{4}\n",
    "$$"
   ]
  },
  {
   "cell_type": "markdown",
   "id": "04afbd7a",
   "metadata": {},
   "source": [
    "**Resultado final**\n",
    "\n",
    "Después de observar **una cara en el primer lanzamiento**, la probabilidad predictiva posterior de que salga **cara en el segundo lanzamiento** es:\n",
    "\n",
    "$$\n",
    "p(x_2=1 \\mid x_1=1) = 0.75\n",
    "$$"
   ]
  }
 ],
 "metadata": {
  "kernelspec": {
   "display_name": "mgp",
   "language": "python",
   "name": "python3"
  },
  "language_info": {
   "codemirror_mode": {
    "name": "ipython",
    "version": 3
   },
   "file_extension": ".py",
   "mimetype": "text/x-python",
   "name": "python",
   "nbconvert_exporter": "python",
   "pygments_lexer": "ipython3",
   "version": "3.13.2"
  }
 },
 "nbformat": 4,
 "nbformat_minor": 5
}
