{
 "cells": [
  {
   "cell_type": "markdown",
   "id": "2e3dbd8d",
   "metadata": {},
   "source": [
    "# Sesión 9A\n",
    "\n",
    "## Factores"
   ]
  },
  {
   "cell_type": "markdown",
   "id": "2ab85428",
   "metadata": {},
   "source": [
    "> **Objetivos:**\n",
    "> - Entender el concepto de factor.\n",
    "> - Apropiar las operaciones que podemos desarrollar con los factores.\n",
    "> - Introducción al uso de la librería pgmpy"
   ]
  },
  {
   "cell_type": "markdown",
   "id": "6c8b2cf8",
   "metadata": {},
   "source": [
    "### ¿Qué es un factor?\n",
    "\n",
    "Un **factor** es una _función o tabla_ que asigna un número real (no necesariamente una probabilidad) a cada combinación posible de valores de un conjunto de variables aleatorias.\n",
    "\n",
    "$$ \n",
    "\\phi: \\mathrm{Val}(X_1, \\dots, X_k) \\to \\mathbb{R}_{\\geq 0}\n",
    "$$\n",
    "\n",
    "* Su entrada son las variables aleatorias $X_1, X_2, \\ldots, X_k$.\n",
    "* Su salida es un número real.\n",
    "* El conjunto de variables que se usa se llama **alcance** (_scope_):\n",
    "\n",
    "$$\n",
    "\\text{scope}[\\phi] = \\{X_1, X_2, \\ldots, X_k\\}\n",
    "$$\n"
   ]
  },
  {
   "cell_type": "markdown",
   "id": "bc886cd9",
   "metadata": {},
   "source": [
    "### Ejemplos de factores\n",
    "\n",
    "* **(a) Distribución conjunta:** \n",
    "\n",
    "Una distribución conjunta es un factor cuyo alcance son todas las variables aleatorias del modelo.\n",
    "\n",
    "Por ejemplo:\n",
    "\n",
    "$P(I,D,G)$\n",
    "\n",
    "| I | D | G | P(I,D,G) |\n",
    "|---|---|---|----------|\n",
    "| i0 | d0 | g0 | 0.03  |\n",
    "| i0 | d0 | g1 | 0.25  |\n",
    "| i0 | d1 | g0 | 0.1   |\n",
    "| i0 | d1 | g1 | 0.35  |\n",
    "| i1 | d0 | g0 | 0.05  |\n",
    "| i1 | d0 | g1 | 0.15  |\n",
    "| i1 | d1 | g0 | 0.04  |\n",
    "| i1 | d1 | g1 | 0.03  |\n",
    "\n",
    "Nota que la suma de todas las entradas es 1. Sin embargo, eso no es lo importante para un factor, sino que _cada entrada es un número real no negativo._"
   ]
  },
  {
   "cell_type": "markdown",
   "id": "7b2f8d73",
   "metadata": {},
   "source": [
    "* **(b) Medida sin normalizar:**\n",
    "\n",
    "Una medida sin normalizar es un factor que asigna un número real no negativo a cada combinación de valores de un conjunto de variables, pero no necesariamente suma 1.\n",
    "\n",
    "Por ejemplo:\n",
    "\n",
    "$P(I, D, G= g^1)$\n",
    "\n",
    "| I   | D   | G   | Prob. |\n",
    "|-----|-----|-----|-------|\n",
    "| i⁰  | d⁰  | g¹  | 0.126 |\n",
    "| i⁰  | d¹  | g¹  | 0.009 |\n",
    "| i¹  | d⁰  | g¹  | 0.252 |\n",
    "| i¹  | d¹  | g¹  | 0.060 |"
   ]
  },
  {
   "cell_type": "markdown",
   "id": "686025f1",
   "metadata": {},
   "source": [
    "* **(c) Distribución condicional (CPD):**\n",
    "\n",
    "Por ejemplo:\n",
    "\n",
    "$P(G | I, D)$\n",
    "\n",
    "| I   | D   | g¹  | g²  | g³  |\n",
    "|-----|-----|-----|-----|-----|\n",
    "| i⁰  | d⁰  | 0.3 | 0.4 | 0.3 |\n",
    "| i⁰  | d¹  | 0.05 | 0.25 | 0.7 |\n",
    "| i¹  | d⁰  | 0.9 | 0.08 | 0.02 |\n",
    "| i¹  | d¹  | 0.5 | 0.3 | 0.2 | <-- por cada condición suma 1"
   ]
  },
  {
   "cell_type": "markdown",
   "id": "0bb77080",
   "metadata": {},
   "source": [
    "* **(d) Factores generales:**\n",
    "\n",
    "Por ejemplo:\n",
    "\n",
    "| A   | B   | $\\phi$  |\n",
    "|-----|-----|-----|\n",
    "| a⁰  | b⁰  | 30  |\n",
    "| a⁰  | b¹  | 5   |\n",
    "| a¹  | b⁰  | 1   |\n",
    "| a¹  | b¹  | 10  |"
   ]
  },
  {
   "cell_type": "markdown",
   "id": "04f4e889",
   "metadata": {},
   "source": [
    "### ¿Por qué los factores son importantes?\n",
    "\n",
    "* **Dividen el problema en partes pequeñas**\n",
    "\n",
    "En lugar de representar una probabilidad enorme como $P(X_1, \\ldots, X_100)$, usamos muchos factores pequeños y los combinamos.\n",
    "\n",
    "* **Permiten construir distribuciones grandes**\n",
    "\n",
    "Una red bayesiana define una distribución conjunta como el **producto** de factores locales (CPD de cada nodo):\n",
    "\n",
    "$$\n",
    "P(X_1, \\ldots, X_n) = \\prod_{i=1}^{n} P(X_i | \\text{Padres}(X_i))\n",
    "$$\n",
    "\n",
    "donde cada término $P(X_i | \\text{Padres}(X_i))$ es un factor.\n",
    "\n",
    "* **Son la base de la inferencia**\n",
    "\n",
    "Cuando queremos responder preguntas (_¿Cuál es la probabilidad de que llueva dado que hay tráfico?_), realizamos operaciones con factores: multiplicar, reducir, marginalizar y normalizar. \n",
    "\n",
    "* **Sirven también para cálculos no probabilísticos**\n",
    "\n",
    "Aunque los valores no sean probabilidades (por ejemplo, pesos o puntuaciones), las mismas operaciones nos permiten propagar información y tomar decisiones."
   ]
  },
  {
   "cell_type": "markdown",
   "id": "5af03702",
   "metadata": {},
   "source": [
    "### Operaciones de factores"
   ]
  },
  {
   "cell_type": "markdown",
   "id": "394d17ee",
   "metadata": {},
   "source": [
    "**1. Producto de factores**\n",
    "\n",
    "$$\\phi_1(A, B)$$\n",
    "\n",
    "|   A   |   B   | $\\phi_1$ |\n",
    "| ----- | ----- | -------- |\n",
    "| $a^0$ | $b^0$ | 5        |\n",
    "| $a^0$ | $b^1$ | 8        |\n",
    "| $a^1$ | $b^0$ | 1        |\n",
    "| $a^1$ | $b^1$ | 0        |\n",
    "| $a^2$ | $b^0$ | 3        |\n",
    "| $a^2$ | $b^1$ | 9        |\n",
    "\n",
    "$$\\phi_2(B, C)$$\n",
    "\n",
    "|   B   |   C   | $\\phi_2$ |\n",
    "| ----- | ----- | -------- |\n",
    "| $b^0$ | $c^0$ | 5        |\n",
    "| $b^0$ | $c^1$ | 7        |\n",
    "| $b^1$ | $c^0$ | 1        |\n",
    "| $b^1$ | $c^1$ | 2        |\n",
    "\n",
    "$$\\phi_3(A, B, C) = \\phi_1(A, B) \\times \\phi_2(B, C)$$\n",
    "\n",
    "|   A   |   B   |   C   | $\\phi_3$ |\n",
    "| ----- | ----- | ----- | ---------------- |\n",
    "| $a^0$ | $b^0$ | $c^0$ | $5\\times 5 = 25$ |\n",
    "| $a^0$ | $b^0$ | $c^1$ | $5\\times 7 = 35$ |\n",
    "| $a^0$ | $b^1$ | $c^0$ | $8\\times 1 = 8$  |\n",
    "| $a^0$ | $b^1$ | $c^1$ | $8\\times 2 = 16$ |\n",
    "| $a^1$ | $b^0$ | $c^0$ | $1\\times 5 = 5$  |\n",
    "| $a^1$ | $b^0$ | $c^1$ | $1\\times 7 = 7$  |\n",
    "| $a^1$ | $b^1$ | $c^0$ | $0\\times 1 = 0$  |\n",
    "| $a^1$ | $b^1$ | $c^1$ | $0\\times 2 = 0$  |\n",
    "| $a^2$ | $b^0$ | $c^0$ | $3\\times 5 = 15$ |\n",
    "| $a^2$ | $b^0$ | $c^1$ | $3\\times 7 = 21$ |\n",
    "| $a^2$ | $b^1$ | $c^0$ | $9\\times 1 = 9$  |\n",
    "| $a^2$ | $b^1$ | $c^1$ | $9\\times 2 = 18$ |"
   ]
  },
  {
   "cell_type": "code",
   "execution_count": null,
   "id": "6e61fccc",
   "metadata": {},
   "outputs": [],
   "source": [
    "# Importamos pgmpy.factors.discrete.DiscreteFactor\n",
    "from pgmpy.factors.discrete import DiscreteFactor"
   ]
  },
  {
   "cell_type": "code",
   "execution_count": null,
   "id": "03f9bede",
   "metadata": {},
   "outputs": [],
   "source": [
    "#DiscreteFactor?"
   ]
  },
  {
   "cell_type": "code",
   "execution_count": null,
   "id": "40829d7a",
   "metadata": {},
   "outputs": [],
   "source": [
    "# Factores phi1, phi2"
   ]
  },
  {
   "cell_type": "markdown",
   "id": "051cb2bc",
   "metadata": {},
   "source": [
    "**Factor:** φ₁(A, B)\n",
    "\n",
    "**Variables y cardinalidades:**\n",
    "- A → 3 valores posibles (a⁰, a¹, a²)\n",
    "- B → 2 valores posibles (b⁰, b¹)\n",
    "\n",
    "**Cardinalidad total:** 3 × 2 = 6 combinaciones"
   ]
  },
  {
   "cell_type": "code",
   "execution_count": null,
   "id": "71536dcc",
   "metadata": {},
   "outputs": [],
   "source": [
    "#print(phi1)"
   ]
  },
  {
   "cell_type": "markdown",
   "id": "2098dc8f",
   "metadata": {},
   "source": [
    "**Factor:** φ₂(B, C)\n",
    "\n",
    "**Variables y cardinalidades:**\n",
    "- B → 2 valores posibles (b⁰, b¹)\n",
    "- C → 2 valores posibles (c⁰, c¹)\n",
    "\n",
    "**Cardinalidad total:** 2 × 2 = 4 combinaciones\n"
   ]
  },
  {
   "cell_type": "code",
   "execution_count": null,
   "id": "b5ba7b30",
   "metadata": {},
   "outputs": [],
   "source": [
    "#print(phi2)"
   ]
  },
  {
   "cell_type": "code",
   "execution_count": null,
   "id": "681b2a9d",
   "metadata": {},
   "outputs": [],
   "source": [
    "# Producto de factores(.product)"
   ]
  },
  {
   "cell_type": "code",
   "execution_count": null,
   "id": "078f4a68",
   "metadata": {},
   "outputs": [],
   "source": [
    "#Producto de factores(*)"
   ]
  },
  {
   "cell_type": "markdown",
   "id": "beb1909b",
   "metadata": {},
   "source": [
    "---\n",
    "\n",
    "#### Actividad\n",
    "\n",
    "$$\\phi_1(X, Y)$$\n",
    "\n",
    "|   X   |   Y   | $\\phi_1$ |\n",
    "| ----- | ----- | -------- |\n",
    "| $x^0$ | $y^0$ | 0.8      |\n",
    "| $x^0$ | $y^1$ | 0.5      |\n",
    "| $x^1$ | $y^0$ | 0.5      |\n",
    "| $x^1$ | $y^1$ | 0.6      |\n",
    "\n",
    "$$\\phi_2(Y, Z)$$\n",
    "\n",
    "|   Y   |   Z   | $\\phi_2$ |\n",
    "| ----- | ----- | -------- |\n",
    "| $y^0$ | $z^0$ | 0.2      |\n",
    "| $y^0$ | $z^1$ | 0.2      |\n",
    "| $y^1$ | $z^0$ | 0.9      |\n",
    "| $y^1$ | $z^1$ | 1.0      |\n",
    "\n",
    "Si $\\psi(X,Y,Z) = \\phi_1(X, Y) \\phi_2(Y,Z)$\n",
    "- $\\psi(x^0, y^0, z^0)=?$\n",
    "- $\\psi(x^0, y^1, z^1)=?$\n",
    "- $\\psi(x^1, y^1, z^1)=?$\n",
    "\n",
    "---"
   ]
  },
  {
   "cell_type": "code",
   "execution_count": null,
   "id": "6d03b4bb",
   "metadata": {},
   "outputs": [],
   "source": [
    "# Factores phi1, phi2"
   ]
  },
  {
   "cell_type": "code",
   "execution_count": null,
   "id": "37fa6d76",
   "metadata": {},
   "outputs": [],
   "source": [
    "#print"
   ]
  },
  {
   "cell_type": "markdown",
   "id": "931e0082",
   "metadata": {},
   "source": [
    "**2. Marginalización de factores**\n",
    "\n",
    "Tienes un factor:\n",
    "\n",
    "$$\\phi_1(X, Y, Z)$$\n",
    "\n",
    "|   X   |   Y   |   Z   | $\\phi_1$ |\n",
    "| ----- | ----- | ----- | -------- |\n",
    "| $x^0$ | $y^0$ | $z^0$ | 10       |\n",
    "| $x^0$ | $y^0$ | $z^1$ | 5        |\n",
    "| $x^0$ | $y^1$ | $z^0$ | 15       |\n",
    "| $x^0$ | $y^1$ | $z^1$ | 16       |\n",
    "| $x^1$ | $y^0$ | $z^0$ | 14       |\n",
    "| $x^1$ | $y^0$ | $z^1$ | 30       |\n",
    "| $x^1$ | $y^1$ | $z^0$ | 2        |\n",
    "| $x^1$ | $y^1$ | $z^1$ | 8        |\n",
    "\n",
    "queremos obtener otro más pequeño:\n",
    "\n",
    "$\\psi(Y,Z) = \\sum_{X}\\phi_1(X, Y, Z)$\n",
    "\n",
    "|   Y   |   Z   | $\\psi$      |\n",
    "| ----- | ----- | ------------- |\n",
    "| $y^0$ | $z^0$ | 10 + 14 = 24  |\n",
    "| $y^0$ | $z^1$ | 5 + 30 = 35   |\n",
    "| $y^1$ | $z^0$ | 15 + 2 = 17   |\n",
    "| $y^1$ | $z^1$ | 16 + 8 = 24   |\n",
    "\n",
    "Para cada combinación de $Y$ y $Z$, sumamos todos los valores posbiles de $X$."
   ]
  },
  {
   "cell_type": "code",
   "execution_count": null,
   "id": "326dc7f2",
   "metadata": {},
   "outputs": [],
   "source": [
    "# Factor phi1\n"
   ]
  },
  {
   "cell_type": "code",
   "execution_count": null,
   "id": "626544ae",
   "metadata": {},
   "outputs": [],
   "source": [
    "# Marginalización resp. X (.marginalize)\n"
   ]
  },
  {
   "cell_type": "code",
   "execution_count": null,
   "id": "4594182d",
   "metadata": {},
   "outputs": [],
   "source": [
    "# Marginalización resp. X, Y (.marginalize)"
   ]
  },
  {
   "cell_type": "markdown",
   "id": "c0d56e3e",
   "metadata": {},
   "source": [
    "---\n",
    "### Actividad:\n",
    "$$\\phi_1(X, Y)$$\n",
    "\n",
    "|   X   |   Y   | $\\phi_1$ |\n",
    "| ----- | ----- | -------- |\n",
    "| $x^0$ | $y^0$ | 0.8      |\n",
    "| $x^0$ | $y^1$ | 0.5      |\n",
    "| $x^1$ | $y^0$ | 0.5      |\n",
    "| $x^1$ | $y^1$ | 0.6      |\n",
    "\n",
    "Si $\\psi(Y) = \\sum_{X}\\phi_1(X, Y)$\n",
    "\n",
    "- $\\psi(y^0)=$?\n",
    "- $\\psi(y^1)=$?\n",
    "---"
   ]
  },
  {
   "cell_type": "code",
   "execution_count": null,
   "id": "636c1639",
   "metadata": {},
   "outputs": [],
   "source": [
    "#Factor phi"
   ]
  },
  {
   "cell_type": "code",
   "execution_count": null,
   "id": "69e79c2b",
   "metadata": {},
   "outputs": [],
   "source": [
    "#print"
   ]
  },
  {
   "cell_type": "markdown",
   "id": "09447d63",
   "metadata": {},
   "source": [
    "**3. Reducción de factores**\n",
    "\n",
    "$$\\phi_1(X, Y, Z)$$\n",
    "\n",
    "|   X   |   Y   |   Z   | $\\phi_1(X,Y,Z)$ |\n",
    "|:-----:|:-----:|:-----:|:----------:|\n",
    "| $x^0$ | $y^0$ | $z^0$ | 10 |\n",
    "| $x^0$ | $y^0$ | $z^1$ | 5  |\n",
    "| $x^0$ | <span style=\"color:#e63946\"><b>$y^1$</b></span> | $z^0$ | 15 |\n",
    "| $x^0$ | <span style=\"color:#e63946\"><b>$y^1$</b></span> | $z^1$ | 16 |\n",
    "| $x^1$ | $y^0$ | $z^0$ | 14 |\n",
    "| $x^1$ | $y^0$ | $z^1$ | 30 |\n",
    "| $x^1$ | <span style=\"color:#e63946\"><b>$y^1$</b></span> | $z^0$ | 2  |\n",
    "| $x^1$ | <span style=\"color:#e63946\"><b>$y^1$</b></span> | $z^1$ | 8  |\n",
    "\n",
    "\n",
    "\n",
    "$\\psi(X,Z) = \\phi_1(X, y^1, Z)$\n",
    "\n",
    "|   X   |   Y   |   Z   | $\\phi_1$ |\n",
    "| ----- | ----- | ----- | -------- |\n",
    "| $x^0$ | $y^1$ | $z^0$ | 15       |\n",
    "| $x^0$ | $y^1$ | $z^1$ | 16       |\n",
    "| $x^1$ | $y^1$ | $z^0$ | 2        |\n",
    "| $x^1$ | $y^1$ | $z^1$ | 8        |\n",
    "\n",
    "Como $Y=y^1$ es **constante**, el factor resultante no depende de Y:\n",
    "\n",
    "|   X   |   Z   | $\\phi_1$ |\n",
    "| ----- | ----- | -------- |\n",
    "| $x^0$ | $z^0$ | 15       |\n",
    "| $x^0$ | $z^1$ | 16       |\n",
    "| $x^1$ | $z^0$ | 2        |\n",
    "| $x^1$ | $z^1$ | 8        |"
   ]
  },
  {
   "cell_type": "code",
   "execution_count": null,
   "id": "96611177",
   "metadata": {},
   "outputs": [],
   "source": [
    "# Factor phi1\n"
   ]
  },
  {
   "cell_type": "code",
   "execution_count": null,
   "id": "4a3926ff",
   "metadata": {},
   "outputs": [],
   "source": [
    "# Reducción phi1(X, y1, Z)(.reduce)\n"
   ]
  },
  {
   "cell_type": "code",
   "execution_count": null,
   "id": "ef723ddd",
   "metadata": {},
   "outputs": [],
   "source": [
    "# Reducción phi1(X, y1, z0)(.reduce)"
   ]
  },
  {
   "cell_type": "markdown",
   "id": "96c6964a",
   "metadata": {},
   "source": [
    "---\n",
    "### Actividad:\n",
    "$$\\phi_1(X, Y)$$\n",
    "\n",
    "|   X   |   Y   | $\\phi_1$ |\n",
    "| ----- | ----- | -------- |\n",
    "| $x^0$ | $y^0$ | 0.8      |\n",
    "| $x^0$ | $y^1$ | 0.5      |\n",
    "| $x^1$ | $y^0$ | 0.5      |\n",
    "| $x^1$ | $y^1$ | 0.6      |\n",
    "\n",
    "Si $\\psi(X) = \\phi_1(X, y^0)$\n",
    "\n",
    "- $\\psi(x^0)=$?\n",
    "- $\\psi(x^1)=$?\n",
    "---"
   ]
  },
  {
   "cell_type": "code",
   "execution_count": null,
   "id": "5c6eeef7",
   "metadata": {},
   "outputs": [],
   "source": [
    "#Factor phi"
   ]
  },
  {
   "cell_type": "code",
   "execution_count": null,
   "id": "df812259",
   "metadata": {},
   "outputs": [],
   "source": [
    "#print"
   ]
  },
  {
   "cell_type": "markdown",
   "id": "7081f0a5",
   "metadata": {},
   "source": [
    "### La gran pregunta\n",
    "\n",
    "_¿Por qué los **factores** son tan importantes en redes bayesianas y modelos probabilísticos?_\n",
    "\n",
    "#### El problema de las distribuciones grandes\n",
    "\n",
    "Imaginen que tenemos muchas variables aleatorias, digamos que $N=20$. Si cada una puede tomar solo 2 valores (por ejemplo, sí o no), una distribución conjunta completa tendría que guardar:\n",
    "\n",
    "$2^{20} = 1,048,576$ combinaciones posibles.\n",
    "\n",
    "y si cada variable dependiera de las demás, la tabla sería enorme e imposible de manejar."
   ]
  },
  {
   "cell_type": "markdown",
   "id": "25e79060",
   "metadata": {},
   "source": [
    "#### La solución: dividir en \"pedacitos\"\n",
    "\n",
    "En lugar de definir una tabla gigante, lo que hacemos es dividir esa distribución en partes más pequeñas, llamadas **factores**.\n",
    "\n",
    "Cada factor solo involucra unas pocas variables (por ejemplo, 2 o 3).\n",
    "\n",
    "Por ejemplo, en una red bayesiana:\n",
    "\n",
    "$$P(X_1, X_2, \\ldots, X_n) = \\prod_{i=1}^{n} P(X_i | \\text{Padres}(X_i))$$\n",
    "\n",
    "cada $P(X_i | Padres(X_i))$ es un factor y al multiplicarlos, obtenemos la distribución conjunta completa."
   ]
  },
  {
   "cell_type": "markdown",
   "id": "a7c77979",
   "metadata": {},
   "source": [
    "#### Las mismas operaciones sirven para inferir\n",
    "\n",
    "Las operaciones matemáticas que usamos para construir una red _multiplicar, sumar, reducir, normalizar_ son las que usamos luego para hacer inferencia.\n",
    "\n",
    "Estas operaciones son:\n",
    "\n",
    "- Producto de factores --> combinar información.\n",
    "- Reducción --> aplicar evidencia (fijar variables).\n",
    "- Marginalización --> eliminar variables irrelevantes.\n",
    "- Normalización --> convertir los resultados en probabilidades válidas.\n"
   ]
  }
 ],
 "metadata": {
  "kernelspec": {
   "display_name": "mgp",
   "language": "python",
   "name": "python3"
  },
  "language_info": {
   "codemirror_mode": {
    "name": "ipython",
    "version": 3
   },
   "file_extension": ".py",
   "mimetype": "text/x-python",
   "name": "python",
   "nbconvert_exporter": "python",
   "pygments_lexer": "ipython3",
   "version": "3.13.2"
  }
 },
 "nbformat": 4,
 "nbformat_minor": 5
}
