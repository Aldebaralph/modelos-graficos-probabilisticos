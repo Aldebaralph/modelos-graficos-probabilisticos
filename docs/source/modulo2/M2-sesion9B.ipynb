{
 "cells": [
  {
   "cell_type": "markdown",
   "id": "b7bf7972",
   "metadata": {},
   "source": [
    "# Sesión 9B\n",
    "\n",
    "## Introducción a redes bayesianas"
   ]
  },
  {
   "cell_type": "markdown",
   "id": "8c1ddccc",
   "metadata": {},
   "source": [
    "> **Objetivos:**\n",
    "> - Aprender qué es una red Bayesiana y cómo se factorizan distribuciones sobre ellas."
   ]
  },
  {
   "cell_type": "markdown",
   "id": "16d8e729",
   "metadata": {},
   "source": [
    "### _¿Qué son los modelos gráficos probabilísticos?_\n",
    "\n",
    "Los MGPs son un _marco general_ para representar y razonar sobre incertidumbre en sistemas complejos.\n",
    "\n",
    "El nombre tiene tres palabras clave: **modelos**, **gráficos** y **probabilísticos**.\n",
    "\n",
    "#### Modelos\n",
    "\n",
    "* Representación declarativa de cómo entendemos el mundo.\n",
    "* Permite separar:\n",
    "    * La construcción del modelo (por humano o mediante aprendizaje automático).\n",
    "    * De los _algoritmos de inferencia_ (que responden preguntas sobre el modelo).\n",
    "    * De los _métodos de aprendizaje_ (que ajustan sus parámetros con datos).\n",
    "\n",
    "> Un \"modelo\" gráfico probabilístico describe cómo creemos que las cosas se relacionan, sin importar todavía cómo las calculamos."
   ]
  },
  {
   "cell_type": "markdown",
   "id": "a1a270a3",
   "metadata": {},
   "source": [
    "#### Probabilísticos\n",
    "\n",
    "Se llama así porque los modelos tratan con **incertidumbre**.\n",
    "\n",
    "> \"Probabilístico\" significa que el modelo admite la duda y razona con ella de forma lógica"
   ]
  },
  {
   "cell_type": "markdown",
   "id": "07be8212",
   "metadata": {},
   "source": [
    "#### Gráficos\n",
    "\n",
    "Es `gráfico` porque usamos grafos (nodos y aristas) para representar las dependencias entre variables.\n",
    "\n",
    "* Cada **nodo** representa una **variable aleatoria**.\n",
    "* Cada **arista** indica una **relación probabilística (una dependencia directa)**.\n",
    "\n",
    "Estos grafos permiten:\n",
    "\n",
    "* Representar distribuciones gigantes de forma compacta (sin enumerar todas las combinaciones posibles).\n",
    "* Razonar, usando la estructura del grafo para decidir qué variables influyen en cuáles.\n",
    "* Aprender sus parámetros con pocos datos o cinluso con ayuda de expertos humanos.\n",
    "\n",
    "> \"Gráfico\" significa que el modelo usa conexiones visuales (nodos y aristas) para representar dependencias probabilísticas entre variables."
   ]
  },
  {
   "cell_type": "markdown",
   "id": "f88d69af",
   "metadata": {},
   "source": [
    "## 1. Preliminares\n",
    "\n",
    "### 1.1. Ejemplo: Modelo de estudiante\n",
    "\n",
    "Consideramos el caso de un **estudiante dentro de un curso**.\n",
    "\n",
    "Queremos razonar acerca de las siguientes variables aleatorias:\n",
    "\n",
    "- **I** → Inteligencia del estudiante  \n",
    "- **D** → Dificultad del curso  \n",
    "- **C** → Calificación del estudiante dentro del curso  \n",
    "- **P** → Puntaje en las pruebas estatales  \n",
    "- **R** → Carta de recomendación laboral emitida por el profesor\n",
    "\n",
    "\n",
    "#### Discretización de variables\n",
    "\n",
    "**``Inteligencia (I)``**\n",
    "\n",
    "$$\n",
    "\\mathrm{Val}(I) = \\{ i^0, i^1 \\}\n",
    "$$  \n",
    "\n",
    "  - $i^0$: inteligencia **baja**  \n",
    "  - $i^1$: inteligencia **alta**\n",
    "\n",
    "\n",
    "**``Dificultad (D)``**  \n",
    "\n",
    "$$\n",
    "\\mathrm{Val}(D) = \\{ d^0, d^1 \\}\n",
    "$$  \n",
    "\n",
    "  - $d^0$: curso **fácil**  \n",
    "  - $d^1$: curso **difícil**\n",
    "\n",
    "\n",
    "**``Calificación (C)``** \n",
    "\n",
    "$$\n",
    "\\mathrm{Val}(C) = \\{ c^0, c^1, c^2 \\}\n",
    "$$  \n",
    "\n",
    "  - $c^0$: **baja** ($C < 6$)  \n",
    "  - $c^1$: **media** ($6 \\leq C < 9$)  \n",
    "  - $c^2$: **alta** ($C \\geq 9$)\n",
    "\n",
    "**``Puntaje de examen (E)``**\n",
    "\n",
    "$$\n",
    "\\mathrm{Val}(E) = \\{ e^0, e^1 \\}\n",
    "$$  \n",
    "\n",
    "  - $e^0$: **mal puntaje**  \n",
    "  - $e^1$: **buen puntaje**\n",
    "\n",
    "**``Carta de recomendación (R)``** \n",
    "\n",
    "$$\n",
    "\\mathrm{Val}(R) = \\{ r^0, r^1 \\}\n",
    "$$  \n",
    "\n",
    "  - $r^0$: carta **débil**  \n",
    "  - $r^1$: carta **fuerte**"
   ]
  },
  {
   "cell_type": "markdown",
   "id": "41bd3e8c",
   "metadata": {},
   "source": [
    "#### ❓ Pregunta\n",
    "\n",
    "De no usar **modelos gráficos probabilísticos**, _¿cuántos parámetros necesitaríamos para especificar por completo la distribución sobre las cinco variables mencionadas($I, D, C, E, R$)?_"
   ]
  },
  {
   "cell_type": "markdown",
   "id": "a5e814c8",
   "metadata": {},
   "source": [
    "<details>\n",
    "<summary>Respuesta</summary>\n",
    "\n",
    "Cada variable puede tomar un cierto número de valores:\n",
    "\n",
    "$$\n",
    "|\\mathrm{Val}(I)| = 2, \\quad\n",
    "|\\mathrm{Val}(D)| = 2, \\quad\n",
    "|\\mathrm{Val}(C)| = 3, \\quad\n",
    "|\\mathrm{Val}(P)| = 2, \\quad\n",
    "|\\mathrm{Val}(R)| = 2\n",
    "$$\n",
    "\n",
    "Por tanto, el número total de combinaciones posibles es:\n",
    "\n",
    "$$\n",
    "2 \\times 2 \\times 3 \\times 2 \\times 2 = 48\n",
    "$$\n",
    " \n",
    "> Son parámetros **independientes** aquellos cuyo valor **no está completamente determinado** por el valor de otros parámetros.\n",
    "\n",
    "En este caso, la distribución $P(I,D,C,E,R)$ se especifica con **48 parámetros**, sin embargo, si hablamos de parámetros independientes:\n",
    "\n",
    "$$\n",
    "48 - 1 = 47\n",
    "$$\n",
    "\n",
    "Si no utilizáramos modelos gráficos probabilísticos, necesitaríamos **47 parámetros independientes** para especificar completamente la distribución conjunta sobre las variables $I, D, C, |, R$.\n",
    "</details>"
   ]
  },
  {
   "cell_type": "markdown",
   "id": "72099c0c",
   "metadata": {},
   "source": [
    "#### Red Bayesiana \n",
    "\n",
    "Proponemos la siguiente estructura:\n",
    "- La **inteligencia** $I$ y la **dificultad** $D$ causan la **calificación** $C$.\n",
    "- La **inteligencia** $I$ influye en el **puntaje** $E$ de pruebas estandarizadas.\n",
    "- La **calificación** $C$ influye en la **recomendación** $R$.\n"
   ]
  },
  {
   "cell_type": "markdown",
   "id": "57097283",
   "metadata": {},
   "source": [
    "```{figure} ../images/sesion9-student-model.png\n",
    ":alt: student-model\n",
    ":fig-align: center\n",
    ":width: 700px\n",
    "```"
   ]
  },
  {
   "cell_type": "markdown",
   "id": "143f8cef",
   "metadata": {},
   "source": [
    "Al final de esta clase, entenderemos **cómo codificar la distribución de las variables** sobre esta red bayesiana y, a partir de ello, **por qué este modelo necesita muchos menos parámetros** que el modelo genérico (la **distribución conjunta completa**)."
   ]
  },
  {
   "cell_type": "markdown",
   "id": "b901e3a9",
   "metadata": {},
   "source": [
    "### 1.2. Distribuciones de probabilidad y sus operaciones"
   ]
  },
  {
   "cell_type": "markdown",
   "id": "7664141c",
   "metadata": {},
   "source": [
    "Consideremos el ejemplo del estudiante, esta vez reducido a las variables $I$, $D$ y $C$.\n",
    "\n",
    "Una distribución conjunta, $P(I,D,C)$, sobre estas tres variables es:\n",
    "\n",
    "|  $I$  |  $D$  |  $C$  |  $P$  |\n",
    "| ----- | ----- | ----- | ----- |\n",
    "| $i^0$ | $d^0$ | $c^0$ | 0.126 |\n",
    "| $i^0$ | $d^0$ | $c^1$ | 0.168 |\n",
    "| $i^0$ | $d^0$ | $c^2$ | 0.126 |\n",
    "| $i^0$ | $d^1$ | $c^0$ | 0.126 |\n",
    "| $i^0$ | $d^1$ | $c^1$ | 0.045 |\n",
    "| $i^0$ | $d^1$ | $c^2$ | 0.009 |\n",
    "| $i^1$ | $d^0$ | $c^0$ | 0.0056|\n",
    "| $i^1$ | $d^0$ | $c^1$ | 0.0224|\n",
    "| $i^1$ | $d^0$ | $c^2$ | 0.252 |\n",
    "| $i^1$ | $d^1$ | $c^0$ | 0.024 |\n",
    "| $i^1$ | $d^1$ | $c^1$ | 0.036 |\n",
    "| $i^1$ | $d^1$ | $c^2$ | 0.06  |\n",
    "\n",
    "**Pregunta.** ¿Cuántos parámetros en total?\n",
    "\n",
    "\n",
    "<details>\n",
    "<summary>Respuesta</summary>\n",
    "\n",
    "$$2 \\times 2 \\times 3 = 12$$\n",
    "\n",
    "</details>"
   ]
  },
  {
   "cell_type": "code",
   "execution_count": 1,
   "id": "9ec10839",
   "metadata": {},
   "outputs": [],
   "source": [
    "# Importamos pgmpy.factors.discrete.JointProbabilityDistribution\n",
    "from pgmpy.factors.discrete import JointProbabilityDistribution\n",
    "from pgmpy.factors.discrete import DiscreteFactor"
   ]
  },
  {
   "cell_type": "code",
   "execution_count": 2,
   "id": "93b7f982",
   "metadata": {},
   "outputs": [
    {
     "name": "stdout",
     "output_type": "stream",
     "text": [
      "\u001b[31mInit signature:\u001b[39m JointProbabilityDistribution(variables, cardinality, values)\n",
      "\u001b[31mDocstring:\u001b[39m      Base class for Joint Probability Distribution\n",
      "\u001b[31mInit docstring:\u001b[39m\n",
      "Initialize a Joint Probability Distribution class.\n",
      "\n",
      "Defined above, we have the following mapping from variable\n",
      "assignments to the index of the row vector in the value field:\n",
      "\n",
      "+-----+-----+-----+-------------------------+\n",
      "|  x1 |  x2 |  x3 |    P(x1, x2, x2)        |\n",
      "+-----+-----+-----+-------------------------+\n",
      "| x1_0| x2_0| x3_0|    P(x1_0, x2_0, x3_0)  |\n",
      "+-----+-----+-----+-------------------------+\n",
      "| x1_1| x2_0| x3_0|    P(x1_1, x2_0, x3_0)  |\n",
      "+-----+-----+-----+-------------------------+\n",
      "| x1_0| x2_1| x3_0|    P(x1_0, x2_1, x3_0)  |\n",
      "+-----+-----+-----+-------------------------+\n",
      "| x1_1| x2_1| x3_0|    P(x1_1, x2_1, x3_0)  |\n",
      "+-----+-----+-----+-------------------------+\n",
      "| x1_0| x2_0| x3_1|    P(x1_0, x2_0, x3_1)  |\n",
      "+-----+-----+-----+-------------------------+\n",
      "| x1_1| x2_0| x3_1|    P(x1_1, x2_0, x3_1)  |\n",
      "+-----+-----+-----+-------------------------+\n",
      "| x1_0| x2_1| x3_1|    P(x1_0, x2_1, x3_1)  |\n",
      "+-----+-----+-----+-------------------------+\n",
      "| x1_1| x2_1| x3_1|    P(x1_1, x2_1, x3_1)  |\n",
      "+-----+-----+-----+-------------------------+\n",
      "\n",
      "Parameters\n",
      "----------\n",
      "variables: list\n",
      "    List of scope of Joint Probability Distribution.\n",
      "cardinality: list, array_like\n",
      "    List of cardinality of each variable\n",
      "value: list, array_like\n",
      "    List or array of values of factor.\n",
      "    A Joint Probability Distribution's values are stored in a row\n",
      "    vector in the value using an ordering such that the left-most\n",
      "    variables as defined in the variable field cycle through their\n",
      "    values the fastest.\n",
      "\n",
      "Examples\n",
      "--------\n",
      ">>> import numpy as np\n",
      ">>> from pgmpy.factors.discrete import JointProbabilityDistribution\n",
      ">>> prob = JointProbabilityDistribution(['x1', 'x2', 'x3'], [2, 2, 2], np.ones(8)/8)\n",
      ">>> print(prob)\n",
      "x1    x2    x3      P(x1,x2,x3)\n",
      "----  ----  ----  -------------\n",
      "x1_0  x2_0  x3_0         0.1250\n",
      "x1_0  x2_0  x3_1         0.1250\n",
      "x1_0  x2_1  x3_0         0.1250\n",
      "x1_0  x2_1  x3_1         0.1250\n",
      "x1_1  x2_0  x3_0         0.1250\n",
      "x1_1  x2_0  x3_1         0.1250\n",
      "x1_1  x2_1  x3_0         0.1250\n",
      "x1_1  x2_1  x3_1         0.1250\n",
      "\u001b[31mFile:\u001b[39m           d:\\anaconda3\\envs\\mgp\\lib\\site-packages\\pgmpy\\factors\\discrete\\jointprobabilitydistribution.py\n",
      "\u001b[31mType:\u001b[39m           type\n",
      "\u001b[31mSubclasses:\u001b[39m     "
     ]
    }
   ],
   "source": [
    "JointProbabilityDistribution?"
   ]
  },
  {
   "cell_type": "code",
   "execution_count": 3,
   "id": "c2c71f35",
   "metadata": {},
   "outputs": [],
   "source": [
    "p_IDC = JointProbabilityDistribution(\n",
    "    variables=['I', 'D', 'C'],\n",
    "    cardinality=[2, 2, 3],\n",
    "    values=[0.126, 0.168, 0.126, 0.126, 0.045, 0.009, 0.0056, 0.0224, 0.252, 0.024, 0.036, 0.06]\n",
    ")"
   ]
  },
  {
   "cell_type": "code",
   "execution_count": 4,
   "id": "22fee2ed",
   "metadata": {},
   "outputs": [
    {
     "name": "stdout",
     "output_type": "stream",
     "text": [
      "+------+------+------+------------+\n",
      "| I    | D    | C    |   P(I,D,C) |\n",
      "+======+======+======+============+\n",
      "| I(0) | D(0) | C(0) |     0.1260 |\n",
      "+------+------+------+------------+\n",
      "| I(0) | D(0) | C(1) |     0.1680 |\n",
      "+------+------+------+------------+\n",
      "| I(0) | D(0) | C(2) |     0.1260 |\n",
      "+------+------+------+------------+\n",
      "| I(0) | D(1) | C(0) |     0.1260 |\n",
      "+------+------+------+------------+\n",
      "| I(0) | D(1) | C(1) |     0.0450 |\n",
      "+------+------+------+------------+\n",
      "| I(0) | D(1) | C(2) |     0.0090 |\n",
      "+------+------+------+------------+\n",
      "| I(1) | D(0) | C(0) |     0.0056 |\n",
      "+------+------+------+------------+\n",
      "| I(1) | D(0) | C(1) |     0.0224 |\n",
      "+------+------+------+------------+\n",
      "| I(1) | D(0) | C(2) |     0.2520 |\n",
      "+------+------+------+------------+\n",
      "| I(1) | D(1) | C(0) |     0.0240 |\n",
      "+------+------+------+------------+\n",
      "| I(1) | D(1) | C(1) |     0.0360 |\n",
      "+------+------+------+------------+\n",
      "| I(1) | D(1) | C(2) |     0.0600 |\n",
      "+------+------+------+------------+\n"
     ]
    }
   ],
   "source": [
    "print(p_IDC)"
   ]
  },
  {
   "cell_type": "code",
   "execution_count": 6,
   "id": "ac2a6323",
   "metadata": {},
   "outputs": [
    {
     "data": {
      "text/plain": [
       "np.float64(1.0)"
      ]
     },
     "execution_count": 6,
     "metadata": {},
     "output_type": "execute_result"
    }
   ],
   "source": [
    "# Verificar que la distribución es válida\n",
    "p_IDC.values.sum()"
   ]
  },
  {
   "cell_type": "code",
   "execution_count": null,
   "id": "18276474",
   "metadata": {},
   "outputs": [],
   "source": [
    "isinstance(p_IDC, JointProbabilityDistribution), isinstance(p_IDC, DiscreteFactor)"
   ]
  },
  {
   "cell_type": "markdown",
   "id": "2a2b3d94",
   "metadata": {},
   "source": [
    "| Clase | Qué representa | Ejemplo |\n",
    "| :---- | :------------- | :------ |\n",
    "| `DiscreteFactor` | Función genérica sobre variables discretas (no necesariamente normalizada) | $\\phi(X, Y, Z)$ |\n",
    "| `JointProbabilityDistribution` | Caso especial de `DiscreteFactor` donde la función es una **probabilidad válida** (suma = 1) | $P(X, Y, Z)$ |"
   ]
  },
  {
   "cell_type": "markdown",
   "id": "5ad6e27c",
   "metadata": {},
   "source": [
    "> Toda `JointProbabilityDistribution` **es** un `DiscreteFactor`, pero no todo `DiscreteFactor` **es** una `JointProbabilityDistribution`."
   ]
  },
  {
   "cell_type": "markdown",
   "id": "85b8f092",
   "metadata": {},
   "source": [
    "### ¿Qué operaciones podemos llevar a cabo sobre una distribucción?"
   ]
  },
  {
   "cell_type": "markdown",
   "id": "08d1d3e2",
   "metadata": {},
   "source": [
    "**1. Reducción**\n",
    "\n",
    "Supongamos que observamos que la calificación final del estudiante es alta, esto es, $C=c^2$. La operación de *reducción* consiste en eliminar todas las filas que no son consistentes con la observación:"
   ]
  },
  {
   "cell_type": "code",
   "execution_count": 7,
   "id": "79892148",
   "metadata": {},
   "outputs": [
    {
     "name": "stdout",
     "output_type": "stream",
     "text": [
      "\u001b[31mSignature:\u001b[39m p_IDC.reduce(values, inplace=\u001b[38;5;28;01mTrue\u001b[39;00m, show_warnings=\u001b[38;5;28;01mTrue\u001b[39;00m)\n",
      "\u001b[31mDocstring:\u001b[39m\n",
      "Reduces the factor to the context of given variable values. The variables which\n",
      "are reduced would be removed from the factor.\n",
      "\n",
      "Parameters\n",
      "----------\n",
      "values: list, array-like\n",
      "    A list of tuples of the form (variable_name, variable_state).\n",
      "\n",
      "inplace: boolean\n",
      "    If inplace=True it will modify the factor itself, else would return\n",
      "    a new factor.\n",
      "\n",
      "show_warnings: boolean\n",
      "    Whether to show warning when state name not found.\n",
      "\n",
      "Returns\n",
      "-------\n",
      "Reduced factor: pgmpy.factors.discrete.DiscreteFactor or None\n",
      "    If inplace=True (default) returns None else returns a new `DiscreteFactor` instance.\n",
      "\n",
      "Examples\n",
      "--------\n",
      ">>> from pgmpy.factors.discrete import DiscreteFactor\n",
      ">>> phi = DiscreteFactor(['x1', 'x2', 'x3'], [2, 3, 2], range(12))\n",
      ">>> phi.reduce([('x1', 0), ('x2', 0)])\n",
      ">>> phi.variables\n",
      "['x3']\n",
      ">>> phi.cardinality\n",
      "array([2])\n",
      ">>> phi.values\n",
      "array([0., 1.])\n",
      "\u001b[31mFile:\u001b[39m      d:\\anaconda3\\envs\\mgp\\lib\\site-packages\\pgmpy\\factors\\discrete\\discretefactor.py\n",
      "\u001b[31mType:\u001b[39m      method"
     ]
    }
   ],
   "source": [
    "p_IDC.reduce?"
   ]
  },
  {
   "cell_type": "code",
   "execution_count": 8,
   "id": "0bb2526a",
   "metadata": {},
   "outputs": [],
   "source": [
    "# Operación de reducción C=c2\n",
    "p_IDC_reduce_c2 = p_IDC.reduce(values=[('C', 2)], inplace=False)"
   ]
  },
  {
   "cell_type": "code",
   "execution_count": 9,
   "id": "3a1c0203",
   "metadata": {},
   "outputs": [
    {
     "name": "stdout",
     "output_type": "stream",
     "text": [
      "+------+------+----------+\n",
      "| I    | D    |   P(I,D) |\n",
      "+======+======+==========+\n",
      "| I(0) | D(0) |   0.1260 |\n",
      "+------+------+----------+\n",
      "| I(0) | D(1) |   0.0090 |\n",
      "+------+------+----------+\n",
      "| I(1) | D(0) |   0.2520 |\n",
      "+------+------+----------+\n",
      "| I(1) | D(1) |   0.0600 |\n",
      "+------+------+----------+\n"
     ]
    }
   ],
   "source": [
    "print(p_IDC_reduce_c2)"
   ]
  },
  {
   "cell_type": "code",
   "execution_count": 10,
   "id": "fb73ab8c",
   "metadata": {},
   "outputs": [
    {
     "data": {
      "text/plain": [
       "np.float64(0.447)"
      ]
     },
     "execution_count": 10,
     "metadata": {},
     "output_type": "execute_result"
    }
   ],
   "source": [
    "# Verificar si es una distribución válida\n",
    "p_IDC_reduce_c2.values.sum()"
   ]
  },
  {
   "cell_type": "markdown",
   "id": "51619029",
   "metadata": {},
   "source": [
    "Matemáticamente, esta operación equivale a considerar la distribución evaluada\n",
    "\n",
    "$$P(I, D, C=c^2) = P(I, D, c^2)$$"
   ]
  },
  {
   "cell_type": "markdown",
   "id": "b18aa065",
   "metadata": {},
   "source": [
    "**Pregunta**. ¿Es este resultado una distribución de probabilidad sobre las variables $I,D$?\n",
    "\n",
    "\n",
    "*Respuesta:* No."
   ]
  },
  {
   "cell_type": "markdown",
   "id": "e65c03db",
   "metadata": {},
   "source": [
    "**2. Condición**\n",
    "\n",
    "A partir de la operación de **reducción**, si queremos obtener una distribución legítima sobre las variables que no reducimos, debemos dividir sobre la suma:"
   ]
  },
  {
   "cell_type": "code",
   "execution_count": 11,
   "id": "67f2bf68",
   "metadata": {},
   "outputs": [
    {
     "name": "stdout",
     "output_type": "stream",
     "text": [
      "\u001b[31mSignature:\u001b[39m p_IDC.conditional_distribution(values, inplace=\u001b[38;5;28;01mTrue\u001b[39;00m)\n",
      "\u001b[31mDocstring:\u001b[39m\n",
      "Returns Conditional Probability Distribution after setting values to 1.\n",
      "\n",
      "Parameters\n",
      "----------\n",
      "values: list or array_like\n",
      "    A list of tuples of the form (variable_name, variable_state).\n",
      "    The values on which to condition the Joint Probability Distribution.\n",
      "inplace: Boolean (default True)\n",
      "    If False returns a new instance of JointProbabilityDistribution\n",
      "\n",
      "Examples\n",
      "--------\n",
      ">>> import numpy as np\n",
      ">>> from pgmpy.factors.discrete import JointProbabilityDistribution\n",
      ">>> prob = JointProbabilityDistribution(['x1', 'x2', 'x3'], [2, 2, 2], np.ones(8)/8)\n",
      ">>> prob.conditional_distribution([('x1', 1)])\n",
      ">>> print(prob)\n",
      "x2    x3      P(x2,x3)\n",
      "----  ----  ----------\n",
      "x2_0  x3_0      0.2500\n",
      "x2_0  x3_1      0.2500\n",
      "x2_1  x3_0      0.2500\n",
      "x2_1  x3_1      0.2500\n",
      "\u001b[31mFile:\u001b[39m      d:\\anaconda3\\envs\\mgp\\lib\\site-packages\\pgmpy\\factors\\discrete\\jointprobabilitydistribution.py\n",
      "\u001b[31mType:\u001b[39m      method"
     ]
    }
   ],
   "source": [
    "p_IDC.conditional_distribution?"
   ]
  },
  {
   "cell_type": "code",
   "execution_count": 12,
   "id": "ac7220a4",
   "metadata": {},
   "outputs": [],
   "source": [
    "# Operación de condición sobre C=c2\n",
    "p_IDC_cond_c2 = p_IDC.conditional_distribution([('C', 2)], inplace=False)"
   ]
  },
  {
   "cell_type": "code",
   "execution_count": 13,
   "id": "00cafee9",
   "metadata": {},
   "outputs": [
    {
     "name": "stdout",
     "output_type": "stream",
     "text": [
      "+------+------+----------+\n",
      "| I    | D    |   P(I,D) |\n",
      "+======+======+==========+\n",
      "| I(0) | D(0) |   0.2819 |\n",
      "+------+------+----------+\n",
      "| I(0) | D(1) |   0.0201 |\n",
      "+------+------+----------+\n",
      "| I(1) | D(0) |   0.5638 |\n",
      "+------+------+----------+\n",
      "| I(1) | D(1) |   0.1342 |\n",
      "+------+------+----------+\n"
     ]
    }
   ],
   "source": [
    "print(p_IDC_cond_c2)"
   ]
  },
  {
   "cell_type": "code",
   "execution_count": 14,
   "id": "066e482b",
   "metadata": {},
   "outputs": [
    {
     "data": {
      "text/plain": [
       "np.float64(1.0)"
      ]
     },
     "execution_count": 14,
     "metadata": {},
     "output_type": "execute_result"
    }
   ],
   "source": [
    "# Verificar si es una distribución válida\n",
    "p_IDC_cond_c2.values.sum()"
   ]
  },
  {
   "cell_type": "code",
   "execution_count": 15,
   "id": "6dd71984",
   "metadata": {},
   "outputs": [
    {
     "data": {
      "text/plain": [
       "array([[0.447, 0.447],\n",
       "       [0.447, 0.447]])"
      ]
     },
     "execution_count": 15,
     "metadata": {},
     "output_type": "execute_result"
    }
   ],
   "source": [
    "# Esto es equivalente a la operación de reducción C=c2, y posteriormente normalizar\n",
    "p_IDC_reduce_c2.values / p_IDC_cond_c2.values"
   ]
  },
  {
   "cell_type": "markdown",
   "id": "20c3415a",
   "metadata": {},
   "source": [
    "Matemáticamente, esta operación equivale a considerar la distribución condicionada $P(I, D| C=c^2) = P(I, D| c^2)$."
   ]
  },
  {
   "cell_type": "markdown",
   "id": "2afbb150",
   "metadata": {},
   "source": [
    "**Pregunta**. ¿Es este resultado una distribución de probabilidad sobre las variables $I,D$?\n",
    "\n",
    "*Respuesta:* Sí."
   ]
  },
  {
   "cell_type": "markdown",
   "id": "d8c3b5df",
   "metadata": {},
   "source": [
    "**3. Marginalización**\n",
    "\n",
    "Cuando tenemos una distribución de probabilidad sobre un conjunto de variables, y producimos una sobre un subconjunto de las variables originales. Por ejemplo, queremos la distribución marginal sobre $I, D$:"
   ]
  },
  {
   "cell_type": "code",
   "execution_count": 16,
   "id": "80ce07e9",
   "metadata": {},
   "outputs": [
    {
     "name": "stdout",
     "output_type": "stream",
     "text": [
      "+------+------+------+------------+\n",
      "| I    | D    | C    |   P(I,D,C) |\n",
      "+======+======+======+============+\n",
      "| I(0) | D(0) | C(0) |     0.1260 |\n",
      "+------+------+------+------------+\n",
      "| I(0) | D(0) | C(1) |     0.1680 |\n",
      "+------+------+------+------------+\n",
      "| I(0) | D(0) | C(2) |     0.1260 |\n",
      "+------+------+------+------------+\n",
      "| I(0) | D(1) | C(0) |     0.1260 |\n",
      "+------+------+------+------------+\n",
      "| I(0) | D(1) | C(1) |     0.0450 |\n",
      "+------+------+------+------------+\n",
      "| I(0) | D(1) | C(2) |     0.0090 |\n",
      "+------+------+------+------------+\n",
      "| I(1) | D(0) | C(0) |     0.0056 |\n",
      "+------+------+------+------------+\n",
      "| I(1) | D(0) | C(1) |     0.0224 |\n",
      "+------+------+------+------------+\n",
      "| I(1) | D(0) | C(2) |     0.2520 |\n",
      "+------+------+------+------------+\n",
      "| I(1) | D(1) | C(0) |     0.0240 |\n",
      "+------+------+------+------------+\n",
      "| I(1) | D(1) | C(1) |     0.0360 |\n",
      "+------+------+------+------------+\n",
      "| I(1) | D(1) | C(2) |     0.0600 |\n",
      "+------+------+------+------------+\n"
     ]
    }
   ],
   "source": [
    "# Imprimir distribución inicial\n",
    "print(p_IDC)"
   ]
  },
  {
   "cell_type": "code",
   "execution_count": 17,
   "id": "f96b4160",
   "metadata": {},
   "outputs": [],
   "source": [
    "# Marginalizar I, D\n",
    "p_IDC_marg_ID = p_IDC.marginalize(variables=['I', 'D'], inplace=False)"
   ]
  },
  {
   "cell_type": "code",
   "execution_count": 18,
   "id": "1e486357",
   "metadata": {},
   "outputs": [
    {
     "name": "stdout",
     "output_type": "stream",
     "text": [
      "+------+--------+\n",
      "| C    |   P(C) |\n",
      "+======+========+\n",
      "| C(0) | 0.2816 |\n",
      "+------+--------+\n",
      "| C(1) | 0.2714 |\n",
      "+------+--------+\n",
      "| C(2) | 0.4470 |\n",
      "+------+--------+\n"
     ]
    }
   ],
   "source": [
    "print(p_IDC_marg_ID)"
   ]
  },
  {
   "cell_type": "markdown",
   "id": "87990786",
   "metadata": {},
   "source": [
    "Y si queremos la marginal sobre $I$ nada más:"
   ]
  },
  {
   "cell_type": "code",
   "execution_count": 19,
   "id": "71d62e6e",
   "metadata": {},
   "outputs": [],
   "source": [
    "# Marginalizar C y D\n",
    "p_IDC_marg_CD = p_IDC.marginalize(variables=['C', 'D'], inplace=False)"
   ]
  },
  {
   "cell_type": "code",
   "execution_count": 20,
   "id": "23cbb17a",
   "metadata": {},
   "outputs": [
    {
     "name": "stdout",
     "output_type": "stream",
     "text": [
      "+------+--------+\n",
      "| I    |   P(I) |\n",
      "+======+========+\n",
      "| I(0) | 0.6000 |\n",
      "+------+--------+\n",
      "| I(1) | 0.4000 |\n",
      "+------+--------+\n"
     ]
    }
   ],
   "source": [
    "print(p_IDC_marg_CD)"
   ]
  },
  {
   "cell_type": "code",
   "execution_count": 21,
   "id": "1ec80706",
   "metadata": {},
   "outputs": [],
   "source": [
    "# Marginalizar C y I\n",
    "p_IDC_marg_CI = p_IDC.marginalize(variables=['C', 'I'], inplace=False)"
   ]
  },
  {
   "cell_type": "code",
   "execution_count": 22,
   "id": "3331db68",
   "metadata": {},
   "outputs": [
    {
     "name": "stdout",
     "output_type": "stream",
     "text": [
      "+------+--------+\n",
      "| D    |   P(D) |\n",
      "+======+========+\n",
      "| D(0) | 0.7000 |\n",
      "+------+--------+\n",
      "| D(1) | 0.3000 |\n",
      "+------+--------+\n"
     ]
    }
   ],
   "source": [
    "print(p_IDC_marg_CI)"
   ]
  },
  {
   "cell_type": "markdown",
   "id": "a149db90",
   "metadata": {},
   "source": [
    "Matemáticamente, las anteriores operaciones equivalen a:\n",
    "\n",
    "$$P(I, D) = \\sum_{c\\in\\mathrm{Val}(C)} P(I, D, C=c), \\text{ y }$$\n",
    "\n",
    "$$P(I) = \\sum_{(c,d)\\in\\mathrm{Val}(C,D)} P(I, D=d, C=c).$$\n",
    "\n",
    "En abuso de la notación, para no hacer engorrosa la escritura, las anteriores sumas se expresan comúnmente como:\n",
    "\n",
    "$$P(I, D) = \\sum_{C} P(I, D, C), \\text{ y }$$\n",
    "\n",
    "$$P(I) = \\sum_{C,D} P(I, D, C).$$"
   ]
  },
  {
   "cell_type": "markdown",
   "id": "bc18d2e1",
   "metadata": {},
   "source": [
    "## 2. Fundamentos de redes bayesianas\n",
    "\n",
    "### 2.1. Modelando independencias"
   ]
  },
  {
   "cell_type": "markdown",
   "id": "5da936e2",
   "metadata": {},
   "source": [
    "_**¿Qué necesitamos hacer para para que estos nodos y aristas representen una distribución de probabilidad?**_"
   ]
  },
  {
   "cell_type": "markdown",
   "id": "6c103c8b",
   "metadata": {},
   "source": [
    "```{figure} ../images/sesion9-student-model.png\n",
    ":alt: student-model\n",
    ":fig-align: center\n",
    ":width: 700px\n",
    "```"
   ]
  },
  {
   "cell_type": "markdown",
   "id": "41007469",
   "metadata": {},
   "source": [
    "* **1. Cada nodo tiene su mini tabla de comportamiento (CPD)**\n",
    "\n",
    "Una CPD _(Conditional Probability Distribution)_ describe cómo se comporta una variable **dado** el estado de sus padres en el grafo.\n",
    "\n",
    "Por ejemplo:\n",
    "\n",
    "* $P(D)$ → solo depende de sí misma (no tiene padres).\n",
    "\n",
    "* $P(I)$ → igual, es independiente.\n",
    "\n",
    "* $P(C \\mid I,D)$ → depende de la inteligencia y la dificultad.\n",
    "\n",
    "* $P(E \\mid I)$ → depende de la inteligencia.\n",
    "\n",
    "* $P(R \\mid C)$ → depende de la calificación."
   ]
  },
  {
   "cell_type": "markdown",
   "id": "89a2a349",
   "metadata": {},
   "source": [
    "* **2. Las CPDs son los ladrillos básicos de la red**\n",
    "\n",
    "Cada nodo de la red tiene su propia CPD -es decir, su propio \"bloque de conocimiento local\"-.\n",
    "\n",
    "Si la red tiene $5$ nodos, entonces hay $5$ CPDs.\n",
    "\n",
    "Al unirlas, no tienes una lista infinita de casos posibles, sino **pequeñas piezas de información localmente coherentes**."
   ]
  },
  {
   "cell_type": "markdown",
   "id": "a0215e57",
   "metadata": {},
   "source": [
    "* **3.¿Cómo se unen todas?**\n",
    "\n",
    "Para obtener la **distribución conjunta completa**, multiplicamos todas las CPDs entre sí.\n",
    "\n",
    "Esto se llama la _regla de la cadena de las redes bayesianas_.\n",
    "\n",
    "$$\n",
    "P(I,D,C,E,R) = P(I) \\times P(D) \\times P(C \\mid I,D) \\times P(E \\mid I) \\times P(R \\mid C)\n",
    "$$\n",
    "\n",
    "💬 Intuitivamente:\n",
    "\n",
    ">Empieza con las causas base (I, D) y ve multiplicando los efectos condicionales según el grafo."
   ]
  },
  {
   "cell_type": "markdown",
   "id": "7e139725",
   "metadata": {},
   "source": [
    "* **4. ¿qué estamos haciendo realmente?**\n",
    "\n",
    "Matemáticamente, lo que hacemos al multiplicar las CPDs es un **producto de factores.**\n",
    "\n",
    "Cada CPD es un **factor** (una tabla con valores numéricos).\n",
    "\n",
    "Las CPDs *comparten variables* (por ejemplo, $C$ aparece en dos CPDs: $P(C \\mid I,D)$ y $P(R \\mid C)$), así que al multiplicarlas obtenemos un **factor grande**, cuya **alcance** _scope_ incluye **todas las variables** de la red."
   ]
  },
  {
   "cell_type": "markdown",
   "id": "0a09212a",
   "metadata": {},
   "source": [
    "* **5. ¿Por qué esto es tan poderoso?**\n",
    "\n",
    "Porque...\n",
    "- No necesitas escribir $48$ números distintos.\n",
    "- Solo defines unas pocas tablas locales.\n",
    "- La estructura del grafo ya codifica las **independencias** entre variables.\n",
    "\n",
    "Así, puedes reconstruir la distribución completa de una manera compacta y comprensible."
   ]
  },
  {
   "cell_type": "markdown",
   "id": "4e13ad92",
   "metadata": {},
   "source": [
    "| Elemento | Significado | Ejemplo |\n",
    "|-----------|--------------|----------|\n",
    "| **Nodo sin padres** | Distribución simple | $P(I)$, $P(D)$ |\n",
    "| **Nodo con padres** | CPD (condicional) | $P(C \\mid I, D)$ |\n",
    "| **Toda la red** | Producto de todas las CPDs | $P(I)P(D)P(C \\mid I,D)P(E \\mid I)P(R \\mid C)$ |\n",
    "| **Resultado final** | Distribución conjunta completa | $P(I,D,C,E,R)$ |\n"
   ]
  },
  {
   "cell_type": "markdown",
   "id": "edd4ed24",
   "metadata": {},
   "source": [
    "```{figure} ../images/sesion9-student-model-factors.png\n",
    ":alt: student-model-factors\n",
    ":fig-align: center\n",
    ":width: 800px\n",
    "```"
   ]
  },
  {
   "cell_type": "markdown",
   "id": "9a1da781",
   "metadata": {},
   "source": [
    "### La justificación formal: regla de la cadena + independencia"
   ]
  },
  {
   "cell_type": "markdown",
   "id": "b8e6a6d6",
   "metadata": {},
   "source": [
    "$$\n",
    "P(I, D, C, E, R) = P(I) \\times P(D) \\times P(C \\mid I, D) \\times P(E \\mid I) \\times P(R \\mid C)\n",
    "$$\n",
    "\n",
    "Este producto no es casual: surge directamente de la **regla de la cadena de la probabilidad**, combinada con las **independencias condicionales** que nos indica la estructura del grafo."
   ]
  },
  {
   "cell_type": "markdown",
   "id": "5ca9639b",
   "metadata": {},
   "source": [
    "🔹 **Paso 1: Aplicamos la regla de la cadena**\n",
    "\n",
    "La regla de la cadena dice que cualquier distribución conjunta se puede descomponer en condicionales:\n",
    "\n",
    "$$\n",
    "P(I, D, C, E, R) = P(I, D, C, E) \\, P(R \\mid I, D, C, E)\n",
    "$$\n",
    "\n",
    "Esto significa:\n",
    "> “La probabilidad de todo es la probabilidad de los primeros cuatro, multiplicada por la probabilidad del último dado los demás.”"
   ]
  },
  {
   "cell_type": "markdown",
   "id": "101ed34d",
   "metadata": {},
   "source": [
    "🔹 **Paso 2: Descomponemos más**\n",
    "\n",
    "Repetimos el proceso con los primeros cuatro:\n",
    "\n",
    "$$\n",
    "P(I, D, C, E) = P(I, D, C) \\, P(E \\mid I, D, C)\n",
    "$$\n",
    "\n",
    "Entonces:\n",
    "$$\n",
    "P(I, D, C, E, R) = P(I, D, C) \\, P(E \\mid I, D, C) \\, P(R \\mid I, D, C, E)\n",
    "$$"
   ]
  },
  {
   "cell_type": "markdown",
   "id": "5e5f72c8",
   "metadata": {},
   "source": [
    "🔹 **Paso 3: Aplicamos independencias condicionales**\n",
    "\n",
    "La **estructura del grafo** nos dice quién depende de quién:\n",
    "\n",
    "- $R$ depende **solo de $C$** → $P(R \\mid I, D, C, E) = P(R \\mid C)$  \n",
    "- $E$ depende **solo de $I$** → $P(E \\mid I, D, C) = P(E \\mid I)$  \n",
    "- $D$ e $I$ son **independientes** → $P(D \\mid I) = P(D)$  \n",
    "\n",
    "Sustituyendo esas simplificaciones:\n",
    "\n",
    "$$\n",
    "P(I, D, C, E, R) = P(I, D, C) \\, P(E \\mid I) \\, P(R \\mid C)\n",
    "$$"
   ]
  },
  {
   "cell_type": "markdown",
   "id": "f1ac0203",
   "metadata": {},
   "source": [
    "🔹 **Paso 4: Descomponemos $P(I, D, C)$**\n",
    "\n",
    "Usando la cadena otra vez:\n",
    "\n",
    "$$\n",
    "P(I, D, C) = P(I, D) \\, P(C \\mid I, D)\n",
    "$$\n",
    "\n",
    "Y como $I$ y $D$ son independientes:\n",
    "\n",
    "$$\n",
    "P(I, D) = P(I) \\, P(D)\n",
    "$$\n",
    "\n",
    "Entonces:\n",
    "\n",
    "$$\n",
    "P(I, D, C) = P(I) \\, P(D) \\, P(C \\mid I, D)\n",
    "$$"
   ]
  },
  {
   "cell_type": "markdown",
   "id": "14cb11e0",
   "metadata": {},
   "source": [
    "🔹 **Paso 5: Sustituyendo todo**\n",
    "\n",
    "Finalmente obtenemos la **factorización de la red bayesiana**:\n",
    "\n",
    "$$\n",
    "P(I, D, C, E, R) = P(I) \\, P(D) \\, P(C \\mid I, D) \\, P(E \\mid I) \\, P(R \\mid C)\n",
    "$$"
   ]
  },
  {
   "cell_type": "markdown",
   "id": "7284c5b7",
   "metadata": {},
   "source": [
    "Por ejemplo,\n",
    "\n",
    "$$P(i^1, d^0, c^0, e^1, r^1)=P(i^1) P(d^0) P(c^0 | i^1, d^0) P(e^1 | i^1) P(r^1 | c^0) = 0.3 \\times 0.6 \\times 0.02 \\times 0.8 \\times 0.01 $$"
   ]
  },
  {
   "cell_type": "markdown",
   "id": "99587eab",
   "metadata": {},
   "source": [
    "| Paso | Expresión | Interpretación |\n",
    "|------|------------|----------------|\n",
    "| 1 | $P(i^1)$ | Ser inteligente |\n",
    "| 2 | $P(d^0)$ | Curso fácil |\n",
    "| 3 | $P(c^0 \\mid i^1, d^0)$ | Calificación baja aunque es inteligente |\n",
    "| 4 | $P(e^1 \\mid i^1)$ | Buen puntaje en la prueba |\n",
    "| 5 | $P(r^1 \\mid c^0)$ | Carta buena a pesar de nota baja |\n",
    "\n",
    "Cada fila representa una **pieza local de información (una CPD)** dentro de la red bayesiana.\n",
    "\n",
    "Al multiplicarlas todas, obtienes la probabilidad conjunta del escenario $(i^1, d^0, c^0, e^1, r^1)$"
   ]
  },
  {
   "cell_type": "markdown",
   "id": "e86d5596",
   "metadata": {},
   "source": [
    "```{admonition} 🔹 Definición forma de una red bayesiana\n",
    ":class: tip\n",
    "\n",
    "Hasta ahora hemos visto las redes bayesianas de forma intuitiva: como **grafos donde cada nodo representa una variable** y **cada flecha una relación de dependencia**. \n",
    "\n",
    "Ahora podemos formalizar esta idea.\n",
    "\n",
    "**Definición**\n",
    "\n",
    "Una **red bayesiana** es un **grafo dirigido acíclico (DAG)** $\\mathcal{G}$, donde:\n",
    "\n",
    "- Cada nodo representa una **variable aleatoria** $X_i$.\n",
    "- Cada nodo se asocia con una **distribución condicional**  \n",
    "  $P(X_i \\mid Pa_\\mathcal{G}(X_i))$, donde $Pa_\\mathcal{G}(X_i)$ son los **padres** de $X_i$ en el grafo.\n",
    "- Cada arco indica una **influencia causal o probabilística directa**.\n",
    "\n",
    "La **distribución conjunta** sobre todas las variables se obtiene multiplicando todas las distribuciones locales:\n",
    "\n",
    "$$\n",
    "P(X_1, X_2, \\dots, X_n) = \\prod_{i=1}^{n} P(X_i \\mid Pa_\\mathcal{G}(X_i))\n",
    "$$\n",
    "```"
   ]
  },
  {
   "cell_type": "markdown",
   "id": "25da8e04",
   "metadata": {},
   "source": [
    "```{admonition} 🔸 Independencias locales\n",
    ":class: tip\n",
    "\n",
    "Una de las ideas más potentes de las redes bayesianas es que **la estructura del grafo ya codifica independencias**.\n",
    " \n",
    "Formalmente, para cada variable $X_i$:\n",
    "\n",
    "$$\n",
    "I_l(\\mathcal{G}) = \\{ (X_i \\perp NoDescendientes_\\mathcal{G}(X_i) \\mid Pa_\\mathcal{G}(X_i)) \\}\n",
    "$$\n",
    "\n",
    "Esto significa que, **dado sus padres**, una variable es independiente de todos los nodos que:\n",
    "- no son sus padres, y  \n",
    "- no son sus descendientes.\n",
    "\n",
    "En palabras simples...\n",
    "\n",
    "> Cada nodo “mira solo hacia arriba” (a sus padres).  \n",
    "> Todo lo que esté más lejos en el grafo **no le afecta directamente** una vez que conoce el estado de sus padres.\n",
    "\n",
    "Por eso podemos descomponer toda la distribución como un **producto de términos locales**,  \n",
    "y de ahí viene el poder de las redes bayesianas: **reducen exponencialmente la complejidad** al aprovechar las independencias condicionales.\n",
    "```"
   ]
  },
  {
   "cell_type": "markdown",
   "id": "37de8e74",
   "metadata": {},
   "source": [
    "#### Actividad\n",
    "\n",
    "1. Obtener las independencias locales que codifica la red Bayesiana del estudiante.\n",
    "\n",
    "2. Comparar el número de parámetros independientes que necesita la red Bayesiana del estudiante contra el número de parámetros que necesitaría la distribución conjunta sin ninguna suposición de independencia."
   ]
  },
  {
   "cell_type": "markdown",
   "id": "6cf0580e",
   "metadata": {},
   "source": [
    "**¿Cómo declarar una red Bayesiana en pgmpy?**"
   ]
  },
  {
   "cell_type": "code",
   "execution_count": 23,
   "id": "d727801f",
   "metadata": {},
   "outputs": [],
   "source": [
    "# Importamos pgmpy.models.BayesianNetwork\n",
    "# Importamos pgmpy.factors.discrete.TabularCPD\n",
    "\n",
    "from pgmpy.models import BayesianNetwork, DiscreteBayesianNetwork\n",
    "from pgmpy.factors.discrete import TabularCPD"
   ]
  },
  {
   "cell_type": "code",
   "execution_count": 24,
   "id": "7bc63033",
   "metadata": {},
   "outputs": [
    {
     "name": "stdout",
     "output_type": "stream",
     "text": [
      "\u001b[31mInit signature:\u001b[39m\n",
      "DiscreteBayesianNetwork(\n",
      "    ebunch=\u001b[38;5;28;01mNone\u001b[39;00m,\n",
      "    latents=set(),\n",
      "    lavaan_str=\u001b[38;5;28;01mNone\u001b[39;00m,\n",
      "    dagitty_str=\u001b[38;5;28;01mNone\u001b[39;00m,\n",
      ")\n",
      "\u001b[31mDocstring:\u001b[39m     \n",
      "Initializes a Bayesian Network.\n",
      "A models stores nodes and edges with conditional probability\n",
      "distribution (cpd) and other attributes.\n",
      "\n",
      "Models hold directed edges.  Self loops are not allowed neither\n",
      "multiple (parallel) edges.\n",
      "\n",
      "Nodes can be any hashable python object.\n",
      "\n",
      "Edges are represented as links between nodes.\n",
      "\n",
      "Parameters\n",
      "----------\n",
      "ebunch: input graph\n",
      "    Data to initialize graph.  If ebunch=None (default) an empty\n",
      "    graph is created.  The ebunch can be an edge list, or any\n",
      "    NetworkX graph object.\n",
      "\n",
      "latents: list, array-like\n",
      "    List of variables which are latent (i.e. unobserved) in the model.\n",
      "\n",
      "Examples\n",
      "--------\n",
      "Create an empty Bayesian Network with no nodes and no edges.\n",
      "\n",
      ">>> from pgmpy.models import DiscreteBayesianNetwork\n",
      ">>> G = DiscreteBayesianNetwork()\n",
      "\n",
      "G can be grown in several ways.\n",
      "\n",
      "**Nodes:**\n",
      "\n",
      "Add one node at a time:\n",
      "\n",
      ">>> G.add_node('a')\n",
      "\n",
      "Add the nodes from any container (a list, set or tuple or the nodes\n",
      "from another graph).\n",
      "\n",
      ">>> G.add_nodes_from(['a', 'b'])\n",
      "\n",
      "**Edges:**\n",
      "\n",
      "G can also be grown by adding edges.\n",
      "\n",
      "Add one edge,\n",
      "\n",
      ">>> G.add_edge('a', 'b')\n",
      "\n",
      "a list of edges,\n",
      "\n",
      ">>> G.add_edges_from([('a', 'b'), ('b', 'c')])\n",
      "\n",
      "If some edges connect nodes not yet in the model, the nodes\n",
      "are added automatically.  There are no errors when adding\n",
      "nodes or edges that already exist.\n",
      "\n",
      "**Shortcuts:**\n",
      "\n",
      "Many common graph features allow python syntax for speed reporting.\n",
      "\n",
      ">>> 'a' in G     # check if node in graph\n",
      "True\n",
      ">>> len(G)  # number of nodes in graph\n",
      "3\n",
      "\u001b[31mInit docstring:\u001b[39m\n",
      "Initialize a graph with edges, name, or graph attributes.\n",
      "\n",
      "Parameters\n",
      "----------\n",
      "incoming_graph_data : input graph (optional, default: None)\n",
      "    Data to initialize graph.  If None (default) an empty\n",
      "    graph is created.  The data can be an edge list, or any\n",
      "    NetworkX graph object.  If the corresponding optional Python\n",
      "    packages are installed the data can also be a 2D NumPy array, a\n",
      "    SciPy sparse array, or a PyGraphviz graph.\n",
      "\n",
      "attr : keyword arguments, optional (default= no attributes)\n",
      "    Attributes to add to graph as key=value pairs.\n",
      "\n",
      "See Also\n",
      "--------\n",
      "convert\n",
      "\n",
      "Examples\n",
      "--------\n",
      ">>> G = nx.Graph()  # or DiGraph, MultiGraph, MultiDiGraph, etc\n",
      ">>> G = nx.Graph(name=\"my graph\")\n",
      ">>> e = [(1, 2), (2, 3), (3, 4)]  # list of edges\n",
      ">>> G = nx.Graph(e)\n",
      "\n",
      "Arbitrary graph attribute pairs (key=value) may be assigned\n",
      "\n",
      ">>> G = nx.Graph(e, day=\"Friday\")\n",
      ">>> G.graph\n",
      "{'day': 'Friday'}\n",
      "\u001b[31mFile:\u001b[39m           d:\\anaconda3\\envs\\mgp\\lib\\site-packages\\pgmpy\\models\\discretebayesiannetwork.py\n",
      "\u001b[31mType:\u001b[39m           type\n",
      "\u001b[31mSubclasses:\u001b[39m     FunctionalBayesianNetwork, NaiveBayes"
     ]
    }
   ],
   "source": [
    "DiscreteBayesianNetwork?"
   ]
  },
  {
   "cell_type": "code",
   "execution_count": 25,
   "id": "dea53fef",
   "metadata": {},
   "outputs": [],
   "source": [
    "student_model = DiscreteBayesianNetwork(\n",
    "    [(\"D\", \"C\"), (\"I\", \"C\"), (\"I\", \"E\"), (\"C\", \"R\")]\n",
    ")"
   ]
  },
  {
   "cell_type": "code",
   "execution_count": 26,
   "id": "362a6f79",
   "metadata": {},
   "outputs": [
    {
     "name": "stdout",
     "output_type": "stream",
     "text": [
      "\u001b[31mInit signature:\u001b[39m\n",
      "TabularCPD(\n",
      "    variable,\n",
      "    variable_card,\n",
      "    values,\n",
      "    evidence=\u001b[38;5;28;01mNone\u001b[39;00m,\n",
      "    evidence_card=\u001b[38;5;28;01mNone\u001b[39;00m,\n",
      "    state_names={},\n",
      ")\n",
      "\u001b[31mDocstring:\u001b[39m     \n",
      "Defines the conditional probability distribution table (CPD table)\n",
      "\n",
      "Parameters\n",
      "----------\n",
      "variable: int, string (any hashable python object)\n",
      "    The variable whose CPD is defined.\n",
      "\n",
      "variable_card: integer\n",
      "    Cardinality/no. of states of `variable`\n",
      "\n",
      "values: 2D array, 2D list or 2D tuple\n",
      "    Values for the CPD table. Please refer the example for the\n",
      "    exact format needed.\n",
      "\n",
      "evidence: array-like\n",
      "    List of variables in evidences(if any) w.r.t. which CPD is defined.\n",
      "\n",
      "evidence_card: array-like\n",
      "    cardinality/no. of states of variables in `evidence`(if any)\n",
      "\n",
      "state_names: dict (default: dict())\n",
      "    A dictionary of the form {variable: list of states} specifying the\n",
      "    names of possible states for each variable (variable + evidence) in\n",
      "    the TabularCPD. The order in which the states are specified should\n",
      "    match the order in the values array. If state_names is not specified,\n",
      "    auto-assigns state names starting from 0.\n",
      "\n",
      "Examples\n",
      "--------\n",
      "For a distribution of P(grade|diff, intel)\n",
      "\n",
      "+---------+-------------------------+------------------------+\n",
      "|diff     |          easy           |         hard           |\n",
      "+---------+------+--------+---------+------+--------+--------+\n",
      "|intel    | low  | medium |  high   | low  | medium |  high  |\n",
      "+---------+------+--------+---------+------+--------+--------+\n",
      "|gradeA   | 0.1  | 0.1    |   0.1   |  0.1 |  0.1   |   0.1  |\n",
      "+---------+------+--------+---------+------+--------+--------+\n",
      "|gradeB   | 0.1  | 0.1    |   0.1   |  0.1 |  0.1   |   0.1  |\n",
      "+---------+------+--------+---------+------+--------+--------+\n",
      "|gradeC   | 0.8  | 0.8    |   0.8   |  0.8 |  0.8   |   0.8  |\n",
      "+---------+------+--------+---------+------+--------+--------+\n",
      "\n",
      "the values array should be\n",
      "[[0.1,0.1,0.1,0.1,0.1,0.1],\n",
      " [0.1,0.1,0.1,0.1,0.1,0.1],\n",
      " [0.8,0.8,0.8,0.8,0.8,0.8]]\n",
      "\n",
      ">>> cpd = TabularCPD(variable='grade',\n",
      "...                  variable_card=3,\n",
      "...                  values=[[0.1,0.1,0.1,0.1,0.1,0.1],\n",
      "...                          [0.1,0.1,0.1,0.1,0.1,0.1],\n",
      "...                          [0.8,0.8,0.8,0.8,0.8,0.8]],\n",
      "...                  evidence=['diff', 'intel'],\n",
      "...                  evidence_card=[2, 3],\n",
      "...                  state_names={'diff': ['easy', 'hard'],\n",
      "...                               'intel': ['low', 'mid', 'high'],\n",
      "...                               'grade': ['A', 'B', 'C']})\n",
      ">>> print(cpd)\n",
      "+---------+----------+----------+-----------+----------+----------+-----------+\n",
      "| diff    |diff(easy)|diff(easy)|diff(easy) |diff(hard)|diff(hard)|diff(hard) |\n",
      "+---------+----------+----------+-----------+----------+----------+-----------+\n",
      "| intel   |intel(low)|intel(mid)|intel(high)|intel(low)|intel(mid)|intel(high)|\n",
      "+---------+----------+----------+-----------+----------+----------+-----------+\n",
      "| grade(A)| 0.1      | 0.1      | 0.1       | 0.1      | 0.1      | 0.1       |\n",
      "+---------+----------+----------+-----------+----------+----------+-----------+\n",
      "| grade(B)| 0.1      | 0.1      | 0.1       | 0.1      | 0.1      | 0.1       |\n",
      "+---------+----------+----------+-----------+----------+----------+-----------+\n",
      "| grade(C)| 0.8      | 0.8      | 0.8       | 0.8      | 0.8      | 0.8       |\n",
      "+---------+----------+----------+-----------+----------+----------+-----------+\n",
      ">>> cpd.values\n",
      "array([[[ 0.1,  0.1,  0.1],\n",
      "        [ 0.1,  0.1,  0.1]],\n",
      "       [[ 0.1,  0.1,  0.1],\n",
      "        [ 0.1,  0.1,  0.1]],\n",
      "       [[ 0.8,  0.8,  0.8],\n",
      "        [ 0.8,  0.8,  0.8]]])\n",
      ">>> cpd.variables\n",
      "['grade', 'diff', 'intel']\n",
      ">>> cpd.cardinality\n",
      "array([3, 2, 3])\n",
      ">>> cpd.variable\n",
      "'grade'\n",
      ">>> cpd.variable_card\n",
      "3\n",
      "\u001b[31mFile:\u001b[39m           d:\\anaconda3\\envs\\mgp\\lib\\site-packages\\pgmpy\\factors\\discrete\\cpd.py\n",
      "\u001b[31mType:\u001b[39m           type\n",
      "\u001b[31mSubclasses:\u001b[39m     NoisyORCPD"
     ]
    }
   ],
   "source": [
    "TabularCPD?"
   ]
  },
  {
   "cell_type": "code",
   "execution_count": 27,
   "id": "dfda7201",
   "metadata": {},
   "outputs": [],
   "source": [
    "# Definimos distribución condicional de D\n",
    "cpd_D = TabularCPD(\n",
    "    variable='D',\n",
    "    variable_card=2,\n",
    "    values=[\n",
    "        [0.7],\n",
    "        [0.3]\n",
    "    ]\n",
    ")\n",
    "# Definimos distribución condicional de I\n",
    "cpd_I = TabularCPD(\n",
    "    variable='I',\n",
    "    variable_card=2,\n",
    "    values=[\n",
    "        [0.6],\n",
    "        [0.4]\n",
    "    ]\n",
    ")"
   ]
  },
  {
   "cell_type": "code",
   "execution_count": 28,
   "id": "1b6614fa",
   "metadata": {},
   "outputs": [
    {
     "name": "stdout",
     "output_type": "stream",
     "text": [
      "+------+-----+\n",
      "| D(0) | 0.7 |\n",
      "+------+-----+\n",
      "| D(1) | 0.3 |\n",
      "+------+-----+\n"
     ]
    }
   ],
   "source": [
    "print(cpd_D)"
   ]
  },
  {
   "cell_type": "markdown",
   "id": "fd187cf8",
   "metadata": {},
   "source": [
    "La representación de las distribuciones condicionales en `pgmpy` es un poquito distinto a como está en el dibujo de arriba. En `pgmpy` las columnas representan evidencia, y las filas los distintos estados de la variable en la distribución condicional:\n",
    "\n",
    "|         | $i^0 d^0$ | $i^0 d^1$ | $i^1 d^0$ | $i^1 d^1$ |\n",
    "| ------- | --------- | --------- | --------- | --------- |\n",
    "| $c^0$   | 0.3       | 0.7       | 0.02      | 0.2       |\n",
    "| $c^1$   | 0.4       | 0.25      | 0.08      | 0.3       |\n",
    "| $c^2$   | 0.3       | 0.05      | 0.9       | 0.5       |"
   ]
  },
  {
   "cell_type": "code",
   "execution_count": 29,
   "id": "fbf9c69b",
   "metadata": {},
   "outputs": [],
   "source": [
    "# Definimos distribución condicional de C\n",
    "cpd_C = TabularCPD(\n",
    "    variable='C',\n",
    "    variable_card=3,\n",
    "    values=[\n",
    "        [0.30, 0.70, 0.02, 0.20],\n",
    "        [0.40, 0.25, 0.08, 0.30],\n",
    "        [0.30, 0.05, 0.90, 0.50]\n",
    "    ],\n",
    "    evidence=['I', 'D'],\n",
    "    evidence_card=[2, 2]\n",
    ")\n",
    "# Definimos distribución condicional de E\n",
    "cpd_E = TabularCPD(\n",
    "    variable='E',\n",
    "    variable_card=2,\n",
    "    values=[\n",
    "        [0.95, 0.20],\n",
    "        [0.05, 0.80]\n",
    "    ],\n",
    "    evidence=['I'],\n",
    "    evidence_card=[2]\n",
    ")\n",
    "# Definimos distribución condicional de R\n",
    "cpd_R = TabularCPD(\n",
    "    variable='R',\n",
    "    variable_card=2,\n",
    "    values=[\n",
    "        [0.99, 0.40, 0.10],\n",
    "        [0.01, 0.60, 0.90]\n",
    "    ],\n",
    "    evidence=['C'],\n",
    "    evidence_card=[3]\n",
    ")"
   ]
  },
  {
   "cell_type": "code",
   "execution_count": 30,
   "id": "abf262ab",
   "metadata": {},
   "outputs": [
    {
     "name": "stdout",
     "output_type": "stream",
     "text": [
      "+------+------+------+------+\n",
      "| C    | C(0) | C(1) | C(2) |\n",
      "+------+------+------+------+\n",
      "| R(0) | 0.99 | 0.4  | 0.1  |\n",
      "+------+------+------+------+\n",
      "| R(1) | 0.01 | 0.6  | 0.9  |\n",
      "+------+------+------+------+\n"
     ]
    }
   ],
   "source": [
    "print(cpd_R)"
   ]
  },
  {
   "cell_type": "code",
   "execution_count": 31,
   "id": "a7b8ab9f",
   "metadata": {},
   "outputs": [
    {
     "name": "stdout",
     "output_type": "stream",
     "text": [
      "\u001b[31mSignature:\u001b[39m student_model.add_cpds(*cpds)\n",
      "\u001b[31mDocstring:\u001b[39m\n",
      "Add CPD (Conditional Probability Distribution) to the Bayesian Model.\n",
      "\n",
      "Parameters\n",
      "----------\n",
      "cpds  :  list, set, tuple (array-like)\n",
      "    List of CPDs which will be associated with the model\n",
      "\n",
      "Examples\n",
      "--------\n",
      ">>> from pgmpy.models import DiscreteBayesianNetwork\n",
      ">>> from pgmpy.factors.discrete.CPD import TabularCPD\n",
      ">>> student = DiscreteBayesianNetwork([('diff', 'grades'), ('aptitude', 'grades')])\n",
      ">>> grades_cpd = TabularCPD('grades', 3, [[0.1,0.1,0.1,0.1,0.1,0.1],\n",
      "...                                       [0.1,0.1,0.1,0.1,0.1,0.1],\n",
      "...                                       [0.8,0.8,0.8,0.8,0.8,0.8]],\n",
      "...                         evidence=['diff', 'aptitude'], evidence_card=[2, 3],\n",
      "...                         state_names={'grades': ['gradeA', 'gradeB', 'gradeC'],\n",
      "...                                      'diff': ['easy', 'hard'],\n",
      "...                                      'aptitude': ['low', 'medium', 'high']})\n",
      ">>> student.add_cpds(grades_cpd)\n",
      "\n",
      "+---------+-------------------------+------------------------+\n",
      "|diff:    |          easy           |         hard           |\n",
      "+---------+------+--------+---------+------+--------+--------+\n",
      "|aptitude:| low  | medium |  high   | low  | medium |  high  |\n",
      "+---------+------+--------+---------+------+--------+--------+\n",
      "|gradeA   | 0.1  | 0.1    |   0.1   |  0.1 |  0.1   |   0.1  |\n",
      "+---------+------+--------+---------+------+--------+--------+\n",
      "|gradeB   | 0.1  | 0.1    |   0.1   |  0.1 |  0.1   |   0.1  |\n",
      "+---------+------+--------+---------+------+--------+--------+\n",
      "|gradeC   | 0.8  | 0.8    |   0.8   |  0.8 |  0.8   |   0.8  |\n",
      "+---------+------+--------+---------+------+--------+--------+\n",
      "\u001b[31mFile:\u001b[39m      d:\\anaconda3\\envs\\mgp\\lib\\site-packages\\pgmpy\\models\\discretebayesiannetwork.py\n",
      "\u001b[31mType:\u001b[39m      method"
     ]
    }
   ],
   "source": [
    "# add_cpds method\n",
    "student_model.add_cpds?"
   ]
  },
  {
   "cell_type": "code",
   "execution_count": 32,
   "id": "790e1a63",
   "metadata": {},
   "outputs": [],
   "source": [
    "# Asociamos las distribuciones condicionales a la red\n",
    "student_model.add_cpds(cpd_D, cpd_I, cpd_C, cpd_E, cpd_R)"
   ]
  },
  {
   "cell_type": "code",
   "execution_count": 33,
   "id": "a1703a59",
   "metadata": {},
   "outputs": [
    {
     "data": {
      "text/plain": [
       "True"
      ]
     },
     "execution_count": 33,
     "metadata": {},
     "output_type": "execute_result"
    }
   ],
   "source": [
    "# Check the model for various errors. This method checks for the following errors:  \n",
    "# * Checks if the sum of the probabilities for each state is equal to 1 (tol=0.01).\n",
    "# * Checks if the CPDs associated with nodes are consistent with their parents.\n",
    "student_model.check_model()"
   ]
  },
  {
   "cell_type": "markdown",
   "id": "9555fbd5",
   "metadata": {},
   "source": [
    "Una vez tenemos el modelo, podemos hacer varias cosas con él. Entre ellas, podemos verificar las independencias locales que codifica el modelo:"
   ]
  },
  {
   "cell_type": "code",
   "execution_count": 34,
   "id": "deca5ddb",
   "metadata": {},
   "outputs": [
    {
     "data": {
      "text/plain": [
       "(D ⟂ E, I)"
      ]
     },
     "execution_count": 34,
     "metadata": {},
     "output_type": "execute_result"
    }
   ],
   "source": [
    "# Verificar las independencias locales que implica el modelo\n",
    "student_model.local_independencies('D')"
   ]
  },
  {
   "cell_type": "code",
   "execution_count": 35,
   "id": "8862e05e",
   "metadata": {},
   "outputs": [
    {
     "data": {
      "text/plain": [
       "(C ⟂ E | D, I)"
      ]
     },
     "execution_count": 35,
     "metadata": {},
     "output_type": "execute_result"
    }
   ],
   "source": [
    "student_model.local_independencies('C')"
   ]
  },
  {
   "cell_type": "code",
   "execution_count": 36,
   "id": "af3feae7",
   "metadata": {},
   "outputs": [
    {
     "name": "stdout",
     "output_type": "stream",
     "text": [
      "\u001b[31mSignature:\u001b[39m student_model.local_independencies(variables)\n",
      "\u001b[31mDocstring:\u001b[39m\n",
      "Returns an instance of Independencies containing the local independencies\n",
      "of each of the variables.\n",
      "\n",
      "Parameters\n",
      "----------\n",
      "variables: str or array like\n",
      "    variables whose local independencies are to be found.\n",
      "\n",
      "Examples\n",
      "--------\n",
      ">>> from pgmpy.base import DAG\n",
      ">>> student = DAG()\n",
      ">>> student.add_edges_from([('diff', 'grade'), ('intel', 'grade'),\n",
      ">>>                         ('grade', 'letter'), ('intel', 'SAT')])\n",
      ">>> ind = student.local_independencies('grade')\n",
      ">>> ind\n",
      "(grade ⟂ SAT | diff, intel)\n",
      "\u001b[31mFile:\u001b[39m      d:\\anaconda3\\envs\\mgp\\lib\\site-packages\\pgmpy\\base\\dag.py\n",
      "\u001b[31mType:\u001b[39m      method"
     ]
    }
   ],
   "source": [
    "student_model.local_independencies?"
   ]
  },
  {
   "cell_type": "code",
   "execution_count": 37,
   "id": "c655514c",
   "metadata": {},
   "outputs": [
    {
     "data": {
      "text/plain": [
       "(D ⟂ E, I)\n",
       "(I ⟂ D)\n",
       "(C ⟂ E | D, I)\n",
       "(E ⟂ R, D, C | I)\n",
       "(R ⟂ D, I, E | C)"
      ]
     },
     "execution_count": 37,
     "metadata": {},
     "output_type": "execute_result"
    }
   ],
   "source": [
    "student_model.local_independencies([\"D\", \"I\", \"C\", \"E\", \"R\"])"
   ]
  }
 ],
 "metadata": {
  "kernelspec": {
   "display_name": "mgp",
   "language": "python",
   "name": "python3"
  },
  "language_info": {
   "codemirror_mode": {
    "name": "ipython",
    "version": 3
   },
   "file_extension": ".py",
   "mimetype": "text/x-python",
   "name": "python",
   "nbconvert_exporter": "python",
   "pygments_lexer": "ipython3",
   "version": "3.13.2"
  }
 },
 "nbformat": 4,
 "nbformat_minor": 5
}
