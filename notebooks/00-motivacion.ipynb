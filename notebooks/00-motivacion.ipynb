{
 "cells": [
  {
   "cell_type": "code",
   "execution_count": null,
   "id": "938bb00d",
   "metadata": {},
   "outputs": [],
   "source": [
    "from sklearn.datasets import load_iris\n",
    "import pandas as pd\n",
    "import numpy as np"
   ]
  },
  {
   "cell_type": "markdown",
   "id": "17f00ed3",
   "metadata": {},
   "source": [
    "Disponible en: [Sklearn](https://scikit-learn.org/stable/modules/generated/sklearn.datasets.load_iris.html#sklearn.datasets.load_iris)"
   ]
  },
  {
   "cell_type": "code",
   "execution_count": null,
   "id": "18926608",
   "metadata": {},
   "outputs": [],
   "source": []
  },
  {
   "cell_type": "markdown",
   "id": "24128673",
   "metadata": {},
   "source": [
    "| **Property**        | **Value**       |\n",
    "|---------------------|-----------------|\n",
    "| Classes             | 3               |\n",
    "| Samples per class   | 50              |\n",
    "| Samples total       | 150             |\n",
    "| Dimensionality      | 4               |\n",
    "| Features            | real, positive  |\n"
   ]
  },
  {
   "cell_type": "code",
   "execution_count": null,
   "id": "0e9a1dc6",
   "metadata": {},
   "outputs": [],
   "source": []
  },
  {
   "cell_type": "code",
   "execution_count": null,
   "id": "8d481780",
   "metadata": {},
   "outputs": [],
   "source": []
  },
  {
   "cell_type": "code",
   "execution_count": null,
   "id": "3b2b6bb4",
   "metadata": {},
   "outputs": [],
   "source": []
  },
  {
   "cell_type": "code",
   "execution_count": null,
   "id": "0454476d",
   "metadata": {},
   "outputs": [],
   "source": []
  },
  {
   "cell_type": "code",
   "execution_count": null,
   "id": "43083821",
   "metadata": {},
   "outputs": [],
   "source": []
  },
  {
   "cell_type": "markdown",
   "id": "c12d5392",
   "metadata": {},
   "source": [
    "| Tipo de flor | Número |\n",
    "| ------------ | ------ |\n",
    "| Setosa       | 0      |\n",
    "| Versicolor   | 1      |\n",
    "| Virginica    | 2      |"
   ]
  },
  {
   "cell_type": "code",
   "execution_count": null,
   "id": "dd07b518",
   "metadata": {},
   "outputs": [],
   "source": []
  },
  {
   "cell_type": "markdown",
   "id": "9b0ec13e",
   "metadata": {},
   "source": [
    "#### ¿qué observamos?"
   ]
  },
  {
   "cell_type": "markdown",
   "id": "c345718d",
   "metadata": {},
   "source": [
    "<details>\n",
    "  <summary>👁️‍🗨️</summary>\n",
    "  \n",
    "  * Clase 0 (color morado oscuro) está bien separada: se agrupa con sépalos más cortos y más anchos.\n",
    "\n",
    "  * Clase 1 y Clase 2 (verde y amarillo) están más superpuestas, especialmente en la región de sépalos largos y estrechos.\n",
    "\n",
    "  * Esto sugiere que, al menos con las variables ``sepal length`` y ``sepal width``, la clase 0 se puede clasificar con mayor precisión que las otras dos.\n",
    "</details>"
   ]
  },
  {
   "cell_type": "markdown",
   "id": "94ebcff5",
   "metadata": {},
   "source": [
    "### Modelo de clasificación"
   ]
  },
  {
   "cell_type": "markdown",
   "id": "55ecdfc8",
   "metadata": {},
   "source": [
    "**Pregunta:**\n",
    "\n",
    "_¿Cuáles modelos de clasificación podríamos usar para resolver este problema?_"
   ]
  },
  {
   "cell_type": "code",
   "execution_count": null,
   "id": "3025c7df",
   "metadata": {},
   "outputs": [],
   "source": []
  },
  {
   "cell_type": "code",
   "execution_count": null,
   "id": "56473262",
   "metadata": {},
   "outputs": [],
   "source": []
  },
  {
   "cell_type": "code",
   "execution_count": null,
   "id": "102d6a9c",
   "metadata": {},
   "outputs": [],
   "source": []
  },
  {
   "cell_type": "code",
   "execution_count": null,
   "id": "b394a329",
   "metadata": {},
   "outputs": [],
   "source": []
  },
  {
   "cell_type": "code",
   "execution_count": null,
   "id": "d0100a6e",
   "metadata": {},
   "outputs": [],
   "source": []
  },
  {
   "cell_type": "code",
   "execution_count": null,
   "id": "53ef853f",
   "metadata": {},
   "outputs": [],
   "source": []
  },
  {
   "cell_type": "code",
   "execution_count": null,
   "id": "5c7912e7",
   "metadata": {},
   "outputs": [],
   "source": []
  },
  {
   "cell_type": "markdown",
   "id": "5cb41c91",
   "metadata": {},
   "source": [
    "## Cómo usar una distribución conjunta para clasificar"
   ]
  },
  {
   "cell_type": "markdown",
   "id": "53f014e8",
   "metadata": {},
   "source": [
    "Anteriormente vimos que un modelo de clasificación (como árboles de decisión) presenta un _score_ del 73%."
   ]
  },
  {
   "cell_type": "markdown",
   "id": "f7311787",
   "metadata": {},
   "source": [
    "Podemos adoptar un **enfoque probabilístico** para modelar la situación a partir de los datos disponibles.\n",
    "\n",
    "En particular, podemos **estimar la distribución de probabilidad conjunta** de las variables de interés: la longitud del tallo $(L)$, el ancho del tallo $(W)$ y el tipo de flor $(T)$,\n",
    "\n",
    "$$\n",
    "P(L, W, T)\n",
    "$$\n",
    "\n",
    "utilizando los datos observados. Esta distribución nos permitirá **responder preguntas basadas en evidencia**, como predecir el tipo de flor más probable dado que observamos una cierta longitud y ancho del tallo.\n",
    "\n",
    "A continuación, estimamos la **distribución conjunta empírica** a partir del conjunto de entrenamiento:"
   ]
  },
  {
   "cell_type": "code",
   "execution_count": null,
   "id": "96e5e5c6",
   "metadata": {},
   "outputs": [],
   "source": []
  },
  {
   "cell_type": "code",
   "execution_count": null,
   "id": "88107480",
   "metadata": {},
   "outputs": [],
   "source": []
  },
  {
   "cell_type": "code",
   "execution_count": null,
   "id": "00864a29",
   "metadata": {},
   "outputs": [],
   "source": []
  },
  {
   "cell_type": "markdown",
   "id": "2b9778ae",
   "metadata": {},
   "source": [
    "Primero, veámos en la tabla siguiente que las columnas (`L`, `W` `T`) representan todas las posibles combinaciones de valores de cada variable."
   ]
  },
  {
   "cell_type": "markdown",
   "id": "2cf58947",
   "metadata": {},
   "source": [
    "La tabla muestra la **distribución conjunta** de tres variables (`L`, `W`, `T`).\n",
    "\n",
    "Usar `group.by().size()` nos permite *contar ocurrencias* para cada combinación."
   ]
  },
  {
   "cell_type": "markdown",
   "id": "e0b9813b",
   "metadata": {},
   "source": [
    "Tenemos $4 * 3 * 3 = 36$ posibles combinaciones:"
   ]
  },
  {
   "cell_type": "code",
   "execution_count": null,
   "id": "d632e99a",
   "metadata": {},
   "outputs": [],
   "source": []
  },
  {
   "cell_type": "markdown",
   "id": "b180b16d",
   "metadata": {},
   "source": [
    "**NOTA:** no todas las combinaciones posibles de (`L`, `W` `T`) aparecen en los datos. `groupby().size()` solo muestra las combinaciones que realmente están presentes en el DataFrame.\n",
    "\n",
    "Las combinaciones que no ocurren ni una sola vez, no aparecen en la salida porque su conteo es $0$."
   ]
  },
  {
   "cell_type": "markdown",
   "id": "e76dfb53",
   "metadata": {},
   "source": [
    "| L | W | T | Frecuencia |\n",
    "|---|---|---|------------|\n",
    "| 4 | 2 | 0 | 2          |\n",
    "| 4 | 2 | 1 | 1          |\n",
    "| 4 | 2 | 2 | 1          |\n",
    "| 4 | 3 | 0 | 16         |\n",
    "| 5 | 2 | 1 | 17         |\n",
    "| 5 | 2 | 2 | 5          |\n",
    "| 5 | 3 | 0 | 22         |\n",
    "| 5 | 3 | 1 | 6          |\n",
    "| 5 | 3 | 2 | 1          |\n",
    "| 6 | 2 | 1 | 10         |\n",
    "| 6 | 2 | 2 | 11         |\n",
    "| 6 | 3 | 1 | 9          |\n",
    "| 6 | 3 | 2 | 18         |\n",
    "| 7 | 2 | 2 | 3          |\n",
    "| 7 | 3 | 1 | 1          |\n",
    "| 7 | 3 | 2 | 8          |\n"
   ]
  },
  {
   "cell_type": "markdown",
   "id": "ec8da6eb",
   "metadata": {},
   "source": [
    "Una vez que disponemos del conjunto de datos de entrenamiento, podemos estimar la \n",
    "**distribución conjunta empírica** de las variables discretas $L$, $W$ y $T$ como:\n",
    "\n",
    "$$\n",
    "\\hat{P}(L = \\ell, W = w, T = t) = \\frac{\\#\\{i : (L_i, W_i, T_i) = (\\ell, w, t)\\}}{N}\n",
    "$$\n",
    "\n",
    "donde:\n",
    "- $N$ es el número total de observaciones en el conjunto de entrenamiento,\n",
    "- $(L_i, W_i, T_i)$ representa la $i$-ésima observación en los datos,\n",
    "- y el numerador cuenta cuántas veces aparece la combinación exacta $(\\ell, w, t)$.\n",
    "\n",
    "Esta fórmula convierte las frecuencias observadas en probabilidades relativas, de forma que:\n",
    "\n",
    "$$\n",
    "\\sum_{\\ell} \\sum_{w} \\sum_{t} \\hat{P}(L = \\ell, W = w, T = t) = 1\n",
    "$$\n",
    "\n",
    "lo cual garantiza que $\\hat{P}$ es una distribución de probabilidad válida."
   ]
  },
  {
   "cell_type": "code",
   "execution_count": null,
   "id": "9d3841ab",
   "metadata": {},
   "outputs": [],
   "source": []
  },
  {
   "cell_type": "code",
   "execution_count": null,
   "id": "ceb6e218",
   "metadata": {},
   "outputs": [],
   "source": []
  },
  {
   "cell_type": "code",
   "execution_count": null,
   "id": "d4912edc",
   "metadata": {},
   "outputs": [],
   "source": []
  },
  {
   "cell_type": "markdown",
   "id": "b7d41b55",
   "metadata": {},
   "source": [
    "Una vez que contamos con la distribución conjunta $\\hat{P}(L, W, T)$, podemos construir un clasificador probabilístico de la siguiente manera:\n",
    "\n",
    "1. Dado un par de valores observados de longitud y ancho del tallo, $(L = \\ell, W = w)$, podemos calcular la distribución condicional del tipo de flor:\n",
    "\n",
    "$$\n",
    "P(T = t \\mid L = \\ell, W = w).\n",
    "$$\n",
    "\n",
    "2. Esta distribución nos da una probabilidad para cada posible valor de $T$ ($T = 0, 1, 2$). Como queremos predecir el tipo de flor más probable, elegimos el valor de $t$ que maximiza esta probabilidad:\n",
    "\n",
    "$$\n",
    "\\hat{t} = \\arg\\max_{t} P(T = t \\mid L = \\ell, W = w).\n",
    "$$\n",
    "\n",
    "3. Este procedimiento se conoce como el **clasificador MAP (Maximum A Posteriori)**. Además, no necesitamos calcular explícitamente la distribución condicional, ya que:\n",
    "\n",
    "$$\n",
    "P(T = t \\mid L = \\ell, W = w) = \\frac{P(T = t, L = \\ell, W = w)}{P(L = \\ell, W = w)}.\n",
    "$$\n",
    "\n",
    "Como el denominador $P(L = \\ell, W = w)$ no depende de $t$, se puede omitir al hacer la maximización. Por lo tanto, el clasificador se simplifica a:\n",
    "\n",
    "$$\n",
    "\\hat{t} = \\arg\\max_{t} P(T = t, L = \\ell, W = w).\n",
    "$$\n",
    "\n",
    "Este enfoque nos permite clasificar directamente utilizando la distribución conjunta empírica que estimamos previamente."
   ]
  },
  {
   "cell_type": "code",
   "execution_count": null,
   "id": "32024a40",
   "metadata": {},
   "outputs": [],
   "source": []
  },
  {
   "cell_type": "markdown",
   "id": "abee7def",
   "metadata": {},
   "source": [
    "$$\n",
    "\\hat{t} = \\arg\\max_{t} \\, \\hat{P}(T = t, L = 5, W = 3)\n",
    "$$"
   ]
  },
  {
   "cell_type": "code",
   "execution_count": null,
   "id": "2f327988",
   "metadata": {},
   "outputs": [],
   "source": []
  },
  {
   "cell_type": "code",
   "execution_count": null,
   "id": "f89f95ce",
   "metadata": {},
   "outputs": [],
   "source": []
  },
  {
   "cell_type": "code",
   "execution_count": null,
   "id": "71e56260",
   "metadata": {},
   "outputs": [],
   "source": []
  }
 ],
 "metadata": {
  "kernelspec": {
   "display_name": "mgp",
   "language": "python",
   "name": "python3"
  },
  "language_info": {
   "codemirror_mode": {
    "name": "ipython",
    "version": 3
   },
   "file_extension": ".py",
   "mimetype": "text/x-python",
   "name": "python",
   "nbconvert_exporter": "python",
   "pygments_lexer": "ipython3",
   "version": "3.13.2"
  }
 },
 "nbformat": 4,
 "nbformat_minor": 5
}
