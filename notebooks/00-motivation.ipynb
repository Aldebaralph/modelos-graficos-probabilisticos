{
 "cells": [
  {
   "cell_type": "markdown",
   "id": "0e7d316f",
   "metadata": {},
   "source": [
    "# Ejercicio de motivación para la clase"
   ]
  },
  {
   "cell_type": "code",
   "execution_count": null,
   "id": "938bb00d",
   "metadata": {},
   "outputs": [],
   "source": [
    "from sklearn.datasets import load_iris\n",
    "import pandas as pd\n",
    "import numpy as np"
   ]
  },
  {
   "cell_type": "markdown",
   "id": "17f00ed3",
   "metadata": {},
   "source": [
    "Disponible en: [Sklearn](https://scikit-learn.org/stable/modules/generated/sklearn.datasets.load_iris.html#sklearn.datasets.load_iris)"
   ]
  },
  {
   "cell_type": "markdown",
   "id": "333222e0",
   "metadata": {},
   "source": [
    "## Machine Learning, everywhere"
   ]
  },
  {
   "cell_type": "markdown",
   "id": "73059156",
   "metadata": {},
   "source": [
    "![](../docs/source/images/memes/eee1.jpeg)"
   ]
  },
  {
   "cell_type": "markdown",
   "id": "13f1907b",
   "metadata": {},
   "source": [
    "Sabemos que una de las ramas más relevantes de la inteligencia artificial es el _Machine Learning_. Esta disciplina, a través de diversos modelos y algoritmos, tiene como objetivo principal generar predicciones a partir de _datos_. \n",
    "\n",
    "En este contexto, analizaremos el clásico conjunto de datos `iris`. A partir de sus características —como la _longitud_ y la _altura_ de los sépalos— construiremos un modelo de clasificación que nos permita _predecir_ a qué especie pertenece cada flor."
   ]
  },
  {
   "cell_type": "code",
   "execution_count": null,
   "id": "18926608",
   "metadata": {},
   "outputs": [],
   "source": [
    "datos = load_iris()"
   ]
  },
  {
   "cell_type": "markdown",
   "id": "24128673",
   "metadata": {},
   "source": [
    "| **Property**        | **Value**       |\n",
    "|---------------------|-----------------|\n",
    "| Classes             | 3               |\n",
    "| Samples per class   | 50              |\n",
    "| Samples total       | 150             |\n",
    "| Dimensionality      | 4               |\n",
    "| Features            | real, positive  |\n"
   ]
  },
  {
   "cell_type": "code",
   "execution_count": null,
   "id": "0e9a1dc6",
   "metadata": {},
   "outputs": [],
   "source": []
  },
  {
   "cell_type": "code",
   "execution_count": null,
   "id": "8d481780",
   "metadata": {},
   "outputs": [],
   "source": []
  },
  {
   "cell_type": "markdown",
   "id": "1fb87a57",
   "metadata": {},
   "source": [
    "Generamos un DataFrame"
   ]
  },
  {
   "cell_type": "code",
   "execution_count": null,
   "id": "3b2b6bb4",
   "metadata": {},
   "outputs": [],
   "source": []
  },
  {
   "cell_type": "markdown",
   "id": "9f016b84",
   "metadata": {},
   "source": [
    "Vamos a renombrar los títulos de las columnas:"
   ]
  },
  {
   "cell_type": "code",
   "execution_count": null,
   "id": "0454476d",
   "metadata": {},
   "outputs": [],
   "source": []
  },
  {
   "cell_type": "code",
   "execution_count": null,
   "id": "43083821",
   "metadata": {},
   "outputs": [],
   "source": []
  },
  {
   "cell_type": "markdown",
   "id": "c12d5392",
   "metadata": {},
   "source": [
    "| Tipo de flor | Número |\n",
    "| ------------ | ------ |\n",
    "| Setosa       | 0      |\n",
    "| Versicolor   | 1      |\n",
    "| Virginica    | 2      |"
   ]
  },
  {
   "cell_type": "code",
   "execution_count": null,
   "id": "dd07b518",
   "metadata": {},
   "outputs": [],
   "source": [
    "import matplotlib.pyplot as plt\n",
    "import numpy as np"
   ]
  },
  {
   "cell_type": "markdown",
   "id": "9b0ec13e",
   "metadata": {},
   "source": [
    "#### ¿qué observamos?"
   ]
  },
  {
   "cell_type": "markdown",
   "id": "c345718d",
   "metadata": {},
   "source": [
    "<details>\n",
    "  <summary> 🧿 </summary>\n",
    "  \n",
    "  * Clase 0 (color morado oscuro) está bien separada: se agrupa con sépalos más cortos y más anchos.\n",
    "\n",
    "  * Clase 1 y Clase 2 (verde y amarillo) están más superpuestas, especialmente en la región de sépalos largos y estrechos.\n",
    "\n",
    "  * Esto sugiere que, al menos con las variables ``sepal length`` y ``sepal width``, la clase 0 se puede clasificar con mayor precisión que las otras dos.\n",
    "</details>"
   ]
  },
  {
   "cell_type": "markdown",
   "id": "55ecdfc8",
   "metadata": {},
   "source": [
    "**Pregunta:**\n",
    "\n",
    "_¿Cuáles modelos de clasificación podríamos usar para resolver este problema?_"
   ]
  },
  {
   "cell_type": "code",
   "execution_count": null,
   "id": "3025c7df",
   "metadata": {},
   "outputs": [],
   "source": [
    "from sklearn.model_selection import train_test_split\n"
   ]
  },
  {
   "cell_type": "code",
   "execution_count": null,
   "id": "56473262",
   "metadata": {},
   "outputs": [],
   "source": []
  },
  {
   "cell_type": "code",
   "execution_count": null,
   "id": "102d6a9c",
   "metadata": {},
   "outputs": [],
   "source": []
  },
  {
   "cell_type": "code",
   "execution_count": null,
   "id": "b394a329",
   "metadata": {},
   "outputs": [],
   "source": []
  },
  {
   "cell_type": "code",
   "execution_count": null,
   "id": "d0100a6e",
   "metadata": {},
   "outputs": [],
   "source": []
  },
  {
   "cell_type": "code",
   "execution_count": null,
   "id": "53ef853f",
   "metadata": {},
   "outputs": [],
   "source": []
  },
  {
   "cell_type": "code",
   "execution_count": null,
   "id": "5c7912e7",
   "metadata": {},
   "outputs": [],
   "source": []
  },
  {
   "cell_type": "markdown",
   "id": "5cb41c91",
   "metadata": {},
   "source": [
    "## ¿Por qué usar una distribución conjunta para clasificar?"
   ]
  },
  {
   "cell_type": "markdown",
   "id": "53f014e8",
   "metadata": {},
   "source": [
    "Anteriormente vimos que un modelo de clasificación (como árboles de decisión) presenta un _score_ del 60%."
   ]
  },
  {
   "cell_type": "markdown",
   "id": "f7311787",
   "metadata": {},
   "source": [
    "Podemos adoptar un **enfoque probabilístico** para modelar la situación a partir de los datos disponibles."
   ]
  },
  {
   "cell_type": "code",
   "execution_count": null,
   "id": "96e5e5c6",
   "metadata": {},
   "outputs": [],
   "source": [
    "#Train\n"
   ]
  },
  {
   "cell_type": "code",
   "execution_count": null,
   "id": "88107480",
   "metadata": {},
   "outputs": [],
   "source": [
    "#Test\n"
   ]
  },
  {
   "cell_type": "code",
   "execution_count": null,
   "id": "00864a29",
   "metadata": {},
   "outputs": [],
   "source": []
  },
  {
   "cell_type": "markdown",
   "id": "2b9778ae",
   "metadata": {},
   "source": [
    "Primero, veámos en la tabla siguiente que las columnas (`L`, `W` `T`) representan todas las posibles combinaciones de valores de cada variable."
   ]
  },
  {
   "cell_type": "markdown",
   "id": "2cf58947",
   "metadata": {},
   "source": [
    "La tabla muestra la **distribución conjunta** de tres variables (`L`, `W`, `T`).\n",
    "\n",
    "Al estimar la distribución conjunta de las variables $(L)$ (longitud del tallo), $(W)$ (ancho del tallo) y $(T)$ (tipo de flor), obtenemos un modelo probabilístico completo:\n",
    "\n",
    "$$P(L, W, T)$$\n"
   ]
  },
  {
   "cell_type": "markdown",
   "id": "e2927639",
   "metadata": {},
   "source": [
    "Este enfoque tiene varias ventajas:\n",
    "\n",
    "- Captura todas las relaciones entre las variables.\n",
    "- Nos permite derivar distribuciones condicionales útiles para clasificación."
   ]
  },
  {
   "cell_type": "code",
   "execution_count": null,
   "id": "d632e99a",
   "metadata": {},
   "outputs": [],
   "source": []
  },
  {
   "cell_type": "markdown",
   "id": "b180b16d",
   "metadata": {},
   "source": [
    "Tenemos $4 * 3 * 3 = 36$ posibles combinaciones:\n",
    "\n",
    "**NOTA:** no todas las combinaciones posibles de (`L`, `W` `T`) aparecen en los datos. `groupby().size()` solo muestra las combinaciones que realmente están presentes en el DataFrame.\n",
    "\n",
    "Las combinaciones que no ocurren ni una sola vez, no aparecen en la salida porque su conteo es $0$."
   ]
  },
  {
   "cell_type": "markdown",
   "id": "e76dfb53",
   "metadata": {},
   "source": [
    "| L | W | T | Frecuencia |\n",
    "|---|---|---|------------|\n",
    "| 4 | 2 | 0 | 2          |\n",
    "| 4 | 2 | 1 | 1          |\n",
    "| 4 | 2 | 2 | 1          |\n",
    "| 4 | 3 | 0 | 16         |\n",
    "| 5 | 2 | 1 | 17         |\n",
    "| 5 | 2 | 2 | 5          |\n",
    "| 5 | 3 | 0 | 22         |\n",
    "| 5 | 3 | 1 | 6          |\n",
    "| 5 | 3 | 2 | 1          |\n",
    "| 6 | 2 | 1 | 10         |\n",
    "| 6 | 2 | 2 | 11         |\n",
    "| 6 | 3 | 1 | 9          |\n",
    "| 6 | 3 | 2 | 18         |\n",
    "| 7 | 2 | 2 | 3          |\n",
    "| 7 | 3 | 1 | 1          |\n",
    "| 7 | 3 | 2 | 8          |\n"
   ]
  },
  {
   "cell_type": "code",
   "execution_count": null,
   "id": "9d3841ab",
   "metadata": {},
   "outputs": [],
   "source": []
  },
  {
   "cell_type": "code",
   "execution_count": null,
   "id": "ceb6e218",
   "metadata": {},
   "outputs": [],
   "source": []
  },
  {
   "cell_type": "code",
   "execution_count": null,
   "id": "d4912edc",
   "metadata": {},
   "outputs": [],
   "source": []
  },
  {
   "cell_type": "markdown",
   "id": "b7d41b55",
   "metadata": {},
   "source": [
    "Por ejemplo, a partir de la distribución conjunta podemos obtener la probabilidad de que una flor pertenezca a cierta clase $(T)$, dado que observamos un par de medidas $((L, W))$:\n",
    "\n",
    "$$\n",
    "P(T \\mid L, W) = \\frac{P(L, W, T)}{P(L, W)}\n",
    "$$\n",
    "\n",
    "Con esta información, podemos construir un clasificador probabilístico de la siguiente manera:\n",
    "\n",
    "1. La distribución condicional nos proporciona una probabilidad para cada posible valor $(t)$ que puede tomar la variable $(T)$ (por ejemplo, $(t = 0, 1, 2 )$). Como nuestro objetivo es predecir la clase más probable, elegimos el valor de $(t)$ que maximiza esta probabilidad:\n",
    "\n",
    "$$\n",
    "\\hat{t} = \\arg\\max_{t} P(T = t \\mid L = \\ell, W = w)\n",
    "$$\n",
    "\n",
    "2. Este procedimiento se conoce como el **clasificador MAP (Maximum A Posteriori)**. Es importante destacar que no necesitamos calcular explícitamente la distribución condicional, ya que:\n",
    "\n",
    "$$\n",
    "P(T = t \\mid L = \\ell, W = w) = \\frac{P(T = t, L = \\ell, W = w)}{P(L = \\ell, W = w)}\n",
    "$$\n",
    "\n",
    "3. Dado que el denominador $(P(L = \\ell, W = w))$ no depende de $(t)$, podemos omitirlo durante la maximización. Esto nos permite simplificar el clasificador a:\n",
    "\n",
    "$$\n",
    "\\hat{t} = \\arg\\max_{t} P(T = t, L = \\ell, W = w)\n",
    "$$\n",
    "\n",
    "Este enfoque nos permite realizar clasificación directamente a partir de la distribución conjunta estimada, sin necesidad de modelos adicionales."
   ]
  },
  {
   "cell_type": "code",
   "execution_count": null,
   "id": "32024a40",
   "metadata": {},
   "outputs": [],
   "source": []
  },
  {
   "cell_type": "markdown",
   "id": "abee7def",
   "metadata": {},
   "source": [
    "$$\n",
    "\\hat{t} = \\arg\\max_{t} \\, \\hat{P}(T = t, L = 5, W = 3)\n",
    "$$"
   ]
  },
  {
   "cell_type": "code",
   "execution_count": null,
   "id": "2f327988",
   "metadata": {},
   "outputs": [],
   "source": []
  },
  {
   "cell_type": "code",
   "execution_count": null,
   "id": "f89f95ce",
   "metadata": {},
   "outputs": [],
   "source": []
  },
  {
   "cell_type": "code",
   "execution_count": null,
   "id": "71e56260",
   "metadata": {},
   "outputs": [],
   "source": []
  },
  {
   "cell_type": "markdown",
   "id": "16e139a3",
   "metadata": {},
   "source": [
    "## 📌 Conclusión"
   ]
  },
  {
   "cell_type": "markdown",
   "id": "2f1fbe9d",
   "metadata": {},
   "source": [
    "**¿Lo que hice corresponde a un modelo generativo?**\n",
    "\n",
    "Sí, el procedimiento que implementaste es completamente coherente con el enfoque de un **modelo generativo**. \n",
    "\n",
    "**Pasos que seguiste (en términos probabilísticos)**\n",
    "\n",
    "1. **Estimación de la distribución conjunta**\n",
    "\n",
    "   Calculaste la probabilidad conjunta $(P(L = \\ell, W = w, T = t))$ a partir de los datos, contando la frecuencia de cada combinación y normalizando sobre el total.  \n",
    "   → Esto es exactamente lo que haría un modelo generativo: aprender la **distribución conjunta** $(P(X, Y))$.\n",
    "\n",
    "2. **Normalización**\n",
    "\n",
    "   Dividiste los conteos conjuntos por el total de observaciones, obteniendo así una estimación empírica de las probabilidades.  \n",
    "   → Esto convierte los conteos en una **distribución de probabilidad válida**.\n",
    "\n",
    "3. **Cálculo de la probabilidad condicional**\n",
    "\n",
    "   Usaste la regla de Bayes para obtener la distribución condicional:\n",
    "\n",
    "   $$\n",
    "   P(T = t \\mid L = \\ell, W = w) = \\frac{P(L = \\ell, W = w, T = t)}{P(L = \\ell, W = w)}\n",
    "   $$\n",
    "\n",
    "   → Esto es una inferencia clásica dentro del enfoque generativo.\n",
    "\n",
    "4. **Predicción con argumento máximo (MAP)**\n",
    "\n",
    "   Elegiste la clase con mayor probabilidad condicional:\n",
    "\n",
    "   $$\n",
    "   \\hat{t} = \\arg\\max_t P(T = t \\mid L = \\ell, W = w)\n",
    "   $$\n",
    "\n",
    "   → Esto implementa el **clasificador MAP (Maximum A Posteriori)**.\n",
    "\n",
    "5. **Clasificación final**\n",
    "\n",
    "   Aplicaste este procedimiento a cada punto del conjunto de datos, generando predicciones basadas únicamente en la distribución conjunta estimada.\n",
    ".\n"
   ]
  },
  {
   "cell_type": "markdown",
   "id": "422b74d7",
   "metadata": {},
   "source": [
    "**OJO**\n",
    "\n",
    "Que ambos modelos obtengan el mismo _score_ no significa que sean equivalentes, sino que **dado el conjunto de datos y la tarea, ambos llegaron al límite razonable de desempeño**.\n",
    "\n",
    "Ambos tienen ventajas:\n",
    "- El modelo probabilístico aporta una visión basada en evidencia y probabilidades.\n",
    "- El árbol de decisión proporciona reglas claras y visualmente interpretables."
   ]
  },
  {
   "cell_type": "markdown",
   "id": "7f09b90e",
   "metadata": {},
   "source": [
    "[_Créditos del ejercicio_](https://github.com/esjimenezro/mgp2025/tree/main/m1-intro-modelado-probabilistico/c1-motivacion)"
   ]
  }
 ],
 "metadata": {
  "kernelspec": {
   "display_name": "mgp",
   "language": "python",
   "name": "python3"
  },
  "language_info": {
   "codemirror_mode": {
    "name": "ipython",
    "version": 3
   },
   "file_extension": ".py",
   "mimetype": "text/x-python",
   "name": "python",
   "nbconvert_exporter": "python",
   "pygments_lexer": "ipython3",
   "version": "3.13.2"
  }
 },
 "nbformat": 4,
 "nbformat_minor": 5
}
