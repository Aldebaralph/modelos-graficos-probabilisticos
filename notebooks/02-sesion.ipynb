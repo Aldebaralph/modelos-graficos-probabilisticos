{
 "cells": [
  {
   "cell_type": "markdown",
   "id": "2cd66cb4",
   "metadata": {},
   "source": [
    "# Sesión 2\n",
    "\n",
    "## Ejercicios"
   ]
  },
  {
   "cell_type": "markdown",
   "id": "3e7259c6",
   "metadata": {},
   "source": [
    "Supongamos que tenemos dos cajas: una roja y una azul.\n",
    "\n",
    "* En la caja roja hay 2 manzanas y 6 naranjas.\n",
    "\n",
    "* En la caja azul hay 3 manzanas y 1 naranja."
   ]
  },
  {
   "cell_type": "markdown",
   "id": "83979bc1",
   "metadata": {},
   "source": [
    "![Cajas](../docs/source/images/sesion2_cajas.png)"
   ]
  },
  {
   "cell_type": "markdown",
   "id": "94c89144",
   "metadata": {},
   "source": [
    "Imaginemos que seleccionamos aleatoriamente una de las dos cajas.  \n",
    "Con probabilidad del $40\\%$ elegimos la caja azul y con probabilidad del $60\\%$ elegimos la caja roja.  \n",
    "\n",
    "De la caja seleccionada tomamos al azar una fruta, suponiendo que todos los elementos dentro de la caja tienen la misma probabilidad de ser elegidos.  \n",
    "\n",
    "Una vez observada, la fruta se devuelve a la caja original.  \n",
    "\n",
    "Definimos la identidad de la caja seleccionada como una **variable aleatoria** (V.A.) que denotamos por $C$, la cual puede tomar los valores:  \n",
    "\n",
    "- $a$: caja azul  \n",
    "- $r$: caja roja  \n",
    "\n",
    "De manera análoga, definimos la identidad de la fruta seleccionada como una variable aleatoria $F$, que puede tomar los valores:  \n",
    "\n",
    "- $m$: manzana  \n",
    "- $n$: naranja  \n"
   ]
  },
  {
   "cell_type": "markdown",
   "id": "9e84e743",
   "metadata": {},
   "source": [
    "#### Pregunta 1. *¿Cuál es la probabilidad de seleccionar una manzana?*"
   ]
  },
  {
   "cell_type": "markdown",
   "id": "4307054d",
   "metadata": {},
   "source": []
  },
  {
   "cell_type": "markdown",
   "id": "4a4d9f2b",
   "metadata": {},
   "source": []
  },
  {
   "cell_type": "markdown",
   "id": "72c8ec32",
   "metadata": {},
   "source": []
  },
  {
   "cell_type": "markdown",
   "id": "2e1d2c81",
   "metadata": {},
   "source": []
  },
  {
   "cell_type": "markdown",
   "id": "f1294333",
   "metadata": {},
   "source": [
    "#### Pregunta 2. *Dado que elegimos una naranja, ¿Cuál es la probabilidad que la caja haya sido la azul?*"
   ]
  },
  {
   "cell_type": "markdown",
   "id": "d9db32cf",
   "metadata": {},
   "source": []
  },
  {
   "cell_type": "markdown",
   "id": "327819b6",
   "metadata": {},
   "source": []
  },
  {
   "cell_type": "markdown",
   "id": "e8f77d74",
   "metadata": {},
   "source": []
  },
  {
   "cell_type": "markdown",
   "id": "fa3363bd",
   "metadata": {},
   "source": [
    "#### Independencia\n",
    "\n",
    "Pregunta 3. Si seleccionamos una carta al azar de una baraja estándar de 52 cartas, ¿son independientes los siguientes eventos?\n",
    "\n",
    "* $A$: que la carta sea un As.\n",
    "\n",
    "* $C$: que la carta sea de corazones.\n",
    "\n",
    "* $R$: que la carta sea roja."
   ]
  },
  {
   "cell_type": "markdown",
   "id": "1ee1be0e",
   "metadata": {},
   "source": []
  },
  {
   "cell_type": "markdown",
   "id": "55c3fb0b",
   "metadata": {},
   "source": []
  },
  {
   "cell_type": "markdown",
   "id": "de6dc07b",
   "metadata": {},
   "source": []
  },
  {
   "cell_type": "markdown",
   "id": "ccb2cbf5",
   "metadata": {},
   "source": [
    "#### Bayes\n",
    "\n",
    "Pregunta 4. Si lanzamos una moneda justa 5 veces y sabemos que en el primer tiro salió cara, ¿cuál es la probabilidad de que los 5 tiros sean cara?"
   ]
  },
  {
   "cell_type": "markdown",
   "id": "4b31136f",
   "metadata": {},
   "source": []
  }
 ],
 "metadata": {
  "kernelspec": {
   "display_name": "mgp",
   "language": "python",
   "name": "python3"
  },
  "language_info": {
   "name": "python",
   "version": "3.13.2"
  }
 },
 "nbformat": 4,
 "nbformat_minor": 5
}
